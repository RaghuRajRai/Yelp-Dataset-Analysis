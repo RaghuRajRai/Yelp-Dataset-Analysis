{
 "cells": [
  {
   "cell_type": "markdown",
   "metadata": {},
   "source": [
    "# Sentimental Deviation Analysis\n",
    "## Analysis on the correlation of sentimental deviation to the review being fake or real.\n",
    "\n",
    "** Example: \"The place was good with delicious food but the ambience was bad and the crowd was irritating. **\n",
    "** In the Example above, the sentimental words occur in the following sequence: good, delicious, bad, irritating **\n",
    "** The sentimental deviation occurs when we encounter a negative word after a positive word, or vice versa. **\n",
    "** (good:0) -> (delicious:0) -> (bad:1) -> (irritating:1) **\n",
    "** So the overall deviation of the sentence becomes 1. **"
   ]
  },
  {
   "cell_type": "code",
   "execution_count": 1,
   "metadata": {},
   "outputs": [],
   "source": [
    "import pandas as pd"
   ]
  },
  {
   "cell_type": "code",
   "execution_count": 2,
   "metadata": {},
   "outputs": [
    {
     "data": {
      "text/html": [
       "<div>\n",
       "<style scoped>\n",
       "    .dataframe tbody tr th:only-of-type {\n",
       "        vertical-align: middle;\n",
       "    }\n",
       "\n",
       "    .dataframe tbody tr th {\n",
       "        vertical-align: top;\n",
       "    }\n",
       "\n",
       "    .dataframe thead th {\n",
       "        text-align: right;\n",
       "    }\n",
       "</style>\n",
       "<table border=\"1\" class=\"dataframe\">\n",
       "  <thead>\n",
       "    <tr style=\"text-align: right;\">\n",
       "      <th></th>\n",
       "      <th>0</th>\n",
       "      <th>1</th>\n",
       "      <th>2</th>\n",
       "      <th>3</th>\n",
       "      <th>4</th>\n",
       "      <th>5</th>\n",
       "      <th>6</th>\n",
       "      <th>7</th>\n",
       "    </tr>\n",
       "  </thead>\n",
       "  <tbody>\n",
       "    <tr>\n",
       "      <th>0</th>\n",
       "      <td>0</td>\n",
       "      <td>0</td>\n",
       "      <td>5051</td>\n",
       "      <td>2014-12-05</td>\n",
       "      <td>Extremely slow kitchen went hour eat shift tol...</td>\n",
       "      <td>0</td>\n",
       "      <td>1.0</td>\n",
       "      <td>1</td>\n",
       "    </tr>\n",
       "    <tr>\n",
       "      <th>1</th>\n",
       "      <td>1</td>\n",
       "      <td>1</td>\n",
       "      <td>5071</td>\n",
       "      <td>2014-05-20</td>\n",
       "      <td>AWFUL half hour kill bypassed Capogiro go read...</td>\n",
       "      <td>0</td>\n",
       "      <td>1.0</td>\n",
       "      <td>1</td>\n",
       "    </tr>\n",
       "    <tr>\n",
       "      <th>2</th>\n",
       "      <td>2</td>\n",
       "      <td>2</td>\n",
       "      <td>5071</td>\n",
       "      <td>2014-05-20</td>\n",
       "      <td>Lovely spot Especially eat outside Food excell...</td>\n",
       "      <td>0</td>\n",
       "      <td>1.0</td>\n",
       "      <td>1</td>\n",
       "    </tr>\n",
       "    <tr>\n",
       "      <th>3</th>\n",
       "      <td>3</td>\n",
       "      <td>3</td>\n",
       "      <td>5076</td>\n",
       "      <td>2014-03-12</td>\n",
       "      <td>Sunday ordered soy caramel latte caramel vanil...</td>\n",
       "      <td>0</td>\n",
       "      <td>1.0</td>\n",
       "      <td>1</td>\n",
       "    </tr>\n",
       "    <tr>\n",
       "      <th>4</th>\n",
       "      <td>4</td>\n",
       "      <td>4</td>\n",
       "      <td>5077</td>\n",
       "      <td>2014-02-20</td>\n",
       "      <td>Toast youre killing Ive tried many times like ...</td>\n",
       "      <td>0</td>\n",
       "      <td>1.0</td>\n",
       "      <td>1</td>\n",
       "    </tr>\n",
       "  </tbody>\n",
       "</table>\n",
       "</div>"
      ],
      "text/plain": [
       "   0  1     2           3                                                  4  \\\n",
       "0  0  0  5051  2014-12-05  Extremely slow kitchen went hour eat shift tol...   \n",
       "1  1  1  5071  2014-05-20  AWFUL half hour kill bypassed Capogiro go read...   \n",
       "2  2  2  5071  2014-05-20  Lovely spot Especially eat outside Food excell...   \n",
       "3  3  3  5076  2014-03-12  Sunday ordered soy caramel latte caramel vanil...   \n",
       "4  4  4  5077  2014-02-20  Toast youre killing Ive tried many times like ...   \n",
       "\n",
       "   5    6  7  \n",
       "0  0  1.0  1  \n",
       "1  0  1.0  1  \n",
       "2  0  1.0  1  \n",
       "3  0  1.0  1  \n",
       "4  0  1.0  1  "
      ]
     },
     "execution_count": 2,
     "metadata": {},
     "output_type": "execute_result"
    }
   ],
   "source": [
    "data = pd.read_csv(r\"E:\\Yelp\\Unfiltered Data\\YelpZip\\Customs\\SAMPLE\", header=None)\n",
    "data.head()"
   ]
  },
  {
   "cell_type": "code",
   "execution_count": 6,
   "metadata": {},
   "outputs": [
    {
     "data": {
      "text/html": [
       "<div>\n",
       "<style scoped>\n",
       "    .dataframe tbody tr th:only-of-type {\n",
       "        vertical-align: middle;\n",
       "    }\n",
       "\n",
       "    .dataframe tbody tr th {\n",
       "        vertical-align: top;\n",
       "    }\n",
       "\n",
       "    .dataframe thead th {\n",
       "        text-align: right;\n",
       "    }\n",
       "</style>\n",
       "<table border=\"1\" class=\"dataframe\">\n",
       "  <thead>\n",
       "    <tr style=\"text-align: right;\">\n",
       "      <th></th>\n",
       "      <th>0</th>\n",
       "    </tr>\n",
       "  </thead>\n",
       "  <tbody>\n",
       "    <tr>\n",
       "      <th>0</th>\n",
       "      <td>a+</td>\n",
       "    </tr>\n",
       "    <tr>\n",
       "      <th>1</th>\n",
       "      <td>abound</td>\n",
       "    </tr>\n",
       "    <tr>\n",
       "      <th>2</th>\n",
       "      <td>abounds</td>\n",
       "    </tr>\n",
       "    <tr>\n",
       "      <th>3</th>\n",
       "      <td>abundance</td>\n",
       "    </tr>\n",
       "    <tr>\n",
       "      <th>4</th>\n",
       "      <td>abundant</td>\n",
       "    </tr>\n",
       "  </tbody>\n",
       "</table>\n",
       "</div>"
      ],
      "text/plain": [
       "           0\n",
       "0         a+\n",
       "1     abound\n",
       "2    abounds\n",
       "3  abundance\n",
       "4   abundant"
      ]
     },
     "execution_count": 6,
     "metadata": {},
     "output_type": "execute_result"
    }
   ],
   "source": [
    "#Loading the list of all positive and negative words into a dataframe\n",
    "pos_words = pd.read_table(r\"C:\\Users\\elonm\\Desktop\\poswords.txt\", header=None)\n",
    "neg_words = pd.read_table(r\"C:\\Users\\elonm\\Desktop\\negwords.txt\", header=None)\n",
    "pos_words.head()"
   ]
  },
  {
   "cell_type": "code",
   "execution_count": 24,
   "metadata": {},
   "outputs": [
    {
     "name": "stdout",
     "output_type": "stream",
     "text": [
      "1\n"
     ]
    }
   ],
   "source": [
    "txt = \"This is a good review, but the food was terribly bad\"\n",
    "\n",
    "def sentimental_deviation(txt):\n",
    "    dev = 0\n",
    "    flag = 0\n",
    "    for word in txt.split():\n",
    "        for pos in pos_words[0]:\n",
    "            if pos == word.lower():\n",
    "                if flag == -1:\n",
    "                    dev = dev+1\n",
    "                flag = 1\n",
    "                #print(word, dev, flag)\n",
    "        for neg in neg_words[0]:\n",
    "            if neg == word.lower():\n",
    "                if flag == 1:\n",
    "                    dev = dev+1\n",
    "                flag = -1\n",
    "                #print(word, dev, flag)\n",
    "    return dev\n",
    "\n",
    "#Test\n",
    "print(sentimental_deviation(txt))"
   ]
  },
  {
   "cell_type": "code",
   "execution_count": 29,
   "metadata": {},
   "outputs": [
    {
     "data": {
      "application/vnd.jupyter.widget-view+json": {
       "model_id": "5067caebf71c43b5b314d68ba1059f8a",
       "version_major": 2,
       "version_minor": 0
      },
      "text/plain": [
       "HBox(children=(IntProgress(value=0, max=20000), HTML(value='')))"
      ]
     },
     "metadata": {},
     "output_type": "display_data"
    },
    {
     "data": {
      "application/vnd.jupyter.widget-view+json": {
       "model_id": "4d615a1cc82449beabe03997f37e9faa",
       "version_major": 2,
       "version_minor": 0
      },
      "text/plain": [
       "HBox(children=(IntProgress(value=0, max=20000), HTML(value='')))"
      ]
     },
     "metadata": {},
     "output_type": "display_data"
    }
   ],
   "source": [
    "#There was some problem with tqdm- progress bar being printed repeatedly on update - Solved with tqdm_notebook\n",
    "from tqdm._tqdm_notebook import tqdm_notebook\n",
    "tqdm_notebook.pandas()\n",
    "\n",
    "#Converting the objects to string as one value was just a number which couldn't be operated upon\n",
    "data[4] = data[4].progress_apply(lambda txt: str(txt))\n",
    "\n",
    "#Applying to the entire dataframe column\n",
    "data[8] = data[4].progress_apply(lambda txt: sentimental_deviation(txt))"
   ]
  },
  {
   "cell_type": "code",
   "execution_count": 34,
   "metadata": {},
   "outputs": [
    {
     "name": "stdout",
     "output_type": "stream",
     "text": [
      "Correlation between real/fake and sentimental deviation: 1.3865314258431147 %\n"
     ]
    }
   ],
   "source": [
    "print(\"Correlation between real/fake and sentimental deviation:\",data[7].corr(data[8])*100,\"%\")"
   ]
  },
  {
   "cell_type": "code",
   "execution_count": 49,
   "metadata": {},
   "outputs": [
    {
     "name": "stdout",
     "output_type": "stream",
     "text": [
      "Mean:\n",
      " 7\n",
      "-1    3.0203\n",
      " 1    3.1186\n",
      "Name: 8, dtype: float64\n"
     ]
    }
   ],
   "source": [
    "print(\"Mean:\\n\",data.groupby(7).mean()[8])"
   ]
  },
  {
   "cell_type": "code",
   "execution_count": null,
   "metadata": {},
   "outputs": [],
   "source": []
  }
 ],
 "metadata": {
  "kernelspec": {
   "display_name": "Python 3",
   "language": "python",
   "name": "python3"
  },
  "language_info": {
   "codemirror_mode": {
    "name": "ipython",
    "version": 3
   },
   "file_extension": ".py",
   "mimetype": "text/x-python",
   "name": "python",
   "nbconvert_exporter": "python",
   "pygments_lexer": "ipython3",
   "version": "3.6.5"
  }
 },
 "nbformat": 4,
 "nbformat_minor": 2
}
