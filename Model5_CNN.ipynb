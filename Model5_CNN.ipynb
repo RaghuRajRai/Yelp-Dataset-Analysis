{
 "cells": [
  {
   "cell_type": "markdown",
   "metadata": {},
   "source": [
    "# Fake Review Detection using CNNs - Keras + NLTK\n",
    "\n",
    "## Sample set: 20000 reviews\n",
    "## Accuracy obtained: 63.74%\n"
   ]
  },
  {
   "cell_type": "code",
   "execution_count": 3,
   "metadata": {},
   "outputs": [
    {
     "name": "stderr",
     "output_type": "stream",
     "text": [
      "Using TensorFlow backend.\n"
     ]
    }
   ],
   "source": [
    "import pandas as pd\n",
    "import nltk\n",
    "from nltk.corpus import stopwords\n",
    "import string\n",
    "import keras\n",
    "from keras.preprocessing.text import Tokenizer\n",
    "from keras.preprocessing.sequence import pad_sequences\n",
    "from keras.models import Sequential\n",
    "from keras.layers import Dense, Flatten, LSTM, Conv1D, MaxPooling1D, Dropout, Activation\n",
    "from keras.layers.embeddings import Embedding\n",
    "import numpy as np"
   ]
  },
  {
   "cell_type": "code",
   "execution_count": 24,
   "metadata": {},
   "outputs": [
    {
     "data": {
      "text/html": [
       "<div>\n",
       "<style scoped>\n",
       "    .dataframe tbody tr th:only-of-type {\n",
       "        vertical-align: middle;\n",
       "    }\n",
       "\n",
       "    .dataframe tbody tr th {\n",
       "        vertical-align: top;\n",
       "    }\n",
       "\n",
       "    .dataframe thead th {\n",
       "        text-align: right;\n",
       "    }\n",
       "</style>\n",
       "<table border=\"1\" class=\"dataframe\">\n",
       "  <thead>\n",
       "    <tr style=\"text-align: right;\">\n",
       "      <th></th>\n",
       "      <th>0</th>\n",
       "      <th>1</th>\n",
       "      <th>2</th>\n",
       "      <th>3</th>\n",
       "      <th>4</th>\n",
       "      <th>5</th>\n",
       "      <th>6</th>\n",
       "      <th>7</th>\n",
       "    </tr>\n",
       "  </thead>\n",
       "  <tbody>\n",
       "    <tr>\n",
       "      <th>0</th>\n",
       "      <td>0</td>\n",
       "      <td>0</td>\n",
       "      <td>5051</td>\n",
       "      <td>2014-12-05</td>\n",
       "      <td>Extremely slow kitchen went hour eat shift tol...</td>\n",
       "      <td>0</td>\n",
       "      <td>1.0</td>\n",
       "      <td>1</td>\n",
       "    </tr>\n",
       "    <tr>\n",
       "      <th>1</th>\n",
       "      <td>1</td>\n",
       "      <td>1</td>\n",
       "      <td>5071</td>\n",
       "      <td>2014-05-20</td>\n",
       "      <td>AWFUL half hour kill bypassed Capogiro go read...</td>\n",
       "      <td>0</td>\n",
       "      <td>1.0</td>\n",
       "      <td>1</td>\n",
       "    </tr>\n",
       "    <tr>\n",
       "      <th>2</th>\n",
       "      <td>2</td>\n",
       "      <td>2</td>\n",
       "      <td>5071</td>\n",
       "      <td>2014-05-20</td>\n",
       "      <td>Lovely spot Especially eat outside Food excell...</td>\n",
       "      <td>0</td>\n",
       "      <td>1.0</td>\n",
       "      <td>1</td>\n",
       "    </tr>\n",
       "    <tr>\n",
       "      <th>3</th>\n",
       "      <td>3</td>\n",
       "      <td>3</td>\n",
       "      <td>5076</td>\n",
       "      <td>2014-03-12</td>\n",
       "      <td>Sunday ordered soy caramel latte caramel vanil...</td>\n",
       "      <td>0</td>\n",
       "      <td>1.0</td>\n",
       "      <td>1</td>\n",
       "    </tr>\n",
       "    <tr>\n",
       "      <th>4</th>\n",
       "      <td>4</td>\n",
       "      <td>4</td>\n",
       "      <td>5077</td>\n",
       "      <td>2014-02-20</td>\n",
       "      <td>Toast youre killing Ive tried many times like ...</td>\n",
       "      <td>0</td>\n",
       "      <td>1.0</td>\n",
       "      <td>1</td>\n",
       "    </tr>\n",
       "  </tbody>\n",
       "</table>\n",
       "</div>"
      ],
      "text/plain": [
       "   0  1     2           3                                                  4  \\\n",
       "0  0  0  5051  2014-12-05  Extremely slow kitchen went hour eat shift tol...   \n",
       "1  1  1  5071  2014-05-20  AWFUL half hour kill bypassed Capogiro go read...   \n",
       "2  2  2  5071  2014-05-20  Lovely spot Especially eat outside Food excell...   \n",
       "3  3  3  5076  2014-03-12  Sunday ordered soy caramel latte caramel vanil...   \n",
       "4  4  4  5077  2014-02-20  Toast youre killing Ive tried many times like ...   \n",
       "\n",
       "   5    6  7  \n",
       "0  0  1.0  1  \n",
       "1  0  1.0  1  \n",
       "2  0  1.0  1  \n",
       "3  0  1.0  1  \n",
       "4  0  1.0  1  "
      ]
     },
     "execution_count": 24,
     "metadata": {},
     "output_type": "execute_result"
    }
   ],
   "source": [
    "data = pd.read_csv(\"E:\\\\Yelp\\\\Unfiltered Data\\\\YelpZip\\\\Customs\\\\SAMPLE\", header=None)\n",
    "data.head()"
   ]
  },
  {
   "cell_type": "code",
   "execution_count": 13,
   "metadata": {},
   "outputs": [],
   "source": [
    "from tqdm._tqdm_notebook import tqdm_notebook\n",
    "tqdm_notebook.pandas()"
   ]
  },
  {
   "cell_type": "code",
   "execution_count": 25,
   "metadata": {},
   "outputs": [
    {
     "data": {
      "application/vnd.jupyter.widget-view+json": {
       "model_id": "f26169cdccfd4dc4a4f40a96a351029c",
       "version_major": 2,
       "version_minor": 0
      },
      "text/plain": [
       "HBox(children=(IntProgress(value=0, max=20000), HTML(value='')))"
      ]
     },
     "metadata": {},
     "output_type": "display_data"
    },
    {
     "name": "stdout",
     "output_type": "stream",
     "text": [
      "\n"
     ]
    }
   ],
   "source": [
    "data[4] = data[4].progress_apply(lambda txt: str(txt))"
   ]
  },
  {
   "cell_type": "code",
   "execution_count": 53,
   "metadata": {},
   "outputs": [
    {
     "data": {
      "application/vnd.jupyter.widget-view+json": {
       "model_id": "0fd14ae8778f4cf78a34864be91e465b",
       "version_major": 2,
       "version_minor": 0
      },
      "text/plain": [
       "HBox(children=(IntProgress(value=0, max=20000), HTML(value='')))"
      ]
     },
     "metadata": {},
     "output_type": "display_data"
    }
   ],
   "source": [
    "def binarize(n):\n",
    "    if n==1:\n",
    "        return 1\n",
    "    else:\n",
    "        return 0\n",
    "\n",
    "data[7] = data[7].progress_apply(lambda n: binarize(n))"
   ]
  },
  {
   "cell_type": "code",
   "execution_count": 30,
   "metadata": {},
   "outputs": [
    {
     "data": {
      "application/vnd.jupyter.widget-view+json": {
       "model_id": "0b42e856c851415092ecdc20d3b989c8",
       "version_major": 2,
       "version_minor": 0
      },
      "text/plain": [
       "HBox(children=(IntProgress(value=0, max=20000), HTML(value='')))"
      ]
     },
     "metadata": {},
     "output_type": "display_data"
    },
    {
     "name": "stdout",
     "output_type": "stream",
     "text": [
      "\n"
     ]
    }
   ],
   "source": [
    "from nltk.stem.porter import PorterStemmer\n",
    "\n",
    "#Stemming\n",
    "stemmer = PorterStemmer()\n",
    "\n",
    "def stem(txt):\n",
    "    words = []\n",
    "    for x in txt.split():\n",
    "        words.append(stemmer.stem(x))\n",
    "    return words\n",
    "\n",
    "data[4] = data[4].progress_apply(lambda txt: stem(txt))"
   ]
  },
  {
   "cell_type": "code",
   "execution_count": 35,
   "metadata": {},
   "outputs": [
    {
     "data": {
      "application/vnd.jupyter.widget-view+json": {
       "model_id": "884fc4a3513447fc96b7aaa8b99a8598",
       "version_major": 2,
       "version_minor": 0
      },
      "text/plain": [
       "HBox(children=(IntProgress(value=0, max=20000), HTML(value='')))"
      ]
     },
     "metadata": {},
     "output_type": "display_data"
    }
   ],
   "source": [
    "#POS tagging\n",
    "data[4] = data[4].progress_apply(lambda tokens: nltk.pos_tag(tokens))"
   ]
  },
  {
   "cell_type": "code",
   "execution_count": 37,
   "metadata": {},
   "outputs": [
    {
     "data": {
      "application/vnd.jupyter.widget-view+json": {
       "model_id": "5334e198c3a54a57aae64f51bed9d6aa",
       "version_major": 2,
       "version_minor": 0
      },
      "text/plain": [
       "HBox(children=(IntProgress(value=0, max=20000), HTML(value='')))"
      ]
     },
     "metadata": {},
     "output_type": "display_data"
    }
   ],
   "source": [
    "#Join back the list objects and their POS tags for CountVectorizer\n",
    "def join_back(txt):\n",
    "    new = ''\n",
    "    for x in txt:\n",
    "        new += '_'.join(x)+\" \"\n",
    "    new = new[:-1]\n",
    "    return new\n",
    "\n",
    "data[4] = data[4].progress_apply(lambda tokens: join_back(tokens))"
   ]
  },
  {
   "cell_type": "code",
   "execution_count": 49,
   "metadata": {},
   "outputs": [],
   "source": [
    "tokenizer = Tokenizer(num_words= 20000)\n",
    "tokenizer.fit_on_texts(data[4])\n",
    "\n",
    "sequences = tokenizer.texts_to_sequences(data[4])\n",
    "data1 = pad_sequences(sequences, maxlen=60)"
   ]
  },
  {
   "cell_type": "code",
   "execution_count": 65,
   "metadata": {},
   "outputs": [],
   "source": [
    "from sklearn.model_selection import train_test_split\n",
    "X_train, X_test, y_train, y_test = train_test_split(data1, data[7], test_size=0.25)"
   ]
  },
  {
   "cell_type": "code",
   "execution_count": 169,
   "metadata": {},
   "outputs": [
    {
     "name": "stdout",
     "output_type": "stream",
     "text": [
      "_________________________________________________________________\n",
      "Layer (type)                 Output Shape              Param #   \n",
      "=================================================================\n",
      "embedding_29 (Embedding)     (None, 60, 32)            640000    \n",
      "_________________________________________________________________\n",
      "flatten_21 (Flatten)         (None, 1920)              0         \n",
      "_________________________________________________________________\n",
      "dense_144 (Dense)            (None, 1024)              1967104   \n",
      "_________________________________________________________________\n",
      "dropout_63 (Dropout)         (None, 1024)              0         \n",
      "_________________________________________________________________\n",
      "dense_145 (Dense)            (None, 1024)              1049600   \n",
      "_________________________________________________________________\n",
      "dropout_64 (Dropout)         (None, 1024)              0         \n",
      "_________________________________________________________________\n",
      "dense_146 (Dense)            (None, 1024)              1049600   \n",
      "_________________________________________________________________\n",
      "dropout_65 (Dropout)         (None, 1024)              0         \n",
      "_________________________________________________________________\n",
      "dense_147 (Dense)            (None, 512)               524800    \n",
      "_________________________________________________________________\n",
      "dense_148 (Dense)            (None, 512)               262656    \n",
      "_________________________________________________________________\n",
      "dense_149 (Dense)            (None, 256)               131328    \n",
      "_________________________________________________________________\n",
      "dense_150 (Dense)            (None, 256)               65792     \n",
      "_________________________________________________________________\n",
      "dense_151 (Dense)            (None, 1)                 257       \n",
      "=================================================================\n",
      "Total params: 5,691,137\n",
      "Trainable params: 5,691,137\n",
      "Non-trainable params: 0\n",
      "_________________________________________________________________\n"
     ]
    }
   ],
   "source": [
    "model = Sequential()\n",
    "model.add(Embedding(20000, 32, input_length=60))\n",
    "model.add(Flatten())\n",
    "model.add(Dense(1024, activation='relu', input_shape=(20000,)))\n",
    "model.add(Dropout(0.2))\n",
    "model.add(Dense(1024, activation='relu', input_shape=(20000,)))\n",
    "model.add(Dropout(0.2))\n",
    "model.add(Dense(1024, activation='relu', input_shape=(20000,)))\n",
    "model.add(Dropout(0.2))\n",
    "model.add(Dense(512, activation='relu', input_shape=(20000,)))\n",
    "model.add(Dense(512, activation='relu', input_shape=(20000,)))\n",
    "model.add(Dense(256, activation='sigmoid'))\n",
    "model.add(Dense(256, activation='sigmoid'))\n",
    "\n",
    "# model.add(Dropout(0.2))\n",
    "model.add(Dense(1, activation='sigmoid'))\n",
    "model.compile(loss='binary_crossentropy', optimizer='adam', metrics=['accuracy'])    \n",
    "\n",
    "model.summary()"
   ]
  },
  {
   "cell_type": "code",
   "execution_count": 170,
   "metadata": {},
   "outputs": [
    {
     "name": "stdout",
     "output_type": "stream",
     "text": [
      "Train on 12000 samples, validate on 3000 samples\n",
      "Epoch 1/3\n",
      "12000/12000 [==============================] - ETA: 56s - loss: 0.7090 - acc: 0.51 - ETA: 29s - loss: 0.7026 - acc: 0.50 - ETA: 20s - loss: 0.6998 - acc: 0.51 - ETA: 15s - loss: 0.7007 - acc: 0.51 - ETA: 12s - loss: 0.6990 - acc: 0.51 - ETA: 10s - loss: 0.6985 - acc: 0.51 - ETA: 9s - loss: 0.6980 - acc: 0.5091 - ETA: 8s - loss: 0.6974 - acc: 0.509 - ETA: 7s - loss: 0.6969 - acc: 0.509 - ETA: 6s - loss: 0.6967 - acc: 0.508 - ETA: 5s - loss: 0.6965 - acc: 0.507 - ETA: 4s - loss: 0.6964 - acc: 0.504 - ETA: 4s - loss: 0.6965 - acc: 0.501 - ETA: 3s - loss: 0.6966 - acc: 0.498 - ETA: 3s - loss: 0.6962 - acc: 0.501 - ETA: 2s - loss: 0.6963 - acc: 0.501 - ETA: 2s - loss: 0.6966 - acc: 0.502 - ETA: 2s - loss: 0.6966 - acc: 0.502 - ETA: 1s - loss: 0.6964 - acc: 0.501 - ETA: 1s - loss: 0.6961 - acc: 0.501 - ETA: 0s - loss: 0.6960 - acc: 0.502 - ETA: 0s - loss: 0.6950 - acc: 0.507 - ETA: 0s - loss: 0.6942 - acc: 0.509 - 8s 672us/step - loss: 0.6944 - acc: 0.5110 - val_loss: 0.6812 - val_acc: 0.5743\n",
      "Epoch 2/3\n",
      "12000/12000 [==============================] - ETA: 5s - loss: 0.6735 - acc: 0.588 - ETA: 4s - loss: 0.6762 - acc: 0.576 - ETA: 4s - loss: 0.6776 - acc: 0.565 - ETA: 4s - loss: 0.6758 - acc: 0.572 - ETA: 4s - loss: 0.6744 - acc: 0.565 - ETA: 4s - loss: 0.6740 - acc: 0.569 - ETA: 3s - loss: 0.6713 - acc: 0.579 - ETA: 3s - loss: 0.6687 - acc: 0.582 - ETA: 3s - loss: 0.6666 - acc: 0.585 - ETA: 3s - loss: 0.6645 - acc: 0.590 - ETA: 2s - loss: 0.6625 - acc: 0.594 - ETA: 2s - loss: 0.6607 - acc: 0.598 - ETA: 2s - loss: 0.6600 - acc: 0.601 - ETA: 2s - loss: 0.6577 - acc: 0.605 - ETA: 1s - loss: 0.6553 - acc: 0.609 - ETA: 1s - loss: 0.6535 - acc: 0.612 - ETA: 1s - loss: 0.6493 - acc: 0.617 - ETA: 1s - loss: 0.6486 - acc: 0.619 - ETA: 1s - loss: 0.6478 - acc: 0.622 - ETA: 0s - loss: 0.6466 - acc: 0.623 - ETA: 0s - loss: 0.6461 - acc: 0.624 - ETA: 0s - loss: 0.6463 - acc: 0.623 - ETA: 0s - loss: 0.6444 - acc: 0.625 - 6s 468us/step - loss: 0.6434 - acc: 0.6274 - val_loss: 0.6368 - val_acc: 0.6353\n",
      "Epoch 3/3\n",
      "12000/12000 [==============================] - ETA: 5s - loss: 0.5740 - acc: 0.724 - ETA: 4s - loss: 0.5471 - acc: 0.753 - ETA: 4s - loss: 0.5407 - acc: 0.755 - ETA: 4s - loss: 0.5346 - acc: 0.756 - ETA: 4s - loss: 0.5255 - acc: 0.761 - ETA: 4s - loss: 0.5223 - acc: 0.760 - ETA: 4s - loss: 0.5159 - acc: 0.763 - ETA: 3s - loss: 0.5082 - acc: 0.766 - ETA: 3s - loss: 0.5102 - acc: 0.764 - ETA: 3s - loss: 0.5112 - acc: 0.765 - ETA: 3s - loss: 0.5079 - acc: 0.768 - ETA: 2s - loss: 0.5074 - acc: 0.769 - ETA: 2s - loss: 0.5034 - acc: 0.770 - ETA: 2s - loss: 0.5026 - acc: 0.769 - ETA: 2s - loss: 0.4996 - acc: 0.771 - ETA: 1s - loss: 0.4984 - acc: 0.772 - ETA: 1s - loss: 0.4982 - acc: 0.772 - ETA: 1s - loss: 0.4960 - acc: 0.773 - ETA: 1s - loss: 0.4955 - acc: 0.773 - ETA: 0s - loss: 0.4949 - acc: 0.773 - ETA: 0s - loss: 0.4934 - acc: 0.774 - ETA: 0s - loss: 0.4934 - acc: 0.774 - ETA: 0s - loss: 0.4926 - acc: 0.774 - 6s 470us/step - loss: 0.4899 - acc: 0.7759 - val_loss: 0.7183 - val_acc: 0.6220\n"
     ]
    },
    {
     "data": {
      "text/plain": [
       "<keras.callbacks.History at 0x2b3f9db9668>"
      ]
     },
     "execution_count": 170,
     "metadata": {},
     "output_type": "execute_result"
    }
   ],
   "source": [
    "# X_train = np.reshape(X_train, (X_train.shape[0], 1, X_train.shape[1]))\n",
    "# X_test = np.reshape(X_test, (X_test.shape[0], 1, X_test.shape[1]))\n",
    "\n",
    "model.fit(X_train, y_train, validation_split=0.20, batch_size = 500, epochs=3)"
   ]
  },
  {
   "cell_type": "code",
   "execution_count": 171,
   "metadata": {},
   "outputs": [
    {
     "name": "stdout",
     "output_type": "stream",
     "text": [
      "5000/5000 [==============================] - ETA:  - ETA:  - ETA:  - ETA:  - ETA:  - ETA:  - ETA:  - ETA:  - ETA:  - ETA:  - ETA:  - ETA:  - ETA:  - ETA:  - ETA:  - ETA:  - ETA:  - ETA:  - ETA:  - ETA:  - ETA:  - ETA:  - ETA:  - ETA:  - ETA:  - ETA:  - ETA:  - ETA:  - 2s 319us/step\n"
     ]
    }
   ],
   "source": [
    "scores = model.evaluate(X_test, y_test)"
   ]
  },
  {
   "cell_type": "code",
   "execution_count": 172,
   "metadata": {},
   "outputs": [
    {
     "name": "stdout",
     "output_type": "stream",
     "text": [
      "Accuracy:  63.739999999999995 %\n"
     ]
    }
   ],
   "source": [
    "print(\"Accuracy: \", scores[1]*100, \"%\")"
   ]
  },
  {
   "cell_type": "code",
   "execution_count": null,
   "metadata": {},
   "outputs": [],
   "source": []
  },
  {
   "cell_type": "code",
   "execution_count": null,
   "metadata": {},
   "outputs": [],
   "source": []
  },
  {
   "cell_type": "code",
   "execution_count": null,
   "metadata": {},
   "outputs": [],
   "source": []
  },
  {
   "cell_type": "code",
   "execution_count": null,
   "metadata": {},
   "outputs": [],
   "source": []
  },
  {
   "cell_type": "code",
   "execution_count": null,
   "metadata": {},
   "outputs": [],
   "source": []
  }
 ],
 "metadata": {
  "kernelspec": {
   "display_name": "Python 3",
   "language": "python",
   "name": "python3"
  },
  "language_info": {
   "codemirror_mode": {
    "name": "ipython",
    "version": 3
   },
   "file_extension": ".py",
   "mimetype": "text/x-python",
   "name": "python",
   "nbconvert_exporter": "python",
   "pygments_lexer": "ipython3",
   "version": "3.6.5"
  }
 },
 "nbformat": 4,
 "nbformat_minor": 2
}
