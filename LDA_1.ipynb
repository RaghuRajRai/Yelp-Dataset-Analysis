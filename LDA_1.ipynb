{
 "cells": [
  {
   "cell_type": "markdown",
   "metadata": {},
   "source": [
    "# Latent Dirichlet Allocation - Could be a good feature? \n",
    "## NMF(Negative Matrix Factorization) follows a similar approach but is found to perform well on smaller datasets.\n",
    "# We don't do \"small datasets\" :P"
   ]
  },
  {
   "cell_type": "code",
   "execution_count": 48,
   "metadata": {},
   "outputs": [],
   "source": [
    "import pandas as pd\n",
    "from sklearn.feature_extraction.text import TfidfVectorizer, CountVectorizer\n",
    "import numpy as np"
   ]
  },
  {
   "cell_type": "code",
   "execution_count": 6,
   "metadata": {},
   "outputs": [
    {
     "data": {
      "text/html": [
       "<div>\n",
       "<style scoped>\n",
       "    .dataframe tbody tr th:only-of-type {\n",
       "        vertical-align: middle;\n",
       "    }\n",
       "\n",
       "    .dataframe tbody tr th {\n",
       "        vertical-align: top;\n",
       "    }\n",
       "\n",
       "    .dataframe thead th {\n",
       "        text-align: right;\n",
       "    }\n",
       "</style>\n",
       "<table border=\"1\" class=\"dataframe\">\n",
       "  <thead>\n",
       "    <tr style=\"text-align: right;\">\n",
       "      <th></th>\n",
       "      <th>0</th>\n",
       "      <th>1</th>\n",
       "      <th>2</th>\n",
       "      <th>3</th>\n",
       "      <th>4</th>\n",
       "      <th>5</th>\n",
       "      <th>6</th>\n",
       "      <th>7</th>\n",
       "    </tr>\n",
       "  </thead>\n",
       "  <tbody>\n",
       "    <tr>\n",
       "      <th>0</th>\n",
       "      <td>0</td>\n",
       "      <td>0</td>\n",
       "      <td>5051</td>\n",
       "      <td>2014-12-05</td>\n",
       "      <td>Extremely slow kitchen went hour eat shift tol...</td>\n",
       "      <td>0</td>\n",
       "      <td>1.0</td>\n",
       "      <td>1</td>\n",
       "    </tr>\n",
       "    <tr>\n",
       "      <th>1</th>\n",
       "      <td>1</td>\n",
       "      <td>1</td>\n",
       "      <td>5071</td>\n",
       "      <td>2014-05-20</td>\n",
       "      <td>AWFUL half hour kill bypassed Capogiro go read...</td>\n",
       "      <td>0</td>\n",
       "      <td>1.0</td>\n",
       "      <td>1</td>\n",
       "    </tr>\n",
       "    <tr>\n",
       "      <th>2</th>\n",
       "      <td>2</td>\n",
       "      <td>2</td>\n",
       "      <td>5071</td>\n",
       "      <td>2014-05-20</td>\n",
       "      <td>Lovely spot Especially eat outside Food excell...</td>\n",
       "      <td>0</td>\n",
       "      <td>1.0</td>\n",
       "      <td>1</td>\n",
       "    </tr>\n",
       "    <tr>\n",
       "      <th>3</th>\n",
       "      <td>3</td>\n",
       "      <td>3</td>\n",
       "      <td>5076</td>\n",
       "      <td>2014-03-12</td>\n",
       "      <td>Sunday ordered soy caramel latte caramel vanil...</td>\n",
       "      <td>0</td>\n",
       "      <td>1.0</td>\n",
       "      <td>1</td>\n",
       "    </tr>\n",
       "    <tr>\n",
       "      <th>4</th>\n",
       "      <td>4</td>\n",
       "      <td>4</td>\n",
       "      <td>5077</td>\n",
       "      <td>2014-02-20</td>\n",
       "      <td>Toast youre killing Ive tried many times like ...</td>\n",
       "      <td>0</td>\n",
       "      <td>1.0</td>\n",
       "      <td>1</td>\n",
       "    </tr>\n",
       "  </tbody>\n",
       "</table>\n",
       "</div>"
      ],
      "text/plain": [
       "   0  1     2           3                                                  4  \\\n",
       "0  0  0  5051  2014-12-05  Extremely slow kitchen went hour eat shift tol...   \n",
       "1  1  1  5071  2014-05-20  AWFUL half hour kill bypassed Capogiro go read...   \n",
       "2  2  2  5071  2014-05-20  Lovely spot Especially eat outside Food excell...   \n",
       "3  3  3  5076  2014-03-12  Sunday ordered soy caramel latte caramel vanil...   \n",
       "4  4  4  5077  2014-02-20  Toast youre killing Ive tried many times like ...   \n",
       "\n",
       "   5    6  7  \n",
       "0  0  1.0  1  \n",
       "1  0  1.0  1  \n",
       "2  0  1.0  1  \n",
       "3  0  1.0  1  \n",
       "4  0  1.0  1  "
      ]
     },
     "execution_count": 6,
     "metadata": {},
     "output_type": "execute_result"
    }
   ],
   "source": [
    "data = pd.read_table(\"E:/Yelp/Unfiltered Data/YelpZip/Customs/SAMPLE\", header=None, sep=\",\")\n",
    "data.head()"
   ]
  },
  {
   "cell_type": "code",
   "execution_count": 13,
   "metadata": {},
   "outputs": [
    {
     "data": {
      "text/html": [
       "<div>\n",
       "<style scoped>\n",
       "    .dataframe tbody tr th:only-of-type {\n",
       "        vertical-align: middle;\n",
       "    }\n",
       "\n",
       "    .dataframe tbody tr th {\n",
       "        vertical-align: top;\n",
       "    }\n",
       "\n",
       "    .dataframe thead th {\n",
       "        text-align: right;\n",
       "    }\n",
       "</style>\n",
       "<table border=\"1\" class=\"dataframe\">\n",
       "  <thead>\n",
       "    <tr style=\"text-align: right;\">\n",
       "      <th></th>\n",
       "      <th>text</th>\n",
       "      <th>rating</th>\n",
       "    </tr>\n",
       "  </thead>\n",
       "  <tbody>\n",
       "    <tr>\n",
       "      <th>0</th>\n",
       "      <td>Extremely slow kitchen went hour eat shift tol...</td>\n",
       "      <td>1</td>\n",
       "    </tr>\n",
       "    <tr>\n",
       "      <th>1</th>\n",
       "      <td>AWFUL half hour kill bypassed Capogiro go read...</td>\n",
       "      <td>1</td>\n",
       "    </tr>\n",
       "    <tr>\n",
       "      <th>2</th>\n",
       "      <td>Lovely spot Especially eat outside Food excell...</td>\n",
       "      <td>1</td>\n",
       "    </tr>\n",
       "    <tr>\n",
       "      <th>3</th>\n",
       "      <td>Sunday ordered soy caramel latte caramel vanil...</td>\n",
       "      <td>1</td>\n",
       "    </tr>\n",
       "    <tr>\n",
       "      <th>4</th>\n",
       "      <td>Toast youre killing Ive tried many times like ...</td>\n",
       "      <td>1</td>\n",
       "    </tr>\n",
       "  </tbody>\n",
       "</table>\n",
       "</div>"
      ],
      "text/plain": [
       "                                                text  rating\n",
       "0  Extremely slow kitchen went hour eat shift tol...       1\n",
       "1  AWFUL half hour kill bypassed Capogiro go read...       1\n",
       "2  Lovely spot Especially eat outside Food excell...       1\n",
       "3  Sunday ordered soy caramel latte caramel vanil...       1\n",
       "4  Toast youre killing Ive tried many times like ...       1"
      ]
     },
     "execution_count": 13,
     "metadata": {},
     "output_type": "execute_result"
    }
   ],
   "source": [
    "data.columns = ['text', 'rating']\n",
    "data.head()"
   ]
  },
  {
   "cell_type": "code",
   "execution_count": 23,
   "metadata": {},
   "outputs": [],
   "source": [
    "#We noticed that the text column was of the object type which the CountVectorizer can't work on\n",
    "data['text'] = data['text'].apply(lambda txt: str(txt))"
   ]
  },
  {
   "cell_type": "code",
   "execution_count": 22,
   "metadata": {},
   "outputs": [],
   "source": [
    "# LDA can only use raw term counts for LDA because it is a probabilistic graphical model\n",
    "tf_vec = CountVectorizer(max_df=0.90, min_df=10, max_features=1000, stop_words='english')\n",
    "tf = tf_vec.fit_transform(data['text'])\n",
    "tf_features = tf_vec.get_feature_names()"
   ]
  },
  {
   "cell_type": "code",
   "execution_count": 24,
   "metadata": {},
   "outputs": [
    {
     "name": "stderr",
     "output_type": "stream",
     "text": [
      "D:\\Anaconda3\\lib\\site-packages\\sklearn\\decomposition\\online_lda.py:294: DeprecationWarning: n_topics has been renamed to n_components in version 0.19 and will be removed in 0.21\n",
      "  DeprecationWarning)\n"
     ]
    }
   ],
   "source": [
    "from sklearn.decomposition import NMF, LatentDirichletAllocation\n",
    "lda = LatentDirichletAllocation(n_topics=10, learning_method='online', learning_offset=50,random_state=0).fit(tf)"
   ]
  },
  {
   "cell_type": "code",
   "execution_count": 30,
   "metadata": {},
   "outputs": [
    {
     "name": "stdout",
     "output_type": "stream",
     "text": [
      "Topic 0:\n",
      "bar beer bartender drinks loud music beers ribs world certainly\n",
      "Topic 1:\n",
      "star used food time called location years phone woman cake\n",
      "Topic 2:\n",
      "food good like chicken place ordered sauce dish restaurant tasted\n",
      "Topic 3:\n",
      "horrible money sandwich service food dry worst customer disgusting counter\n",
      "Topic 4:\n",
      "place food great good staff service restaurant love nice mediocre\n",
      "Topic 5:\n",
      "pizza burger fries cheese order ordered delivery burgers good pie\n",
      "Topic 6:\n",
      "food service good brunch coffee terrible slow wait breakfast price\n",
      "Topic 7:\n",
      "steak cheese philly better genos meat pats cheesesteak street english\n",
      "Topic 8:\n",
      "place like dont food good really im people know time\n",
      "Topic 9:\n",
      "table minutes said asked told came restaurant food order time\n"
     ]
    }
   ],
   "source": [
    "def topics(model, features, top_words):\n",
    "    for topic_idx, topic in enumerate(model.components_):\n",
    "        print (\"Topic %d:\" % (topic_idx))\n",
    "        print (\" \".join([features[i] for i in topic.argsort()[:-top_words - 1:-1]]))\n",
    "\n",
    "topics(lda, tf_features, 10)"
   ]
  },
  {
   "cell_type": "code",
   "execution_count": 46,
   "metadata": {},
   "outputs": [],
   "source": [
    "train = data.iloc[:10000,]\n",
    "test = data.iloc[10000:20000,]"
   ]
  },
  {
   "cell_type": "code",
   "execution_count": 71,
   "metadata": {},
   "outputs": [
    {
     "name": "stderr",
     "output_type": "stream",
     "text": [
      "D:\\Anaconda3\\lib\\site-packages\\sklearn\\decomposition\\online_lda.py:294: DeprecationWarning: n_topics has been renamed to n_components in version 0.19 and will be removed in 0.21\n",
      "  DeprecationWarning)\n",
      "D:\\Anaconda3\\lib\\site-packages\\sklearn\\decomposition\\online_lda.py:536: DeprecationWarning: The default value for 'learning_method' will be changed from 'online' to 'batch' in the release 0.20. This warning was introduced in 0.18.\n",
      "  DeprecationWarning)\n"
     ]
    }
   ],
   "source": [
    "# vectorizer the features\n",
    "tf_vectorizer = TfidfVectorizer(max_features=7)\n",
    "X_train = tf_vectorizer.fit_transform(train)\n",
    "\n",
    "# train the model\n",
    "lda = LatentDirichletAllocation(n_topics=5)\n",
    "lda.fit(X_train)\n",
    "\n",
    "# predict topics for test data\n",
    "# unnormalized doc-topic distribution\n",
    "X_test = tf_vectorizer.transform(test)\n",
    "doc_topic_dist_unnormalized = np.matrix(lda.transform(X_test))\n",
    "\n",
    "# normalize the distribution (only needed if you want to work with the probabilities)\n",
    "doc_topic_dist = doc_topic_dist_unnormalized/doc_topic_dist_unnormalized.sum(axis=1)"
   ]
  },
  {
   "cell_type": "markdown",
   "metadata": {},
   "source": [
    "# Alright! SKLearn is getting too confusing here! "
   ]
  },
  {
   "cell_type": "code",
   "execution_count": null,
   "metadata": {},
   "outputs": [],
   "source": []
  }
 ],
 "metadata": {
  "kernelspec": {
   "display_name": "Python 3",
   "language": "python",
   "name": "python3"
  },
  "language_info": {
   "codemirror_mode": {
    "name": "ipython",
    "version": 3
   },
   "file_extension": ".py",
   "mimetype": "text/x-python",
   "name": "python",
   "nbconvert_exporter": "python",
   "pygments_lexer": "ipython3",
   "version": "3.6.5"
  }
 },
 "nbformat": 4,
 "nbformat_minor": 2
}
