{
 "cells": [
  {
   "cell_type": "markdown",
   "metadata": {},
   "source": [
    "# The First \"Good\" Notebook\n",
    "## Accuracy: 86.7 %\n",
    "## Precision: 82%"
   ]
  },
  {
   "cell_type": "code",
   "execution_count": 8,
   "metadata": {},
   "outputs": [],
   "source": [
    "import pandas as pd\n",
    "import nltk\n",
    "from nltk.corpus import stopwords\n",
    "import string\n",
    "import keras\n",
    "from keras.preprocessing.text import Tokenizer\n",
    "from keras.preprocessing.sequence import pad_sequences\n",
    "from keras.models import Sequential\n",
    "from keras.layers import Dense, Flatten, LSTM, Conv1D, MaxPooling1D, Dropout, Activation\n",
    "from keras.layers.embeddings import Embedding\n",
    "import numpy as np\n",
    "from tqdm._tqdm_notebook import tqdm_notebook\n",
    "tqdm_notebook.pandas()"
   ]
  },
  {
   "cell_type": "code",
   "execution_count": 3,
   "metadata": {},
   "outputs": [
    {
     "data": {
      "text/plain": [
       "(608458, 7)"
      ]
     },
     "execution_count": 3,
     "metadata": {},
     "output_type": "execute_result"
    }
   ],
   "source": [
    "data = pd.read_csv(\"E:\\\\Yelp\\\\Unfiltered Data\\\\YelpZip\\\\Customs\\\\textonly\", header=None)\n",
    "data.head()\n",
    "data.shape"
   ]
  },
  {
   "cell_type": "code",
   "execution_count": 6,
   "metadata": {},
   "outputs": [],
   "source": [
    "data.head()\n",
    "data = data[[3, 5]]"
   ]
  },
  {
   "cell_type": "code",
   "execution_count": 9,
   "metadata": {},
   "outputs": [
    {
     "name": "stdout",
     "output_type": "stream",
     "text": [
      "Stopwords from the NLTK corpus:  {'aren', 'didn', 'who', 'both', 'to', 'needn', 'most', 'them', 'if', 'y', \"isn't\", 'himself', 'hasn', 'mustn', 'as', 'under', 'up', 'and', 'while', 'will', 'all', \"shan't\", 'had', 'of', 'few', 'i', \"hasn't\", 'is', 'am', 'are', 'then', 'can', 'ain', 'm', \"mustn't\", 'has', 'until', 'below', 'into', 'these', \"wouldn't\", \"wasn't\", 'does', 'its', 'such', \"should've\", 'd', 'having', \"that'll\", 'shouldn', 'be', 'same', \"hadn't\", 'above', 'after', 'further', \"didn't\", 'those', 'between', 'where', 'by', 'than', 'too', 'now', 'very', 'with', 'me', 'out', 'was', 'so', 'you', 'there', \"mightn't\", 'no', 'o', 'down', 'this', \"you'll\", 'only', 'yours', 'on', 'their', 'being', 'have', 'again', \"shouldn't\", 'won', 'he', 's', 'itself', 'whom', 'at', 'but', 'couldn', 'because', 'haven', 'hadn', 'ours', 'from', 'your', 'been', 'off', 'once', 'wasn', 'isn', 'just', 'don', 'some', 'here', 'more', 'the', 't', 'shan', 'in', \"won't\", 'ma', 'why', 'him', 'herself', 'his', 'nor', 'not', \"doesn't\", 'or', 'yourselves', 'over', 'about', \"you've\", 'for', 'what', 'were', 'did', 'each', 'it', 'through', 'mightn', 'how', 'yourself', 'a', \"she's\", 'they', 'she', 'own', 'my', 'we', 'her', \"don't\", 'an', \"haven't\", 'that', \"weren't\", 'weren', \"aren't\", 'theirs', 'myself', 'doesn', 'when', \"needn't\", 'doing', \"you're\", 'hers', 'before', 'our', 'themselves', 'll', 'wouldn', 'should', 'during', \"it's\", 've', \"you'd\", 'which', 're', 'against', \"couldn't\", 'any', 'do', 'ourselves', 'other'}\n"
     ]
    },
    {
     "data": {
      "application/vnd.jupyter.widget-view+json": {
       "model_id": "a6f3ce71ff814bcfbabb53f7addc6244",
       "version_major": 2,
       "version_minor": 0
      },
      "text/plain": [
       "HBox(children=(IntProgress(value=0, max=608458), HTML(value='')))"
      ]
     },
     "metadata": {},
     "output_type": "display_data"
    },
    {
     "name": "stdout",
     "output_type": "stream",
     "text": [
      "\n"
     ]
    }
   ],
   "source": [
    "stop_words=set(stopwords.words(\"english\"))\n",
    "print(\"Stopwords from the NLTK corpus: \", stop_words)\n",
    "\n",
    "def text_process(text):\n",
    "    #String punctuation provides all the necessary checks\n",
    "    nopunc = [char for char in text if char not in string.punctuation]\n",
    "    nopunc = ''.join(nopunc)\n",
    "    return [word for word in nopunc.split() if word.lower() not in stopwords.words('english')]\n",
    "\n",
    "\n",
    "data[3] = data[3].progress_apply(lambda txt: str(txt))"
   ]
  },
  {
   "cell_type": "code",
   "execution_count": 11,
   "metadata": {},
   "outputs": [],
   "source": [
    "# data[3] = data[3].progress_apply(lambda txt: text_process(txt))"
   ]
  },
  {
   "cell_type": "code",
   "execution_count": 13,
   "metadata": {},
   "outputs": [
    {
     "data": {
      "application/vnd.jupyter.widget-view+json": {
       "model_id": "190a745de00e4d9e955024291ad6d42a",
       "version_major": 2,
       "version_minor": 0
      },
      "text/plain": [
       "HBox(children=(IntProgress(value=0, max=608458), HTML(value='')))"
      ]
     },
     "metadata": {},
     "output_type": "display_data"
    },
    {
     "data": {
      "text/html": [
       "<div>\n",
       "<style scoped>\n",
       "    .dataframe tbody tr th:only-of-type {\n",
       "        vertical-align: middle;\n",
       "    }\n",
       "\n",
       "    .dataframe tbody tr th {\n",
       "        vertical-align: top;\n",
       "    }\n",
       "\n",
       "    .dataframe thead th {\n",
       "        text-align: right;\n",
       "    }\n",
       "</style>\n",
       "<table border=\"1\" class=\"dataframe\">\n",
       "  <thead>\n",
       "    <tr style=\"text-align: right;\">\n",
       "      <th></th>\n",
       "      <th>3</th>\n",
       "      <th>5</th>\n",
       "    </tr>\n",
       "  </thead>\n",
       "  <tbody>\n",
       "    <tr>\n",
       "      <th>0</th>\n",
       "      <td>Drinks were bad, the hot chocolate was watered...</td>\n",
       "      <td>0</td>\n",
       "    </tr>\n",
       "    <tr>\n",
       "      <th>1</th>\n",
       "      <td>This was the worst experience I've ever had a ...</td>\n",
       "      <td>0</td>\n",
       "    </tr>\n",
       "    <tr>\n",
       "      <th>2</th>\n",
       "      <td>This is located on the site of the old Spruce ...</td>\n",
       "      <td>0</td>\n",
       "    </tr>\n",
       "    <tr>\n",
       "      <th>3</th>\n",
       "      <td>I enjoyed coffee and breakfast twice at Toast ...</td>\n",
       "      <td>0</td>\n",
       "    </tr>\n",
       "    <tr>\n",
       "      <th>4</th>\n",
       "      <td>I love Toast! The food choices are fantastic -...</td>\n",
       "      <td>0</td>\n",
       "    </tr>\n",
       "  </tbody>\n",
       "</table>\n",
       "</div>"
      ],
      "text/plain": [
       "                                                   3  5\n",
       "0  Drinks were bad, the hot chocolate was watered...  0\n",
       "1  This was the worst experience I've ever had a ...  0\n",
       "2  This is located on the site of the old Spruce ...  0\n",
       "3  I enjoyed coffee and breakfast twice at Toast ...  0\n",
       "4  I love Toast! The food choices are fantastic -...  0"
      ]
     },
     "execution_count": 13,
     "metadata": {},
     "output_type": "execute_result"
    }
   ],
   "source": [
    "def binarize(n):\n",
    "    if n==1:\n",
    "        return 1\n",
    "    else:\n",
    "        return 0\n",
    "\n",
    "data[5] = data[5].progress_apply(lambda n: binarize(n))\n",
    "data.head()"
   ]
  },
  {
   "cell_type": "code",
   "execution_count": 14,
   "metadata": {},
   "outputs": [],
   "source": [
    "tokenizer = Tokenizer(num_words= 20000)\n",
    "tokenizer.fit_on_texts(data[3])\n",
    "\n",
    "sequences = tokenizer.texts_to_sequences(data[3])\n",
    "data1 = pad_sequences(sequences, maxlen=150)"
   ]
  },
  {
   "cell_type": "code",
   "execution_count": 16,
   "metadata": {},
   "outputs": [],
   "source": [
    "from sklearn.model_selection import train_test_split\n",
    "X_train, X_test, y_train, y_test = train_test_split(data1, data[5], test_size=0.25, random_state=42)"
   ]
  },
  {
   "cell_type": "code",
   "execution_count": 19,
   "metadata": {},
   "outputs": [
    {
     "name": "stdout",
     "output_type": "stream",
     "text": [
      "_________________________________________________________________\n",
      "Layer (type)                 Output Shape              Param #   \n",
      "=================================================================\n",
      "embedding_2 (Embedding)      (None, 150, 64)           1280000   \n",
      "_________________________________________________________________\n",
      "lstm_2 (LSTM)                (None, 500)               1130000   \n",
      "_________________________________________________________________\n",
      "dense_2 (Dense)              (None, 1)                 501       \n",
      "=================================================================\n",
      "Total params: 2,410,501\n",
      "Trainable params: 2,410,501\n",
      "Non-trainable params: 0\n",
      "_________________________________________________________________\n"
     ]
    }
   ],
   "source": [
    "model = Sequential()\n",
    "model.add(Embedding(20000, 64, input_length=150))\n",
    "model.add(LSTM(500, dropout=0.2, recurrent_dropout=0.2))\n",
    "model.add(Dense(1, activation='sigmoid'))\n",
    "model.compile(loss='binary_crossentropy', optimizer='adam', metrics=['accuracy'])\n",
    "\n",
    "model.summary()"
   ]
  },
  {
   "cell_type": "code",
   "execution_count": 24,
   "metadata": {},
   "outputs": [
    {
     "name": "stdout",
     "output_type": "stream",
     "text": [
      "Train on 342257 samples, validate on 114086 samples\n",
      "Epoch 1/1\n"
     ]
    },
    {
     "name": "stdout",
     "output_type": "stream",
     "text": [
      "201000/342257 [================>.............] - ETA: 1:08:16 - loss: 0.3166 - acc: 0.88 - ETA: 1:08:39 - loss: 0.3323 - acc: 0.87 - ETA: 1:08:31 - loss: 0.3326 - acc: 0.87 - ETA: 1:08:18 - loss: 0.3334 - acc: 0.87 - ETA: 1:08:01 - loss: 0.3377 - acc: 0.87 - ETA: 1:07:48 - loss: 0.3429 - acc: 0.86 - ETA: 1:07:37 - loss: 0.3481 - acc: 0.86 - ETA: 1:07:23 - loss: 0.3475 - acc: 0.86 - ETA: 1:07:22 - loss: 0.3476 - acc: 0.86 - ETA: 1:07:36 - loss: 0.3480 - acc: 0.86 - ETA: 1:07:49 - loss: 0.3495 - acc: 0.86 - ETA: 1:07:26 - loss: 0.3494 - acc: 0.86 - ETA: 1:07:03 - loss: 0.3494 - acc: 0.86 - ETA: 1:06:40 - loss: 0.3494 - acc: 0.86 - ETA: 1:06:18 - loss: 0.3495 - acc: 0.86 - ETA: 1:05:56 - loss: 0.3483 - acc: 0.86 - ETA: 1:05:39 - loss: 0.3489 - acc: 0.86 - ETA: 1:05:20 - loss: 0.3464 - acc: 0.86 - ETA: 1:05:02 - loss: 0.3468 - acc: 0.86 - ETA: 1:04:44 - loss: 0.3445 - acc: 0.86 - ETA: 1:04:28 - loss: 0.3445 - acc: 0.86 - ETA: 1:04:12 - loss: 0.3446 - acc: 0.86 - ETA: 1:03:54 - loss: 0.3445 - acc: 0.86 - ETA: 1:03:39 - loss: 0.3451 - acc: 0.86 - ETA: 1:03:23 - loss: 0.3445 - acc: 0.86 - ETA: 1:03:08 - loss: 0.3446 - acc: 0.86 - ETA: 1:02:53 - loss: 0.3450 - acc: 0.86 - ETA: 1:02:39 - loss: 0.3437 - acc: 0.86 - ETA: 1:02:24 - loss: 0.3446 - acc: 0.86 - ETA: 1:02:10 - loss: 0.3439 - acc: 0.86 - ETA: 1:01:56 - loss: 0.3431 - acc: 0.86 - ETA: 1:01:43 - loss: 0.3423 - acc: 0.86 - ETA: 1:01:30 - loss: 0.3424 - acc: 0.86 - ETA: 1:01:16 - loss: 0.3428 - acc: 0.86 - ETA: 1:01:03 - loss: 0.3429 - acc: 0.86 - ETA: 1:00:50 - loss: 0.3430 - acc: 0.86 - ETA: 1:00:38 - loss: 0.3431 - acc: 0.86 - ETA: 1:00:25 - loss: 0.3428 - acc: 0.86 - ETA: 1:00:13 - loss: 0.3432 - acc: 0.86 - ETA: 1:00:00 - loss: 0.3434 - acc: 0.86 - ETA: 59:47 - loss: 0.3424 - acc: 0.8667 - ETA: 59:34 - loss: 0.3425 - acc: 0.86 - ETA: 59:21 - loss: 0.3425 - acc: 0.86 - ETA: 59:07 - loss: 0.3421 - acc: 0.86 - ETA: 58:55 - loss: 0.3424 - acc: 0.86 - ETA: 58:43 - loss: 0.3420 - acc: 0.86 - ETA: 58:30 - loss: 0.3424 - acc: 0.86 - ETA: 58:18 - loss: 0.3424 - acc: 0.86 - ETA: 58:05 - loss: 0.3422 - acc: 0.86 - ETA: 57:53 - loss: 0.3418 - acc: 0.86 - ETA: 57:40 - loss: 0.3418 - acc: 0.86 - ETA: 57:28 - loss: 0.3420 - acc: 0.86 - ETA: 57:15 - loss: 0.3419 - acc: 0.86 - ETA: 57:02 - loss: 0.3416 - acc: 0.86 - ETA: 56:50 - loss: 0.3415 - acc: 0.86 - ETA: 56:37 - loss: 0.3411 - acc: 0.86 - ETA: 56:25 - loss: 0.3417 - acc: 0.86 - ETA: 56:12 - loss: 0.3413 - acc: 0.86 - ETA: 56:00 - loss: 0.3417 - acc: 0.86 - ETA: 55:47 - loss: 0.3418 - acc: 0.86 - ETA: 55:35 - loss: 0.3417 - acc: 0.86 - ETA: 55:23 - loss: 0.3421 - acc: 0.86 - ETA: 55:10 - loss: 0.3418 - acc: 0.86 - ETA: 54:58 - loss: 0.3418 - acc: 0.86 - ETA: 54:46 - loss: 0.3415 - acc: 0.86 - ETA: 54:34 - loss: 0.3414 - acc: 0.86 - ETA: 54:22 - loss: 0.3415 - acc: 0.86 - ETA: 54:10 - loss: 0.3410 - acc: 0.86 - ETA: 53:58 - loss: 0.3406 - acc: 0.86 - ETA: 53:45 - loss: 0.3406 - acc: 0.86 - ETA: 53:33 - loss: 0.3405 - acc: 0.86 - ETA: 53:21 - loss: 0.3404 - acc: 0.86 - ETA: 53:09 - loss: 0.3406 - acc: 0.86 - ETA: 53:07 - loss: 0.3407 - acc: 0.86 - ETA: 53:17 - loss: 0.3404 - acc: 0.86 - ETA: 53:22 - loss: 0.3400 - acc: 0.86 - ETA: 53:16 - loss: 0.3403 - acc: 0.86 - ETA: 53:08 - loss: 0.3403 - acc: 0.86 - ETA: 52:56 - loss: 0.3405 - acc: 0.86 - ETA: 52:51 - loss: 0.3402 - acc: 0.86 - ETA: 52:46 - loss: 0.3398 - acc: 0.86 - ETA: 52:36 - loss: 0.3400 - acc: 0.86 - ETA: 52:27 - loss: 0.3401 - acc: 0.86 - ETA: 52:17 - loss: 0.3400 - acc: 0.86 - ETA: 52:05 - loss: 0.3396 - acc: 0.86 - ETA: 51:53 - loss: 0.3397 - acc: 0.86 - ETA: 51:43 - loss: 0.3399 - acc: 0.86 - ETA: 51:32 - loss: 0.3395 - acc: 0.86 - ETA: 51:26 - loss: 0.3395 - acc: 0.86 - ETA: 51:17 - loss: 0.3397 - acc: 0.86 - ETA: 51:09 - loss: 0.3399 - acc: 0.86 - ETA: 51:01 - loss: 0.3399 - acc: 0.86 - ETA: 50:49 - loss: 0.3395 - acc: 0.86 - ETA: 50:38 - loss: 0.3394 - acc: 0.86 - ETA: 50:26 - loss: 0.3393 - acc: 0.86 - ETA: 50:17 - loss: 0.3394 - acc: 0.86 - ETA: 50:08 - loss: 0.3392 - acc: 0.86 - ETA: 49:57 - loss: 0.3395 - acc: 0.86 - ETA: 49:47 - loss: 0.3399 - acc: 0.86 - ETA: 49:39 - loss: 0.3397 - acc: 0.86 - ETA: 49:33 - loss: 0.3395 - acc: 0.86 - ETA: 49:31 - loss: 0.3390 - acc: 0.86 - ETA: 49:19 - loss: 0.3389 - acc: 0.86 - ETA: 49:05 - loss: 0.3386 - acc: 0.86 - ETA: 48:52 - loss: 0.3383 - acc: 0.86 - ETA: 48:38 - loss: 0.3384 - acc: 0.86 - ETA: 48:24 - loss: 0.3387 - acc: 0.86 - ETA: 48:11 - loss: 0.3387 - acc: 0.86 - ETA: 47:58 - loss: 0.3387 - acc: 0.86 - ETA: 47:44 - loss: 0.3387 - acc: 0.86 - ETA: 47:31 - loss: 0.3388 - acc: 0.86 - ETA: 47:17 - loss: 0.3386 - acc: 0.86 - ETA: 47:04 - loss: 0.3386 - acc: 0.86 - ETA: 46:50 - loss: 0.3384 - acc: 0.86 - ETA: 46:37 - loss: 0.3382 - acc: 0.86 - ETA: 46:24 - loss: 0.3383 - acc: 0.86 - ETA: 46:10 - loss: 0.3381 - acc: 0.86 - ETA: 45:57 - loss: 0.3382 - acc: 0.86 - ETA: 45:44 - loss: 0.3383 - acc: 0.86 - ETA: 45:30 - loss: 0.3383 - acc: 0.86 - ETA: 45:17 - loss: 0.3382 - acc: 0.86 - ETA: 45:04 - loss: 0.3381 - acc: 0.86 - ETA: 44:51 - loss: 0.3382 - acc: 0.86 - ETA: 44:38 - loss: 0.3384 - acc: 0.86 - ETA: 44:25 - loss: 0.3384 - acc: 0.86 - ETA: 44:12 - loss: 0.3384 - acc: 0.86 - ETA: 43:59 - loss: 0.3380 - acc: 0.86 - ETA: 43:46 - loss: 0.3377 - acc: 0.86 - ETA: 43:33 - loss: 0.3379 - acc: 0.86 - ETA: 43:20 - loss: 0.3381 - acc: 0.86 - ETA: 43:07 - loss: 0.3380 - acc: 0.86 - ETA: 42:54 - loss: 0.3381 - acc: 0.86 - ETA: 42:42 - loss: 0.3381 - acc: 0.86 - ETA: 42:30 - loss: 0.3382 - acc: 0.86 - ETA: 42:17 - loss: 0.3383 - acc: 0.86 - ETA: 42:04 - loss: 0.3384 - acc: 0.86 - ETA: 41:51 - loss: 0.3382 - acc: 0.86 - ETA: 41:38 - loss: 0.3384 - acc: 0.86 - ETA: 41:25 - loss: 0.3384 - acc: 0.86 - ETA: 41:12 - loss: 0.3382 - acc: 0.86 - ETA: 41:00 - loss: 0.3382 - acc: 0.86 - ETA: 40:47 - loss: 0.3382 - acc: 0.86 - ETA: 40:34 - loss: 0.3382 - acc: 0.86 - ETA: 40:21 - loss: 0.3383 - acc: 0.86 - ETA: 40:09 - loss: 0.3384 - acc: 0.86 - ETA: 39:56 - loss: 0.3385 - acc: 0.86 - ETA: 39:43 - loss: 0.3385 - acc: 0.86 - ETA: 39:30 - loss: 0.3385 - acc: 0.86 - ETA: 39:17 - loss: 0.3384 - acc: 0.86 - ETA: 39:04 - loss: 0.3383 - acc: 0.86 - ETA: 38:52 - loss: 0.3383 - acc: 0.86 - ETA: 38:39 - loss: 0.3382 - acc: 0.86 - ETA: 38:26 - loss: 0.3381 - acc: 0.86 - ETA: 38:13 - loss: 0.3381 - acc: 0.86 - ETA: 38:01 - loss: 0.3381 - acc: 0.86 - ETA: 37:48 - loss: 0.3381 - acc: 0.86 - ETA: 37:35 - loss: 0.3382 - acc: 0.86 - ETA: 37:23 - loss: 0.3382 - acc: 0.86 - ETA: 37:10 - loss: 0.3381 - acc: 0.86 - ETA: 36:57 - loss: 0.3381 - acc: 0.86 - ETA: 36:45 - loss: 0.3381 - acc: 0.86 - ETA: 36:32 - loss: 0.3382 - acc: 0.86 - ETA: 36:19 - loss: 0.3381 - acc: 0.86 - ETA: 36:07 - loss: 0.3381 - acc: 0.86 - ETA: 35:54 - loss: 0.3381 - acc: 0.86 - ETA: 35:41 - loss: 0.3382 - acc: 0.86 - ETA: 35:29 - loss: 0.3384 - acc: 0.86 - ETA: 35:16 - loss: 0.3382 - acc: 0.86 - ETA: 35:04 - loss: 0.3382 - acc: 0.86 - ETA: 34:51 - loss: 0.3382 - acc: 0.86 - ETA: 34:39 - loss: 0.3383 - acc: 0.86 - ETA: 34:26 - loss: 0.3384 - acc: 0.86 - ETA: 34:14 - loss: 0.3383 - acc: 0.86 - ETA: 34:01 - loss: 0.3382 - acc: 0.86 - ETA: 33:49 - loss: 0.3382 - acc: 0.86 - ETA: 33:36 - loss: 0.3381 - acc: 0.86 - ETA: 33:24 - loss: 0.3381 - acc: 0.86 - ETA: 33:11 - loss: 0.3381 - acc: 0.86 - ETA: 32:59 - loss: 0.3379 - acc: 0.86 - ETA: 32:46 - loss: 0.3380 - acc: 0.86 - ETA: 32:34 - loss: 0.3380 - acc: 0.86 - ETA: 32:21 - loss: 0.3378 - acc: 0.86 - ETA: 32:09 - loss: 0.3379 - acc: 0.86 - ETA: 31:56 - loss: 0.3379 - acc: 0.86 - ETA: 31:44 - loss: 0.3379 - acc: 0.86 - ETA: 31:31 - loss: 0.3378 - acc: 0.86 - ETA: 31:19 - loss: 0.3379 - acc: 0.86 - ETA: 31:06 - loss: 0.3378 - acc: 0.86 - ETA: 30:54 - loss: 0.3378 - acc: 0.86 - ETA: 30:41 - loss: 0.3378 - acc: 0.86 - ETA: 30:29 - loss: 0.3378 - acc: 0.86 - ETA: 30:17 - loss: 0.3378 - acc: 0.86 - ETA: 30:04 - loss: 0.3378 - acc: 0.86 - ETA: 29:52 - loss: 0.3379 - acc: 0.86 - ETA: 29:39 - loss: 0.3379 - acc: 0.86 - ETA: 29:27 - loss: 0.3380 - acc: 0.86 - ETA: 29:15 - loss: 0.3379 - acc: 0.86 - ETA: 29:02 - loss: 0.3380 - acc: 0.86 - ETA: 28:50 - loss: 0.3380 - acc: 0.86 - ETA: 28:38 - loss: 0.3380 - acc: 0.86 - ETA: 28:25 - loss: 0.3380 - acc: 0.8687\b\b\b\b\b\b\b\b\b\b\b\b\b\b\b\b\b\b\b\b\b\b\b\b\b\b\b\b\b\b\b\b\b\b\b\b\b\b\b\b\b\b\b\b\b\b\b\b\b\b\b\b\b\b\b\b\b\b\b\b\b\b\b\b\b\b\b\b\b\b\b\b\b\b\b\b\b\b\b\b\b\b\b\b\b\b\b\b"
     ]
    },
    {
     "name": "stdout",
     "output_type": "stream",
     "text": [
      "342257/342257 [==============================] - ETA: 28:13 - loss: 0.3379 - acc: 0.86 - ETA: 28:01 - loss: 0.3379 - acc: 0.86 - ETA: 27:48 - loss: 0.3379 - acc: 0.86 - ETA: 27:36 - loss: 0.3381 - acc: 0.86 - ETA: 27:24 - loss: 0.3381 - acc: 0.86 - ETA: 27:12 - loss: 0.3382 - acc: 0.86 - ETA: 26:59 - loss: 0.3382 - acc: 0.86 - ETA: 26:47 - loss: 0.3381 - acc: 0.86 - ETA: 26:35 - loss: 0.3380 - acc: 0.86 - ETA: 26:22 - loss: 0.3380 - acc: 0.86 - ETA: 26:10 - loss: 0.3380 - acc: 0.86 - ETA: 25:58 - loss: 0.3380 - acc: 0.86 - ETA: 25:46 - loss: 0.3380 - acc: 0.86 - ETA: 25:34 - loss: 0.3379 - acc: 0.86 - ETA: 25:21 - loss: 0.3379 - acc: 0.86 - ETA: 25:09 - loss: 0.3380 - acc: 0.86 - ETA: 24:57 - loss: 0.3380 - acc: 0.86 - ETA: 24:45 - loss: 0.3380 - acc: 0.86 - ETA: 24:33 - loss: 0.3380 - acc: 0.86 - ETA: 24:20 - loss: 0.3381 - acc: 0.86 - ETA: 24:08 - loss: 0.3379 - acc: 0.86 - ETA: 23:56 - loss: 0.3379 - acc: 0.86 - ETA: 23:44 - loss: 0.3380 - acc: 0.86 - ETA: 23:31 - loss: 0.3380 - acc: 0.86 - ETA: 23:19 - loss: 0.3382 - acc: 0.86 - ETA: 23:07 - loss: 0.3384 - acc: 0.86 - ETA: 22:55 - loss: 0.3382 - acc: 0.86 - ETA: 22:43 - loss: 0.3382 - acc: 0.86 - ETA: 22:30 - loss: 0.3383 - acc: 0.86 - ETA: 22:18 - loss: 0.3382 - acc: 0.86 - ETA: 22:06 - loss: 0.3382 - acc: 0.86 - ETA: 21:54 - loss: 0.3383 - acc: 0.86 - ETA: 21:42 - loss: 0.3383 - acc: 0.86 - ETA: 21:29 - loss: 0.3383 - acc: 0.86 - ETA: 21:17 - loss: 0.3384 - acc: 0.86 - ETA: 21:05 - loss: 0.3384 - acc: 0.86 - ETA: 20:53 - loss: 0.3385 - acc: 0.86 - ETA: 20:41 - loss: 0.3385 - acc: 0.86 - ETA: 20:29 - loss: 0.3385 - acc: 0.86 - ETA: 20:16 - loss: 0.3385 - acc: 0.86 - ETA: 20:04 - loss: 0.3386 - acc: 0.86 - ETA: 19:52 - loss: 0.3386 - acc: 0.86 - ETA: 19:40 - loss: 0.3386 - acc: 0.86 - ETA: 19:28 - loss: 0.3386 - acc: 0.86 - ETA: 19:16 - loss: 0.3386 - acc: 0.86 - ETA: 19:04 - loss: 0.3386 - acc: 0.86 - ETA: 18:52 - loss: 0.3385 - acc: 0.86 - ETA: 18:39 - loss: 0.3385 - acc: 0.86 - ETA: 18:27 - loss: 0.3384 - acc: 0.86 - ETA: 18:15 - loss: 0.3383 - acc: 0.86 - ETA: 18:03 - loss: 0.3383 - acc: 0.86 - ETA: 17:51 - loss: 0.3383 - acc: 0.86 - ETA: 17:39 - loss: 0.3382 - acc: 0.86 - ETA: 17:27 - loss: 0.3382 - acc: 0.86 - ETA: 17:15 - loss: 0.3381 - acc: 0.86 - ETA: 17:03 - loss: 0.3382 - acc: 0.86 - ETA: 16:51 - loss: 0.3382 - acc: 0.86 - ETA: 16:38 - loss: 0.3382 - acc: 0.86 - ETA: 16:26 - loss: 0.3383 - acc: 0.86 - ETA: 16:14 - loss: 0.3382 - acc: 0.86 - ETA: 16:02 - loss: 0.3384 - acc: 0.86 - ETA: 15:50 - loss: 0.3383 - acc: 0.86 - ETA: 15:38 - loss: 0.3383 - acc: 0.86 - ETA: 15:26 - loss: 0.3382 - acc: 0.86 - ETA: 15:14 - loss: 0.3382 - acc: 0.86 - ETA: 15:02 - loss: 0.3382 - acc: 0.86 - ETA: 14:50 - loss: 0.3382 - acc: 0.86 - ETA: 14:38 - loss: 0.3383 - acc: 0.86 - ETA: 14:25 - loss: 0.3382 - acc: 0.86 - ETA: 14:13 - loss: 0.3382 - acc: 0.86 - ETA: 14:01 - loss: 0.3382 - acc: 0.86 - ETA: 13:49 - loss: 0.3382 - acc: 0.86 - ETA: 13:37 - loss: 0.3382 - acc: 0.86 - ETA: 13:25 - loss: 0.3382 - acc: 0.86 - ETA: 13:13 - loss: 0.3382 - acc: 0.86 - ETA: 13:01 - loss: 0.3380 - acc: 0.86 - ETA: 12:49 - loss: 0.3379 - acc: 0.86 - ETA: 12:37 - loss: 0.3380 - acc: 0.86 - ETA: 12:25 - loss: 0.3380 - acc: 0.86 - ETA: 12:13 - loss: 0.3381 - acc: 0.86 - ETA: 12:01 - loss: 0.3382 - acc: 0.86 - ETA: 11:49 - loss: 0.3380 - acc: 0.86 - ETA: 11:37 - loss: 0.3381 - acc: 0.86 - ETA: 11:25 - loss: 0.3379 - acc: 0.86 - ETA: 11:13 - loss: 0.3379 - acc: 0.86 - ETA: 11:01 - loss: 0.3379 - acc: 0.86 - ETA: 10:49 - loss: 0.3379 - acc: 0.86 - ETA: 10:37 - loss: 0.3378 - acc: 0.86 - ETA: 10:25 - loss: 0.3378 - acc: 0.86 - ETA: 10:13 - loss: 0.3379 - acc: 0.86 - ETA: 10:01 - loss: 0.3378 - acc: 0.86 - ETA: 9:49 - loss: 0.3379 - acc: 0.8691 - ETA: 9:37 - loss: 0.3378 - acc: 0.869 - ETA: 9:25 - loss: 0.3378 - acc: 0.869 - ETA: 9:13 - loss: 0.3377 - acc: 0.869 - ETA: 9:01 - loss: 0.3378 - acc: 0.869 - ETA: 8:49 - loss: 0.3379 - acc: 0.869 - ETA: 8:37 - loss: 0.3379 - acc: 0.869 - ETA: 8:25 - loss: 0.3379 - acc: 0.869 - ETA: 8:13 - loss: 0.3379 - acc: 0.869 - ETA: 8:01 - loss: 0.3380 - acc: 0.869 - ETA: 7:49 - loss: 0.3380 - acc: 0.869 - ETA: 7:37 - loss: 0.3380 - acc: 0.869 - ETA: 7:25 - loss: 0.3379 - acc: 0.869 - ETA: 7:13 - loss: 0.3379 - acc: 0.869 - ETA: 7:01 - loss: 0.3378 - acc: 0.869 - ETA: 6:49 - loss: 0.3378 - acc: 0.869 - ETA: 6:37 - loss: 0.3378 - acc: 0.869 - ETA: 6:25 - loss: 0.3377 - acc: 0.869 - ETA: 6:13 - loss: 0.3378 - acc: 0.869 - ETA: 6:01 - loss: 0.3378 - acc: 0.869 - ETA: 5:49 - loss: 0.3378 - acc: 0.869 - ETA: 5:37 - loss: 0.3378 - acc: 0.869 - ETA: 5:25 - loss: 0.3379 - acc: 0.869 - ETA: 5:13 - loss: 0.3379 - acc: 0.869 - ETA: 5:01 - loss: 0.3379 - acc: 0.869 - ETA: 4:49 - loss: 0.3379 - acc: 0.869 - ETA: 4:37 - loss: 0.3380 - acc: 0.869 - ETA: 4:25 - loss: 0.3380 - acc: 0.869 - ETA: 4:13 - loss: 0.3380 - acc: 0.869 - ETA: 4:01 - loss: 0.3380 - acc: 0.869 - ETA: 3:49 - loss: 0.3380 - acc: 0.869 - ETA: 3:37 - loss: 0.3379 - acc: 0.869 - ETA: 3:25 - loss: 0.3378 - acc: 0.869 - ETA: 3:14 - loss: 0.3379 - acc: 0.869 - ETA: 3:02 - loss: 0.3379 - acc: 0.869 - ETA: 2:50 - loss: 0.3379 - acc: 0.869 - ETA: 2:38 - loss: 0.3378 - acc: 0.869 - ETA: 2:26 - loss: 0.3378 - acc: 0.869 - ETA: 2:14 - loss: 0.3379 - acc: 0.869 - ETA: 2:02 - loss: 0.3379 - acc: 0.869 - ETA: 1:50 - loss: 0.3380 - acc: 0.869 - ETA: 1:38 - loss: 0.3381 - acc: 0.869 - ETA: 1:26 - loss: 0.3380 - acc: 0.869 - ETA: 1:14 - loss: 0.3381 - acc: 0.869 - ETA: 1:02 - loss: 0.3381 - acc: 0.869 - ETA: 50s - loss: 0.3381 - acc: 0.869 - ETA: 38s - loss: 0.3381 - acc: 0.86 - ETA: 26s - loss: 0.3381 - acc: 0.86 - ETA: 14s - loss: 0.3383 - acc: 0.86 - ETA: 3s - loss: 0.3382 - acc: 0.8691 - 4507s 13ms/step - loss: 0.3382 - acc: 0.8691 - val_loss: 0.3509 - val_acc: 0.8678\n"
     ]
    },
    {
     "data": {
      "text/plain": [
       "<keras.callbacks.History at 0x274110847f0>"
      ]
     },
     "execution_count": 24,
     "metadata": {},
     "output_type": "execute_result"
    }
   ],
   "source": [
    "model.fit(X_train, y_train, validation_split=0.25, batch_size = 1000, epochs=1)"
   ]
  },
  {
   "cell_type": "code",
   "execution_count": 25,
   "metadata": {},
   "outputs": [
    {
     "name": "stdout",
     "output_type": "stream",
     "text": [
      " 21728/152115 [===>..........................] - ETA: 24:4 - ETA: 22:5 - ETA: 23:3 - ETA: 23:4 - ETA: 23:4 - ETA: 23:4 - ETA: 23:2 - ETA: 23:1 - ETA: 23:1 - ETA: 23:2 - ETA: 23:3 - ETA: 23:3 - ETA: 23:2 - ETA: 23:3 - ETA: 23:3 - ETA: 23:3 - ETA: 23:3 - ETA: 23:3 - ETA: 23:3 - ETA: 23:2 - ETA: 23:2 - ETA: 23:2 - ETA: 23:3 - ETA: 23:3 - ETA: 23:3 - ETA: 23:3 - ETA: 23:3 - ETA: 23:4 - ETA: 23:4 - ETA: 23:4 - ETA: 23:3 - ETA: 23:4 - ETA: 23:3 - ETA: 23:4 - ETA: 23:3 - ETA: 23:3 - ETA: 23:3 - ETA: 23:3 - ETA: 23:3 - ETA: 23:3 - ETA: 23:3 - ETA: 23:3 - ETA: 23:3 - ETA: 23:3 - ETA: 23:3 - ETA: 23:3 - ETA: 23:3 - ETA: 23:3 - ETA: 23:3 - ETA: 23:3 - ETA: 23:3 - ETA: 23:3 - ETA: 23:3 - ETA: 23:3 - ETA: 23:3 - ETA: 23:3 - ETA: 23:3 - ETA: 23:3 - ETA: 23:3 - ETA: 23:3 - ETA: 23:3 - ETA: 23:3 - ETA: 23:2 - ETA: 23:2 - ETA: 23:2 - ETA: 23:2 - ETA: 23:2 - ETA: 23:2 - ETA: 23:2 - ETA: 23:2 - ETA: 23:2 - ETA: 23:2 - ETA: 23:2 - ETA: 23:2 - ETA: 23:2 - ETA: 23:2 - ETA: 23:2 - ETA: 23:2 - ETA: 23:2 - ETA: 23:2 - ETA: 23:2 - ETA: 23:1 - ETA: 23:2 - ETA: 23:2 - ETA: 23:2 - ETA: 23:2 - ETA: 23:2 - ETA: 23:2 - ETA: 23:2 - ETA: 23:2 - ETA: 23:2 - ETA: 23:2 - ETA: 23:1 - ETA: 23:2 - ETA: 23:1 - ETA: 23:1 - ETA: 23:1 - ETA: 23:1 - ETA: 23:1 - ETA: 23:1 - ETA: 23:1 - ETA: 23:1 - ETA: 23:1 - ETA: 23:1 - ETA: 23:1 - ETA: 23:1 - ETA: 23:1 - ETA: 23:1 - ETA: 23:1 - ETA: 23:1 - ETA: 23:1 - ETA: 23:1 - ETA: 23:1 - ETA: 23:1 - ETA: 23:1 - ETA: 23:1 - ETA: 23:1 - ETA: 23:1 - ETA: 23:0 - ETA: 23:0 - ETA: 23:0 - ETA: 23:0 - ETA: 23:0 - ETA: 23:0 - ETA: 23:0 - ETA: 23:0 - ETA: 23:0 - ETA: 23:0 - ETA: 23:0 - ETA: 23:0 - ETA: 23:0 - ETA: 23:0 - ETA: 23:0 - ETA: 23:0 - ETA: 23:0 - ETA: 23:0 - ETA: 23:0 - ETA: 23:0 - ETA: 23:0 - ETA: 23:0 - ETA: 23:0 - ETA: 23:0 - ETA: 23:0 - ETA: 23:0 - ETA: 23:0 - ETA: 23:0 - ETA: 23:0 - ETA: 23:0 - ETA: 23:0 - ETA: 23:0 - ETA: 23:0 - ETA: 23:0 - ETA: 23:0 - ETA: 22:5 - ETA: 23:0 - ETA: 22:5 - ETA: 22:5 - ETA: 22:5 - ETA: 22:5 - ETA: 22:5 - ETA: 22:5 - ETA: 22:5 - ETA: 22:5 - ETA: 22:5 - ETA: 22:5 - ETA: 22:5 - ETA: 22:5 - ETA: 22:5 - ETA: 22:5 - ETA: 22:5 - ETA: 22:5 - ETA: 22:5 - ETA: 22:5 - ETA: 22:5 - ETA: 22:5 - ETA: 22:5 - ETA: 22:5 - ETA: 22:5 - ETA: 22:5 - ETA: 22:5 - ETA: 22:5 - ETA: 22:5 - ETA: 22:5 - ETA: 22:5 - ETA: 22:5 - ETA: 22:5 - ETA: 22:5 - ETA: 22:5 - ETA: 22:5 - ETA: 22:5 - ETA: 22:5 - ETA: 22:5 - ETA: 22:5 - ETA: 22:5 - ETA: 22:5 - ETA: 22:4 - ETA: 22:4 - ETA: 22:4 - ETA: 22:4 - ETA: 22:4 - ETA: 22:4 - ETA: 22:4 - ETA: 22:4 - ETA: 22:4 - ETA: 22:4 - ETA: 22:4 - ETA: 22:4 - ETA: 22:4 - ETA: 22:4 - ETA: 22:4 - ETA: 22:4 - ETA: 22:4 - ETA: 22:4 - ETA: 22:4 - ETA: 22:4 - ETA: 22:4 - ETA: 22:4 - ETA: 22:4 - ETA: 22:4 - ETA: 22:4 - ETA: 22:4 - ETA: 22:4 - ETA: 22:4 - ETA: 22:4 - ETA: 22:4 - ETA: 22:4 - ETA: 22:4 - ETA: 22:4 - ETA: 22:4 - ETA: 22:4 - ETA: 22:4 - ETA: 22:3 - ETA: 22:4 - ETA: 22:4 - ETA: 22:3 - ETA: 22:3 - ETA: 22:3 - ETA: 22:3 - ETA: 22:3 - ETA: 22:3 - ETA: 22:3 - ETA: 22:3 - ETA: 22:3 - ETA: 22:3 - ETA: 22:3 - ETA: 22:3 - ETA: 22:3 - ETA: 22:3 - ETA: 22:3 - ETA: 22:3 - ETA: 22:3 - ETA: 22:3 - ETA: 22:3 - ETA: 22:3 - ETA: 22:3 - ETA: 22:3 - ETA: 22:3 - ETA: 22:3 - ETA: 22:3 - ETA: 22:3 - ETA: 22:3 - ETA: 22:3 - ETA: 22:2 - ETA: 22:2 - ETA: 22:2 - ETA: 22:2 - ETA: 22:2 - ETA: 22:2 - ETA: 22:2 - ETA: 22:2 - ETA: 22:2 - ETA: 22:2 - ETA: 22:2 - ETA: 22:2 - ETA: 22:2 - ETA: 22:2 - ETA: 22:2 - ETA: 22:2 - ETA: 22:2 - ETA: 22:2 - ETA: 22:2 - ETA: 22:2 - ETA: 22:2 - ETA: 22:2 - ETA: 22:2 - ETA: 22:2 - ETA: 22:2 - ETA: 22:2 - ETA: 22:2 - ETA: 22:2 - ETA: 22:2 - ETA: 22:2 - ETA: 22:1 - ETA: 22:1 - ETA: 22:1 - ETA: 22:1 - ETA: 22:1 - ETA: 22:1 - ETA: 22:1 - ETA: 22:1 - ETA: 22:1 - ETA: 22:1 - ETA: 22:1 - ETA: 22:1 - ETA: 22:1 - ETA: 22:1 - ETA: 22:1 - ETA: 22:1 - ETA: 22:1 - ETA: 22:1 - ETA: 22:1 - ETA: 22:1 - ETA: 22:1 - ETA: 22:1 - ETA: 22:1 - ETA: 22:1 - ETA: 22:1 - ETA: 22:1 - ETA: 22:1 - ETA: 22:1 - ETA: 22:1 - ETA: 22:1 - ETA: 22:1 - ETA: 22:0 - ETA: 22:0 - ETA: 22:0 - ETA: 22:0 - ETA: 22:0 - ETA: 22:0 - ETA: 22:0 - ETA: 22:0 - ETA: 22:0 - ETA: 22:0 - ETA: 22:0 - ETA: 22:0 - ETA: 22:0 - ETA: 22:0 - ETA: 22:0 - ETA: 22:0 - ETA: 22:0 - ETA: 22:0 - ETA: 22:0 - ETA: 22:0 - ETA: 22:0 - ETA: 22:0 - ETA: 22:0 - ETA: 22:0 - ETA: 22:0 - ETA: 22:0 - ETA: 22:0 - ETA: 22:0 - ETA: 22:0 - ETA: 22:0 - ETA: 22:0 - ETA: 22:0 - ETA: 22:0 - ETA: 22:0 - ETA: 22:0 - ETA: 21:5 - ETA: 21:5 - ETA: 21:5 - ETA: 21:5 - ETA: 21:5 - ETA: 21:5 - ETA: 21:5 - ETA: 21:5 - ETA: 21:5 - ETA: 21:5 - ETA: 21:5 - ETA: 21:5 - ETA: 21:5 - ETA: 21:5 - ETA: 21:5 - ETA: 21:5 - ETA: 21:5 - ETA: 21:5 - ETA: 21:5 - ETA: 21:5 - ETA: 21:5 - ETA: 21:5 - ETA: 21:5 - ETA: 21:5 - ETA: 21:5 - ETA: 21:5 - ETA: 21:5 - ETA: 21:5 - ETA: 21:5 - ETA: 21:5 - ETA: 21:5 - ETA: 21:5 - ETA: 21:5 - ETA: 21:5 - ETA: 21:5 - ETA: 21:5 - ETA: 21:5 - ETA: 21:5 - ETA: 21:4 - ETA: 21:4 - ETA: 21:4 - ETA: 21:4 - ETA: 21:4 - ETA: 21:4 - ETA: 21:4 - ETA: 21:4 - ETA: 21:4 - ETA: 21:4 - ETA: 21:4 - ETA: 21:4 - ETA: 21:4 - ETA: 21:4 - ETA: 21:4 - ETA: 21:4 - ETA: 21:4 - ETA: 21:4 - ETA: 21:4 - ETA: 21:4 - ETA: 21:4 - ETA: 21:4 - ETA: 21:4 - ETA: 21:4 - ETA: 21:4 - ETA: 21:4 - ETA: 21:4 - ETA: 21:4 - ETA: 21:4 - ETA: 21:4 - ETA: 21:4 - ETA: 21:4 - ETA: 21:3 - ETA: 21:3 - ETA: 21:3 - ETA: 21:3 - ETA: 21:3 - ETA: 21:3 - ETA: 21:3 - ETA: 21:3 - ETA: 21:3 - ETA: 21:3 - ETA: 21:3 - ETA: 21:3 - ETA: 21:3 - ETA: 21:3 - ETA: 21:3 - ETA: 21:3 - ETA: 21:3 - ETA: 21:3 - ETA: 21:3 - ETA: 21:3 - ETA: 21:3 - ETA: 21:3 - ETA: 21:3 - ETA: 21:3 - ETA: 21:3 - ETA: 21:3 - ETA: 21:3 - ETA: 21:3 - ETA: 21:3 - ETA: 21:3 - ETA: 21:3 - ETA: 21:3 - ETA: 21:3 - ETA: 21:3 - ETA: 21:3 - ETA: 21:3 - ETA: 21:2 - ETA: 21:2 - ETA: 21:2 - ETA: 21:2 - ETA: 21:2 - ETA: 21:2 - ETA: 21:2 - ETA: 21:2 - ETA: 21:2 - ETA: 21:2 - ETA: 21:2 - ETA: 21:2 - ETA: 21:2 - ETA: 21:2 - ETA: 21:2 - ETA: 21:2 - ETA: 21:2 - ETA: 21:2 - ETA: 21:2 - ETA: 21:2 - ETA: 21:2 - ETA: 21:2 - ETA: 21:2 - ETA: 21:2 - ETA: 21:2 - ETA: 21:2 - ETA: 21:2 - ETA: 21:2 - ETA: 21:2 - ETA: 21:2 - ETA: 21:1 - ETA: 21:1 - ETA: 21:1 - ETA: 21:1 - ETA: 21:1 - ETA: 21:1 - ETA: 21:1 - ETA: 21:1 - ETA: 21:1 - ETA: 21:1 - ETA: 21:1 - ETA: 21:1 - ETA: 21:1 - ETA: 21:1 - ETA: 21:1 - ETA: 21:1 - ETA: 21:1 - ETA: 21:1 - ETA: 21:1 - ETA: 21:1 - ETA: 21:1 - ETA: 21:1 - ETA: 21:1 - ETA: 21:1 - ETA: 21:1 - ETA: 21:1 - ETA: 21:1 - ETA: 21:1 - ETA: 21:1 - ETA: 21:1 - ETA: 21:1 - ETA: 21:1 - ETA: 21:1 - ETA: 21:1 - ETA: 21:0 - ETA: 21:0 - ETA: 21:0 - ETA: 21:0 - ETA: 21:0 - ETA: 21:0 - ETA: 21:0 - ETA: 21:0 - ETA: 21:0 - ETA: 21:0 - ETA: 21:0 - ETA: 21:0 - ETA: 21:0 - ETA: 21:0 - ETA: 21:0 - ETA: 21:0 - ETA: 21:0 - ETA: 21:0 - ETA: 21:0 - ETA: 21:0 - ETA: 21:0 - ETA: 21:0 - ETA: 21:0 - ETA: 21:0 - ETA: 21:0 - ETA: 21:0 - ETA: 21:0 - ETA: 21:0 - ETA: 21:0 - ETA: 21:0 - ETA: 21:0 - ETA: 21:0 - ETA: 21:0 - ETA: 21:0 - ETA: 21:0 - ETA: 21:0 - ETA: 21:0 - ETA: 21:0 - ETA: 21:0 - ETA: 21:0 - ETA: 21:0 - ETA: 21:0 - ETA: 21:0 - ETA: 20:5 - ETA: 20:5 - ETA: 20:5 - ETA: 20:5 - ETA: 20:5 - ETA: 20:5 - ETA: 20:5 - ETA: 20:5 - ETA: 20:5 - ETA: 20:5 - ETA: 20:5 - ETA: 20:5 - ETA: 20:5 - ETA: 20:5 - ETA: 20:5 - ETA: 20:5 - ETA: 20:5 - ETA: 20:5 - ETA: 20:5 - ETA: 20:5 - ETA: 20:5 - ETA: 20:5 - ETA: 20:5 - ETA: 20:5 - ETA: 20:5 - ETA: 20:5 - ETA: 20:5 - ETA: 20:5 - ETA: 20:5 - ETA: 20:5 - ETA: 20:5 - ETA: 20:5 - ETA: 20:4 - ETA: 20:4 - ETA: 20:4 - ETA: 20:4 - ETA: 20:4 - ETA: 20:4 - ETA: 20:4 - ETA: 20:4 - ETA: 20:4 - ETA: 20:4 - ETA: 20:4 - ETA: 20:4 - ETA: 20:4 - ETA: 20:4 - ETA: 20:4 - ETA: 20:4 - ETA: 20:4 - ETA: 20:4 - ETA: 20:4 - ETA: 20:4 - ETA: 20:4 - ETA: 20:4 - ETA: 20:4 - ETA: 20:4 - ETA: 20:4 - ETA: 20:4 - ETA: 20:4 - ETA: 20:4 - ETA: 20:4 - ETA: 20:4 - ETA: 20:4 - ETA: 20:4 - ETA: 20:3 - ETA: 20:3 - ETA: 20:3 - ETA: 20:3 - ETA: 20:3 - ETA: 20:3 - ETA: 20:3 - ETA: 20:3 - ETA: 20:3 - ETA: 20:3 - ETA: 20:3 - ETA: 20:3 - ETA: 20:3 - ETA: 20:3 - ETA: 20:3 - ETA: 20:3 - ETA: 20:3 - ETA: 20:3 - ETA: 20:3 - ETA: 20:3 - ETA: 20:3 - ETA: 20:3 - ETA: 20:3 - ETA: 20:3 - ETA: 20:3 - ETA: 20:3 - ETA: 20:3 - ETA: 20:3 - ETA: 20:3 - ETA: 20:3 - ETA: 20:3 - ETA: 20:2 - ETA: 20:2 - ETA: 20:2 - ETA: 20:2 - ETA: 20:2 - ETA: 20:2 - ETA: 20:2 - ETA: 20:2 - ETA: 20:2 - ETA: 20:2 - ETA: 20:2 - ETA: 20:2 - ETA: 20:26"
     ]
    },
    {
     "name": "stdout",
     "output_type": "stream",
     "text": [
      " 43456/152115 [=======>......................] - ETA: 20:2 - ETA: 20:2 - ETA: 20:2 - ETA: 20:2 - ETA: 20:2 - ETA: 20:2 - ETA: 20:2 - ETA: 20:2 - ETA: 20:2 - ETA: 20:2 - ETA: 20:2 - ETA: 20:2 - ETA: 20:2 - ETA: 20:2 - ETA: 20:2 - ETA: 20:2 - ETA: 20:2 - ETA: 20:2 - ETA: 20:2 - ETA: 20:2 - ETA: 20:2 - ETA: 20:1 - ETA: 20:1 - ETA: 20:1 - ETA: 20:1 - ETA: 20:1 - ETA: 20:1 - ETA: 20:1 - ETA: 20:1 - ETA: 20:1 - ETA: 20:1 - ETA: 20:1 - ETA: 20:1 - ETA: 20:1 - ETA: 20:1 - ETA: 20:1 - ETA: 20:1 - ETA: 20:1 - ETA: 20:1 - ETA: 20:1 - ETA: 20:1 - ETA: 20:1 - ETA: 20:1 - ETA: 20:1 - ETA: 20:1 - ETA: 20:1 - ETA: 20:1 - ETA: 20:1 - ETA: 20:1 - ETA: 20:1 - ETA: 20:1 - ETA: 20:1 - ETA: 20:1 - ETA: 20:1 - ETA: 20:0 - ETA: 20:0 - ETA: 20:0 - ETA: 20:0 - ETA: 20:0 - ETA: 20:0 - ETA: 20:0 - ETA: 20:0 - ETA: 20:0 - ETA: 20:0 - ETA: 20:0 - ETA: 20:0 - ETA: 20:0 - ETA: 20:0 - ETA: 20:0 - ETA: 20:0 - ETA: 20:0 - ETA: 20:0 - ETA: 20:0 - ETA: 20:0 - ETA: 20:0 - ETA: 20:0 - ETA: 20:0 - ETA: 20:0 - ETA: 20:0 - ETA: 20:0 - ETA: 20:0 - ETA: 20:0 - ETA: 20:0 - ETA: 20:0 - ETA: 20:0 - ETA: 20:0 - ETA: 20:0 - ETA: 20:0 - ETA: 19:5 - ETA: 19:5 - ETA: 19:5 - ETA: 19:5 - ETA: 19:5 - ETA: 19:5 - ETA: 19:5 - ETA: 19:5 - ETA: 19:5 - ETA: 19:5 - ETA: 19:5 - ETA: 19:5 - ETA: 19:5 - ETA: 19:5 - ETA: 19:5 - ETA: 19:5 - ETA: 19:5 - ETA: 19:5 - ETA: 19:5 - ETA: 19:5 - ETA: 19:5 - ETA: 19:5 - ETA: 19:5 - ETA: 19:5 - ETA: 19:5 - ETA: 19:5 - ETA: 19:5 - ETA: 19:5 - ETA: 19:5 - ETA: 19:5 - ETA: 19:5 - ETA: 19:5 - ETA: 19:5 - ETA: 19:4 - ETA: 19:4 - ETA: 19:4 - ETA: 19:4 - ETA: 19:4 - ETA: 19:4 - ETA: 19:4 - ETA: 19:4 - ETA: 19:4 - ETA: 19:4 - ETA: 19:4 - ETA: 19:4 - ETA: 19:4 - ETA: 19:4 - ETA: 19:4 - ETA: 19:4 - ETA: 19:4 - ETA: 19:4 - ETA: 19:4 - ETA: 19:4 - ETA: 19:4 - ETA: 19:4 - ETA: 19:4 - ETA: 19:4 - ETA: 19:4 - ETA: 19:4 - ETA: 19:4 - ETA: 19:4 - ETA: 19:4 - ETA: 19:4 - ETA: 19:4 - ETA: 19:4 - ETA: 19:4 - ETA: 19:4 - ETA: 19:3 - ETA: 19:3 - ETA: 19:3 - ETA: 19:3 - ETA: 19:3 - ETA: 19:3 - ETA: 19:3 - ETA: 19:3 - ETA: 19:3 - ETA: 19:3 - ETA: 19:3 - ETA: 19:3 - ETA: 19:3 - ETA: 19:3 - ETA: 19:3 - ETA: 19:3 - ETA: 19:3 - ETA: 19:3 - ETA: 19:3 - ETA: 19:3 - ETA: 19:3 - ETA: 19:3 - ETA: 19:3 - ETA: 19:3 - ETA: 19:3 - ETA: 19:3 - ETA: 19:3 - ETA: 19:3 - ETA: 19:3 - ETA: 19:3 - ETA: 19:3 - ETA: 19:3 - ETA: 19:3 - ETA: 19:3 - ETA: 19:2 - ETA: 19:2 - ETA: 19:2 - ETA: 19:2 - ETA: 19:2 - ETA: 19:2 - ETA: 19:2 - ETA: 19:2 - ETA: 19:2 - ETA: 19:2 - ETA: 19:2 - ETA: 19:2 - ETA: 19:2 - ETA: 19:2 - ETA: 19:2 - ETA: 19:2 - ETA: 19:2 - ETA: 19:2 - ETA: 19:2 - ETA: 19:2 - ETA: 19:2 - ETA: 19:2 - ETA: 19:2 - ETA: 19:2 - ETA: 19:2 - ETA: 19:2 - ETA: 19:2 - ETA: 19:2 - ETA: 19:2 - ETA: 19:2 - ETA: 19:2 - ETA: 19:2 - ETA: 19:1 - ETA: 19:1 - ETA: 19:1 - ETA: 19:1 - ETA: 19:1 - ETA: 19:1 - ETA: 19:1 - ETA: 19:1 - ETA: 19:1 - ETA: 19:1 - ETA: 19:1 - ETA: 19:1 - ETA: 19:1 - ETA: 19:1 - ETA: 19:1 - ETA: 19:1 - ETA: 19:1 - ETA: 19:1 - ETA: 19:1 - ETA: 19:1 - ETA: 19:1 - ETA: 19:1 - ETA: 19:1 - ETA: 19:1 - ETA: 19:1 - ETA: 19:1 - ETA: 19:1 - ETA: 19:1 - ETA: 19:1 - ETA: 19:1 - ETA: 19:1 - ETA: 19:1 - ETA: 19:1 - ETA: 19:0 - ETA: 19:0 - ETA: 19:0 - ETA: 19:0 - ETA: 19:0 - ETA: 19:0 - ETA: 19:0 - ETA: 19:0 - ETA: 19:0 - ETA: 19:0 - ETA: 19:0 - ETA: 19:0 - ETA: 19:0 - ETA: 19:0 - ETA: 19:0 - ETA: 19:0 - ETA: 19:0 - ETA: 19:0 - ETA: 19:0 - ETA: 19:0 - ETA: 19:0 - ETA: 19:0 - ETA: 19:0 - ETA: 19:0 - ETA: 19:0 - ETA: 19:0 - ETA: 19:0 - ETA: 19:0 - ETA: 19:0 - ETA: 19:0 - ETA: 19:0 - ETA: 19:0 - ETA: 19:0 - ETA: 18:5 - ETA: 18:5 - ETA: 18:5 - ETA: 18:5 - ETA: 18:5 - ETA: 18:5 - ETA: 18:5 - ETA: 18:5 - ETA: 18:5 - ETA: 18:5 - ETA: 18:5 - ETA: 18:5 - ETA: 18:5 - ETA: 18:5 - ETA: 18:5 - ETA: 18:5 - ETA: 18:5 - ETA: 18:5 - ETA: 18:5 - ETA: 18:5 - ETA: 18:5 - ETA: 18:5 - ETA: 18:5 - ETA: 18:5 - ETA: 18:5 - ETA: 18:5 - ETA: 18:5 - ETA: 18:5 - ETA: 18:5 - ETA: 18:5 - ETA: 18:5 - ETA: 18:5 - ETA: 18:5 - ETA: 18:5 - ETA: 18:4 - ETA: 18:4 - ETA: 18:4 - ETA: 18:4 - ETA: 18:4 - ETA: 18:4 - ETA: 18:4 - ETA: 18:4 - ETA: 18:4 - ETA: 18:4 - ETA: 18:4 - ETA: 18:4 - ETA: 18:4 - ETA: 18:4 - ETA: 18:4 - ETA: 18:4 - ETA: 18:4 - ETA: 18:4 - ETA: 18:4 - ETA: 18:4 - ETA: 18:4 - ETA: 18:4 - ETA: 18:4 - ETA: 18:4 - ETA: 18:4 - ETA: 18:4 - ETA: 18:4 - ETA: 18:4 - ETA: 18:4 - ETA: 18:4 - ETA: 18:4 - ETA: 18:4 - ETA: 18:3 - ETA: 18:3 - ETA: 18:3 - ETA: 18:3 - ETA: 18:3 - ETA: 18:3 - ETA: 18:3 - ETA: 18:3 - ETA: 18:3 - ETA: 18:3 - ETA: 18:3 - ETA: 18:3 - ETA: 18:3 - ETA: 18:3 - ETA: 18:3 - ETA: 18:3 - ETA: 18:3 - ETA: 18:3 - ETA: 18:3 - ETA: 18:3 - ETA: 18:3 - ETA: 18:3 - ETA: 18:3 - ETA: 18:3 - ETA: 18:3 - ETA: 18:3 - ETA: 18:3 - ETA: 18:3 - ETA: 18:3 - ETA: 18:3 - ETA: 18:3 - ETA: 18:3 - ETA: 18:2 - ETA: 18:2 - ETA: 18:2 - ETA: 18:2 - ETA: 18:2 - ETA: 18:2 - ETA: 18:2 - ETA: 18:2 - ETA: 18:2 - ETA: 18:2 - ETA: 18:2 - ETA: 18:2 - ETA: 18:2 - ETA: 18:2 - ETA: 18:2 - ETA: 18:2 - ETA: 18:2 - ETA: 18:2 - ETA: 18:2 - ETA: 18:2 - ETA: 18:2 - ETA: 18:2 - ETA: 18:2 - ETA: 18:2 - ETA: 18:2 - ETA: 18:2 - ETA: 18:2 - ETA: 18:2 - ETA: 18:2 - ETA: 18:2 - ETA: 18:2 - ETA: 18:2 - ETA: 18:2 - ETA: 18:1 - ETA: 18:1 - ETA: 18:1 - ETA: 18:1 - ETA: 18:1 - ETA: 18:1 - ETA: 18:1 - ETA: 18:1 - ETA: 18:1 - ETA: 18:1 - ETA: 18:1 - ETA: 18:1 - ETA: 18:1 - ETA: 18:1 - ETA: 18:1 - ETA: 18:1 - ETA: 18:1 - ETA: 18:1 - ETA: 18:1 - ETA: 18:1 - ETA: 18:1 - ETA: 18:1 - ETA: 18:1 - ETA: 18:1 - ETA: 18:1 - ETA: 18:1 - ETA: 18:1 - ETA: 18:1 - ETA: 18:1 - ETA: 18:1 - ETA: 18:1 - ETA: 18:1 - ETA: 18:1 - ETA: 18:0 - ETA: 18:0 - ETA: 18:0 - ETA: 18:0 - ETA: 18:0 - ETA: 18:0 - ETA: 18:0 - ETA: 18:0 - ETA: 18:0 - ETA: 18:0 - ETA: 18:0 - ETA: 18:0 - ETA: 18:0 - ETA: 18:0 - ETA: 18:0 - ETA: 18:0 - ETA: 18:0 - ETA: 18:0 - ETA: 18:0 - ETA: 18:0 - ETA: 18:0 - ETA: 18:0 - ETA: 18:0 - ETA: 18:0 - ETA: 18:0 - ETA: 18:0 - ETA: 18:0 - ETA: 18:0 - ETA: 18:0 - ETA: 18:0 - ETA: 18:0 - ETA: 18:0 - ETA: 18:0 - ETA: 18:0 - ETA: 17:5 - ETA: 17:5 - ETA: 17:5 - ETA: 17:5 - ETA: 17:5 - ETA: 17:5 - ETA: 17:5 - ETA: 17:5 - ETA: 17:5 - ETA: 17:5 - ETA: 17:5 - ETA: 17:5 - ETA: 17:5 - ETA: 17:5 - ETA: 17:5 - ETA: 17:5 - ETA: 17:5 - ETA: 17:5 - ETA: 17:5 - ETA: 17:5 - ETA: 17:5 - ETA: 17:5 - ETA: 17:5 - ETA: 17:5 - ETA: 17:5 - ETA: 17:5 - ETA: 17:5 - ETA: 17:5 - ETA: 17:5 - ETA: 17:5 - ETA: 17:5 - ETA: 17:5 - ETA: 17:5 - ETA: 17:4 - ETA: 17:4 - ETA: 17:4 - ETA: 17:4 - ETA: 17:4 - ETA: 17:4 - ETA: 17:4 - ETA: 17:4 - ETA: 17:4 - ETA: 17:4 - ETA: 17:4 - ETA: 17:4 - ETA: 17:4 - ETA: 17:4 - ETA: 17:4 - ETA: 17:4 - ETA: 17:4 - ETA: 17:4 - ETA: 17:4 - ETA: 17:4 - ETA: 17:4 - ETA: 17:4 - ETA: 17:4 - ETA: 17:4 - ETA: 17:4 - ETA: 17:4 - ETA: 17:4 - ETA: 17:4 - ETA: 17:4 - ETA: 17:4 - ETA: 17:4 - ETA: 17:4 - ETA: 17:4 - ETA: 17:4 - ETA: 17:4 - ETA: 17:3 - ETA: 17:3 - ETA: 17:3 - ETA: 17:3 - ETA: 17:3 - ETA: 17:3 - ETA: 17:3 - ETA: 17:3 - ETA: 17:3 - ETA: 17:3 - ETA: 17:3 - ETA: 17:3 - ETA: 17:3 - ETA: 17:3 - ETA: 17:3 - ETA: 17:3 - ETA: 17:3 - ETA: 17:3 - ETA: 17:3 - ETA: 17:3 - ETA: 17:3 - ETA: 17:3 - ETA: 17:3 - ETA: 17:3 - ETA: 17:3 - ETA: 17:3 - ETA: 17:3 - ETA: 17:3 - ETA: 17:3 - ETA: 17:3 - ETA: 17:3 - ETA: 17:3 - ETA: 17:3 - ETA: 17:2 - ETA: 17:2 - ETA: 17:2 - ETA: 17:2 - ETA: 17:2 - ETA: 17:2 - ETA: 17:2 - ETA: 17:2 - ETA: 17:2 - ETA: 17:2 - ETA: 17:2 - ETA: 17:2 - ETA: 17:2 - ETA: 17:2 - ETA: 17:2 - ETA: 17:2 - ETA: 17:2 - ETA: 17:2 - ETA: 17:2 - ETA: 17:2 - ETA: 17:2 - ETA: 17:2 - ETA: 17:2 - ETA: 17:2 - ETA: 17:2 - ETA: 17:2 - ETA: 17:2 - ETA: 17:2 - ETA: 17:2 - ETA: 17:2 - ETA: 17:2 - ETA: 17:2 - ETA: 17:1 - ETA: 17:1 - ETA: 17:1 - ETA: 17:1 - ETA: 17:1 - ETA: 17:1 - ETA: 17:1 - ETA: 17:1 - ETA: 17:1 - ETA: 17:1 - ETA: 17:1 - ETA: 17:1 - ETA: 17:1 - ETA: 17:1 - ETA: 17:1 - ETA: 17:1 - ETA: 17:1 - ETA: 17:1 - ETA: 17:1 - ETA: 17:1 - ETA: 17:1 - ETA: 17:1 - ETA: 17:1 - ETA: 17:1 - ETA: 17:1 - ETA: 17:1 - ETA: 17:1 - ETA: 17:1 - ETA: 17:1 - ETA: 17:1 - ETA: 17:1 - ETA: 17:1 - ETA: 17:1 - ETA: 17:1 - ETA: 17:1 - ETA: 17:0 - ETA: 17:0 - ETA: 17:0 - ETA: 17:0 - ETA: 17:0 - ETA: 17:0 - ETA: 17:0 - ETA: 17:0 - ETA: 17:0 - ETA: 17:0 - ETA: 17:0 - ETA: 17:0 - ETA: 17:0 - ETA: 17:0 - ETA: 17:0 - ETA: 17:0 - ETA: 17:0 - ETA: 17:0 - ETA: 17:0 - ETA: 17:0 - ETA: 17:0 - ETA: 17:0 - ETA: 17:0 - ETA: 17:0 - ETA: 17:0 - ETA: 17:02"
     ]
    },
    {
     "name": "stdout",
     "output_type": "stream",
     "text": [
      " 65184/152115 [===========>..................] - ETA: 17:0 - ETA: 17:0 - ETA: 17:0 - ETA: 17:0 - ETA: 17:0 - ETA: 17:0 - ETA: 17:0 - ETA: 16:5 - ETA: 16:5 - ETA: 16:5 - ETA: 16:5 - ETA: 16:5 - ETA: 16:5 - ETA: 16:5 - ETA: 16:5 - ETA: 16:5 - ETA: 16:5 - ETA: 16:5 - ETA: 16:5 - ETA: 16:5 - ETA: 16:5 - ETA: 16:5 - ETA: 16:5 - ETA: 16:5 - ETA: 16:5 - ETA: 16:5 - ETA: 16:5 - ETA: 16:5 - ETA: 16:5 - ETA: 16:5 - ETA: 16:5 - ETA: 16:5 - ETA: 16:5 - ETA: 16:5 - ETA: 16:5 - ETA: 16:5 - ETA: 16:5 - ETA: 16:5 - ETA: 16:5 - ETA: 16:5 - ETA: 16:5 - ETA: 16:5 - ETA: 16:4 - ETA: 16:4 - ETA: 16:4 - ETA: 16:4 - ETA: 16:4 - ETA: 16:4 - ETA: 16:4 - ETA: 16:4 - ETA: 16:4 - ETA: 16:4 - ETA: 16:4 - ETA: 16:4 - ETA: 16:4 - ETA: 16:4 - ETA: 16:4 - ETA: 16:4 - ETA: 16:4 - ETA: 16:4 - ETA: 16:4 - ETA: 16:4 - ETA: 16:4 - ETA: 16:4 - ETA: 16:4 - ETA: 16:4 - ETA: 16:4 - ETA: 16:4 - ETA: 16:4 - ETA: 16:4 - ETA: 16:4 - ETA: 16:4 - ETA: 16:4 - ETA: 16:4 - ETA: 16:4 - ETA: 16:4 - ETA: 16:3 - ETA: 16:3 - ETA: 16:3 - ETA: 16:3 - ETA: 16:3 - ETA: 16:3 - ETA: 16:3 - ETA: 16:3 - ETA: 16:3 - ETA: 16:3 - ETA: 16:3 - ETA: 16:3 - ETA: 16:3 - ETA: 16:3 - ETA: 16:3 - ETA: 16:3 - ETA: 16:3 - ETA: 16:3 - ETA: 16:3 - ETA: 16:3 - ETA: 16:3 - ETA: 16:3 - ETA: 16:3 - ETA: 16:3 - ETA: 16:3 - ETA: 16:3 - ETA: 16:3 - ETA: 16:3 - ETA: 16:3 - ETA: 16:3 - ETA: 16:3 - ETA: 16:3 - ETA: 16:3 - ETA: 16:3 - ETA: 16:3 - ETA: 16:3 - ETA: 16:2 - ETA: 16:2 - ETA: 16:2 - ETA: 16:2 - ETA: 16:2 - ETA: 16:2 - ETA: 16:2 - ETA: 16:2 - ETA: 16:2 - ETA: 16:2 - ETA: 16:2 - ETA: 16:2 - ETA: 16:2 - ETA: 16:2 - ETA: 16:2 - ETA: 16:2 - ETA: 16:2 - ETA: 16:2 - ETA: 16:2 - ETA: 16:2 - ETA: 16:2 - ETA: 16:2 - ETA: 16:2 - ETA: 16:2 - ETA: 16:2 - ETA: 16:2 - ETA: 16:2 - ETA: 16:2 - ETA: 16:2 - ETA: 16:2 - ETA: 16:2 - ETA: 16:2 - ETA: 16:2 - ETA: 16:2 - ETA: 16:1 - ETA: 16:1 - ETA: 16:1 - ETA: 16:1 - ETA: 16:1 - ETA: 16:1 - ETA: 16:1 - ETA: 16:1 - ETA: 16:1 - ETA: 16:1 - ETA: 16:1 - ETA: 16:1 - ETA: 16:1 - ETA: 16:1 - ETA: 16:1 - ETA: 16:1 - ETA: 16:1 - ETA: 16:1 - ETA: 16:1 - ETA: 16:1 - ETA: 16:1 - ETA: 16:1 - ETA: 16:1 - ETA: 16:1 - ETA: 16:1 - ETA: 16:1 - ETA: 16:1 - ETA: 16:1 - ETA: 16:1 - ETA: 16:1 - ETA: 16:1 - ETA: 16:1 - ETA: 16:1 - ETA: 16:1 - ETA: 16:0 - ETA: 16:0 - ETA: 16:0 - ETA: 16:0 - ETA: 16:0 - ETA: 16:0 - ETA: 16:0 - ETA: 16:0 - ETA: 16:0 - ETA: 16:0 - ETA: 16:0 - ETA: 16:0 - ETA: 16:0 - ETA: 16:0 - ETA: 16:0 - ETA: 16:0 - ETA: 16:0 - ETA: 16:0 - ETA: 16:0 - ETA: 16:0 - ETA: 16:0 - ETA: 16:0 - ETA: 16:0 - ETA: 16:0 - ETA: 16:0 - ETA: 16:0 - ETA: 16:0 - ETA: 16:0 - ETA: 16:0 - ETA: 16:0 - ETA: 16:0 - ETA: 16:0 - ETA: 16:0 - ETA: 16:0 - ETA: 15:5 - ETA: 15:5 - ETA: 15:5 - ETA: 15:5 - ETA: 15:5 - ETA: 15:5 - ETA: 15:5 - ETA: 15:5 - ETA: 15:5 - ETA: 15:5 - ETA: 15:5 - ETA: 15:5 - ETA: 15:5 - ETA: 15:5 - ETA: 15:5 - ETA: 15:5 - ETA: 15:5 - ETA: 15:5 - ETA: 15:5 - ETA: 15:5 - ETA: 15:5 - ETA: 15:5 - ETA: 15:5 - ETA: 15:5 - ETA: 15:5 - ETA: 15:5 - ETA: 15:5 - ETA: 15:5 - ETA: 15:5 - ETA: 15:5 - ETA: 15:5 - ETA: 15:5 - ETA: 15:5 - ETA: 15:5 - ETA: 15:4 - ETA: 15:4 - ETA: 15:4 - ETA: 15:4 - ETA: 15:4 - ETA: 15:4 - ETA: 15:4 - ETA: 15:4 - ETA: 15:4 - ETA: 15:4 - ETA: 15:4 - ETA: 15:4 - ETA: 15:4 - ETA: 15:4 - ETA: 15:4 - ETA: 15:4 - ETA: 15:4 - ETA: 15:4 - ETA: 15:4 - ETA: 15:4 - ETA: 15:4 - ETA: 15:4 - ETA: 15:4 - ETA: 15:4 - ETA: 15:4 - ETA: 15:4 - ETA: 15:4 - ETA: 15:4 - ETA: 15:4 - ETA: 15:4 - ETA: 15:4 - ETA: 15:4 - ETA: 15:4 - ETA: 15:4 - ETA: 15:3 - ETA: 15:3 - ETA: 15:3 - ETA: 15:3 - ETA: 15:3 - ETA: 15:3 - ETA: 15:3 - ETA: 15:3 - ETA: 15:3 - ETA: 15:3 - ETA: 15:3 - ETA: 15:3 - ETA: 15:3 - ETA: 15:3 - ETA: 15:3 - ETA: 15:3 - ETA: 15:3 - ETA: 15:3 - ETA: 15:3 - ETA: 15:3 - ETA: 15:3 - ETA: 15:3 - ETA: 15:3 - ETA: 15:3 - ETA: 15:3 - ETA: 15:3 - ETA: 15:3 - ETA: 15:3 - ETA: 15:3 - ETA: 15:3 - ETA: 15:3 - ETA: 15:3 - ETA: 15:3 - ETA: 15:3 - ETA: 15:2 - ETA: 15:2 - ETA: 15:2 - ETA: 15:2 - ETA: 15:2 - ETA: 15:2 - ETA: 15:2 - ETA: 15:2 - ETA: 15:2 - ETA: 15:2 - ETA: 15:2 - ETA: 15:2 - ETA: 15:2 - ETA: 15:2 - ETA: 15:2 - ETA: 15:2 - ETA: 15:2 - ETA: 15:2 - ETA: 15:2 - ETA: 15:2 - ETA: 15:2 - ETA: 15:2 - ETA: 15:2 - ETA: 15:2 - ETA: 15:2 - ETA: 15:2 - ETA: 15:2 - ETA: 15:2 - ETA: 15:2 - ETA: 15:2 - ETA: 15:2 - ETA: 15:2 - ETA: 15:2 - ETA: 15:1 - ETA: 15:1 - ETA: 15:1 - ETA: 15:1 - ETA: 15:1 - ETA: 15:1 - ETA: 15:1 - ETA: 15:1 - ETA: 15:1 - ETA: 15:1 - ETA: 15:1 - ETA: 15:1 - ETA: 15:1 - ETA: 15:1 - ETA: 15:1 - ETA: 15:1 - ETA: 15:1 - ETA: 15:1 - ETA: 15:1 - ETA: 15:1 - ETA: 15:1 - ETA: 15:1 - ETA: 15:1 - ETA: 15:1 - ETA: 15:1 - ETA: 15:1 - ETA: 15:1 - ETA: 15:1 - ETA: 15:1 - ETA: 15:1 - ETA: 15:1 - ETA: 15:1 - ETA: 15:1 - ETA: 15:0 - ETA: 15:0 - ETA: 15:0 - ETA: 15:0 - ETA: 15:0 - ETA: 15:0 - ETA: 15:0 - ETA: 15:0 - ETA: 15:0 - ETA: 15:0 - ETA: 15:0 - ETA: 15:0 - ETA: 15:0 - ETA: 15:0 - ETA: 15:0 - ETA: 15:0 - ETA: 15:0 - ETA: 15:0 - ETA: 15:0 - ETA: 15:0 - ETA: 15:0 - ETA: 15:0 - ETA: 15:0 - ETA: 15:0 - ETA: 15:0 - ETA: 15:0 - ETA: 15:0 - ETA: 15:0 - ETA: 15:0 - ETA: 15:0 - ETA: 15:0 - ETA: 15:0 - ETA: 15:0 - ETA: 14:5 - ETA: 14:5 - ETA: 14:5 - ETA: 14:5 - ETA: 14:5 - ETA: 14:5 - ETA: 14:5 - ETA: 14:5 - ETA: 14:5 - ETA: 14:5 - ETA: 14:5 - ETA: 14:5 - ETA: 14:5 - ETA: 14:5 - ETA: 14:5 - ETA: 14:5 - ETA: 14:5 - ETA: 14:5 - ETA: 14:5 - ETA: 14:5 - ETA: 14:5 - ETA: 14:5 - ETA: 14:5 - ETA: 14:5 - ETA: 14:5 - ETA: 14:5 - ETA: 14:5 - ETA: 14:5 - ETA: 14:5 - ETA: 14:5 - ETA: 14:5 - ETA: 14:5 - ETA: 14:5 - ETA: 14:4 - ETA: 14:4 - ETA: 14:4 - ETA: 14:4 - ETA: 14:4 - ETA: 14:4 - ETA: 14:4 - ETA: 14:4 - ETA: 14:4 - ETA: 14:4 - ETA: 14:4 - ETA: 14:4 - ETA: 14:4 - ETA: 14:4 - ETA: 14:4 - ETA: 14:4 - ETA: 14:4 - ETA: 14:4 - ETA: 14:4 - ETA: 14:4 - ETA: 14:4 - ETA: 14:4 - ETA: 14:4 - ETA: 14:4 - ETA: 14:4 - ETA: 14:4 - ETA: 14:4 - ETA: 14:4 - ETA: 14:4 - ETA: 14:4 - ETA: 14:4 - ETA: 14:4 - ETA: 14:4 - ETA: 14:3 - ETA: 14:3 - ETA: 14:3 - ETA: 14:3 - ETA: 14:3 - ETA: 14:3 - ETA: 14:3 - ETA: 14:3 - ETA: 14:3 - ETA: 14:3 - ETA: 14:3 - ETA: 14:3 - ETA: 14:3 - ETA: 14:3 - ETA: 14:3 - ETA: 14:3 - ETA: 14:3 - ETA: 14:3 - ETA: 14:3 - ETA: 14:3 - ETA: 14:3 - ETA: 14:3 - ETA: 14:3 - ETA: 14:3 - ETA: 14:3 - ETA: 14:3 - ETA: 14:3 - ETA: 14:3 - ETA: 14:3 - ETA: 14:3 - ETA: 14:3 - ETA: 14:3 - ETA: 14:3 - ETA: 14:3 - ETA: 14:2 - ETA: 14:2 - ETA: 14:2 - ETA: 14:2 - ETA: 14:2 - ETA: 14:2 - ETA: 14:2 - ETA: 14:2 - ETA: 14:2 - ETA: 14:2 - ETA: 14:2 - ETA: 14:2 - ETA: 14:2 - ETA: 14:2 - ETA: 14:2 - ETA: 14:2 - ETA: 14:2 - ETA: 14:2 - ETA: 14:2 - ETA: 14:2 - ETA: 14:2 - ETA: 14:2 - ETA: 14:2 - ETA: 14:2 - ETA: 14:2 - ETA: 14:2 - ETA: 14:2 - ETA: 14:2 - ETA: 14:2 - ETA: 14:2 - ETA: 14:2 - ETA: 14:2 - ETA: 14:2 - ETA: 14:1 - ETA: 14:1 - ETA: 14:1 - ETA: 14:1 - ETA: 14:1 - ETA: 14:1 - ETA: 14:1 - ETA: 14:1 - ETA: 14:1 - ETA: 14:1 - ETA: 14:1 - ETA: 14:1 - ETA: 14:1 - ETA: 14:1 - ETA: 14:1 - ETA: 14:1 - ETA: 14:1 - ETA: 14:1 - ETA: 14:1 - ETA: 14:1 - ETA: 14:1 - ETA: 14:1 - ETA: 14:1 - ETA: 14:1 - ETA: 14:1 - ETA: 14:1 - ETA: 14:1 - ETA: 14:1 - ETA: 14:1 - ETA: 14:1 - ETA: 14:1 - ETA: 14:1 - ETA: 14:1 - ETA: 14:0 - ETA: 14:0 - ETA: 14:0 - ETA: 14:0 - ETA: 14:0 - ETA: 14:0 - ETA: 14:0 - ETA: 14:0 - ETA: 14:0 - ETA: 14:0 - ETA: 14:0 - ETA: 14:0 - ETA: 14:0 - ETA: 14:0 - ETA: 14:0 - ETA: 14:0 - ETA: 14:0 - ETA: 14:0 - ETA: 14:0 - ETA: 14:0 - ETA: 14:0 - ETA: 14:0 - ETA: 14:0 - ETA: 14:0 - ETA: 14:0 - ETA: 14:0 - ETA: 14:0 - ETA: 14:0 - ETA: 14:0 - ETA: 14:0 - ETA: 14:0 - ETA: 14:0 - ETA: 14:0 - ETA: 14:0 - ETA: 13:5 - ETA: 13:5 - ETA: 13:5 - ETA: 13:5 - ETA: 13:5 - ETA: 13:5 - ETA: 13:5 - ETA: 13:5 - ETA: 13:5 - ETA: 13:5 - ETA: 13:5 - ETA: 13:5 - ETA: 13:5 - ETA: 13:5 - ETA: 13:5 - ETA: 13:5 - ETA: 13:5 - ETA: 13:5 - ETA: 13:5 - ETA: 13:5 - ETA: 13:5 - ETA: 13:5 - ETA: 13:5 - ETA: 13:5 - ETA: 13:5 - ETA: 13:5 - ETA: 13:5 - ETA: 13:5 - ETA: 13:5 - ETA: 13:5 - ETA: 13:5 - ETA: 13:5 - ETA: 13:5 - ETA: 13:4 - ETA: 13:4 - ETA: 13:4 - ETA: 13:4 - ETA: 13:4 - ETA: 13:4 - ETA: 13:4 - ETA: 13:4 - ETA: 13:4 - ETA: 13:4 - ETA: 13:4 - ETA: 13:4 - ETA: 13:4 - ETA: 13:4 - ETA: 13:4 - ETA: 13:4 - ETA: 13:4 - ETA: 13:4 - ETA: 13:4 - ETA: 13:4 - ETA: 13:4 - ETA: 13:4 - ETA: 13:4 - ETA: 13:4 - ETA: 13:4 - ETA: 13:4 - ETA: 13:4 - ETA: 13:4 - ETA: 13:4 - ETA: 13:4 - ETA: 13:41"
     ]
    },
    {
     "name": "stdout",
     "output_type": "stream",
     "text": [
      " 86912/152115 [================>.............] - ETA: 13:4 - ETA: 13:4 - ETA: 13:4 - ETA: 13:3 - ETA: 13:3 - ETA: 13:3 - ETA: 13:3 - ETA: 13:3 - ETA: 13:3 - ETA: 13:3 - ETA: 13:3 - ETA: 13:3 - ETA: 13:3 - ETA: 13:3 - ETA: 13:3 - ETA: 13:3 - ETA: 13:3 - ETA: 13:3 - ETA: 13:3 - ETA: 13:3 - ETA: 13:3 - ETA: 13:3 - ETA: 13:3 - ETA: 13:3 - ETA: 13:3 - ETA: 13:3 - ETA: 13:3 - ETA: 13:3 - ETA: 13:3 - ETA: 13:3 - ETA: 13:3 - ETA: 13:3 - ETA: 13:3 - ETA: 13:3 - ETA: 13:3 - ETA: 13:3 - ETA: 13:2 - ETA: 13:2 - ETA: 13:2 - ETA: 13:2 - ETA: 13:2 - ETA: 13:2 - ETA: 13:2 - ETA: 13:2 - ETA: 13:2 - ETA: 13:2 - ETA: 13:2 - ETA: 13:2 - ETA: 13:2 - ETA: 13:2 - ETA: 13:2 - ETA: 13:2 - ETA: 13:2 - ETA: 13:2 - ETA: 13:2 - ETA: 13:2 - ETA: 13:2 - ETA: 13:2 - ETA: 13:2 - ETA: 13:2 - ETA: 13:2 - ETA: 13:2 - ETA: 13:2 - ETA: 13:2 - ETA: 13:2 - ETA: 13:2 - ETA: 13:2 - ETA: 13:2 - ETA: 13:2 - ETA: 13:1 - ETA: 13:1 - ETA: 13:1 - ETA: 13:1 - ETA: 13:1 - ETA: 13:1 - ETA: 13:1 - ETA: 13:1 - ETA: 13:1 - ETA: 13:1 - ETA: 13:1 - ETA: 13:1 - ETA: 13:1 - ETA: 13:1 - ETA: 13:1 - ETA: 13:1 - ETA: 13:1 - ETA: 13:1 - ETA: 13:1 - ETA: 13:1 - ETA: 13:1 - ETA: 13:1 - ETA: 13:1 - ETA: 13:1 - ETA: 13:1 - ETA: 13:1 - ETA: 13:1 - ETA: 13:1 - ETA: 13:1 - ETA: 13:1 - ETA: 13:1 - ETA: 13:1 - ETA: 13:1 - ETA: 13:0 - ETA: 13:0 - ETA: 13:0 - ETA: 13:0 - ETA: 13:0 - ETA: 13:0 - ETA: 13:0 - ETA: 13:0 - ETA: 13:0 - ETA: 13:0 - ETA: 13:0 - ETA: 13:0 - ETA: 13:0 - ETA: 13:0 - ETA: 13:0 - ETA: 13:0 - ETA: 13:0 - ETA: 13:0 - ETA: 13:0 - ETA: 13:0 - ETA: 13:0 - ETA: 13:0 - ETA: 13:0 - ETA: 13:0 - ETA: 13:0 - ETA: 13:0 - ETA: 13:0 - ETA: 13:0 - ETA: 13:0 - ETA: 13:0 - ETA: 13:0 - ETA: 13:0 - ETA: 13:0 - ETA: 13:0 - ETA: 12:5 - ETA: 12:5 - ETA: 12:5 - ETA: 12:5 - ETA: 12:5 - ETA: 12:5 - ETA: 12:5 - ETA: 12:5 - ETA: 12:5 - ETA: 12:5 - ETA: 12:5 - ETA: 12:5 - ETA: 12:5 - ETA: 12:5 - ETA: 12:5 - ETA: 12:5 - ETA: 12:5 - ETA: 12:5 - ETA: 12:5 - ETA: 12:5 - ETA: 12:5 - ETA: 12:5 - ETA: 12:5 - ETA: 12:5 - ETA: 12:5 - ETA: 12:5 - ETA: 12:5 - ETA: 12:5 - ETA: 12:5 - ETA: 12:5 - ETA: 12:5 - ETA: 12:5 - ETA: 12:5 - ETA: 12:4 - ETA: 12:4 - ETA: 12:4 - ETA: 12:4 - ETA: 12:4 - ETA: 12:4 - ETA: 12:4 - ETA: 12:4 - ETA: 12:4 - ETA: 12:4 - ETA: 12:4 - ETA: 12:4 - ETA: 12:4 - ETA: 12:4 - ETA: 12:4 - ETA: 12:4 - ETA: 12:4 - ETA: 12:4 - ETA: 12:4 - ETA: 12:4 - ETA: 12:4 - ETA: 12:4 - ETA: 12:4 - ETA: 12:4 - ETA: 12:4 - ETA: 12:4 - ETA: 12:4 - ETA: 12:4 - ETA: 12:4 - ETA: 12:4 - ETA: 12:4 - ETA: 12:4 - ETA: 12:4 - ETA: 12:3 - ETA: 12:3 - ETA: 12:3 - ETA: 12:3 - ETA: 12:3 - ETA: 12:3 - ETA: 12:3 - ETA: 12:3 - ETA: 12:3 - ETA: 12:3 - ETA: 12:3 - ETA: 12:3 - ETA: 12:3 - ETA: 12:3 - ETA: 12:3 - ETA: 12:3 - ETA: 12:3 - ETA: 12:3 - ETA: 12:3 - ETA: 12:3 - ETA: 12:3 - ETA: 12:3 - ETA: 12:3 - ETA: 12:3 - ETA: 12:3 - ETA: 12:3 - ETA: 12:3 - ETA: 12:3 - ETA: 12:3 - ETA: 12:3 - ETA: 12:3 - ETA: 12:3 - ETA: 12:3 - ETA: 12:3 - ETA: 12:2 - ETA: 12:2 - ETA: 12:2 - ETA: 12:2 - ETA: 12:2 - ETA: 12:2 - ETA: 12:2 - ETA: 12:2 - ETA: 12:2 - ETA: 12:2 - ETA: 12:2 - ETA: 12:2 - ETA: 12:2 - ETA: 12:2 - ETA: 12:2 - ETA: 12:2 - ETA: 12:2 - ETA: 12:2 - ETA: 12:2 - ETA: 12:2 - ETA: 12:2 - ETA: 12:2 - ETA: 12:2 - ETA: 12:2 - ETA: 12:2 - ETA: 12:2 - ETA: 12:2 - ETA: 12:2 - ETA: 12:2 - ETA: 12:2 - ETA: 12:2 - ETA: 12:2 - ETA: 12:2 - ETA: 12:1 - ETA: 12:1 - ETA: 12:1 - ETA: 12:1 - ETA: 12:1 - ETA: 12:1 - ETA: 12:1 - ETA: 12:1 - ETA: 12:1 - ETA: 12:1 - ETA: 12:1 - ETA: 12:1 - ETA: 12:1 - ETA: 12:1 - ETA: 12:1 - ETA: 12:1 - ETA: 12:1 - ETA: 12:1 - ETA: 12:1 - ETA: 12:1 - ETA: 12:1 - ETA: 12:1 - ETA: 12:1 - ETA: 12:1 - ETA: 12:1 - ETA: 12:1 - ETA: 12:1 - ETA: 12:1 - ETA: 12:1 - ETA: 12:1 - ETA: 12:1 - ETA: 12:1 - ETA: 12:1 - ETA: 12:0 - ETA: 12:0 - ETA: 12:0 - ETA: 12:0 - ETA: 12:0 - ETA: 12:0 - ETA: 12:0 - ETA: 12:0 - ETA: 12:0 - ETA: 12:0 - ETA: 12:0 - ETA: 12:0 - ETA: 12:0 - ETA: 12:0 - ETA: 12:0 - ETA: 12:0 - ETA: 12:0 - ETA: 12:0 - ETA: 12:0 - ETA: 12:0 - ETA: 12:0 - ETA: 12:0 - ETA: 12:0 - ETA: 12:0 - ETA: 12:0 - ETA: 12:0 - ETA: 12:0 - ETA: 12:0 - ETA: 12:0 - ETA: 12:0 - ETA: 12:0 - ETA: 12:0 - ETA: 12:0 - ETA: 12:0 - ETA: 11:5 - ETA: 11:5 - ETA: 11:5 - ETA: 11:5 - ETA: 11:5 - ETA: 11:5 - ETA: 11:5 - ETA: 11:5 - ETA: 11:5 - ETA: 11:5 - ETA: 11:5 - ETA: 11:5 - ETA: 11:5 - ETA: 11:5 - ETA: 11:5 - ETA: 11:5 - ETA: 11:5 - ETA: 11:5 - ETA: 11:5 - ETA: 11:5 - ETA: 11:5 - ETA: 11:5 - ETA: 11:5 - ETA: 11:5 - ETA: 11:5 - ETA: 11:5 - ETA: 11:5 - ETA: 11:5 - ETA: 11:5 - ETA: 11:5 - ETA: 11:5 - ETA: 11:5 - ETA: 11:5 - ETA: 11:5 - ETA: 11:4 - ETA: 11:4 - ETA: 11:4 - ETA: 11:4 - ETA: 11:4 - ETA: 11:4 - ETA: 11:4 - ETA: 11:4 - ETA: 11:4 - ETA: 11:4 - ETA: 11:4 - ETA: 11:4 - ETA: 11:4 - ETA: 11:4 - ETA: 11:4 - ETA: 11:4 - ETA: 11:4 - ETA: 11:4 - ETA: 11:4 - ETA: 11:4 - ETA: 11:4 - ETA: 11:4 - ETA: 11:4 - ETA: 11:4 - ETA: 11:4 - ETA: 11:4 - ETA: 11:4 - ETA: 11:4 - ETA: 11:4 - ETA: 11:4 - ETA: 11:4 - ETA: 11:4 - ETA: 11:4 - ETA: 11:3 - ETA: 11:3 - ETA: 11:3 - ETA: 11:3 - ETA: 11:3 - ETA: 11:3 - ETA: 11:3 - ETA: 11:3 - ETA: 11:3 - ETA: 11:3 - ETA: 11:3 - ETA: 11:3 - ETA: 11:3 - ETA: 11:3 - ETA: 11:3 - ETA: 11:3 - ETA: 11:3 - ETA: 11:3 - ETA: 11:3 - ETA: 11:3 - ETA: 11:3 - ETA: 11:3 - ETA: 11:3 - ETA: 11:3 - ETA: 11:3 - ETA: 11:3 - ETA: 11:3 - ETA: 11:3 - ETA: 11:3 - ETA: 11:3 - ETA: 11:3 - ETA: 11:3 - ETA: 11:3 - ETA: 11:2 - ETA: 11:2 - ETA: 11:2 - ETA: 11:2 - ETA: 11:2 - ETA: 11:2 - ETA: 11:2 - ETA: 11:2 - ETA: 11:2 - ETA: 11:2 - ETA: 11:2 - ETA: 11:2 - ETA: 11:2 - ETA: 11:2 - ETA: 11:2 - ETA: 11:2 - ETA: 11:2 - ETA: 11:2 - ETA: 11:2 - ETA: 11:2 - ETA: 11:2 - ETA: 11:2 - ETA: 11:2 - ETA: 11:2 - ETA: 11:2 - ETA: 11:2 - ETA: 11:2 - ETA: 11:2 - ETA: 11:2 - ETA: 11:2 - ETA: 11:2 - ETA: 11:2 - ETA: 11:2 - ETA: 11:1 - ETA: 11:1 - ETA: 11:1 - ETA: 11:1 - ETA: 11:1 - ETA: 11:1 - ETA: 11:1 - ETA: 11:1 - ETA: 11:1 - ETA: 11:1 - ETA: 11:1 - ETA: 11:1 - ETA: 11:1 - ETA: 11:1 - ETA: 11:1 - ETA: 11:1 - ETA: 11:1 - ETA: 11:1 - ETA: 11:1 - ETA: 11:1 - ETA: 11:1 - ETA: 11:1 - ETA: 11:1 - ETA: 11:1 - ETA: 11:1 - ETA: 11:1 - ETA: 11:1 - ETA: 11:1 - ETA: 11:1 - ETA: 11:1 - ETA: 11:1 - ETA: 11:1 - ETA: 11:1 - ETA: 11:0 - ETA: 11:0 - ETA: 11:0 - ETA: 11:0 - ETA: 11:0 - ETA: 11:0 - ETA: 11:0 - ETA: 11:0 - ETA: 11:0 - ETA: 11:0 - ETA: 11:0 - ETA: 11:0 - ETA: 11:0 - ETA: 11:0 - ETA: 11:0 - ETA: 11:0 - ETA: 11:0 - ETA: 11:0 - ETA: 11:0 - ETA: 11:0 - ETA: 11:0 - ETA: 11:0 - ETA: 11:0 - ETA: 11:0 - ETA: 11:0 - ETA: 11:0 - ETA: 11:0 - ETA: 11:0 - ETA: 11:0 - ETA: 11:0 - ETA: 11:0 - ETA: 11:0 - ETA: 11:0 - ETA: 10:5 - ETA: 10:5 - ETA: 10:5 - ETA: 10:5 - ETA: 10:5 - ETA: 10:5 - ETA: 10:5 - ETA: 10:5 - ETA: 10:5 - ETA: 10:5 - ETA: 10:5 - ETA: 10:5 - ETA: 10:5 - ETA: 10:5 - ETA: 10:5 - ETA: 10:5 - ETA: 10:5 - ETA: 10:5 - ETA: 10:5 - ETA: 10:5 - ETA: 10:5 - ETA: 10:5 - ETA: 10:5 - ETA: 10:5 - ETA: 10:5 - ETA: 10:5 - ETA: 10:5 - ETA: 10:5 - ETA: 10:5 - ETA: 10:5 - ETA: 10:5 - ETA: 10:5 - ETA: 10:5 - ETA: 10:5 - ETA: 10:4 - ETA: 10:4 - ETA: 10:4 - ETA: 10:4 - ETA: 10:4 - ETA: 10:4 - ETA: 10:4 - ETA: 10:4 - ETA: 10:4 - ETA: 10:4 - ETA: 10:4 - ETA: 10:4 - ETA: 10:4 - ETA: 10:4 - ETA: 10:4 - ETA: 10:4 - ETA: 10:4 - ETA: 10:4 - ETA: 10:4 - ETA: 10:4 - ETA: 10:4 - ETA: 10:4 - ETA: 10:4 - ETA: 10:4 - ETA: 10:4 - ETA: 10:4 - ETA: 10:4 - ETA: 10:4 - ETA: 10:4 - ETA: 10:4 - ETA: 10:4 - ETA: 10:4 - ETA: 10:4 - ETA: 10:3 - ETA: 10:3 - ETA: 10:3 - ETA: 10:3 - ETA: 10:3 - ETA: 10:3 - ETA: 10:3 - ETA: 10:3 - ETA: 10:3 - ETA: 10:3 - ETA: 10:3 - ETA: 10:3 - ETA: 10:3 - ETA: 10:3 - ETA: 10:3 - ETA: 10:3 - ETA: 10:3 - ETA: 10:3 - ETA: 10:3 - ETA: 10:3 - ETA: 10:3 - ETA: 10:3 - ETA: 10:3 - ETA: 10:3 - ETA: 10:3 - ETA: 10:3 - ETA: 10:3 - ETA: 10:3 - ETA: 10:3 - ETA: 10:3 - ETA: 10:3 - ETA: 10:3 - ETA: 10:3 - ETA: 10:2 - ETA: 10:2 - ETA: 10:2 - ETA: 10:2 - ETA: 10:2 - ETA: 10:2 - ETA: 10:2 - ETA: 10:2 - ETA: 10:2 - ETA: 10:2 - ETA: 10:2 - ETA: 10:2 - ETA: 10:2 - ETA: 10:2 - ETA: 10:2 - ETA: 10:2 - ETA: 10:2 - ETA: 10:2 - ETA: 10:2 - ETA: 10:2 - ETA: 10:2 - ETA: 10:2 - ETA: 10:2 - ETA: 10:2 - ETA: 10:2 - ETA: 10:2 - ETA: 10:2 - ETA: 10:2 - ETA: 10:2 - ETA: 10:2 - ETA: 10:2 - ETA: 10:2 - ETA: 10:2 - ETA: 10:1 - ETA: 10:1 - ETA: 10:1 - ETA: 10:1 - ETA: 10:1 - ETA: 10:1 - ETA: 10:1 - ETA: 10:1 - ETA: 10:1 - ETA: 10:1 - ETA: 10:16"
     ]
    },
    {
     "name": "stdout",
     "output_type": "stream",
     "text": [
      "112640/152115 [=====================>........] - ETA: 10:1 - ETA: 10:1 - ETA: 10:1 - ETA: 10:1 - ETA: 10:1 - ETA: 10:1 - ETA: 10:1 - ETA: 10:1 - ETA: 10:1 - ETA: 10:1 - ETA: 10:1 - ETA: 10:1 - ETA: 10:1 - ETA: 10:1 - ETA: 10:1 - ETA: 10:1 - ETA: 10:1 - ETA: 10:1 - ETA: 10:1 - ETA: 10:1 - ETA: 10:1 - ETA: 10:1 - ETA: 10:0 - ETA: 10:0 - ETA: 10:0 - ETA: 10:0 - ETA: 10:0 - ETA: 10:0 - ETA: 10:0 - ETA: 10:0 - ETA: 10:0 - ETA: 10:0 - ETA: 10:0 - ETA: 10:0 - ETA: 10:0 - ETA: 10:0 - ETA: 10:0 - ETA: 10:0 - ETA: 10:0 - ETA: 10:0 - ETA: 10:0 - ETA: 10:0 - ETA: 10:0 - ETA: 10:0 - ETA: 10:0 - ETA: 10:0 - ETA: 10:0 - ETA: 10:0 - ETA: 10:0 - ETA: 10:0 - ETA: 10:0 - ETA: 10:0 - ETA: 10:0 - ETA: 10:0 - ETA: 10:0 - ETA: 10:0 - ETA: 9:5 - ETA: 9: - ETA: 9: - ETA: 9: - ETA: 9: - ETA: 9: - ETA: 9: - ETA: 9: - ETA: 9: - ETA: 9: - ETA: 9: - ETA: 9: - ETA: 9: - ETA: 9: - ETA: 9: - ETA: 9: - ETA: 9: - ETA: 9: - ETA: 9: - ETA: 9: - ETA: 9: - ETA: 9: - ETA: 9: - ETA: 9: - ETA: 9: - ETA: 9: - ETA: 9: - ETA: 9: - ETA: 9: - ETA: 9: - ETA: 9: - ETA: 9: - ETA: 9: - ETA: 9: - ETA: 9: - ETA: 9: - ETA: 9: - ETA: 9: - ETA: 9: - ETA: 9: - ETA: 9: - ETA: 9: - ETA: 9: - ETA: 9: - ETA: 9: - ETA: 9: - ETA: 9: - ETA: 9: - ETA: 9: - ETA: 9: - ETA: 9: - ETA: 9: - ETA: 9: - ETA: 9: - ETA: 9: - ETA: 9: - ETA: 9: - ETA: 9: - ETA: 9: - ETA: 9: - ETA: 9: - ETA: 9: - ETA: 9: - ETA: 9: - ETA: 9: - ETA: 9: - ETA: 9: - ETA: 9: - ETA: 9: - ETA: 9: - ETA: 9: - ETA: 9: - ETA: 9: - ETA: 9: - ETA: 9: - ETA: 9: - ETA: 9: - ETA: 9: - ETA: 9: - ETA: 9: - ETA: 9: - ETA: 9: - ETA: 9: - ETA: 9: - ETA: 9: - ETA: 9: - ETA: 9: - ETA: 9: - ETA: 9: - ETA: 9: - ETA: 9: - ETA: 9: - ETA: 9: - ETA: 9: - ETA: 9: - ETA: 9: - ETA: 9: - ETA: 9: - ETA: 9: - ETA: 9: - ETA: 9: - ETA: 9: - ETA: 9: - ETA: 9: - ETA: 9: - ETA: 9: - ETA: 9: - ETA: 9: - ETA: 9: - ETA: 9: - ETA: 9: - ETA: 9: - ETA: 9: - ETA: 9: - ETA: 9: - ETA: 9: - ETA: 9: - ETA: 9: - ETA: 9: - ETA: 9: - ETA: 9: - ETA: 9: - ETA: 9: - ETA: 9: - ETA: 9: - ETA: 9: - ETA: 9: - ETA: 9: - ETA: 9: - ETA: 9: - ETA: 9: - ETA: 9: - ETA: 9: - ETA: 9: - ETA: 9: - ETA: 9: - ETA: 9: - ETA: 9: - ETA: 9: - ETA: 9: - ETA: 9: - ETA: 9: - ETA: 9: - ETA: 9: - ETA: 9: - ETA: 9: - ETA: 9: - ETA: 9: - ETA: 9: - ETA: 9: - ETA: 9: - ETA: 9: - ETA: 9: - ETA: 9: - ETA: 9: - ETA: 9: - ETA: 9: - ETA: 9: - ETA: 9: - ETA: 9: - ETA: 9: - ETA: 9: - ETA: 9: - ETA: 9: - ETA: 9: - ETA: 9: - ETA: 9: - ETA: 9: - ETA: 9: - ETA: 9: - ETA: 9: - ETA: 9: - ETA: 9: - ETA: 9: - ETA: 9: - ETA: 9: - ETA: 9: - ETA: 9: - ETA: 9: - ETA: 9: - ETA: 9: - ETA: 9: - ETA: 9: - ETA: 9: - ETA: 9: - ETA: 9: - ETA: 9: - ETA: 9: - ETA: 9: - ETA: 9: - ETA: 9: - ETA: 9: - ETA: 9: - ETA: 9: - ETA: 9: - ETA: 9: - ETA: 9: - ETA: 9: - ETA: 8: - ETA: 8: - ETA: 8: - ETA: 8: - ETA: 8: - ETA: 8: - ETA: 8: - ETA: 8: - ETA: 8: - ETA: 8: - ETA: 8: - ETA: 8: - ETA: 8: - ETA: 8: - ETA: 8: - ETA: 8: - ETA: 8: - ETA: 8: - ETA: 8: - ETA: 8: - ETA: 8: - ETA: 8: - ETA: 8: - ETA: 8: - ETA: 8: - ETA: 8: - ETA: 8: - ETA: 8: - ETA: 8: - ETA: 8: - ETA: 8: - ETA: 8: - ETA: 8: - ETA: 8: - ETA: 8: - ETA: 8: - ETA: 8: - ETA: 8: - ETA: 8: - ETA: 8: - ETA: 8: - ETA: 8: - ETA: 8: - ETA: 8: - ETA: 8: - ETA: 8: - ETA: 8: - ETA: 8: - ETA: 8: - ETA: 8: - ETA: 8: - ETA: 8: - ETA: 8: - ETA: 8: - ETA: 8: - ETA: 8: - ETA: 8: - ETA: 8: - ETA: 8: - ETA: 8: - ETA: 8: - ETA: 8: - ETA: 8: - ETA: 8: - ETA: 8: - ETA: 8: - ETA: 8: - ETA: 8: - ETA: 8: - ETA: 8: - ETA: 8: - ETA: 8: - ETA: 8: - ETA: 8: - ETA: 8: - ETA: 8: - ETA: 8: - ETA: 8: - ETA: 8: - ETA: 8: - ETA: 8: - ETA: 8: - ETA: 8: - ETA: 8: - ETA: 8: - ETA: 8: - ETA: 8: - ETA: 8: - ETA: 8: - ETA: 8: - ETA: 8: - ETA: 8: - ETA: 8: - ETA: 8: - ETA: 8: - ETA: 8: - ETA: 8: - ETA: 8: - ETA: 8: - ETA: 8: - ETA: 8: - ETA: 8: - ETA: 8: - ETA: 8: - ETA: 8: - ETA: 8: - ETA: 8: - ETA: 8: - ETA: 8: - ETA: 8: - ETA: 8: - ETA: 8: - ETA: 8: - ETA: 8: - ETA: 8: - ETA: 8: - ETA: 8: - ETA: 8: - ETA: 8: - ETA: 8: - ETA: 8: - ETA: 8: - ETA: 8: - ETA: 8: - ETA: 8: - ETA: 8: - ETA: 8: - ETA: 8: - ETA: 8: - ETA: 8: - ETA: 8: - ETA: 8: - ETA: 8: - ETA: 8: - ETA: 8: - ETA: 8: - ETA: 8: - ETA: 8: - ETA: 8: - ETA: 8: - ETA: 8: - ETA: 8: - ETA: 8: - ETA: 8: - ETA: 8: - ETA: 8: - ETA: 8: - ETA: 8: - ETA: 8: - ETA: 8: - ETA: 8: - ETA: 8: - ETA: 8: - ETA: 8: - ETA: 8: - ETA: 8: - ETA: 8: - ETA: 8: - ETA: 8: - ETA: 8: - ETA: 8: - ETA: 8: - ETA: 8: - ETA: 8: - ETA: 8: - ETA: 8: - ETA: 8: - ETA: 8: - ETA: 8: - ETA: 8: - ETA: 8: - ETA: 8: - ETA: 8: - ETA: 8: - ETA: 8: - ETA: 8: - ETA: 8: - ETA: 8: - ETA: 8: - ETA: 8: - ETA: 8: - ETA: 8: - ETA: 8: - ETA: 8: - ETA: 8: - ETA: 8: - ETA: 8: - ETA: 8: - ETA: 8: - ETA: 8: - ETA: 8: - ETA: 8: - ETA: 8: - ETA: 8: - ETA: 8: - ETA: 8: - ETA: 8: - ETA: 8: - ETA: 8: - ETA: 7: - ETA: 7: - ETA: 7: - ETA: 7: - ETA: 7: - ETA: 7: - ETA: 7: - ETA: 7: - ETA: 7: - ETA: 7: - ETA: 7: - ETA: 7: - ETA: 7: - ETA: 7: - ETA: 7: - ETA: 7: - ETA: 7: - ETA: 7: - ETA: 7: - ETA: 7: - ETA: 7: - ETA: 7: - ETA: 7: - ETA: 7: - ETA: 7: - ETA: 7: - ETA: 7: - ETA: 7: - ETA: 7: - ETA: 7: - ETA: 7: - ETA: 7: - ETA: 7: - ETA: 7: - ETA: 7: - ETA: 7: - ETA: 7: - ETA: 7: - ETA: 7: - ETA: 7: - ETA: 7: - ETA: 7: - ETA: 7: - ETA: 7: - ETA: 7: - ETA: 7: - ETA: 7: - ETA: 7: - ETA: 7: - ETA: 7: - ETA: 7: - ETA: 7: - ETA: 7: - ETA: 7: - ETA: 7: - ETA: 7: - ETA: 7: - ETA: 7: - ETA: 7: - ETA: 7: - ETA: 7: - ETA: 7: - ETA: 7: - ETA: 7: - ETA: 7: - ETA: 7: - ETA: 7: - ETA: 7: - ETA: 7: - ETA: 7: - ETA: 7: - ETA: 7: - ETA: 7: - ETA: 7: - ETA: 7: - ETA: 7: - ETA: 7: - ETA: 7: - ETA: 7: - ETA: 7: - ETA: 7: - ETA: 7: - ETA: 7: - ETA: 7: - ETA: 7: - ETA: 7: - ETA: 7: - ETA: 7: - ETA: 7: - ETA: 7: - ETA: 7: - ETA: 7: - ETA: 7: - ETA: 7: - ETA: 7: - ETA: 7: - ETA: 7: - ETA: 7: - ETA: 7: - ETA: 7: - ETA: 7: - ETA: 7: - ETA: 7: - ETA: 7: - ETA: 7: - ETA: 7: - ETA: 7: - ETA: 7: - ETA: 7: - ETA: 7: - ETA: 7: - ETA: 7: - ETA: 7: - ETA: 7: - ETA: 7: - ETA: 7: - ETA: 7: - ETA: 7: - ETA: 7: - ETA: 7: - ETA: 7: - ETA: 7: - ETA: 7: - ETA: 7: - ETA: 7: - ETA: 7: - ETA: 7: - ETA: 7: - ETA: 7: - ETA: 7: - ETA: 7: - ETA: 7: - ETA: 7: - ETA: 7: - ETA: 7: - ETA: 7: - ETA: 7: - ETA: 7: - ETA: 7: - ETA: 7: - ETA: 7: - ETA: 7: - ETA: 7: - ETA: 7: - ETA: 7: - ETA: 7: - ETA: 7: - ETA: 7: - ETA: 7: - ETA: 7: - ETA: 7: - ETA: 7: - ETA: 7: - ETA: 7: - ETA: 7: - ETA: 7: - ETA: 7: - ETA: 7: - ETA: 7: - ETA: 7: - ETA: 7: - ETA: 7: - ETA: 7: - ETA: 7: - ETA: 7: - ETA: 7: - ETA: 7: - ETA: 7: - ETA: 7: - ETA: 7: - ETA: 7: - ETA: 7: - ETA: 7: - ETA: 7: - ETA: 7: - ETA: 7: - ETA: 7: - ETA: 7: - ETA: 7: - ETA: 7: - ETA: 7: - ETA: 7: - ETA: 7: - ETA: 7: - ETA: 7: - ETA: 7: - ETA: 7: - ETA: 7: - ETA: 7: - ETA: 7: - ETA: 7: - ETA: 7: - ETA: 7: - ETA: 7: - ETA: 7: - ETA: 7: - ETA: 7: - ETA: 7: - ETA: 7: - ETA: 6: - ETA: 6: - ETA: 6: - ETA: 6: - ETA: 6: - ETA: 6: - ETA: 6: - ETA: 6: - ETA: 6: - ETA: 6: - ETA: 6: - ETA: 6: - ETA: 6: - ETA: 6: - ETA: 6: - ETA: 6: - ETA: 6: - ETA: 6: - ETA: 6: - ETA: 6: - ETA: 6: - ETA: 6: - ETA: 6: - ETA: 6: - ETA: 6: - ETA: 6: - ETA: 6: - ETA: 6: - ETA: 6: - ETA: 6: - ETA: 6: - ETA: 6: - ETA: 6: - ETA: 6: - ETA: 6: - ETA: 6: - ETA: 6: - ETA: 6: - ETA: 6: - ETA: 6: - ETA: 6: - ETA: 6: - ETA: 6: - ETA: 6: - ETA: 6: - ETA: 6: - ETA: 6: - ETA: 6: - ETA: 6: - ETA: 6: - ETA: 6: - ETA: 6: - ETA: 6: - ETA: 6: - ETA: 6: - ETA: 6: - ETA: 6: - ETA: 6: - ETA: 6: - ETA: 6: - ETA: 6: - ETA: 6: - ETA: 6: - ETA: 6: - ETA: 6: - ETA: 6: - ETA: 6: - ETA: 6: - ETA: 6: - ETA: 6: - ETA: 6: - ETA: 6: - ETA: 6: - ETA: 6: - ETA: 6: - ETA: 6: - ETA: 6: - ETA: 6: - ETA: 6: - ETA: 6: - ETA: 6: - ETA: 6: - ETA: 6: - ETA: 6: - ETA: 6: - ETA: 6: - ETA: 6: - ETA: 6: - ETA: 6: - ETA: 6: - ETA: 6: - ETA: 6: - ETA: 6: - ETA: 6: - ETA: 6: - ETA: 6: - ETA: 6: - ETA: 6: - ETA: 6: - ETA: 6: - ETA: 6: - ETA: 6: - ETA: 6: - ETA: 6: - ETA: 6: - ETA: 6: - ETA: 6: - ETA: 6: - ETA: 6: - ETA: 6: - ETA: 6: - ETA: 6: - ETA: 6: - ETA: 6: - ETA: 6: - ETA: 6: - ETA: 6: - ETA: 6: - ETA: 6: - ETA: 6: - ETA: 6: - ETA: 6: - ETA: 6: - ETA: 6: - ETA: 6: - ETA: 6: - ETA: 6: - ETA: 6: - ETA: 6: - ETA: 6: - ETA: 6: - ETA: 6: - ETA: 6: - ETA: 6: - ETA: 6: - ETA: 6: - ETA: 6: - ETA: 6: - ETA: 6: - ETA: 6: - ETA: 6: - ETA: 6: - ETA: 6: - ETA: 6: - ETA: 6: - ETA: 6: - ETA: 6: - ETA: 6: - ETA: 6: - ETA: 6: - ETA: 6: - ETA: 6:14"
     ]
    },
    {
     "name": "stdout",
     "output_type": "stream",
     "text": [
      "138720/152115 [==========================>...] - ETA: 6: - ETA: 6: - ETA: 6: - ETA: 6: - ETA: 6: - ETA: 6: - ETA: 6: - ETA: 6: - ETA: 6: - ETA: 6: - ETA: 6: - ETA: 6: - ETA: 6: - ETA: 6: - ETA: 6: - ETA: 6: - ETA: 6: - ETA: 6: - ETA: 6: - ETA: 6: - ETA: 6: - ETA: 6: - ETA: 6: - ETA: 6: - ETA: 6: - ETA: 6: - ETA: 6: - ETA: 6: - ETA: 6: - ETA: 6: - ETA: 6: - ETA: 6: - ETA: 6: - ETA: 6: - ETA: 6: - ETA: 6: - ETA: 6: - ETA: 6: - ETA: 6: - ETA: 6: - ETA: 6: - ETA: 6: - ETA: 6: - ETA: 6: - ETA: 6: - ETA: 6: - ETA: 5: - ETA: 5: - ETA: 5: - ETA: 5: - ETA: 5: - ETA: 5: - ETA: 5: - ETA: 5: - ETA: 5: - ETA: 5: - ETA: 5: - ETA: 5: - ETA: 5: - ETA: 5: - ETA: 5: - ETA: 5: - ETA: 5: - ETA: 5: - ETA: 5: - ETA: 5: - ETA: 5: - ETA: 5: - ETA: 5: - ETA: 5: - ETA: 5: - ETA: 5: - ETA: 5: - ETA: 5: - ETA: 5: - ETA: 5: - ETA: 5: - ETA: 5: - ETA: 5: - ETA: 5: - ETA: 5: - ETA: 5: - ETA: 5: - ETA: 5: - ETA: 5: - ETA: 5: - ETA: 5: - ETA: 5: - ETA: 5: - ETA: 5: - ETA: 5: - ETA: 5: - ETA: 5: - ETA: 5: - ETA: 5: - ETA: 5: - ETA: 5: - ETA: 5: - ETA: 5: - ETA: 5: - ETA: 5: - ETA: 5: - ETA: 5: - ETA: 5: - ETA: 5: - ETA: 5: - ETA: 5: - ETA: 5: - ETA: 5: - ETA: 5: - ETA: 5: - ETA: 5: - ETA: 5: - ETA: 5: - ETA: 5: - ETA: 5: - ETA: 5: - ETA: 5: - ETA: 5: - ETA: 5: - ETA: 5: - ETA: 5: - ETA: 5: - ETA: 5: - ETA: 5: - ETA: 5: - ETA: 5: - ETA: 5: - ETA: 5: - ETA: 5: - ETA: 5: - ETA: 5: - ETA: 5: - ETA: 5: - ETA: 5: - ETA: 5: - ETA: 5: - ETA: 5: - ETA: 5: - ETA: 5: - ETA: 5: - ETA: 5: - ETA: 5: - ETA: 5: - ETA: 5: - ETA: 5: - ETA: 5: - ETA: 5: - ETA: 5: - ETA: 5: - ETA: 5: - ETA: 5: - ETA: 5: - ETA: 5: - ETA: 5: - ETA: 5: - ETA: 5: - ETA: 5: - ETA: 5: - ETA: 5: - ETA: 5: - ETA: 5: - ETA: 5: - ETA: 5: - ETA: 5: - ETA: 5: - ETA: 5: - ETA: 5: - ETA: 5: - ETA: 5: - ETA: 5: - ETA: 5: - ETA: 5: - ETA: 5: - ETA: 5: - ETA: 5: - ETA: 5: - ETA: 5: - ETA: 5: - ETA: 5: - ETA: 5: - ETA: 5: - ETA: 5: - ETA: 5: - ETA: 5: - ETA: 5: - ETA: 5: - ETA: 5: - ETA: 5: - ETA: 5: - ETA: 5: - ETA: 5: - ETA: 5: - ETA: 5: - ETA: 5: - ETA: 5: - ETA: 5: - ETA: 5: - ETA: 5: - ETA: 5: - ETA: 5: - ETA: 5: - ETA: 5: - ETA: 5: - ETA: 5: - ETA: 5: - ETA: 5: - ETA: 5: - ETA: 5: - ETA: 5: - ETA: 5: - ETA: 5: - ETA: 5: - ETA: 5: - ETA: 5: - ETA: 5: - ETA: 5: - ETA: 5: - ETA: 5: - ETA: 5: - ETA: 5: - ETA: 5: - ETA: 5: - ETA: 5: - ETA: 5: - ETA: 5: - ETA: 5: - ETA: 5: - ETA: 5: - ETA: 5: - ETA: 5: - ETA: 5: - ETA: 5: - ETA: 5: - ETA: 5: - ETA: 5: - ETA: 5: - ETA: 5: - ETA: 5: - ETA: 5: - ETA: 5: - ETA: 5: - ETA: 5: - ETA: 5: - ETA: 4: - ETA: 4: - ETA: 4: - ETA: 4: - ETA: 4: - ETA: 4: - ETA: 4: - ETA: 4: - ETA: 4: - ETA: 4: - ETA: 4: - ETA: 4: - ETA: 4: - ETA: 4: - ETA: 4: - ETA: 4: - ETA: 4: - ETA: 4: - ETA: 4: - ETA: 4: - ETA: 4: - ETA: 4: - ETA: 4: - ETA: 4: - ETA: 4: - ETA: 4: - ETA: 4: - ETA: 4: - ETA: 4: - ETA: 4: - ETA: 4: - ETA: 4: - ETA: 4: - ETA: 4: - ETA: 4: - ETA: 4: - ETA: 4: - ETA: 4: - ETA: 4: - ETA: 4: - ETA: 4: - ETA: 4: - ETA: 4: - ETA: 4: - ETA: 4: - ETA: 4: - ETA: 4: - ETA: 4: - ETA: 4: - ETA: 4: - ETA: 4: - ETA: 4: - ETA: 4: - ETA: 4: - ETA: 4: - ETA: 4: - ETA: 4: - ETA: 4: - ETA: 4: - ETA: 4: - ETA: 4: - ETA: 4: - ETA: 4: - ETA: 4: - ETA: 4: - ETA: 4: - ETA: 4: - ETA: 4: - ETA: 4: - ETA: 4: - ETA: 4: - ETA: 4: - ETA: 4: - ETA: 4: - ETA: 4: - ETA: 4: - ETA: 4: - ETA: 4: - ETA: 4: - ETA: 4: - ETA: 4: - ETA: 4: - ETA: 4: - ETA: 4: - ETA: 4: - ETA: 4: - ETA: 4: - ETA: 4: - ETA: 4: - ETA: 4: - ETA: 4: - ETA: 4: - ETA: 4: - ETA: 4: - ETA: 4: - ETA: 4: - ETA: 4: - ETA: 4: - ETA: 4: - ETA: 4: - ETA: 4: - ETA: 4: - ETA: 4: - ETA: 4: - ETA: 4: - ETA: 4: - ETA: 4: - ETA: 4: - ETA: 4: - ETA: 4: - ETA: 4: - ETA: 4: - ETA: 4: - ETA: 4: - ETA: 4: - ETA: 4: - ETA: 4: - ETA: 4: - ETA: 4: - ETA: 4: - ETA: 4: - ETA: 4: - ETA: 4: - ETA: 4: - ETA: 4: - ETA: 4: - ETA: 4: - ETA: 4: - ETA: 4: - ETA: 4: - ETA: 4: - ETA: 4: - ETA: 4: - ETA: 4: - ETA: 4: - ETA: 4: - ETA: 4: - ETA: 4: - ETA: 4: - ETA: 4: - ETA: 4: - ETA: 4: - ETA: 4: - ETA: 4: - ETA: 4: - ETA: 4: - ETA: 4: - ETA: 4: - ETA: 4: - ETA: 4: - ETA: 4: - ETA: 4: - ETA: 4: - ETA: 4: - ETA: 4: - ETA: 4: - ETA: 4: - ETA: 4: - ETA: 4: - ETA: 4: - ETA: 4: - ETA: 4: - ETA: 4: - ETA: 4: - ETA: 4: - ETA: 4: - ETA: 4: - ETA: 4: - ETA: 4: - ETA: 4: - ETA: 4: - ETA: 4: - ETA: 4: - ETA: 4: - ETA: 4: - ETA: 4: - ETA: 4: - ETA: 4: - ETA: 4: - ETA: 4: - ETA: 4: - ETA: 4: - ETA: 4: - ETA: 4: - ETA: 4: - ETA: 4: - ETA: 4: - ETA: 4: - ETA: 4: - ETA: 4: - ETA: 4: - ETA: 4: - ETA: 4: - ETA: 4: - ETA: 4: - ETA: 4: - ETA: 4: - ETA: 4: - ETA: 3: - ETA: 3: - ETA: 3: - ETA: 3: - ETA: 3: - ETA: 3: - ETA: 3: - ETA: 3: - ETA: 3: - ETA: 3: - ETA: 3: - ETA: 3: - ETA: 3: - ETA: 3: - ETA: 3: - ETA: 3: - ETA: 3: - ETA: 3: - ETA: 3: - ETA: 3: - ETA: 3: - ETA: 3: - ETA: 3: - ETA: 3: - ETA: 3: - ETA: 3: - ETA: 3: - ETA: 3: - ETA: 3: - ETA: 3: - ETA: 3: - ETA: 3: - ETA: 3: - ETA: 3: - ETA: 3: - ETA: 3: - ETA: 3: - ETA: 3: - ETA: 3: - ETA: 3: - ETA: 3: - ETA: 3: - ETA: 3: - ETA: 3: - ETA: 3: - ETA: 3: - ETA: 3: - ETA: 3: - ETA: 3: - ETA: 3: - ETA: 3: - ETA: 3: - ETA: 3: - ETA: 3: - ETA: 3: - ETA: 3: - ETA: 3: - ETA: 3: - ETA: 3: - ETA: 3: - ETA: 3: - ETA: 3: - ETA: 3: - ETA: 3: - ETA: 3: - ETA: 3: - ETA: 3: - ETA: 3: - ETA: 3: - ETA: 3: - ETA: 3: - ETA: 3: - ETA: 3: - ETA: 3: - ETA: 3: - ETA: 3: - ETA: 3: - ETA: 3: - ETA: 3: - ETA: 3: - ETA: 3: - ETA: 3: - ETA: 3: - ETA: 3: - ETA: 3: - ETA: 3: - ETA: 3: - ETA: 3: - ETA: 3: - ETA: 3: - ETA: 3: - ETA: 3: - ETA: 3: - ETA: 3: - ETA: 3: - ETA: 3: - ETA: 3: - ETA: 3: - ETA: 3: - ETA: 3: - ETA: 3: - ETA: 3: - ETA: 3: - ETA: 3: - ETA: 3: - ETA: 3: - ETA: 3: - ETA: 3: - ETA: 3: - ETA: 3: - ETA: 3: - ETA: 3: - ETA: 3: - ETA: 3: - ETA: 3: - ETA: 3: - ETA: 3: - ETA: 3: - ETA: 3: - ETA: 3: - ETA: 3: - ETA: 3: - ETA: 3: - ETA: 3: - ETA: 3: - ETA: 3: - ETA: 3: - ETA: 3: - ETA: 3: - ETA: 3: - ETA: 3: - ETA: 3: - ETA: 3: - ETA: 3: - ETA: 3: - ETA: 3: - ETA: 3: - ETA: 3: - ETA: 3: - ETA: 3: - ETA: 3: - ETA: 3: - ETA: 3: - ETA: 3: - ETA: 3: - ETA: 3: - ETA: 3: - ETA: 3: - ETA: 3: - ETA: 3: - ETA: 3: - ETA: 3: - ETA: 3: - ETA: 3: - ETA: 3: - ETA: 3: - ETA: 3: - ETA: 3: - ETA: 3: - ETA: 3: - ETA: 3: - ETA: 3: - ETA: 3: - ETA: 3: - ETA: 3: - ETA: 3: - ETA: 3: - ETA: 3: - ETA: 3: - ETA: 3: - ETA: 3: - ETA: 3: - ETA: 3: - ETA: 3: - ETA: 3: - ETA: 3: - ETA: 3: - ETA: 3: - ETA: 3: - ETA: 3: - ETA: 3: - ETA: 3: - ETA: 3: - ETA: 3: - ETA: 3: - ETA: 3: - ETA: 3: - ETA: 3: - ETA: 3: - ETA: 3: - ETA: 3: - ETA: 3: - ETA: 3: - ETA: 3: - ETA: 3: - ETA: 3: - ETA: 3: - ETA: 3: - ETA: 2: - ETA: 2: - ETA: 2: - ETA: 2: - ETA: 2: - ETA: 2: - ETA: 2: - ETA: 2: - ETA: 2: - ETA: 2: - ETA: 2: - ETA: 2: - ETA: 2: - ETA: 2: - ETA: 2: - ETA: 2: - ETA: 2: - ETA: 2: - ETA: 2: - ETA: 2: - ETA: 2: - ETA: 2: - ETA: 2: - ETA: 2: - ETA: 2: - ETA: 2: - ETA: 2: - ETA: 2: - ETA: 2: - ETA: 2: - ETA: 2: - ETA: 2: - ETA: 2: - ETA: 2: - ETA: 2: - ETA: 2: - ETA: 2: - ETA: 2: - ETA: 2: - ETA: 2: - ETA: 2: - ETA: 2: - ETA: 2: - ETA: 2: - ETA: 2: - ETA: 2: - ETA: 2: - ETA: 2: - ETA: 2: - ETA: 2: - ETA: 2: - ETA: 2: - ETA: 2: - ETA: 2: - ETA: 2: - ETA: 2: - ETA: 2: - ETA: 2: - ETA: 2: - ETA: 2: - ETA: 2: - ETA: 2: - ETA: 2: - ETA: 2: - ETA: 2: - ETA: 2: - ETA: 2: - ETA: 2: - ETA: 2: - ETA: 2: - ETA: 2: - ETA: 2: - ETA: 2: - ETA: 2: - ETA: 2: - ETA: 2: - ETA: 2: - ETA: 2: - ETA: 2: - ETA: 2: - ETA: 2: - ETA: 2: - ETA: 2: - ETA: 2: - ETA: 2: - ETA: 2: - ETA: 2: - ETA: 2: - ETA: 2: - ETA: 2: - ETA: 2: - ETA: 2: - ETA: 2: - ETA: 2: - ETA: 2: - ETA: 2: - ETA: 2: - ETA: 2: - ETA: 2: - ETA: 2: - ETA: 2: - ETA: 2: - ETA: 2: - ETA: 2: - ETA: 2: - ETA: 2: - ETA: 2: - ETA: 2: - ETA: 2: - ETA: 2: - ETA: 2: - ETA: 2: - ETA: 2: - ETA: 2: - ETA: 2: - ETA: 2: - ETA: 2: - ETA: 2: - ETA: 2: - ETA: 2: - ETA: 2: - ETA: 2: - ETA: 2: - ETA: 2: - ETA: 2: - ETA: 2: - ETA: 2: - ETA: 2: - ETA: 2: - ETA: 2: - ETA: 2: - ETA: 2: - ETA: 2: - ETA: 2: - ETA: 2: - ETA: 2: - ETA: 2: - ETA: 2: - ETA: 2: - ETA: 2: - ETA: 2: - ETA: 2: - ETA: 2: - ETA: 2: - ETA: 2: - ETA: 2: - ETA: 2: - ETA: 2: - ETA: 2: - ETA: 2: - ETA: 2: - ETA: 2: - ETA: 2: - ETA: 2: - ETA: 2: - ETA: 2: - ETA: 2: - ETA: 2: - ETA: 2: - ETA: 2: - ETA: 2: - ETA: 2: - ETA: 2: - ETA: 2: - ETA: 2: - ETA: 2: - ETA: 2: - ETA: 2: - ETA: 2: - ETA: 2: - ETA: 2: - ETA: 2: - ETA: 2: - ETA: 2: - ETA: 2:06"
     ]
    },
    {
     "name": "stdout",
     "output_type": "stream",
     "text": [
      "152115/152115 [==============================] - ETA: 2: - ETA: 2: - ETA: 2: - ETA: 2: - ETA: 2: - ETA: 2: - ETA: 2: - ETA: 2: - ETA: 2: - ETA: 2: - ETA: 2: - ETA: 2: - ETA: 2: - ETA: 2: - ETA: 2: - ETA: 2: - ETA: 2: - ETA: 2: - ETA: 2: - ETA: 2: - ETA: 2: - ETA: 2: - ETA: 2: - ETA: 1: - ETA: 1: - ETA: 1: - ETA: 1: - ETA: 1: - ETA: 1: - ETA: 1: - ETA: 1: - ETA: 1: - ETA: 1: - ETA: 1: - ETA: 1: - ETA: 1: - ETA: 1: - ETA: 1: - ETA: 1: - ETA: 1: - ETA: 1: - ETA: 1: - ETA: 1: - ETA: 1: - ETA: 1: - ETA: 1: - ETA: 1: - ETA: 1: - ETA: 1: - ETA: 1: - ETA: 1: - ETA: 1: - ETA: 1: - ETA: 1: - ETA: 1: - ETA: 1: - ETA: 1: - ETA: 1: - ETA: 1: - ETA: 1: - ETA: 1: - ETA: 1: - ETA: 1: - ETA: 1: - ETA: 1: - ETA: 1: - ETA: 1: - ETA: 1: - ETA: 1: - ETA: 1: - ETA: 1: - ETA: 1: - ETA: 1: - ETA: 1: - ETA: 1: - ETA: 1: - ETA: 1: - ETA: 1: - ETA: 1: - ETA: 1: - ETA: 1: - ETA: 1: - ETA: 1: - ETA: 1: - ETA: 1: - ETA: 1: - ETA: 1: - ETA: 1: - ETA: 1: - ETA: 1: - ETA: 1: - ETA: 1: - ETA: 1: - ETA: 1: - ETA: 1: - ETA: 1: - ETA: 1: - ETA: 1: - ETA: 1: - ETA: 1: - ETA: 1: - ETA: 1: - ETA: 1: - ETA: 1: - ETA: 1: - ETA: 1: - ETA: 1: - ETA: 1: - ETA: 1: - ETA: 1: - ETA: 1: - ETA: 1: - ETA: 1: - ETA: 1: - ETA: 1: - ETA: 1: - ETA: 1: - ETA: 1: - ETA: 1: - ETA: 1: - ETA: 1: - ETA: 1: - ETA: 1: - ETA: 1: - ETA: 1: - ETA: 1: - ETA: 1: - ETA: 1: - ETA: 1: - ETA: 1: - ETA: 1: - ETA: 1: - ETA: 1: - ETA: 1: - ETA: 1: - ETA: 1: - ETA: 1: - ETA: 1: - ETA: 1: - ETA: 1: - ETA: 1: - ETA: 1: - ETA: 1: - ETA: 1: - ETA: 1: - ETA: 1: - ETA: 1: - ETA: 1: - ETA: 1: - ETA: 1: - ETA: 1: - ETA: 1: - ETA: 1: - ETA: 1: - ETA: 1: - ETA: 1: - ETA: 1: - ETA: 1: - ETA: 1: - ETA: 1: - ETA: 1: - ETA: 1: - ETA: 1: - ETA: 1: - ETA: 1: - ETA: 1: - ETA: 1: - ETA: 1: - ETA: 1: - ETA: 1: - ETA: 1: - ETA: 1: - ETA: 1: - ETA: 1: - ETA: 1: - ETA: 1: - ETA: 1: - ETA: 1: - ETA: 1: - ETA: 1: - ETA: 1: - ETA: 1: - ETA: 1: - ETA: 1: - ETA: 1: - ETA: 1: - ETA: 1: - ETA: 1: - ETA: 1: - ETA: 1: - ETA: 1: - ETA: 1: - ETA: 1: - ETA: 1: - ETA: 1: - ETA: 1: - ETA: 1: - ETA: 1: - ETA: 1: - ETA: 1: - ETA: 1: - ETA: 1: - ETA: 1: - ETA: 1: - ETA: 1: - ETA: 1: - ETA: 1: - ETA: 1: - ETA: 1: - ETA: 1: - ETA: 1: - ETA: 1: - ETA: 1: - ETA: 1: - ETA: 1: - ETA: 1: - ETA: 1: - ETA: 1: - ETA: 1: - ETA: 1: - ETA: 59s - ETA: 59 - ETA: 59 - ETA: 59 - ETA: 58 - ETA: 58 - ETA: 58 - ETA: 57 - ETA: 57 - ETA: 57 - ETA: 56 - ETA: 56 - ETA: 56 - ETA: 56 - ETA: 55 - ETA: 55 - ETA: 55 - ETA: 54 - ETA: 54 - ETA: 54 - ETA: 53 - ETA: 53 - ETA: 53 - ETA: 52 - ETA: 52 - ETA: 52 - ETA: 52 - ETA: 51 - ETA: 51 - ETA: 51 - ETA: 50 - ETA: 50 - ETA: 50 - ETA: 49 - ETA: 49 - ETA: 49 - ETA: 49 - ETA: 48 - ETA: 48 - ETA: 48 - ETA: 47 - ETA: 47 - ETA: 47 - ETA: 46 - ETA: 46 - ETA: 46 - ETA: 46 - ETA: 45 - ETA: 45 - ETA: 45 - ETA: 44 - ETA: 44 - ETA: 44 - ETA: 43 - ETA: 43 - ETA: 43 - ETA: 42 - ETA: 42 - ETA: 42 - ETA: 42 - ETA: 41 - ETA: 41 - ETA: 41 - ETA: 40 - ETA: 40 - ETA: 40 - ETA: 39 - ETA: 39 - ETA: 39 - ETA: 39 - ETA: 38 - ETA: 38 - ETA: 38 - ETA: 37 - ETA: 37 - ETA: 37 - ETA: 36 - ETA: 36 - ETA: 36 - ETA: 35 - ETA: 35 - ETA: 35 - ETA: 35 - ETA: 34 - ETA: 34 - ETA: 34 - ETA: 33 - ETA: 33 - ETA: 33 - ETA: 32 - ETA: 32 - ETA: 32 - ETA: 32 - ETA: 31 - ETA: 31 - ETA: 31 - ETA: 30 - ETA: 30 - ETA: 30 - ETA: 29 - ETA: 29 - ETA: 29 - ETA: 29 - ETA: 28 - ETA: 28 - ETA: 28 - ETA: 27 - ETA: 27 - ETA: 27 - ETA: 26 - ETA: 26 - ETA: 26 - ETA: 25 - ETA: 25 - ETA: 25 - ETA: 25 - ETA: 24 - ETA: 24 - ETA: 24 - ETA: 23 - ETA: 23 - ETA: 23 - ETA: 22 - ETA: 22 - ETA: 22 - ETA: 22 - ETA: 21 - ETA: 21 - ETA: 21 - ETA: 20 - ETA: 20 - ETA: 20 - ETA: 19 - ETA: 19 - ETA: 19 - ETA: 18 - ETA: 18 - ETA: 18 - ETA: 18 - ETA: 17 - ETA: 17 - ETA: 17 - ETA: 16 - ETA: 16 - ETA: 16 - ETA: 15 - ETA: 15 - ETA: 15 - ETA: 15 - ETA: 14 - ETA: 14 - ETA: 14 - ETA: 13 - ETA: 13 - ETA: 13 - ETA: 12 - ETA: 12 - ETA: 12 - ETA: 12 - ETA: 11 - ETA: 11 - ETA: 11 - ETA: 10 - ETA: 10 - ETA: 10 - ETA: 9 - ETA:  - ETA:  - ETA:  - ETA:  - ETA:  - ETA:  - ETA:  - ETA:  - ETA:  - ETA:  - ETA:  - ETA:  - ETA:  - ETA:  - ETA:  - ETA:  - ETA:  - ETA:  - ETA:  - ETA:  - ETA:  - ETA:  - ETA:  - ETA:  - ETA:  - ETA:  - ETA:  - ETA:  - ETA:  - ETA:  - ETA:  - ETA:  - 1443s 9ms/step\n"
     ]
    }
   ],
   "source": [
    "scores = model.evaluate(X_test, y_test)"
   ]
  },
  {
   "cell_type": "code",
   "execution_count": 26,
   "metadata": {},
   "outputs": [
    {
     "name": "stdout",
     "output_type": "stream",
     "text": [
      "Accuracy:  86.7232028402309 %\n"
     ]
    }
   ],
   "source": [
    "print(\"Accuracy: \", scores[1]*100, \"%\")"
   ]
  },
  {
   "cell_type": "code",
   "execution_count": 37,
   "metadata": {},
   "outputs": [],
   "source": [
    "y_pred = model.predict_classes(X_test)"
   ]
  },
  {
   "cell_type": "code",
   "execution_count": 38,
   "metadata": {},
   "outputs": [
    {
     "data": {
      "text/plain": [
       "86.7823686027019"
      ]
     },
     "execution_count": 38,
     "metadata": {},
     "output_type": "execute_result"
    }
   ],
   "source": [
    "((y_test.shape[0]-count)/y_test.shape[0])*100"
   ]
  },
  {
   "cell_type": "code",
   "execution_count": 48,
   "metadata": {},
   "outputs": [
    {
     "name": "stdout",
     "output_type": "stream",
     "text": [
      "             precision    recall  f1-score   support\n",
      "\n",
      "          0       0.47      0.03      0.06     20106\n",
      "          1       0.87      0.99      0.93    132009\n",
      "\n",
      "avg / total       0.82      0.87      0.81    152115\n",
      "\n"
     ]
    }
   ],
   "source": [
    "from sklearn.metrics import classification_report\n",
    "\n",
    "print(classification_report(y_test, y_pred))"
   ]
  },
  {
   "cell_type": "code",
   "execution_count": null,
   "metadata": {},
   "outputs": [],
   "source": []
  },
  {
   "cell_type": "code",
   "execution_count": null,
   "metadata": {},
   "outputs": [],
   "source": []
  }
 ],
 "metadata": {
  "kernelspec": {
   "display_name": "Python 3",
   "language": "python",
   "name": "python3"
  },
  "language_info": {
   "codemirror_mode": {
    "name": "ipython",
    "version": 3
   },
   "file_extension": ".py",
   "mimetype": "text/x-python",
   "name": "python",
   "nbconvert_exporter": "python",
   "pygments_lexer": "ipython3",
   "version": "3.6.5"
  }
 },
 "nbformat": 4,
 "nbformat_minor": 2
}
