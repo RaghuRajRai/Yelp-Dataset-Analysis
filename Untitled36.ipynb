{
 "cells": [
  {
   "cell_type": "code",
   "execution_count": 3,
   "metadata": {},
   "outputs": [],
   "source": [
    "#Importing required libraries and dependencies\n",
    "import pandas as pd\n",
    "import ijson\n",
    "import json"
   ]
  },
  {
   "cell_type": "code",
   "execution_count": null,
   "metadata": {},
   "outputs": [],
   "source": []
  },
  {
   "cell_type": "code",
   "execution_count": null,
   "metadata": {},
   "outputs": [],
   "source": [
    "#Analysis of the business_data\n",
    "business_data = pd.read_json(\"E:\\\\Yelp\\\\yelp_academic_dataset_business.json\", lines=True)\n",
    "business_data.to_csv(\"E:\\\\Yelp\\\\Refined_DATA\\\\business.csv\", header = True)\n",
    "print(business_data.columns)\n",
    "print(\"Shape of the business_data dataframe:\",business_data.shape)\n",
    "print(business_data.describe())\n",
    "print(business_data.dtypes)\n",
    "print(business_data.head())"
   ]
  },
  {
   "cell_type": "code",
   "execution_count": null,
   "metadata": {},
   "outputs": [],
   "source": [
    "tip_data = pd.read_json(\"E:\\\\Yelp\\\\yelp_academic_dataset_tip.json\", lines=True)\n",
    "tip_data.to_csv(\"E:\\\\Yelp\\\\Refined_DATA\\\\tip.csv\", header = True)\n",
    "print(\"Loaded dataset: Tip\")"
   ]
  },
  {
   "cell_type": "code",
   "execution_count": null,
   "metadata": {},
   "outputs": [],
   "source": [
    "print(tip_data.columns)\n",
    "print(\"Shape of the tip_data dataframe:\",tip_data.shape)\n",
    "print(tip_data.describe())\n",
    "print(tip_data.dtypes)\n",
    "print(tip_data.head())"
   ]
  },
  {
   "cell_type": "code",
   "execution_count": null,
   "metadata": {},
   "outputs": [],
   "source": [
    "checkin_data = pd.read_json(\"E:\\\\Yelp\\\\yelp_academic_dataset_checkin.json\", lines=True)\n",
    "checkin_data.to_csv(\"E:\\\\Yelp\\\\Refined_DATA\\\\checkin.csv\", header = True)\n",
    "print(\"Loaded dataset: Checkin\")"
   ]
  },
  {
   "cell_type": "code",
   "execution_count": null,
   "metadata": {},
   "outputs": [],
   "source": [
    "print(checkin_data.columns)\n",
    "print(\"Shape of the checkin_data dataframe:\",checkin_data.shape)\n",
    "#print(checkin_data.describe())\n",
    "print(checkin_data.dtypes)\n",
    "print(checkin_data.head())"
   ]
  },
  {
   "cell_type": "code",
   "execution_count": 4,
   "metadata": {},
   "outputs": [
    {
     "name": "stdout",
     "output_type": "stream",
     "text": [
      "Loaded dataset: User\n"
     ]
    }
   ],
   "source": [
    "user_data = pd.read_json(\"E:\\\\Yelp\\\\yelp_academic_dataset_user.json\", lines=True)\n",
    "user_data.to_csv(\"E:\\\\Yelp\\\\Refined_DATA\\\\user.csv\", header = True)\n",
    "print(\"Loaded dataset: User\")"
   ]
  },
  {
   "cell_type": "code",
   "execution_count": 5,
   "metadata": {
    "scrolled": false
   },
   "outputs": [
    {
     "name": "stdout",
     "output_type": "stream",
     "text": [
      "Index(['average_stars', 'compliment_cool', 'compliment_cute',\n",
      "       'compliment_funny', 'compliment_hot', 'compliment_list',\n",
      "       'compliment_more', 'compliment_note', 'compliment_photos',\n",
      "       'compliment_plain', 'compliment_profile', 'compliment_writer', 'cool',\n",
      "       'elite', 'fans', 'friends', 'funny', 'name', 'review_count', 'useful',\n",
      "       'user_id', 'yelping_since'],\n",
      "      dtype='object')\n",
      "Shape of the user_data dataframe: (1518169, 22)\n",
      "       average_stars  compliment_cool  compliment_cute  compliment_funny  \\\n",
      "count   1.518169e+06     1.518169e+06     1.518169e+06      1.518169e+06   \n",
      "mean    3.716941e+00     3.257744e+00     2.030696e-01      3.257744e+00   \n",
      "std     1.133998e+00     8.910309e+01     1.315116e+01      8.910309e+01   \n",
      "min     0.000000e+00     0.000000e+00     0.000000e+00      0.000000e+00   \n",
      "25%     3.070000e+00     0.000000e+00     0.000000e+00      0.000000e+00   \n",
      "50%     3.920000e+00     0.000000e+00     0.000000e+00      0.000000e+00   \n",
      "75%     4.670000e+00     0.000000e+00     0.000000e+00      0.000000e+00   \n",
      "max     5.000000e+00     3.069900e+04     1.364800e+04      3.069900e+04   \n",
      "\n",
      "       compliment_hot  compliment_list  compliment_more  compliment_note  \\\n",
      "count    1.518169e+06     1.518169e+06     1.518169e+06     1.518169e+06   \n",
      "mean     2.351439e+00     8.959674e-02     3.496482e-01     1.550980e+00   \n",
      "std      7.944780e+01     1.129681e+01     1.411544e+01     5.734051e+01   \n",
      "min      0.000000e+00     0.000000e+00     0.000000e+00     0.000000e+00   \n",
      "25%      0.000000e+00     0.000000e+00     0.000000e+00     0.000000e+00   \n",
      "50%      0.000000e+00     0.000000e+00     0.000000e+00     0.000000e+00   \n",
      "75%      0.000000e+00     0.000000e+00     0.000000e+00     0.000000e+00   \n",
      "max      3.353400e+04     1.266300e+04     1.349400e+04     5.747500e+04   \n",
      "\n",
      "       compliment_photos  compliment_plain  compliment_profile  \\\n",
      "count       1.518169e+06      1.518169e+06        1.518169e+06   \n",
      "mean        1.161873e+00      3.239886e+00        2.257515e-01   \n",
      "std         9.679741e+01      9.271578e+01        1.676400e+01   \n",
      "min         0.000000e+00      0.000000e+00        0.000000e+00   \n",
      "25%         0.000000e+00      0.000000e+00        0.000000e+00   \n",
      "50%         0.000000e+00      0.000000e+00        0.000000e+00   \n",
      "75%         0.000000e+00      0.000000e+00        0.000000e+00   \n",
      "max         8.259300e+04      4.862800e+04        1.416500e+04   \n",
      "\n",
      "       compliment_writer          cool          fans         funny  \\\n",
      "count       1.518169e+06  1.518169e+06  1.518169e+06  1.518169e+06   \n",
      "mean        1.225092e+00  1.912421e+01  1.453618e+00  1.399221e+01   \n",
      "std         3.325393e+01  6.978946e+02  1.519258e+01  5.225402e+02   \n",
      "min         0.000000e+00  0.000000e+00  0.000000e+00  0.000000e+00   \n",
      "25%         0.000000e+00  0.000000e+00  0.000000e+00  0.000000e+00   \n",
      "50%         0.000000e+00  0.000000e+00  0.000000e+00  0.000000e+00   \n",
      "75%         0.000000e+00  0.000000e+00  0.000000e+00  0.000000e+00   \n",
      "max         1.543300e+04  2.559090e+05  8.665000e+03  2.421200e+05   \n",
      "\n",
      "       review_count        useful  \n",
      "count  1.518169e+06  1.518169e+06  \n",
      "mean   2.243219e+01  2.866694e+01  \n",
      "std    7.750849e+01  7.301740e+02  \n",
      "min    0.000000e+00  0.000000e+00  \n",
      "25%    2.000000e+00  0.000000e+00  \n",
      "50%    5.000000e+00  0.000000e+00  \n",
      "75%    1.500000e+01  3.000000e+00  \n",
      "max    1.272300e+04  2.584790e+05  \n",
      "average_stars         float64\n",
      "compliment_cool         int64\n",
      "compliment_cute         int64\n",
      "compliment_funny        int64\n",
      "compliment_hot          int64\n",
      "compliment_list         int64\n",
      "compliment_more         int64\n",
      "compliment_note         int64\n",
      "compliment_photos       int64\n",
      "compliment_plain        int64\n",
      "compliment_profile      int64\n",
      "compliment_writer       int64\n",
      "cool                    int64\n",
      "elite                  object\n",
      "fans                    int64\n",
      "friends                object\n",
      "funny                   int64\n",
      "name                   object\n",
      "review_count            int64\n",
      "useful                  int64\n",
      "user_id                object\n",
      "yelping_since          object\n",
      "dtype: object\n",
      "   average_stars  compliment_cool  compliment_cute  compliment_funny  \\\n",
      "0           2.00                0                0                 0   \n",
      "1           5.00                0                0                 0   \n",
      "2           4.00                0                0                 0   \n",
      "3           4.05                0                0                 0   \n",
      "4           3.00                0                0                 0   \n",
      "\n",
      "   compliment_hot  compliment_list  compliment_more  compliment_note  \\\n",
      "0               0                0                0                0   \n",
      "1               0                0                0                0   \n",
      "2               0                0                0                0   \n",
      "3               0                0                0                0   \n",
      "4               0                0                0                0   \n",
      "\n",
      "   compliment_photos  compliment_plain      ...        cool  elite  fans  \\\n",
      "0                  0                 0      ...           0   None     0   \n",
      "1                  0                 0      ...           0   None     0   \n",
      "2                  0                 0      ...           0   None     0   \n",
      "3                  0                 0      ...           0   None     0   \n",
      "4                  0                 0      ...           0   None     0   \n",
      "\n",
      "  friends  funny      name  review_count useful                 user_id  \\\n",
      "0    None      0     Susan             1      0  lzlZwIpuSWXEnNS91wxjHw   \n",
      "1    None      0  Daipayan             2      0  XvLBr-9smbI0m_a7dXtB7w   \n",
      "2    None      0      Andy             1      0  QPT4Ud4H5sJVr68yXhoWFw   \n",
      "3    None      0  Jonathan            19      0  i5YitlHZpf0B3R0s_8NVuw   \n",
      "4    None      0  Shashank             3      0  s4FoIXE_LSGviTHBe8dmcg   \n",
      "\n",
      "   yelping_since  \n",
      "0     2015-09-28  \n",
      "1     2015-09-05  \n",
      "2     2016-07-21  \n",
      "3     2014-08-04  \n",
      "4     2017-06-18  \n",
      "\n",
      "[5 rows x 22 columns]\n"
     ]
    }
   ],
   "source": [
    "print(user_data.columns)\n",
    "print(\"Shape of the user_data dataframe:\",user_data.shape)\n",
    "print(user_data.describe())\n",
    "print(user_data.dtypes)\n",
    "print(user_data.head())"
   ]
  },
  {
   "cell_type": "code",
   "execution_count": 6,
   "metadata": {},
   "outputs": [
    {
     "name": "stdout",
     "output_type": "stream",
     "text": [
      "Loaded dataset: Photo\n"
     ]
    }
   ],
   "source": [
    "photo_data = pd.read_json(\"E:\\\\Yelp\\\\yelp_academic_dataset_photo.json\", lines=True)\n",
    "photo_data.to_csv(\"E:\\\\Yelp\\\\Refined_DATA\\\\photo.csv\", header = True)\n",
    "print(\"Loaded dataset: Photo\")"
   ]
  },
  {
   "cell_type": "code",
   "execution_count": 7,
   "metadata": {},
   "outputs": [
    {
     "name": "stdout",
     "output_type": "stream",
     "text": [
      "Index(['business_id', 'caption', 'label', 'photo_id'], dtype='object')\n",
      "Shape of the user_data dataframe: (280992, 4)\n",
      "                   business_id caption   label                photo_id\n",
      "count                   280992  280992  280992                  280992\n",
      "unique                   32976  100569       5                  280992\n",
      "top     RESDUcs7fIiihp38-d6_6g            food  mN-_X_d4Gzy2kiwCzKycVw\n",
      "freq                      1150  143644  184456                       1\n",
      "business_id    object\n",
      "caption        object\n",
      "label          object\n",
      "photo_id       object\n",
      "dtype: object\n",
      "              business_id                                            caption  \\\n",
      "0  wRKYaVXTks43GVSI2awTQA                                                      \n",
      "1  wRKYaVXTks43GVSI2awTQA                                                      \n",
      "2  wRKYaVXTks43GVSI2awTQA                                                      \n",
      "3  wRKYaVXTks43GVSI2awTQA                                                      \n",
      "4  wRKYaVXTks43GVSI2awTQA  The classic Farmer's Choice Breakfast has a li...   \n",
      "\n",
      "  label                photo_id  \n",
      "0  food  IuXwafFH3fZlTyXA-poz0w  \n",
      "1  food  vhnZ58_1shy9HNVdZgtMLw  \n",
      "2  food  j9ad7H2IBEzhfNCuJu4ukg  \n",
      "3  food  du-5X44HccQ9Zo3pQPiFgQ  \n",
      "4  food  u7Tt1nvclYNoq3UOToP-GA  \n"
     ]
    }
   ],
   "source": [
    "print(photo_data.columns)\n",
    "print(\"Shape of the user_data dataframe:\",photo_data.shape)\n",
    "print(photo_data.describe())\n",
    "print(photo_data.dtypes)\n",
    "print(photo_data.head())"
   ]
  },
  {
   "cell_type": "code",
   "execution_count": 9,
   "metadata": {},
   "outputs": [
    {
     "ename": "ParserError",
     "evalue": "Error tokenizing data. C error: Expected 11 fields in line 4, saw 16\n",
     "output_type": "error",
     "traceback": [
      "\u001b[1;31m---------------------------------------------------------------------------\u001b[0m",
      "\u001b[1;31mParserError\u001b[0m                               Traceback (most recent call last)",
      "\u001b[1;32m<ipython-input-9-b3d6794eef7d>\u001b[0m in \u001b[0;36m<module>\u001b[1;34m()\u001b[0m\n\u001b[1;32m----> 1\u001b[1;33m \u001b[0mreview\u001b[0m \u001b[1;33m=\u001b[0m \u001b[0mpd\u001b[0m\u001b[1;33m.\u001b[0m\u001b[0mread_csv\u001b[0m\u001b[1;33m(\u001b[0m\u001b[1;34m\"E:\\\\Yelp\\\\yelp_academic_dataset_review.json\"\u001b[0m\u001b[1;33m)\u001b[0m\u001b[1;33m\u001b[0m\u001b[0m\n\u001b[0m",
      "\u001b[1;32mD:\\Anaconda3\\lib\\site-packages\\pandas\\io\\parsers.py\u001b[0m in \u001b[0;36mparser_f\u001b[1;34m(filepath_or_buffer, sep, delimiter, header, names, index_col, usecols, squeeze, prefix, mangle_dupe_cols, dtype, engine, converters, true_values, false_values, skipinitialspace, skiprows, nrows, na_values, keep_default_na, na_filter, verbose, skip_blank_lines, parse_dates, infer_datetime_format, keep_date_col, date_parser, dayfirst, iterator, chunksize, compression, thousands, decimal, lineterminator, quotechar, quoting, escapechar, comment, encoding, dialect, tupleize_cols, error_bad_lines, warn_bad_lines, skipfooter, doublequote, delim_whitespace, low_memory, memory_map, float_precision)\u001b[0m\n\u001b[0;32m    676\u001b[0m                     skip_blank_lines=skip_blank_lines)\n\u001b[0;32m    677\u001b[0m \u001b[1;33m\u001b[0m\u001b[0m\n\u001b[1;32m--> 678\u001b[1;33m         \u001b[1;32mreturn\u001b[0m \u001b[0m_read\u001b[0m\u001b[1;33m(\u001b[0m\u001b[0mfilepath_or_buffer\u001b[0m\u001b[1;33m,\u001b[0m \u001b[0mkwds\u001b[0m\u001b[1;33m)\u001b[0m\u001b[1;33m\u001b[0m\u001b[0m\n\u001b[0m\u001b[0;32m    679\u001b[0m \u001b[1;33m\u001b[0m\u001b[0m\n\u001b[0;32m    680\u001b[0m     \u001b[0mparser_f\u001b[0m\u001b[1;33m.\u001b[0m\u001b[0m__name__\u001b[0m \u001b[1;33m=\u001b[0m \u001b[0mname\u001b[0m\u001b[1;33m\u001b[0m\u001b[0m\n",
      "\u001b[1;32mD:\\Anaconda3\\lib\\site-packages\\pandas\\io\\parsers.py\u001b[0m in \u001b[0;36m_read\u001b[1;34m(filepath_or_buffer, kwds)\u001b[0m\n\u001b[0;32m    444\u001b[0m \u001b[1;33m\u001b[0m\u001b[0m\n\u001b[0;32m    445\u001b[0m     \u001b[1;32mtry\u001b[0m\u001b[1;33m:\u001b[0m\u001b[1;33m\u001b[0m\u001b[0m\n\u001b[1;32m--> 446\u001b[1;33m         \u001b[0mdata\u001b[0m \u001b[1;33m=\u001b[0m \u001b[0mparser\u001b[0m\u001b[1;33m.\u001b[0m\u001b[0mread\u001b[0m\u001b[1;33m(\u001b[0m\u001b[0mnrows\u001b[0m\u001b[1;33m)\u001b[0m\u001b[1;33m\u001b[0m\u001b[0m\n\u001b[0m\u001b[0;32m    447\u001b[0m     \u001b[1;32mfinally\u001b[0m\u001b[1;33m:\u001b[0m\u001b[1;33m\u001b[0m\u001b[0m\n\u001b[0;32m    448\u001b[0m         \u001b[0mparser\u001b[0m\u001b[1;33m.\u001b[0m\u001b[0mclose\u001b[0m\u001b[1;33m(\u001b[0m\u001b[1;33m)\u001b[0m\u001b[1;33m\u001b[0m\u001b[0m\n",
      "\u001b[1;32mD:\\Anaconda3\\lib\\site-packages\\pandas\\io\\parsers.py\u001b[0m in \u001b[0;36mread\u001b[1;34m(self, nrows)\u001b[0m\n\u001b[0;32m   1034\u001b[0m                 \u001b[1;32mraise\u001b[0m \u001b[0mValueError\u001b[0m\u001b[1;33m(\u001b[0m\u001b[1;34m'skipfooter not supported for iteration'\u001b[0m\u001b[1;33m)\u001b[0m\u001b[1;33m\u001b[0m\u001b[0m\n\u001b[0;32m   1035\u001b[0m \u001b[1;33m\u001b[0m\u001b[0m\n\u001b[1;32m-> 1036\u001b[1;33m         \u001b[0mret\u001b[0m \u001b[1;33m=\u001b[0m \u001b[0mself\u001b[0m\u001b[1;33m.\u001b[0m\u001b[0m_engine\u001b[0m\u001b[1;33m.\u001b[0m\u001b[0mread\u001b[0m\u001b[1;33m(\u001b[0m\u001b[0mnrows\u001b[0m\u001b[1;33m)\u001b[0m\u001b[1;33m\u001b[0m\u001b[0m\n\u001b[0m\u001b[0;32m   1037\u001b[0m \u001b[1;33m\u001b[0m\u001b[0m\n\u001b[0;32m   1038\u001b[0m         \u001b[1;31m# May alter columns / col_dict\u001b[0m\u001b[1;33m\u001b[0m\u001b[1;33m\u001b[0m\u001b[0m\n",
      "\u001b[1;32mD:\\Anaconda3\\lib\\site-packages\\pandas\\io\\parsers.py\u001b[0m in \u001b[0;36mread\u001b[1;34m(self, nrows)\u001b[0m\n\u001b[0;32m   1846\u001b[0m     \u001b[1;32mdef\u001b[0m \u001b[0mread\u001b[0m\u001b[1;33m(\u001b[0m\u001b[0mself\u001b[0m\u001b[1;33m,\u001b[0m \u001b[0mnrows\u001b[0m\u001b[1;33m=\u001b[0m\u001b[1;32mNone\u001b[0m\u001b[1;33m)\u001b[0m\u001b[1;33m:\u001b[0m\u001b[1;33m\u001b[0m\u001b[0m\n\u001b[0;32m   1847\u001b[0m         \u001b[1;32mtry\u001b[0m\u001b[1;33m:\u001b[0m\u001b[1;33m\u001b[0m\u001b[0m\n\u001b[1;32m-> 1848\u001b[1;33m             \u001b[0mdata\u001b[0m \u001b[1;33m=\u001b[0m \u001b[0mself\u001b[0m\u001b[1;33m.\u001b[0m\u001b[0m_reader\u001b[0m\u001b[1;33m.\u001b[0m\u001b[0mread\u001b[0m\u001b[1;33m(\u001b[0m\u001b[0mnrows\u001b[0m\u001b[1;33m)\u001b[0m\u001b[1;33m\u001b[0m\u001b[0m\n\u001b[0m\u001b[0;32m   1849\u001b[0m         \u001b[1;32mexcept\u001b[0m \u001b[0mStopIteration\u001b[0m\u001b[1;33m:\u001b[0m\u001b[1;33m\u001b[0m\u001b[0m\n\u001b[0;32m   1850\u001b[0m             \u001b[1;32mif\u001b[0m \u001b[0mself\u001b[0m\u001b[1;33m.\u001b[0m\u001b[0m_first_chunk\u001b[0m\u001b[1;33m:\u001b[0m\u001b[1;33m\u001b[0m\u001b[0m\n",
      "\u001b[1;32mpandas/_libs/parsers.pyx\u001b[0m in \u001b[0;36mpandas._libs.parsers.TextReader.read\u001b[1;34m()\u001b[0m\n",
      "\u001b[1;32mpandas/_libs/parsers.pyx\u001b[0m in \u001b[0;36mpandas._libs.parsers.TextReader._read_low_memory\u001b[1;34m()\u001b[0m\n",
      "\u001b[1;32mpandas/_libs/parsers.pyx\u001b[0m in \u001b[0;36mpandas._libs.parsers.TextReader._read_rows\u001b[1;34m()\u001b[0m\n",
      "\u001b[1;32mpandas/_libs/parsers.pyx\u001b[0m in \u001b[0;36mpandas._libs.parsers.TextReader._tokenize_rows\u001b[1;34m()\u001b[0m\n",
      "\u001b[1;32mpandas/_libs/parsers.pyx\u001b[0m in \u001b[0;36mpandas._libs.parsers.raise_parser_error\u001b[1;34m()\u001b[0m\n",
      "\u001b[1;31mParserError\u001b[0m: Error tokenizing data. C error: Expected 11 fields in line 4, saw 16\n"
     ]
    }
   ],
   "source": []
  },
  {
   "cell_type": "code",
   "execution_count": 12,
   "metadata": {},
   "outputs": [
    {
     "name": "stderr",
     "output_type": "stream",
     "text": [
      "D:\\Anaconda3\\lib\\site-packages\\ipykernel_launcher.py:1: DeprecationWarning: 'U' mode is deprecated\n",
      "  \"\"\"Entry point for launching an IPython kernel.\n"
     ]
    },
    {
     "ename": "MemoryError",
     "evalue": "",
     "output_type": "error",
     "traceback": [
      "\u001b[1;31m---------------------------------------------------------------------------\u001b[0m",
      "\u001b[1;31mMemoryError\u001b[0m                               Traceback (most recent call last)",
      "\u001b[1;32m<ipython-input-12-642d4e1659e6>\u001b[0m in \u001b[0;36m<module>\u001b[1;34m()\u001b[0m\n\u001b[0;32m      1\u001b[0m \u001b[0msource\u001b[0m \u001b[1;33m=\u001b[0m \u001b[0mopen\u001b[0m\u001b[1;33m(\u001b[0m\u001b[1;34m\"E:\\\\Yelp\\\\yelp_academic_dataset_review.json\"\u001b[0m\u001b[1;33m,\u001b[0m \u001b[1;34m\"rU\"\u001b[0m\u001b[1;33m)\u001b[0m\u001b[1;33m\u001b[0m\u001b[0m\n\u001b[0;32m      2\u001b[0m \u001b[1;33m\u001b[0m\u001b[0m\n\u001b[1;32m----> 3\u001b[1;33m \u001b[0mjson_data\u001b[0m \u001b[1;33m=\u001b[0m \u001b[0mjson\u001b[0m\u001b[1;33m.\u001b[0m\u001b[0mload\u001b[0m\u001b[1;33m(\u001b[0m\u001b[0msource\u001b[0m\u001b[1;33m)\u001b[0m\u001b[1;33m\u001b[0m\u001b[0m\n\u001b[0m\u001b[0;32m      4\u001b[0m \u001b[1;33m\u001b[0m\u001b[0m\n\u001b[0;32m      5\u001b[0m \u001b[0mprint\u001b[0m\u001b[1;33m(\u001b[0m\u001b[0mjson_data\u001b[0m\u001b[1;33m)\u001b[0m\u001b[1;33m\u001b[0m\u001b[0m\n",
      "\u001b[1;32mD:\\Anaconda3\\lib\\json\\__init__.py\u001b[0m in \u001b[0;36mload\u001b[1;34m(fp, cls, object_hook, parse_float, parse_int, parse_constant, object_pairs_hook, **kw)\u001b[0m\n\u001b[0;32m    294\u001b[0m \u001b[1;33m\u001b[0m\u001b[0m\n\u001b[0;32m    295\u001b[0m     \"\"\"\n\u001b[1;32m--> 296\u001b[1;33m     return loads(fp.read(),\n\u001b[0m\u001b[0;32m    297\u001b[0m         \u001b[0mcls\u001b[0m\u001b[1;33m=\u001b[0m\u001b[0mcls\u001b[0m\u001b[1;33m,\u001b[0m \u001b[0mobject_hook\u001b[0m\u001b[1;33m=\u001b[0m\u001b[0mobject_hook\u001b[0m\u001b[1;33m,\u001b[0m\u001b[1;33m\u001b[0m\u001b[0m\n\u001b[0;32m    298\u001b[0m         \u001b[0mparse_float\u001b[0m\u001b[1;33m=\u001b[0m\u001b[0mparse_float\u001b[0m\u001b[1;33m,\u001b[0m \u001b[0mparse_int\u001b[0m\u001b[1;33m=\u001b[0m\u001b[0mparse_int\u001b[0m\u001b[1;33m,\u001b[0m\u001b[1;33m\u001b[0m\u001b[0m\n",
      "\u001b[1;32mD:\\Anaconda3\\lib\\encodings\\cp1252.py\u001b[0m in \u001b[0;36mdecode\u001b[1;34m(self, input, final)\u001b[0m\n\u001b[0;32m     21\u001b[0m \u001b[1;32mclass\u001b[0m \u001b[0mIncrementalDecoder\u001b[0m\u001b[1;33m(\u001b[0m\u001b[0mcodecs\u001b[0m\u001b[1;33m.\u001b[0m\u001b[0mIncrementalDecoder\u001b[0m\u001b[1;33m)\u001b[0m\u001b[1;33m:\u001b[0m\u001b[1;33m\u001b[0m\u001b[0m\n\u001b[0;32m     22\u001b[0m     \u001b[1;32mdef\u001b[0m \u001b[0mdecode\u001b[0m\u001b[1;33m(\u001b[0m\u001b[0mself\u001b[0m\u001b[1;33m,\u001b[0m \u001b[0minput\u001b[0m\u001b[1;33m,\u001b[0m \u001b[0mfinal\u001b[0m\u001b[1;33m=\u001b[0m\u001b[1;32mFalse\u001b[0m\u001b[1;33m)\u001b[0m\u001b[1;33m:\u001b[0m\u001b[1;33m\u001b[0m\u001b[0m\n\u001b[1;32m---> 23\u001b[1;33m         \u001b[1;32mreturn\u001b[0m \u001b[0mcodecs\u001b[0m\u001b[1;33m.\u001b[0m\u001b[0mcharmap_decode\u001b[0m\u001b[1;33m(\u001b[0m\u001b[0minput\u001b[0m\u001b[1;33m,\u001b[0m\u001b[0mself\u001b[0m\u001b[1;33m.\u001b[0m\u001b[0merrors\u001b[0m\u001b[1;33m,\u001b[0m\u001b[0mdecoding_table\u001b[0m\u001b[1;33m)\u001b[0m\u001b[1;33m[\u001b[0m\u001b[1;36m0\u001b[0m\u001b[1;33m]\u001b[0m\u001b[1;33m\u001b[0m\u001b[0m\n\u001b[0m\u001b[0;32m     24\u001b[0m \u001b[1;33m\u001b[0m\u001b[0m\n\u001b[0;32m     25\u001b[0m \u001b[1;32mclass\u001b[0m \u001b[0mStreamWriter\u001b[0m\u001b[1;33m(\u001b[0m\u001b[0mCodec\u001b[0m\u001b[1;33m,\u001b[0m\u001b[0mcodecs\u001b[0m\u001b[1;33m.\u001b[0m\u001b[0mStreamWriter\u001b[0m\u001b[1;33m)\u001b[0m\u001b[1;33m:\u001b[0m\u001b[1;33m\u001b[0m\u001b[0m\n",
      "\u001b[1;31mMemoryError\u001b[0m: "
     ]
    }
   ],
   "source": [
    "source = open(\"E:\\\\Yelp\\\\yelp_academic_dataset_review.json\", \"rU\")\n",
    "\n",
    "json_data = json.load(source)\n",
    "\n",
    "print(json_data)"
   ]
  },
  {
   "cell_type": "code",
   "execution_count": null,
   "metadata": {},
   "outputs": [],
   "source": []
  }
 ],
 "metadata": {
  "kernelspec": {
   "display_name": "Python 3",
   "language": "python",
   "name": "python3"
  }
 },
 "nbformat": 4,
 "nbformat_minor": 2
}
