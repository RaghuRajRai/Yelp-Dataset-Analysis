{
 "cells": [
  {
   "cell_type": "code",
   "execution_count": null,
   "metadata": {},
   "outputs": [],
   "source": [
    "'''\n",
    "Simple Deep Convolutional Neural Network \n",
    "trained on the MNIST dataset involving the Dropout algorithm.\n",
    "Achieved accuracy ~ 98%\n",
    "'''\n",
    "import keras\n",
    "from keras.datasets import mnist\n",
    "from keras.models import Sequential\n",
    "from keras.layers import Dense, Dropout\n",
    "from keras.optimizers import RMSprop\n",
    "import matplotlib.pyplot as plt\n",
    "#Test-Train data split\n",
    "(x_train, y_train), (x_test, y_test) = mnist.load_data()\n",
    "#Visualizing the images via plots\n",
    "plt.subplot(221)\n",
    "plt.imshow(X_train[1], cmap=plt.get_cmap('gray'))\n",
    "plt.subplot(222)\n",
    "plt.imshow(X_train[4], cmap=plt.get_cmap('gray'))\n",
    "plt.subplot(223)\n",
    "plt.imshow(X_train[11], cmap=plt.get_cmap('gray'))\n",
    "plt.subplot(224)\n",
    "plt.imshow(X_train[12], cmap=plt.get_cmap('gray'))\n",
    "plt.show()\n",
    "#Reshaping data to make it compatible to feed it to the neural network\n",
    "x_train = x_train.reshape(60000, 784)\n",
    "x_test = x_test.reshape(10000, 784)\n",
    "x_train = x_train.astype('float32')\n",
    "x_test = x_test.astype('float32')\n",
    "#Dividing by 255 to obtain all values in the 0,1 range\n",
    "x_train /= 255\n",
    "x_test /= 255\n",
    "print(x_train.shape[0], 'train samples')\n",
    "print(x_test.shape[0], 'test samples')\n",
    "#Convert class vectors to binary class matrices; Converting each number from 0-9 into 1 10-bit sequence\n",
    "y_train = keras.utils.to_categorical(y_train, 10)\n",
    "y_test = keras.utils.to_categorical(y_test, 10)\n",
    "#Building the final model involving dropouts\n",
    "model = Sequential()\n",
    "model.add(Dense(512, activation='relu', input_shape=(784,)))\n",
    "model.add(Dropout(0.2))\n",
    "model.add(Dense(512, activation='relu'))\n",
    "model.add(Dropout(0.2))\n",
    "model.add(Dense(10, activation='softmax'))\n",
    "model.summary()\n",
    "#Defining the training parameters\n",
    "model.compile(loss='categorical_crossentropy', optimizer=RMSprop(), metrics=['accuracy'])\n",
    "#Training the model\n",
    "model.fit(x_train, y_train, batch_size=128, epochs=20, verbose=1, validation_data=(x_test, y_test))\n",
    "#Evaluating accuracy\n",
    "score = model.evaluate(x_test, y_test, verbose=0)\n",
    "print('Loss:', score[0]*100)\n",
    "print('Accuracy:', score[1]*100)\n"
   ]
  },
  {
   "cell_type": "code",
   "execution_count": 1,
   "metadata": {},
   "outputs": [],
   "source": [
    "import pandas as pd\n",
    "import numpy as np\n",
    "import matplotlib.pyplot as plt\n",
    "import seaborn as sns\n",
    "import nltk\n",
    "from nltk.corpus import stopwords"
   ]
  },
  {
   "cell_type": "code",
   "execution_count": 3,
   "metadata": {},
   "outputs": [
    {
     "data": {
      "text/plain": [
       "(149623, 10)"
      ]
     },
     "execution_count": 3,
     "metadata": {},
     "output_type": "execute_result"
    }
   ],
   "source": [
    "yelp = pd.read_csv('E://Yelp//DATA//review.csv')\n",
    "yelp.shape"
   ]
  },
  {
   "cell_type": "code",
   "execution_count": 4,
   "metadata": {},
   "outputs": [
    {
     "name": "stdout",
     "output_type": "stream",
     "text": [
      "<class 'pandas.core.frame.DataFrame'>\n",
      "RangeIndex: 149623 entries, 0 to 149622\n",
      "Data columns (total 10 columns):\n",
      "Unnamed: 0     149623 non-null int64\n",
      "business_id    149623 non-null object\n",
      "cool           149623 non-null int64\n",
      "date           149623 non-null object\n",
      "funny          149623 non-null int64\n",
      "review_id      149623 non-null object\n",
      "stars          149623 non-null int64\n",
      "text           149623 non-null object\n",
      "useful         149623 non-null int64\n",
      "user_id        149623 non-null object\n",
      "dtypes: int64(5), object(5)\n",
      "memory usage: 11.4+ MB\n",
      "None\n"
     ]
    }
   ],
   "source": [
    "print(yelp.info())"
   ]
  },
  {
   "cell_type": "code",
   "execution_count": 5,
   "metadata": {},
   "outputs": [
    {
     "name": "stdout",
     "output_type": "stream",
     "text": [
      "          Unnamed: 0           cool          funny          stars  \\\n",
      "count  149623.000000  149623.000000  149623.000000  149623.000000   \n",
      "mean    74811.000000       0.266263       0.273835       3.662391   \n",
      "std     43192.584001       0.911663       1.363518       1.548881   \n",
      "min         0.000000       0.000000       0.000000       1.000000   \n",
      "25%     37405.500000       0.000000       0.000000       2.000000   \n",
      "50%     74811.000000       0.000000       0.000000       4.000000   \n",
      "75%    112216.500000       0.000000       0.000000       5.000000   \n",
      "max    149622.000000      90.000000     328.000000       5.000000   \n",
      "\n",
      "              useful  \n",
      "count  149623.000000  \n",
      "mean        1.058133  \n",
      "std         2.814067  \n",
      "min         0.000000  \n",
      "25%         0.000000  \n",
      "50%         0.000000  \n",
      "75%         1.000000  \n",
      "max       536.000000  \n"
     ]
    }
   ],
   "source": [
    "print(yelp.describe())"
   ]
  },
  {
   "cell_type": "code",
   "execution_count": 6,
   "metadata": {},
   "outputs": [
    {
     "data": {
      "text/html": [
       "<div>\n",
       "<style scoped>\n",
       "    .dataframe tbody tr th:only-of-type {\n",
       "        vertical-align: middle;\n",
       "    }\n",
       "\n",
       "    .dataframe tbody tr th {\n",
       "        vertical-align: top;\n",
       "    }\n",
       "\n",
       "    .dataframe thead th {\n",
       "        text-align: right;\n",
       "    }\n",
       "</style>\n",
       "<table border=\"1\" class=\"dataframe\">\n",
       "  <thead>\n",
       "    <tr style=\"text-align: right;\">\n",
       "      <th></th>\n",
       "      <th>Unnamed: 0</th>\n",
       "      <th>business_id</th>\n",
       "      <th>cool</th>\n",
       "      <th>date</th>\n",
       "      <th>funny</th>\n",
       "      <th>review_id</th>\n",
       "      <th>stars</th>\n",
       "      <th>text</th>\n",
       "      <th>useful</th>\n",
       "      <th>user_id</th>\n",
       "      <th>text length</th>\n",
       "    </tr>\n",
       "  </thead>\n",
       "  <tbody>\n",
       "    <tr>\n",
       "      <th>0</th>\n",
       "      <td>0</td>\n",
       "      <td>iCQpiavjjPzJ5_3gPD5Ebg</td>\n",
       "      <td>0</td>\n",
       "      <td>2011-02-25</td>\n",
       "      <td>0</td>\n",
       "      <td>x7mDIiDB3jEiPGPHOmDzyw</td>\n",
       "      <td>2</td>\n",
       "      <td>The pizza was okay. Not the best I've had. I p...</td>\n",
       "      <td>0</td>\n",
       "      <td>msQe1u7Z_XuqjGoqhB0J5g</td>\n",
       "      <td>449</td>\n",
       "    </tr>\n",
       "    <tr>\n",
       "      <th>1</th>\n",
       "      <td>1</td>\n",
       "      <td>pomGBqfbxcqPv14c3XH-ZQ</td>\n",
       "      <td>0</td>\n",
       "      <td>2012-11-13</td>\n",
       "      <td>0</td>\n",
       "      <td>dDl8zu1vWPdKGihJrwQbpw</td>\n",
       "      <td>5</td>\n",
       "      <td>I love this place! My fiance And I go here atl...</td>\n",
       "      <td>0</td>\n",
       "      <td>msQe1u7Z_XuqjGoqhB0J5g</td>\n",
       "      <td>317</td>\n",
       "    </tr>\n",
       "    <tr>\n",
       "      <th>2</th>\n",
       "      <td>2</td>\n",
       "      <td>jtQARsP6P-LbkyjbO1qNGg</td>\n",
       "      <td>1</td>\n",
       "      <td>2014-10-23</td>\n",
       "      <td>1</td>\n",
       "      <td>LZp4UX5zK3e-c5ZGSeo3kA</td>\n",
       "      <td>1</td>\n",
       "      <td>Terrible. Dry corn bread. Rib tips were all fa...</td>\n",
       "      <td>3</td>\n",
       "      <td>msQe1u7Z_XuqjGoqhB0J5g</td>\n",
       "      <td>156</td>\n",
       "    </tr>\n",
       "    <tr>\n",
       "      <th>3</th>\n",
       "      <td>3</td>\n",
       "      <td>elqbBhBfElMNSrjFqW3now</td>\n",
       "      <td>0</td>\n",
       "      <td>2011-02-25</td>\n",
       "      <td>0</td>\n",
       "      <td>Er4NBWCmCD4nM8_p1GRdow</td>\n",
       "      <td>2</td>\n",
       "      <td>Back in 2005-2007 this place was my FAVORITE t...</td>\n",
       "      <td>2</td>\n",
       "      <td>msQe1u7Z_XuqjGoqhB0J5g</td>\n",
       "      <td>901</td>\n",
       "    </tr>\n",
       "    <tr>\n",
       "      <th>4</th>\n",
       "      <td>4</td>\n",
       "      <td>Ums3gaP2qM3W1XcA5r6SsQ</td>\n",
       "      <td>0</td>\n",
       "      <td>2014-09-05</td>\n",
       "      <td>0</td>\n",
       "      <td>jsDu6QEJHbwP2Blom1PLCA</td>\n",
       "      <td>5</td>\n",
       "      <td>Delicious healthy food. The steak is amazing. ...</td>\n",
       "      <td>0</td>\n",
       "      <td>msQe1u7Z_XuqjGoqhB0J5g</td>\n",
       "      <td>165</td>\n",
       "    </tr>\n",
       "  </tbody>\n",
       "</table>\n",
       "</div>"
      ],
      "text/plain": [
       "   Unnamed: 0             business_id  cool        date  funny  \\\n",
       "0           0  iCQpiavjjPzJ5_3gPD5Ebg     0  2011-02-25      0   \n",
       "1           1  pomGBqfbxcqPv14c3XH-ZQ     0  2012-11-13      0   \n",
       "2           2  jtQARsP6P-LbkyjbO1qNGg     1  2014-10-23      1   \n",
       "3           3  elqbBhBfElMNSrjFqW3now     0  2011-02-25      0   \n",
       "4           4  Ums3gaP2qM3W1XcA5r6SsQ     0  2014-09-05      0   \n",
       "\n",
       "                review_id  stars  \\\n",
       "0  x7mDIiDB3jEiPGPHOmDzyw      2   \n",
       "1  dDl8zu1vWPdKGihJrwQbpw      5   \n",
       "2  LZp4UX5zK3e-c5ZGSeo3kA      1   \n",
       "3  Er4NBWCmCD4nM8_p1GRdow      2   \n",
       "4  jsDu6QEJHbwP2Blom1PLCA      5   \n",
       "\n",
       "                                                text  useful  \\\n",
       "0  The pizza was okay. Not the best I've had. I p...       0   \n",
       "1  I love this place! My fiance And I go here atl...       0   \n",
       "2  Terrible. Dry corn bread. Rib tips were all fa...       3   \n",
       "3  Back in 2005-2007 this place was my FAVORITE t...       2   \n",
       "4  Delicious healthy food. The steak is amazing. ...       0   \n",
       "\n",
       "                  user_id  text length  \n",
       "0  msQe1u7Z_XuqjGoqhB0J5g          449  \n",
       "1  msQe1u7Z_XuqjGoqhB0J5g          317  \n",
       "2  msQe1u7Z_XuqjGoqhB0J5g          156  \n",
       "3  msQe1u7Z_XuqjGoqhB0J5g          901  \n",
       "4  msQe1u7Z_XuqjGoqhB0J5g          165  "
      ]
     },
     "execution_count": 6,
     "metadata": {},
     "output_type": "execute_result"
    }
   ],
   "source": [
    "yelp['text length'] = yelp['text'].apply(len)\n",
    "yelp.head()"
   ]
  },
  {
   "cell_type": "code",
   "execution_count": 7,
   "metadata": {},
   "outputs": [
    {
     "data": {
      "text/plain": [
       "<seaborn.axisgrid.FacetGrid at 0x245acedfcf8>"
      ]
     },
     "execution_count": 7,
     "metadata": {},
     "output_type": "execute_result"
    },
    {
     "data": {
      "image/png": "[encoded data removed]",
      "text/plain": [
       "<Figure size 1080x216 with 5 Axes>"
      ]
     },
     "metadata": {},
     "output_type": "display_data"
    }
   ],
   "source": [
    "g = sns.FacetGrid(data=yelp, col='stars')\n",
    "g.map(plt.hist, 'text length', bins=50)"
   ]
  },
  {
   "cell_type": "code",
   "execution_count": 8,
   "metadata": {},
   "outputs": [
    {
     "data": {
      "text/plain": [
       "<matplotlib.axes._subplots.AxesSubplot at 0x245acf22550>"
      ]
     },
     "execution_count": 8,
     "metadata": {},
     "output_type": "execute_result"
    },
    {
     "data": {
      "image/png": "[encoded data removed]",
      "text/plain": [
       "<Figure size 432x288 with 1 Axes>"
      ]
     },
     "metadata": {},
     "output_type": "display_data"
    }
   ],
   "source": [
    "sns.boxplot(x='stars', y='text length', data=yelp)"
   ]
  },
  {
   "cell_type": "code",
   "execution_count": 9,
   "metadata": {},
   "outputs": [
    {
     "data": {
      "text/html": [
       "<div>\n",
       "<style scoped>\n",
       "    .dataframe tbody tr th:only-of-type {\n",
       "        vertical-align: middle;\n",
       "    }\n",
       "\n",
       "    .dataframe tbody tr th {\n",
       "        vertical-align: top;\n",
       "    }\n",
       "\n",
       "    .dataframe thead th {\n",
       "        text-align: right;\n",
       "    }\n",
       "</style>\n",
       "<table border=\"1\" class=\"dataframe\">\n",
       "  <thead>\n",
       "    <tr style=\"text-align: right;\">\n",
       "      <th></th>\n",
       "      <th>Unnamed: 0</th>\n",
       "      <th>cool</th>\n",
       "      <th>funny</th>\n",
       "      <th>useful</th>\n",
       "      <th>text length</th>\n",
       "    </tr>\n",
       "  </thead>\n",
       "  <tbody>\n",
       "    <tr>\n",
       "      <th>Unnamed: 0</th>\n",
       "      <td>1.000000</td>\n",
       "      <td>0.045960</td>\n",
       "      <td>-0.273556</td>\n",
       "      <td>-0.515599</td>\n",
       "      <td>0.096747</td>\n",
       "    </tr>\n",
       "    <tr>\n",
       "      <th>cool</th>\n",
       "      <td>0.045960</td>\n",
       "      <td>1.000000</td>\n",
       "      <td>-0.875657</td>\n",
       "      <td>-0.712477</td>\n",
       "      <td>-0.951408</td>\n",
       "    </tr>\n",
       "    <tr>\n",
       "      <th>funny</th>\n",
       "      <td>-0.273556</td>\n",
       "      <td>-0.875657</td>\n",
       "      <td>1.000000</td>\n",
       "      <td>0.951315</td>\n",
       "      <td>0.905406</td>\n",
       "    </tr>\n",
       "    <tr>\n",
       "      <th>useful</th>\n",
       "      <td>-0.515599</td>\n",
       "      <td>-0.712477</td>\n",
       "      <td>0.951315</td>\n",
       "      <td>1.000000</td>\n",
       "      <td>0.732253</td>\n",
       "    </tr>\n",
       "    <tr>\n",
       "      <th>text length</th>\n",
       "      <td>0.096747</td>\n",
       "      <td>-0.951408</td>\n",
       "      <td>0.905406</td>\n",
       "      <td>0.732253</td>\n",
       "      <td>1.000000</td>\n",
       "    </tr>\n",
       "  </tbody>\n",
       "</table>\n",
       "</div>"
      ],
      "text/plain": [
       "             Unnamed: 0      cool     funny    useful  text length\n",
       "Unnamed: 0     1.000000  0.045960 -0.273556 -0.515599     0.096747\n",
       "cool           0.045960  1.000000 -0.875657 -0.712477    -0.951408\n",
       "funny         -0.273556 -0.875657  1.000000  0.951315     0.905406\n",
       "useful        -0.515599 -0.712477  0.951315  1.000000     0.732253\n",
       "text length    0.096747 -0.951408  0.905406  0.732253     1.000000"
      ]
     },
     "execution_count": 9,
     "metadata": {},
     "output_type": "execute_result"
    }
   ],
   "source": [
    "stars = yelp.groupby('stars').mean()\n",
    "stars.corr()"
   ]
  },
  {
   "cell_type": "code",
   "execution_count": 10,
   "metadata": {},
   "outputs": [
    {
     "data": {
      "text/plain": [
       "<matplotlib.axes._subplots.AxesSubplot at 0x245aef4dcf8>"
      ]
     },
     "execution_count": 10,
     "metadata": {},
     "output_type": "execute_result"
    },
    {
     "data": {
      "image/png": "[encoded data removed]",
      "text/plain": [
       "<Figure size 432x288 with 2 Axes>"
      ]
     },
     "metadata": {},
     "output_type": "display_data"
    }
   ],
   "source": [
    "sns.heatmap(data=stars.corr(), annot=True)"
   ]
  },
  {
   "cell_type": "code",
   "execution_count": 11,
   "metadata": {},
   "outputs": [
    {
     "data": {
      "text/plain": [
       "(95919, 11)"
      ]
     },
     "execution_count": 11,
     "metadata": {},
     "output_type": "execute_result"
    }
   ],
   "source": [
    "yelp_class = yelp[(yelp['stars'] == 1) | (yelp['stars'] == 5)]\n",
    "yelp_class.shape"
   ]
  },
  {
   "cell_type": "code",
   "execution_count": 12,
   "metadata": {},
   "outputs": [],
   "source": [
    "X = yelp_class['text']\n",
    "y = yelp_class['stars']"
   ]
  },
  {
   "cell_type": "code",
   "execution_count": 14,
   "metadata": {},
   "outputs": [
    {
     "data": {
      "text/plain": [
       "1         I love this place! My fiance And I go here atl...\n",
       "2         Terrible. Dry corn bread. Rib tips were all fa...\n",
       "4         Delicious healthy food. The steak is amazing. ...\n",
       "5         This place sucks. The customer service is horr...\n",
       "6         If you like Thai food, you have to try the ori...\n",
       "7         AMAZING!!!\\r\\n\\r\\n I was referred here by a fr...\n",
       "10        I have been an Emerald Club member for a numbe...\n",
       "11        The score should be negative. Its HORRIBLE. Th...\n",
       "12        I went there twice and I am pretty happy with ...\n",
       "14        Sansotei serves some top notch ramen. They tak...\n",
       "16        Cool little place, nice atmosphere and staff. ...\n",
       "17        Delicious, friendly staff, cool atmosphere, al...\n",
       "18        Great haircut, cool atmosphere, and really nic...\n",
       "19        Finally! After trying many Mexican restaurants...\n",
       "20        One of the best breakfast places I've been to!...\n",
       "22        DELICIOUS! forgot to take a before picture but...\n",
       "23        If I could leave zero stars I would. This rude...\n",
       "24        Removed several pine trees from our house in H...\n",
       "25        I have to write a review on the Fractured Prun...\n",
       "26        I wish i could tell you all about the food but...\n",
       "27        Wonderful! One of my favorite places. BBQ is e...\n",
       "28        The price is about the same as Quizinos. The s...\n",
       "30        The staff were friendly and helpful. The food ...\n",
       "31        The staff were very helpful. We painted potter...\n",
       "33        After gown shopping in Los Angeles and Orange ...\n",
       "35        I trust my vehicles here. Comparable prices. M...\n",
       "36        I really like this store. Very clean, well sto...\n",
       "37        Best veal sandwich ever ( i like rapini/ garli...\n",
       "38        Non-existened service!  The waiter did not eve...\n",
       "39        I was in Phoenix on business last week. My PHX...\n",
       "                                ...                        \n",
       "149577    These folks are great. The groceries are fine ...\n",
       "149578    Home Appliance service is damn busy. After a v...\n",
       "149579    Favorite local coffee shop. Have tried nearly ...\n",
       "149580    Absolutely love this place. The owners were so...\n",
       "149581    I had a great experience the first time I used...\n",
       "149582    Our family of eight visited this location rece...\n",
       "149583    I have frequented this restaurant for 15 years...\n",
       "149584    I know all of the staff here - so maybe that i...\n",
       "149585    We stopped in for a quick lunch waiting for ou...\n",
       "149586    This place blew my mind! Every item was excell...\n",
       "149587    One of the best meals.  The steaks are aged an...\n",
       "149588    Love, love, love this restaurant.  I've had so...\n",
       "149589    Passenger beware.  Today I took a taxi within ...\n",
       "149592    Before there were Iron Chefs, there was Wolfga...\n",
       "149594    Michael Symon and staff know how to treat thei...\n",
       "149595    The only downside to this restaurant is parkin...\n",
       "149597    Cheap. First and Last Time. You get what you p...\n",
       "149599    I'm a minority among the other reviewers.   I ...\n",
       "149602    Incredible family-run bike shop servicing loca...\n",
       "149604    Overall, dinner at Aji Picante was an exceptio...\n",
       "149607    When I need to impress a visiting friend I tak...\n",
       "149609    We had a blast! Such a great experience. Every...\n",
       "149610    So goooooooood and so simple! I love their pel...\n",
       "149613    Gorgeous new eatery with very friendly staff! ...\n",
       "149616    I just had a mani/pedi with Emmy and it was wo...\n",
       "149617    I LOVE this bar! I LOVE the bartenders! I LOVE...\n",
       "149618    Sooshey and Vahe are AMAZING!!! We always have...\n",
       "149619    New Favorite Place! So many beers to choose fr...\n",
       "149620    Very unprofessional!! I booked an appointment ...\n",
       "149622    Can't believe this place is not crowded on a F...\n",
       "Name: text, Length: 95919, dtype: object"
      ]
     },
     "execution_count": 14,
     "metadata": {},
     "output_type": "execute_result"
    }
   ],
   "source": [
    "X"
   ]
  },
  {
   "cell_type": "code",
   "execution_count": 15,
   "metadata": {},
   "outputs": [],
   "source": [
    "import string\n",
    "def text_process(text):\n",
    "    nopunc = [char for char in text if char not in string.punctuation]\n",
    "    nopunc = ''.join(nopunc)\n",
    "    \n",
    "    return [word for word in nopunc.split() if word.lower() not in stopwords.words('english')]"
   ]
  },
  {
   "cell_type": "code",
   "execution_count": 17,
   "metadata": {},
   "outputs": [
    {
     "name": "stdout",
     "output_type": "stream",
     "text": [
      "showing info https://raw.githubusercontent.com/nltk/nltk_data/gh-pages/index.xml\n",
      "['Hey', 'sample', 'review', 'happens', 'contain', 'punctuations']\n"
     ]
    }
   ],
   "source": [
    "import nltk\n",
    "nltk.download()\n",
    "\n",
    "sample_text = \"Hey there! This is a sample review, which happens to contain punctuations.\"\n",
    "print(text_process(sample_text))"
   ]
  },
  {
   "cell_type": "code",
   "execution_count": null,
   "metadata": {},
   "outputs": [],
   "source": [
    "import sklearn\n",
    "\n",
    "bow_transformer = sklearn.feature_extraction.text.CountVectorizer(analyzer=text_process).fit(X)"
   ]
  },
  {
   "cell_type": "code",
   "execution_count": null,
   "metadata": {},
   "outputs": [],
   "source": [
    "len(bow_transformer.vocabulary_)"
   ]
  },
  {
   "cell_type": "code",
   "execution_count": null,
   "metadata": {},
   "outputs": [],
   "source": [
    "review_25 = X[24]\n",
    "review_25"
   ]
  },
  {
   "cell_type": "code",
   "execution_count": null,
   "metadata": {},
   "outputs": [],
   "source": [
    "bow_25 = bow_transformer.transform([review_25])\n",
    "bow_25\n"
   ]
  },
  {
   "cell_type": "code",
   "execution_count": null,
   "metadata": {},
   "outputs": [],
   "source": [
    "print(bow_transformer.get_feature_names()[11443])\n",
    "print(bow_transformer.get_feature_names()[22077])"
   ]
  },
  {
   "cell_type": "code",
   "execution_count": null,
   "metadata": {},
   "outputs": [],
   "source": [
    "X = bow_transformer.transform(X)"
   ]
  },
  {
   "cell_type": "code",
   "execution_count": null,
   "metadata": {},
   "outputs": [],
   "source": [
    "print('Shape of Sparse Matrix: ', X.shape)\n",
    "print('Amount of Non-Zero occurrences: ', X.nnz)\n",
    "# Percentage of non-zero values\n",
    "density = (100.0 * X.nnz / (X.shape[0] * X.shape[1]))\n",
    "print(‘Density: {}’.format((density)))"
   ]
  },
  {
   "cell_type": "code",
   "execution_count": null,
   "metadata": {},
   "outputs": [],
   "source": [
    "from sklearn.model_selection import train_test_split\n",
    "X_train, X_test, y_train, y_test = train_test_split(X, y, test_size=0.3, random_state=101)"
   ]
  },
  {
   "cell_type": "code",
   "execution_count": null,
   "metadata": {},
   "outputs": [],
   "source": [
    "from sklearn.naive_bayes import MultinomialNB\n",
    "nb = MultinomialNB()\n",
    "nb.fit(X_train, y_train)"
   ]
  },
  {
   "cell_type": "code",
   "execution_count": null,
   "metadata": {},
   "outputs": [],
   "source": [
    "preds = nb.predict(X_test)"
   ]
  },
  {
   "cell_type": "code",
   "execution_count": null,
   "metadata": {},
   "outputs": [],
   "source": [
    "from sklearn.metrics import confusion_matrix, classification_report\n",
    "print(confusion_matrix(y_test, preds))\n",
    "print('\\n')\n",
    "print(classification_report(y_test, preds))"
   ]
  },
  {
   "cell_type": "code",
   "execution_count": null,
   "metadata": {},
   "outputs": [],
   "source": []
  },
  {
   "cell_type": "code",
   "execution_count": null,
   "metadata": {},
   "outputs": [],
   "source": []
  }
 ],
 "metadata": {
  "kernelspec": {
   "display_name": "Python 3",
   "language": "python",
   "name": "python3"
  },
  "language_info": {
   "codemirror_mode": {
    "name": "ipython",
    "version": 3
   },
   "file_extension": ".py",
   "mimetype": "text/x-python",
   "name": "python",
   "nbconvert_exporter": "python",
   "pygments_lexer": "ipython3",
   "version": "3.6.5"
  }
 },
 "nbformat": 4,
 "nbformat_minor": 2
}
