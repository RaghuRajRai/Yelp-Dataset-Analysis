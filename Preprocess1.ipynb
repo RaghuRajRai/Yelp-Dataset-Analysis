{
 "cells": [
  {
   "cell_type": "markdown",
   "metadata": {},
   "source": [
    "# Data Preprocessing - Spellings and Sentiment Score\n",
    "To be applied on all 3 datasets"
   ]
  },
  {
   "cell_type": "code",
   "execution_count": 5,
   "metadata": {},
   "outputs": [],
   "source": [
    "import pandas as pd\n",
    "import textblob\n",
    "\n",
    "reviews = pd.read_table(\"reviewContent\", header = None)"
   ]
  },
  {
   "cell_type": "code",
   "execution_count": 6,
   "metadata": {},
   "outputs": [
    {
     "name": "stdout",
     "output_type": "stream",
     "text": [
      "      0  1           2                                                  3\n",
      "0  5044  0  2014-11-16  Drinks were bad, the hot chocolate was watered...\n",
      "1  5045  0  2014-09-08  This was the worst experience I've ever had a ...\n",
      "2  5046  0  2013-10-06  This is located on the site of the old Spruce ...\n",
      "3  5047  0  2014-11-30  I enjoyed coffee and breakfast twice at Toast ...\n",
      "4  5048  0  2014-08-28  I love Toast! The food choices are fantastic -...\n"
     ]
    }
   ],
   "source": [
    "print(reviews.head())"
   ]
  },
  {
   "cell_type": "code",
   "execution_count": null,
   "metadata": {},
   "outputs": [],
   "source": [
    "#Spelling corrections\n",
    "reviews[3].apply(lambda txt: ''.join(textblob.TextBlob(txt).correct())) "
   ]
  },
  {
   "cell_type": "code",
   "execution_count": null,
   "metadata": {},
   "outputs": [],
   "source": [
    "#Sentiment Scores\n",
    "reviews['sentiment_score'] = reviews[3].apply(lambda txt: textblob.TextBlob(txt, analyzer=NaiveBayesAnalyzer()).sentiment.p_pos)\n",
    "reviews"
   ]
  },
  {
   "cell_type": "code",
   "execution_count": null,
   "metadata": {},
   "outputs": [],
   "source": [
    "reviews.to_csv(\"spell_corr_reviews.csv\", sep='\\t', encoding='utf-8')"
   ]
  }
 ],
 "metadata": {
  "kernelspec": {
   "display_name": "Python 3",
   "language": "python",
   "name": "python3"
  },
  "language_info": {
   "codemirror_mode": {
    "name": "ipython",
    "version": 3
   },
   "file_extension": ".py",
   "mimetype": "text/x-python",
   "name": "python",
   "nbconvert_exporter": "python",
   "pygments_lexer": "ipython3",
   "version": "3.6.5"
  }
 },
 "nbformat": 4,
 "nbformat_minor": 2
}
