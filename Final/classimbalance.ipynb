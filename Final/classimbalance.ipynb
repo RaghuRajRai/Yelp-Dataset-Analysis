{
 "cells": [
  {
   "cell_type": "markdown",
   "metadata": {},
   "source": [
    "# End Game\n",
    "## The data splits were pre-made(for Ensembling purposes)\n",
    "## Preprocessing has been done."
   ]
  },
  {
   "cell_type": "code",
   "execution_count": 65,
   "metadata": {},
   "outputs": [],
   "source": [
    "import pandas as pd\n",
    "import string\n",
    "import nltk\n",
    "import numpy as np\n",
    "import keras\n",
    "from tqdm._tqdm_notebook import tqdm_notebook\n",
    "tqdm_notebook.pandas()\n",
    "from nltk.stem.wordnet import WordNetLemmatizer\n",
    "from nltk.corpus import wordnet\n",
    "from sklearn.feature_extraction.text import TfidfVectorizer\n",
    "from keras.models import Sequential\n",
    "import pickle\n",
    "from keras.preprocessing.text import Tokenizer\n",
    "from keras.preprocessing.sequence import pad_sequences\n",
    "from keras.models import Sequential, Model\n",
    "from keras.layers import Dense, Flatten, LSTM, Conv1D, MaxPooling1D, Dropout, Activation, TimeDistributed, Bidirectional\n",
    "from keras.layers.embeddings import Embedding\n",
    "from keras import optimizers\n",
    "from keras.layers import Input\n",
    "from keras.callbacks import EarlyStopping\n",
    "from sklearn.metrics import classification_report"
   ]
  },
  {
   "cell_type": "code",
   "execution_count": 17,
   "metadata": {},
   "outputs": [],
   "source": [
    "X_train = pd.read_csv(r\"E:\\Yelp\\Unfiltered Data\\WorkingSet\\X_train\")\n",
    "X_test = pd.read_csv(r\"E:\\Yelp\\Unfiltered Data\\WorkingSet\\X_test\")\n",
    "y_train = pd.read_csv(r\"E:\\Yelp\\Unfiltered Data\\WorkingSet\\y_train\", header=None)\n",
    "y_test = pd.read_csv(r\"E:\\Yelp\\Unfiltered Data\\WorkingSet\\y_test\", header=None)"
   ]
  },
  {
   "cell_type": "code",
   "execution_count": 18,
   "metadata": {},
   "outputs": [
    {
     "data": {
      "text/html": [
       "<div>\n",
       "<style scoped>\n",
       "    .dataframe tbody tr th:only-of-type {\n",
       "        vertical-align: middle;\n",
       "    }\n",
       "\n",
       "    .dataframe tbody tr th {\n",
       "        vertical-align: top;\n",
       "    }\n",
       "\n",
       "    .dataframe thead th {\n",
       "        text-align: right;\n",
       "    }\n",
       "</style>\n",
       "<table border=\"1\" class=\"dataframe\">\n",
       "  <thead>\n",
       "    <tr style=\"text-align: right;\">\n",
       "      <th></th>\n",
       "      <th>Unnamed: 0</th>\n",
       "      <th>index</th>\n",
       "      <th>user</th>\n",
       "      <th>item</th>\n",
       "      <th>review</th>\n",
       "      <th>rating</th>\n",
       "      <th>date</th>\n",
       "    </tr>\n",
       "  </thead>\n",
       "  <tbody>\n",
       "    <tr>\n",
       "      <th>0</th>\n",
       "      <td>403839</td>\n",
       "      <td>403839</td>\n",
       "      <td>202383</td>\n",
       "      <td>3421</td>\n",
       "      <td>i fell madly in love with these tiny sandwich ...</td>\n",
       "      <td>5.0</td>\n",
       "      <td>2013-12-01</td>\n",
       "    </tr>\n",
       "    <tr>\n",
       "      <th>1</th>\n",
       "      <td>100777</td>\n",
       "      <td>100777</td>\n",
       "      <td>74648</td>\n",
       "      <td>1809</td>\n",
       "      <td>my review will strictly be on what i order let...</td>\n",
       "      <td>3.0</td>\n",
       "      <td>2013-09-06</td>\n",
       "    </tr>\n",
       "    <tr>\n",
       "      <th>2</th>\n",
       "      <td>512766</td>\n",
       "      <td>512766</td>\n",
       "      <td>237090</td>\n",
       "      <td>4281</td>\n",
       "      <td>im from ny and i can say this pizza be delicio...</td>\n",
       "      <td>2.0</td>\n",
       "      <td>2012-12-20</td>\n",
       "    </tr>\n",
       "    <tr>\n",
       "      <th>3</th>\n",
       "      <td>502763</td>\n",
       "      <td>502763</td>\n",
       "      <td>16029</td>\n",
       "      <td>4160</td>\n",
       "      <td>i have never have coffee i enjoy in fact i thi...</td>\n",
       "      <td>5.0</td>\n",
       "      <td>2013-10-14</td>\n",
       "    </tr>\n",
       "    <tr>\n",
       "      <th>4</th>\n",
       "      <td>445912</td>\n",
       "      <td>445912</td>\n",
       "      <td>8572</td>\n",
       "      <td>4840</td>\n",
       "      <td>the mediterranean version of chipotle decor be...</td>\n",
       "      <td>4.0</td>\n",
       "      <td>2013-06-21</td>\n",
       "    </tr>\n",
       "  </tbody>\n",
       "</table>\n",
       "</div>"
      ],
      "text/plain": [
       "   Unnamed: 0   index    user  item  \\\n",
       "0      403839  403839  202383  3421   \n",
       "1      100777  100777   74648  1809   \n",
       "2      512766  512766  237090  4281   \n",
       "3      502763  502763   16029  4160   \n",
       "4      445912  445912    8572  4840   \n",
       "\n",
       "                                              review  rating        date  \n",
       "0  i fell madly in love with these tiny sandwich ...     5.0  2013-12-01  \n",
       "1  my review will strictly be on what i order let...     3.0  2013-09-06  \n",
       "2  im from ny and i can say this pizza be delicio...     2.0  2012-12-20  \n",
       "3  i have never have coffee i enjoy in fact i thi...     5.0  2013-10-14  \n",
       "4  the mediterranean version of chipotle decor be...     4.0  2013-06-21  "
      ]
     },
     "execution_count": 18,
     "metadata": {},
     "output_type": "execute_result"
    }
   ],
   "source": [
    "X_train.head()"
   ]
  },
  {
   "cell_type": "code",
   "execution_count": 19,
   "metadata": {},
   "outputs": [],
   "source": [
    "y_train.head()\n",
    "#1 for good\n",
    "#0 for bad\n",
    "def binarize(n):\n",
    "    if n==-1:\n",
    "        return 1\n",
    "    else:\n",
    "        return 0\n",
    "\n",
    "y_train[1] = y_train[1].apply(lambda s: binarize(s))\n",
    "y_test[1] = y_test[1].apply(lambda s: binarize(s))\n",
    "X_train['review'] = X_train['review'].apply(lambda s: str(s))\n",
    "X_test['review'] = X_test['review'].apply(lambda s: str(s))"
   ]
  },
  {
   "cell_type": "markdown",
   "metadata": {},
   "source": [
    "### Vectorizing data using Tf-Idf Vectorizer with Unigrams and max features of 40,000"
   ]
  },
  {
   "cell_type": "code",
   "execution_count": 20,
   "metadata": {},
   "outputs": [
    {
     "data": {
      "text/plain": [
       "TfidfVectorizer(analyzer='word', binary=False, decode_error='strict',\n",
       "        dtype=<class 'numpy.float64'>, encoding='utf-8', input='content',\n",
       "        lowercase=True, max_df=1.0, max_features=40000, min_df=1,\n",
       "        ngram_range=(1, 1), norm='l2', preprocessor=None, smooth_idf=True,\n",
       "        stop_words=None, strip_accents=None, sublinear_tf=False,\n",
       "        token_pattern='(?u)\\\\b\\\\w\\\\w+\\\\b', tokenizer=None, use_idf=True,\n",
       "        vocabulary=None)"
      ]
     },
     "execution_count": 20,
     "metadata": {},
     "output_type": "execute_result"
    }
   ],
   "source": [
    "from sklearn.feature_extraction.text import TfidfVectorizer\n",
    "tvec1 = TfidfVectorizer(max_features=40000,ngram_range=(1,1))\n",
    "tvec1.fit(X_train['review'])"
   ]
  },
  {
   "cell_type": "code",
   "execution_count": 22,
   "metadata": {},
   "outputs": [],
   "source": [
    "x_train_tfidf = tvec1.transform(X_train['review'])\n",
    "x_validation_tfidf = tvec1.transform(X_test['review'])"
   ]
  },
  {
   "cell_type": "markdown",
   "metadata": {},
   "source": [
    "### Testing out a LogisticRegression model to get the gist\n",
    "#### LogisticRegression is VERY FAST!"
   ]
  },
  {
   "cell_type": "code",
   "execution_count": 24,
   "metadata": {},
   "outputs": [
    {
     "name": "stderr",
     "output_type": "stream",
     "text": [
      "C:\\Users\\elonm\\AppData\\Roaming\\Python\\Python36\\site-packages\\sklearn\\linear_model\\logistic.py:432: FutureWarning: Default solver will be changed to 'lbfgs' in 0.22. Specify a solver to silence this warning.\n",
      "  FutureWarning)\n"
     ]
    },
    {
     "name": "stdout",
     "output_type": "stream",
     "text": [
      "Wall time: 23.1 s\n"
     ]
    }
   ],
   "source": [
    "%%time\n",
    "from sklearn.linear_model import LogisticRegression\n",
    "clf = LogisticRegression()\n",
    "clf.fit(x_train_tfidf, y_train[1])"
   ]
  },
  {
   "cell_type": "code",
   "execution_count": 66,
   "metadata": {},
   "outputs": [
    {
     "name": "stdout",
     "output_type": "stream",
     "text": [
      "              precision    recall  f1-score   support\n",
      "\n",
      "           0       0.99      0.87      0.93    120211\n",
      "           1       0.05      0.51      0.09      1481\n",
      "\n",
      "   micro avg       0.87      0.87      0.87    121692\n",
      "   macro avg       0.52      0.69      0.51    121692\n",
      "weighted avg       0.98      0.87      0.92    121692\n",
      "\n"
     ]
    }
   ],
   "source": [
    "y_pred = clf.predict(x_validation_tfidf)\n",
    "print(classification_report(y_pred, y_test[1]))"
   ]
  },
  {
   "cell_type": "code",
   "execution_count": 27,
   "metadata": {},
   "outputs": [
    {
     "data": {
      "text/plain": [
       "(486766, 40000)"
      ]
     },
     "execution_count": 27,
     "metadata": {},
     "output_type": "execute_result"
    }
   ],
   "source": [
    "x_train_tfidf.shape"
   ]
  },
  {
   "cell_type": "code",
   "execution_count": 100,
   "metadata": {},
   "outputs": [],
   "source": [
    "def batch_generator_shuffle(X_data, y_data, batch_size):\n",
    "    samples_per_epoch = X_data.shape[0]\n",
    "    number_of_batches = samples_per_epoch/batch_size\n",
    "    counter=0\n",
    "    index = np.arange(np.shape(y_data)[0])\n",
    "    np.random.shuffle(index)\n",
    "    while 1:\n",
    "        index_batch = index[batch_size*counter:batch_size*(counter+1)]\n",
    "        X_batch = X_data[index_batch,:].toarray()\n",
    "        y_batch = y_data[y_data.index[index_batch]]\n",
    "        counter += 1\n",
    "        yield X_batch,y_batch\n",
    "        if (counter > number_of_batches):\n",
    "            np.random.shuffle(index)\n",
    "            counter=0"
   ]
  },
  {
   "cell_type": "code",
   "execution_count": 71,
   "metadata": {},
   "outputs": [
    {
     "name": "stdout",
     "output_type": "stream",
     "text": [
      "_________________________________________________________________\n",
      "Layer (type)                 Output Shape              Param #   \n",
      "=================================================================\n",
      "dense_27 (Dense)             (None, 256)               10240256  \n",
      "_________________________________________________________________\n",
      "dropout_14 (Dropout)         (None, 256)               0         \n",
      "_________________________________________________________________\n",
      "dense_28 (Dense)             (None, 128)               32896     \n",
      "_________________________________________________________________\n",
      "dropout_15 (Dropout)         (None, 128)               0         \n",
      "_________________________________________________________________\n",
      "dense_29 (Dense)             (None, 1)                 129       \n",
      "=================================================================\n",
      "Total params: 10,273,281\n",
      "Trainable params: 10,273,281\n",
      "Non-trainable params: 0\n",
      "_________________________________________________________________\n"
     ]
    }
   ],
   "source": [
    "model = Sequential()\n",
    "model.add(Dense(256, activation='relu', input_dim=40000))\n",
    "model.add(Dropout(0.3))\n",
    "model.add(Dense(128, activation='relu'))\n",
    "model.add(Dropout(0.3))\n",
    "model.add(Dense(1, activation='sigmoid'))\n",
    "model.compile(optimizer='rmsprop', loss='binary_crossentropy', metrics=['accuracy'])\n",
    "model.summary()"
   ]
  },
  {
   "cell_type": "code",
   "execution_count": 72,
   "metadata": {},
   "outputs": [
    {
     "name": "stdout",
     "output_type": "stream",
     "text": [
      "Epoch 1/2\n"
     ]
    },
    {
     "name": "stdout",
     "output_type": "stream",
     "text": [
      "204/486 [===========>..................] - ETA: 12:28 - loss: 0.6936 - acc: 0.44 - ETA: 8:35 - loss: 0.6639 - acc: 0.6545 - ETA: 7:22 - loss: 0.6241 - acc: 0.727 - ETA: 6:47 - loss: 0.5866 - acc: 0.762 - ETA: 6:26 - loss: 0.5531 - acc: 0.785 - ETA: 6:21 - loss: 0.5250 - acc: 0.800 - ETA: 6:14 - loss: 0.5055 - acc: 0.809 - ETA: 6:04 - loss: 0.4911 - acc: 0.816 - ETA: 5:56 - loss: 0.4828 - acc: 0.820 - ETA: 5:48 - loss: 0.4729 - acc: 0.825 - ETA: 5:43 - loss: 0.4595 - acc: 0.832 - ETA: 5:37 - loss: 0.4527 - acc: 0.835 - ETA: 5:33 - loss: 0.4470 - acc: 0.837 - ETA: 5:30 - loss: 0.4416 - acc: 0.840 - ETA: 5:29 - loss: 0.4367 - acc: 0.842 - ETA: 5:28 - loss: 0.4339 - acc: 0.843 - ETA: 5:28 - loss: 0.4306 - acc: 0.844 - ETA: 5:32 - loss: 0.4283 - acc: 0.845 - ETA: 5:31 - loss: 0.4246 - acc: 0.847 - ETA: 5:31 - loss: 0.4236 - acc: 0.847 - ETA: 5:31 - loss: 0.4217 - acc: 0.848 - ETA: 5:31 - loss: 0.4187 - acc: 0.849 - ETA: 5:28 - loss: 0.4168 - acc: 0.850 - ETA: 5:24 - loss: 0.4145 - acc: 0.851 - ETA: 5:22 - loss: 0.4128 - acc: 0.852 - ETA: 5:19 - loss: 0.4112 - acc: 0.852 - ETA: 5:16 - loss: 0.4098 - acc: 0.852 - ETA: 5:14 - loss: 0.4081 - acc: 0.853 - ETA: 5:12 - loss: 0.4061 - acc: 0.854 - ETA: 5:10 - loss: 0.4043 - acc: 0.854 - ETA: 5:09 - loss: 0.4031 - acc: 0.855 - ETA: 5:08 - loss: 0.4023 - acc: 0.855 - ETA: 5:10 - loss: 0.4010 - acc: 0.855 - ETA: 5:12 - loss: 0.3995 - acc: 0.856 - ETA: 5:10 - loss: 0.3989 - acc: 0.856 - ETA: 5:09 - loss: 0.3980 - acc: 0.856 - ETA: 5:07 - loss: 0.3978 - acc: 0.856 - ETA: 5:06 - loss: 0.3967 - acc: 0.856 - ETA: 5:05 - loss: 0.3961 - acc: 0.856 - ETA: 5:07 - loss: 0.3950 - acc: 0.856 - ETA: 5:06 - loss: 0.3941 - acc: 0.857 - ETA: 5:05 - loss: 0.3930 - acc: 0.857 - ETA: 5:04 - loss: 0.3932 - acc: 0.857 - ETA: 5:04 - loss: 0.3929 - acc: 0.857 - ETA: 5:04 - loss: 0.3921 - acc: 0.857 - ETA: 5:04 - loss: 0.3915 - acc: 0.857 - ETA: 5:02 - loss: 0.3903 - acc: 0.857 - ETA: 5:02 - loss: 0.3895 - acc: 0.857 - ETA: 5:01 - loss: 0.3882 - acc: 0.858 - ETA: 5:00 - loss: 0.3876 - acc: 0.858 - ETA: 5:00 - loss: 0.3861 - acc: 0.859 - ETA: 4:58 - loss: 0.3856 - acc: 0.859 - ETA: 4:57 - loss: 0.3853 - acc: 0.859 - ETA: 4:56 - loss: 0.3842 - acc: 0.860 - ETA: 4:55 - loss: 0.3840 - acc: 0.860 - ETA: 4:53 - loss: 0.3828 - acc: 0.860 - ETA: 4:52 - loss: 0.3828 - acc: 0.860 - ETA: 4:51 - loss: 0.3819 - acc: 0.861 - ETA: 4:50 - loss: 0.3813 - acc: 0.861 - ETA: 4:49 - loss: 0.3806 - acc: 0.861 - ETA: 4:48 - loss: 0.3803 - acc: 0.861 - ETA: 4:47 - loss: 0.3805 - acc: 0.861 - ETA: 4:46 - loss: 0.3799 - acc: 0.861 - ETA: 4:45 - loss: 0.3801 - acc: 0.861 - ETA: 4:44 - loss: 0.3795 - acc: 0.861 - ETA: 4:43 - loss: 0.3794 - acc: 0.861 - ETA: 4:42 - loss: 0.3795 - acc: 0.861 - ETA: 4:41 - loss: 0.3797 - acc: 0.861 - ETA: 4:41 - loss: 0.3792 - acc: 0.861 - ETA: 4:40 - loss: 0.3791 - acc: 0.861 - ETA: 4:39 - loss: 0.3788 - acc: 0.861 - ETA: 4:38 - loss: 0.3783 - acc: 0.861 - ETA: 4:36 - loss: 0.3781 - acc: 0.861 - ETA: 4:35 - loss: 0.3776 - acc: 0.861 - ETA: 4:34 - loss: 0.3766 - acc: 0.862 - ETA: 4:33 - loss: 0.3763 - acc: 0.862 - ETA: 4:32 - loss: 0.3758 - acc: 0.862 - ETA: 4:31 - loss: 0.3754 - acc: 0.862 - ETA: 4:30 - loss: 0.3749 - acc: 0.863 - ETA: 4:30 - loss: 0.3751 - acc: 0.862 - ETA: 4:29 - loss: 0.3748 - acc: 0.862 - ETA: 4:28 - loss: 0.3746 - acc: 0.862 - ETA: 4:27 - loss: 0.3741 - acc: 0.863 - ETA: 4:26 - loss: 0.3742 - acc: 0.863 - ETA: 4:25 - loss: 0.3741 - acc: 0.863 - ETA: 4:24 - loss: 0.3739 - acc: 0.863 - ETA: 4:23 - loss: 0.3735 - acc: 0.863 - ETA: 4:22 - loss: 0.3730 - acc: 0.863 - ETA: 4:22 - loss: 0.3729 - acc: 0.863 - ETA: 4:21 - loss: 0.3726 - acc: 0.863 - ETA: 4:20 - loss: 0.3724 - acc: 0.863 - ETA: 4:19 - loss: 0.3723 - acc: 0.863 - ETA: 4:18 - loss: 0.3720 - acc: 0.863 - ETA: 4:17 - loss: 0.3720 - acc: 0.863 - ETA: 4:16 - loss: 0.3716 - acc: 0.863 - ETA: 4:15 - loss: 0.3713 - acc: 0.864 - ETA: 4:14 - loss: 0.3710 - acc: 0.864 - ETA: 4:13 - loss: 0.3709 - acc: 0.864 - ETA: 4:12 - loss: 0.3705 - acc: 0.864 - ETA: 4:11 - loss: 0.3704 - acc: 0.864 - ETA: 4:10 - loss: 0.3703 - acc: 0.864 - ETA: 4:09 - loss: 0.3702 - acc: 0.864 - ETA: 4:08 - loss: 0.3699 - acc: 0.864 - ETA: 4:07 - loss: 0.3699 - acc: 0.864 - ETA: 4:07 - loss: 0.3698 - acc: 0.864 - ETA: 4:06 - loss: 0.3694 - acc: 0.864 - ETA: 4:05 - loss: 0.3692 - acc: 0.864 - ETA: 4:04 - loss: 0.3691 - acc: 0.864 - ETA: 4:03 - loss: 0.3690 - acc: 0.864 - ETA: 4:02 - loss: 0.3691 - acc: 0.864 - ETA: 4:01 - loss: 0.3687 - acc: 0.864 - ETA: 4:00 - loss: 0.3685 - acc: 0.864 - ETA: 4:00 - loss: 0.3683 - acc: 0.864 - ETA: 3:59 - loss: 0.3682 - acc: 0.864 - ETA: 3:58 - loss: 0.3678 - acc: 0.864 - ETA: 3:57 - loss: 0.3678 - acc: 0.864 - ETA: 3:56 - loss: 0.3676 - acc: 0.864 - ETA: 3:55 - loss: 0.3674 - acc: 0.864 - ETA: 3:54 - loss: 0.3672 - acc: 0.864 - ETA: 3:54 - loss: 0.3672 - acc: 0.864 - ETA: 3:53 - loss: 0.3669 - acc: 0.865 - ETA: 3:52 - loss: 0.3668 - acc: 0.865 - ETA: 3:51 - loss: 0.3665 - acc: 0.865 - ETA: 3:50 - loss: 0.3666 - acc: 0.865 - ETA: 3:50 - loss: 0.3664 - acc: 0.865 - ETA: 3:49 - loss: 0.3665 - acc: 0.864 - ETA: 3:48 - loss: 0.3663 - acc: 0.865 - ETA: 3:47 - loss: 0.3664 - acc: 0.864 - ETA: 3:46 - loss: 0.3662 - acc: 0.864 - ETA: 3:46 - loss: 0.3662 - acc: 0.864 - ETA: 3:45 - loss: 0.3658 - acc: 0.864 - ETA: 3:44 - loss: 0.3657 - acc: 0.865 - ETA: 3:43 - loss: 0.3656 - acc: 0.865 - ETA: 3:43 - loss: 0.3657 - acc: 0.864 - ETA: 3:42 - loss: 0.3656 - acc: 0.864 - ETA: 3:41 - loss: 0.3657 - acc: 0.864 - ETA: 3:40 - loss: 0.3657 - acc: 0.864 - ETA: 3:39 - loss: 0.3656 - acc: 0.864 - ETA: 3:39 - loss: 0.3654 - acc: 0.864 - ETA: 3:38 - loss: 0.3651 - acc: 0.865 - ETA: 3:37 - loss: 0.3648 - acc: 0.865 - ETA: 3:36 - loss: 0.3648 - acc: 0.865 - ETA: 3:36 - loss: 0.3649 - acc: 0.865 - ETA: 3:35 - loss: 0.3647 - acc: 0.865 - ETA: 3:34 - loss: 0.3650 - acc: 0.865 - ETA: 3:33 - loss: 0.3650 - acc: 0.864 - ETA: 3:33 - loss: 0.3650 - acc: 0.865 - ETA: 3:32 - loss: 0.3648 - acc: 0.865 - ETA: 3:31 - loss: 0.3650 - acc: 0.865 - ETA: 3:30 - loss: 0.3649 - acc: 0.865 - ETA: 3:30 - loss: 0.3647 - acc: 0.865 - ETA: 3:29 - loss: 0.3646 - acc: 0.865 - ETA: 3:28 - loss: 0.3643 - acc: 0.865 - ETA: 3:27 - loss: 0.3644 - acc: 0.865 - ETA: 3:27 - loss: 0.3643 - acc: 0.865 - ETA: 3:26 - loss: 0.3643 - acc: 0.865 - ETA: 3:25 - loss: 0.3643 - acc: 0.865 - ETA: 3:25 - loss: 0.3644 - acc: 0.865 - ETA: 3:24 - loss: 0.3643 - acc: 0.865 - ETA: 3:23 - loss: 0.3641 - acc: 0.865 - ETA: 3:22 - loss: 0.3640 - acc: 0.865 - ETA: 3:22 - loss: 0.3636 - acc: 0.865 - ETA: 3:21 - loss: 0.3634 - acc: 0.865 - ETA: 3:20 - loss: 0.3632 - acc: 0.865 - ETA: 3:20 - loss: 0.3632 - acc: 0.865 - ETA: 3:19 - loss: 0.3630 - acc: 0.865 - ETA: 3:18 - loss: 0.3629 - acc: 0.865 - ETA: 3:17 - loss: 0.3627 - acc: 0.865 - ETA: 3:17 - loss: 0.3625 - acc: 0.865 - ETA: 3:16 - loss: 0.3624 - acc: 0.865 - ETA: 3:15 - loss: 0.3623 - acc: 0.865 - ETA: 3:15 - loss: 0.3623 - acc: 0.865 - ETA: 3:14 - loss: 0.3623 - acc: 0.865 - ETA: 3:13 - loss: 0.3619 - acc: 0.866 - ETA: 3:13 - loss: 0.3622 - acc: 0.865 - ETA: 3:12 - loss: 0.3622 - acc: 0.865 - ETA: 3:11 - loss: 0.3621 - acc: 0.866 - ETA: 3:10 - loss: 0.3620 - acc: 0.866 - ETA: 3:10 - loss: 0.3619 - acc: 0.866 - ETA: 3:09 - loss: 0.3618 - acc: 0.866 - ETA: 3:08 - loss: 0.3616 - acc: 0.866 - ETA: 3:08 - loss: 0.3616 - acc: 0.866 - ETA: 3:07 - loss: 0.3616 - acc: 0.866 - ETA: 3:06 - loss: 0.3616 - acc: 0.866 - ETA: 3:06 - loss: 0.3615 - acc: 0.866 - ETA: 3:05 - loss: 0.3612 - acc: 0.866 - ETA: 3:04 - loss: 0.3612 - acc: 0.866 - ETA: 3:04 - loss: 0.3613 - acc: 0.866 - ETA: 3:03 - loss: 0.3614 - acc: 0.866 - ETA: 3:02 - loss: 0.3613 - acc: 0.866 - ETA: 3:02 - loss: 0.3614 - acc: 0.866 - ETA: 3:01 - loss: 0.3614 - acc: 0.866 - ETA: 3:00 - loss: 0.3615 - acc: 0.866 - ETA: 3:00 - loss: 0.3615 - acc: 0.866 - ETA: 2:59 - loss: 0.3614 - acc: 0.866 - ETA: 2:58 - loss: 0.3613 - acc: 0.866 - ETA: 2:58 - loss: 0.3610 - acc: 0.866 - ETA: 2:57 - loss: 0.3610 - acc: 0.866 - ETA: 2:56 - loss: 0.3611 - acc: 0.866 - ETA: 2:56 - loss: 0.3612 - acc: 0.866 - ETA: 2:55 - loss: 0.3612 - acc: 0.866 - ETA: 2:54 - loss: 0.3610 - acc: 0.866 - ETA: 2:53 - loss: 0.3610 - acc: 0.866 - ETA: 2:53 - loss: 0.3610 - acc: 0.8663\b\b\b\b\b\b\b\b\b\b\b\b\b\b\b\b\b\b\b\b\b\b\b\b\b\b\b\b\b\b\b\b\b\b\b\b\b\b\b\b\b\b\b\b\b\b\b\b\b\b\b\b\b\b\b\b\b\b\b\b\b\b\b\b\b\b\b\b\b\b\b\b\b\b\b\b\b\b\b\b\b"
     ]
    },
    {
     "name": "stdout",
     "output_type": "stream",
     "text": [
      "409/486 [========================>.....] - ETA: 2:52 - loss: 0.3609 - acc: 0.866 - ETA: 2:52 - loss: 0.3608 - acc: 0.866 - ETA: 2:51 - loss: 0.3610 - acc: 0.866 - ETA: 2:50 - loss: 0.3609 - acc: 0.866 - ETA: 2:50 - loss: 0.3607 - acc: 0.866 - ETA: 2:49 - loss: 0.3607 - acc: 0.866 - ETA: 2:48 - loss: 0.3605 - acc: 0.866 - ETA: 2:48 - loss: 0.3605 - acc: 0.866 - ETA: 2:47 - loss: 0.3605 - acc: 0.866 - ETA: 2:46 - loss: 0.3603 - acc: 0.866 - ETA: 2:46 - loss: 0.3603 - acc: 0.866 - ETA: 2:45 - loss: 0.3602 - acc: 0.866 - ETA: 2:44 - loss: 0.3601 - acc: 0.866 - ETA: 2:44 - loss: 0.3600 - acc: 0.866 - ETA: 2:43 - loss: 0.3599 - acc: 0.866 - ETA: 2:42 - loss: 0.3599 - acc: 0.866 - ETA: 2:42 - loss: 0.3599 - acc: 0.866 - ETA: 2:41 - loss: 0.3600 - acc: 0.866 - ETA: 2:40 - loss: 0.3600 - acc: 0.866 - ETA: 2:40 - loss: 0.3600 - acc: 0.866 - ETA: 2:39 - loss: 0.3599 - acc: 0.866 - ETA: 2:38 - loss: 0.3599 - acc: 0.866 - ETA: 2:38 - loss: 0.3597 - acc: 0.866 - ETA: 2:37 - loss: 0.3596 - acc: 0.866 - ETA: 2:36 - loss: 0.3595 - acc: 0.866 - ETA: 2:36 - loss: 0.3595 - acc: 0.866 - ETA: 2:35 - loss: 0.3597 - acc: 0.866 - ETA: 2:34 - loss: 0.3595 - acc: 0.866 - ETA: 2:34 - loss: 0.3594 - acc: 0.866 - ETA: 2:33 - loss: 0.3594 - acc: 0.866 - ETA: 2:32 - loss: 0.3594 - acc: 0.866 - ETA: 2:32 - loss: 0.3594 - acc: 0.866 - ETA: 2:31 - loss: 0.3593 - acc: 0.866 - ETA: 2:31 - loss: 0.3593 - acc: 0.866 - ETA: 2:30 - loss: 0.3593 - acc: 0.866 - ETA: 2:29 - loss: 0.3594 - acc: 0.866 - ETA: 2:29 - loss: 0.3593 - acc: 0.866 - ETA: 2:28 - loss: 0.3594 - acc: 0.866 - ETA: 2:27 - loss: 0.3592 - acc: 0.866 - ETA: 2:27 - loss: 0.3592 - acc: 0.866 - ETA: 2:26 - loss: 0.3590 - acc: 0.866 - ETA: 2:25 - loss: 0.3588 - acc: 0.866 - ETA: 2:25 - loss: 0.3586 - acc: 0.866 - ETA: 2:24 - loss: 0.3588 - acc: 0.866 - ETA: 2:23 - loss: 0.3588 - acc: 0.866 - ETA: 2:23 - loss: 0.3587 - acc: 0.866 - ETA: 2:22 - loss: 0.3587 - acc: 0.866 - ETA: 2:22 - loss: 0.3587 - acc: 0.866 - ETA: 2:21 - loss: 0.3586 - acc: 0.866 - ETA: 2:20 - loss: 0.3586 - acc: 0.866 - ETA: 2:20 - loss: 0.3587 - acc: 0.866 - ETA: 2:19 - loss: 0.3587 - acc: 0.866 - ETA: 2:18 - loss: 0.3587 - acc: 0.866 - ETA: 2:18 - loss: 0.3586 - acc: 0.866 - ETA: 2:17 - loss: 0.3586 - acc: 0.866 - ETA: 2:17 - loss: 0.3585 - acc: 0.866 - ETA: 2:16 - loss: 0.3585 - acc: 0.866 - ETA: 2:15 - loss: 0.3584 - acc: 0.866 - ETA: 2:15 - loss: 0.3583 - acc: 0.866 - ETA: 2:14 - loss: 0.3584 - acc: 0.866 - ETA: 2:13 - loss: 0.3583 - acc: 0.866 - ETA: 2:13 - loss: 0.3583 - acc: 0.866 - ETA: 2:12 - loss: 0.3584 - acc: 0.866 - ETA: 2:11 - loss: 0.3584 - acc: 0.866 - ETA: 2:11 - loss: 0.3583 - acc: 0.866 - ETA: 2:10 - loss: 0.3583 - acc: 0.866 - ETA: 2:10 - loss: 0.3584 - acc: 0.866 - ETA: 2:09 - loss: 0.3583 - acc: 0.866 - ETA: 2:08 - loss: 0.3583 - acc: 0.866 - ETA: 2:08 - loss: 0.3583 - acc: 0.866 - ETA: 2:07 - loss: 0.3584 - acc: 0.866 - ETA: 2:06 - loss: 0.3584 - acc: 0.866 - ETA: 2:06 - loss: 0.3584 - acc: 0.866 - ETA: 2:05 - loss: 0.3584 - acc: 0.866 - ETA: 2:05 - loss: 0.3584 - acc: 0.866 - ETA: 2:04 - loss: 0.3584 - acc: 0.866 - ETA: 2:03 - loss: 0.3582 - acc: 0.866 - ETA: 2:03 - loss: 0.3582 - acc: 0.866 - ETA: 2:02 - loss: 0.3581 - acc: 0.867 - ETA: 2:01 - loss: 0.3582 - acc: 0.866 - ETA: 2:01 - loss: 0.3582 - acc: 0.866 - ETA: 2:00 - loss: 0.3581 - acc: 0.867 - ETA: 2:00 - loss: 0.3582 - acc: 0.866 - ETA: 1:59 - loss: 0.3582 - acc: 0.866 - ETA: 1:58 - loss: 0.3582 - acc: 0.866 - ETA: 1:58 - loss: 0.3582 - acc: 0.866 - ETA: 1:57 - loss: 0.3582 - acc: 0.866 - ETA: 1:57 - loss: 0.3583 - acc: 0.866 - ETA: 1:56 - loss: 0.3583 - acc: 0.866 - ETA: 1:55 - loss: 0.3581 - acc: 0.866 - ETA: 1:55 - loss: 0.3583 - acc: 0.866 - ETA: 1:54 - loss: 0.3583 - acc: 0.866 - ETA: 1:53 - loss: 0.3583 - acc: 0.866 - ETA: 1:53 - loss: 0.3582 - acc: 0.866 - ETA: 1:52 - loss: 0.3582 - acc: 0.866 - ETA: 1:52 - loss: 0.3581 - acc: 0.866 - ETA: 1:51 - loss: 0.3581 - acc: 0.866 - ETA: 1:50 - loss: 0.3580 - acc: 0.866 - ETA: 1:50 - loss: 0.3580 - acc: 0.866 - ETA: 1:49 - loss: 0.3580 - acc: 0.866 - ETA: 1:49 - loss: 0.3580 - acc: 0.866 - ETA: 1:48 - loss: 0.3581 - acc: 0.866 - ETA: 1:47 - loss: 0.3580 - acc: 0.866 - ETA: 1:47 - loss: 0.3580 - acc: 0.866 - ETA: 1:46 - loss: 0.3579 - acc: 0.866 - ETA: 1:45 - loss: 0.3580 - acc: 0.866 - ETA: 1:45 - loss: 0.3580 - acc: 0.866 - ETA: 1:44 - loss: 0.3579 - acc: 0.866 - ETA: 1:44 - loss: 0.3579 - acc: 0.866 - ETA: 1:43 - loss: 0.3578 - acc: 0.866 - ETA: 1:42 - loss: 0.3578 - acc: 0.866 - ETA: 1:42 - loss: 0.3577 - acc: 0.866 - ETA: 1:41 - loss: 0.3577 - acc: 0.866 - ETA: 1:41 - loss: 0.3577 - acc: 0.866 - ETA: 1:40 - loss: 0.3576 - acc: 0.866 - ETA: 1:39 - loss: 0.3576 - acc: 0.866 - ETA: 1:39 - loss: 0.3575 - acc: 0.866 - ETA: 1:38 - loss: 0.3575 - acc: 0.866 - ETA: 1:37 - loss: 0.3575 - acc: 0.866 - ETA: 1:37 - loss: 0.3574 - acc: 0.866 - ETA: 1:36 - loss: 0.3574 - acc: 0.866 - ETA: 1:36 - loss: 0.3573 - acc: 0.867 - ETA: 1:35 - loss: 0.3574 - acc: 0.867 - ETA: 1:34 - loss: 0.3574 - acc: 0.866 - ETA: 1:34 - loss: 0.3574 - acc: 0.866 - ETA: 1:33 - loss: 0.3573 - acc: 0.867 - ETA: 1:33 - loss: 0.3573 - acc: 0.867 - ETA: 1:32 - loss: 0.3573 - acc: 0.867 - ETA: 1:31 - loss: 0.3572 - acc: 0.867 - ETA: 1:31 - loss: 0.3572 - acc: 0.867 - ETA: 1:30 - loss: 0.3571 - acc: 0.867 - ETA: 1:30 - loss: 0.3570 - acc: 0.867 - ETA: 1:29 - loss: 0.3568 - acc: 0.867 - ETA: 1:28 - loss: 0.3568 - acc: 0.867 - ETA: 1:28 - loss: 0.3569 - acc: 0.867 - ETA: 1:27 - loss: 0.3568 - acc: 0.867 - ETA: 1:27 - loss: 0.3568 - acc: 0.867 - ETA: 1:26 - loss: 0.3568 - acc: 0.867 - ETA: 1:25 - loss: 0.3568 - acc: 0.867 - ETA: 1:25 - loss: 0.3567 - acc: 0.867 - ETA: 1:24 - loss: 0.3567 - acc: 0.867 - ETA: 1:24 - loss: 0.3567 - acc: 0.867 - ETA: 1:23 - loss: 0.3567 - acc: 0.867 - ETA: 1:22 - loss: 0.3567 - acc: 0.867 - ETA: 1:22 - loss: 0.3567 - acc: 0.867 - ETA: 1:21 - loss: 0.3567 - acc: 0.867 - ETA: 1:20 - loss: 0.3566 - acc: 0.867 - ETA: 1:20 - loss: 0.3565 - acc: 0.867 - ETA: 1:19 - loss: 0.3566 - acc: 0.867 - ETA: 1:19 - loss: 0.3567 - acc: 0.867 - ETA: 1:18 - loss: 0.3566 - acc: 0.867 - ETA: 1:17 - loss: 0.3566 - acc: 0.867 - ETA: 1:17 - loss: 0.3566 - acc: 0.867 - ETA: 1:16 - loss: 0.3566 - acc: 0.867 - ETA: 1:16 - loss: 0.3567 - acc: 0.867 - ETA: 1:15 - loss: 0.3566 - acc: 0.867 - ETA: 1:14 - loss: 0.3566 - acc: 0.867 - ETA: 1:14 - loss: 0.3566 - acc: 0.867 - ETA: 1:13 - loss: 0.3566 - acc: 0.867 - ETA: 1:13 - loss: 0.3564 - acc: 0.867 - ETA: 1:12 - loss: 0.3565 - acc: 0.867 - ETA: 1:11 - loss: 0.3565 - acc: 0.867 - ETA: 1:11 - loss: 0.3565 - acc: 0.867 - ETA: 1:10 - loss: 0.3565 - acc: 0.867 - ETA: 1:10 - loss: 0.3565 - acc: 0.867 - ETA: 1:09 - loss: 0.3565 - acc: 0.867 - ETA: 1:08 - loss: 0.3565 - acc: 0.867 - ETA: 1:08 - loss: 0.3566 - acc: 0.867 - ETA: 1:07 - loss: 0.3565 - acc: 0.867 - ETA: 1:07 - loss: 0.3565 - acc: 0.867 - ETA: 1:06 - loss: 0.3565 - acc: 0.867 - ETA: 1:05 - loss: 0.3565 - acc: 0.867 - ETA: 1:05 - loss: 0.3565 - acc: 0.867 - ETA: 1:04 - loss: 0.3565 - acc: 0.867 - ETA: 1:04 - loss: 0.3564 - acc: 0.867 - ETA: 1:03 - loss: 0.3565 - acc: 0.867 - ETA: 1:02 - loss: 0.3564 - acc: 0.867 - ETA: 1:02 - loss: 0.3564 - acc: 0.867 - ETA: 1:01 - loss: 0.3564 - acc: 0.867 - ETA: 1:01 - loss: 0.3565 - acc: 0.867 - ETA: 1:00 - loss: 0.3565 - acc: 0.867 - ETA: 59s - loss: 0.3565 - acc: 0.867 - ETA: 59s - loss: 0.3564 - acc: 0.86 - ETA: 58s - loss: 0.3564 - acc: 0.86 - ETA: 58s - loss: 0.3564 - acc: 0.86 - ETA: 57s - loss: 0.3564 - acc: 0.86 - ETA: 56s - loss: 0.3564 - acc: 0.86 - ETA: 56s - loss: 0.3565 - acc: 0.86 - ETA: 55s - loss: 0.3565 - acc: 0.86 - ETA: 55s - loss: 0.3566 - acc: 0.86 - ETA: 54s - loss: 0.3565 - acc: 0.86 - ETA: 53s - loss: 0.3565 - acc: 0.86 - ETA: 53s - loss: 0.3565 - acc: 0.86 - ETA: 52s - loss: 0.3564 - acc: 0.86 - ETA: 52s - loss: 0.3564 - acc: 0.86 - ETA: 51s - loss: 0.3563 - acc: 0.86 - ETA: 50s - loss: 0.3563 - acc: 0.86 - ETA: 50s - loss: 0.3562 - acc: 0.86 - ETA: 49s - loss: 0.3562 - acc: 0.86 - ETA: 49s - loss: 0.3562 - acc: 0.86 - ETA: 48s - loss: 0.3562 - acc: 0.86 - ETA: 47s - loss: 0.3562 - acc: 0.86 - ETA: 47s - loss: 0.3561 - acc: 0.86 - ETA: 46s - loss: 0.3561 - acc: 0.86 - ETA: 46s - loss: 0.3562 - acc: 0.8671"
     ]
    },
    {
     "name": "stdout",
     "output_type": "stream",
     "text": [
      "487/486 [==============================] - ETA: 45s - loss: 0.3562 - acc: 0.86 - ETA: 45s - loss: 0.3562 - acc: 0.86 - ETA: 44s - loss: 0.3562 - acc: 0.86 - ETA: 43s - loss: 0.3563 - acc: 0.86 - ETA: 43s - loss: 0.3563 - acc: 0.86 - ETA: 42s - loss: 0.3563 - acc: 0.86 - ETA: 42s - loss: 0.3563 - acc: 0.86 - ETA: 41s - loss: 0.3562 - acc: 0.86 - ETA: 40s - loss: 0.3562 - acc: 0.86 - ETA: 40s - loss: 0.3563 - acc: 0.86 - ETA: 39s - loss: 0.3563 - acc: 0.86 - ETA: 39s - loss: 0.3563 - acc: 0.86 - ETA: 38s - loss: 0.3563 - acc: 0.86 - ETA: 37s - loss: 0.3564 - acc: 0.86 - ETA: 37s - loss: 0.3564 - acc: 0.86 - ETA: 36s - loss: 0.3564 - acc: 0.86 - ETA: 36s - loss: 0.3564 - acc: 0.86 - ETA: 35s - loss: 0.3564 - acc: 0.86 - ETA: 34s - loss: 0.3563 - acc: 0.86 - ETA: 34s - loss: 0.3563 - acc: 0.86 - ETA: 33s - loss: 0.3563 - acc: 0.86 - ETA: 33s - loss: 0.3563 - acc: 0.86 - ETA: 32s - loss: 0.3563 - acc: 0.86 - ETA: 31s - loss: 0.3562 - acc: 0.86 - ETA: 31s - loss: 0.3562 - acc: 0.86 - ETA: 30s - loss: 0.3562 - acc: 0.86 - ETA: 30s - loss: 0.3562 - acc: 0.86 - ETA: 29s - loss: 0.3562 - acc: 0.86 - ETA: 28s - loss: 0.3561 - acc: 0.86 - ETA: 28s - loss: 0.3561 - acc: 0.86 - ETA: 27s - loss: 0.3562 - acc: 0.86 - ETA: 27s - loss: 0.3562 - acc: 0.86 - ETA: 26s - loss: 0.3562 - acc: 0.86 - ETA: 25s - loss: 0.3562 - acc: 0.86 - ETA: 25s - loss: 0.3563 - acc: 0.86 - ETA: 24s - loss: 0.3564 - acc: 0.86 - ETA: 24s - loss: 0.3564 - acc: 0.86 - ETA: 23s - loss: 0.3563 - acc: 0.86 - ETA: 23s - loss: 0.3564 - acc: 0.86 - ETA: 22s - loss: 0.3564 - acc: 0.86 - ETA: 21s - loss: 0.3564 - acc: 0.86 - ETA: 21s - loss: 0.3564 - acc: 0.86 - ETA: 20s - loss: 0.3563 - acc: 0.86 - ETA: 20s - loss: 0.3563 - acc: 0.86 - ETA: 19s - loss: 0.3563 - acc: 0.86 - ETA: 18s - loss: 0.3563 - acc: 0.86 - ETA: 18s - loss: 0.3563 - acc: 0.86 - ETA: 17s - loss: 0.3563 - acc: 0.86 - ETA: 17s - loss: 0.3563 - acc: 0.86 - ETA: 16s - loss: 0.3562 - acc: 0.86 - ETA: 15s - loss: 0.3562 - acc: 0.86 - ETA: 15s - loss: 0.3561 - acc: 0.86 - ETA: 14s - loss: 0.3561 - acc: 0.86 - ETA: 14s - loss: 0.3560 - acc: 0.86 - ETA: 13s - loss: 0.3561 - acc: 0.86 - ETA: 12s - loss: 0.3560 - acc: 0.86 - ETA: 12s - loss: 0.3560 - acc: 0.86 - ETA: 11s - loss: 0.3560 - acc: 0.86 - ETA: 11s - loss: 0.3561 - acc: 0.86 - ETA: 10s - loss: 0.3561 - acc: 0.86 - ETA: 9s - loss: 0.3561 - acc: 0.8667 - ETA: 9s - loss: 0.3561 - acc: 0.866 - ETA: 8s - loss: 0.3561 - acc: 0.866 - ETA: 8s - loss: 0.3561 - acc: 0.866 - ETA: 7s - loss: 0.3560 - acc: 0.866 - ETA: 7s - loss: 0.3561 - acc: 0.866 - ETA: 6s - loss: 0.3561 - acc: 0.866 - ETA: 5s - loss: 0.3560 - acc: 0.866 - ETA: 5s - loss: 0.3560 - acc: 0.866 - ETA: 4s - loss: 0.3560 - acc: 0.866 - ETA: 4s - loss: 0.3560 - acc: 0.866 - ETA: 3s - loss: 0.3560 - acc: 0.866 - ETA: 2s - loss: 0.3560 - acc: 0.866 - ETA: 2s - loss: 0.3559 - acc: 0.866 - ETA: 1s - loss: 0.3559 - acc: 0.866 - ETA: 1s - loss: 0.3559 - acc: 0.866 - ETA: 0s - loss: 0.3558 - acc: 0.866 - 336s 689ms/step - loss: 0.3558 - acc: 0.8668 - val_loss: 0.3458 - val_acc: 0.8684\n",
      "Epoch 2/2\n"
     ]
    },
    {
     "name": "stdout",
     "output_type": "stream",
     "text": [
      "204/486 [===========>..................] - ETA: 4:47 - loss: 0.3371 - acc: 0.867 - ETA: 4:48 - loss: 0.3463 - acc: 0.863 - ETA: 4:48 - loss: 0.3415 - acc: 0.870 - ETA: 4:46 - loss: 0.3471 - acc: 0.866 - ETA: 4:46 - loss: 0.3459 - acc: 0.867 - ETA: 4:45 - loss: 0.3457 - acc: 0.867 - ETA: 4:44 - loss: 0.3443 - acc: 0.867 - ETA: 4:47 - loss: 0.3477 - acc: 0.865 - ETA: 4:48 - loss: 0.3485 - acc: 0.864 - ETA: 4:51 - loss: 0.3477 - acc: 0.866 - ETA: 4:53 - loss: 0.3452 - acc: 0.867 - ETA: 4:54 - loss: 0.3454 - acc: 0.866 - ETA: 4:55 - loss: 0.3473 - acc: 0.865 - ETA: 4:57 - loss: 0.3462 - acc: 0.866 - ETA: 5:00 - loss: 0.3482 - acc: 0.866 - ETA: 5:03 - loss: 0.3459 - acc: 0.867 - ETA: 5:06 - loss: 0.3442 - acc: 0.868 - ETA: 5:04 - loss: 0.3435 - acc: 0.868 - ETA: 5:02 - loss: 0.3440 - acc: 0.868 - ETA: 5:02 - loss: 0.3438 - acc: 0.868 - ETA: 5:01 - loss: 0.3427 - acc: 0.869 - ETA: 5:02 - loss: 0.3429 - acc: 0.869 - ETA: 5:01 - loss: 0.3439 - acc: 0.868 - ETA: 5:02 - loss: 0.3435 - acc: 0.868 - ETA: 5:01 - loss: 0.3432 - acc: 0.869 - ETA: 5:00 - loss: 0.3431 - acc: 0.869 - ETA: 5:00 - loss: 0.3425 - acc: 0.869 - ETA: 4:59 - loss: 0.3421 - acc: 0.868 - ETA: 4:58 - loss: 0.3421 - acc: 0.868 - ETA: 4:57 - loss: 0.3413 - acc: 0.869 - ETA: 4:55 - loss: 0.3409 - acc: 0.869 - ETA: 4:53 - loss: 0.3404 - acc: 0.869 - ETA: 4:51 - loss: 0.3403 - acc: 0.869 - ETA: 4:50 - loss: 0.3406 - acc: 0.869 - ETA: 4:48 - loss: 0.3412 - acc: 0.869 - ETA: 4:47 - loss: 0.3421 - acc: 0.868 - ETA: 4:45 - loss: 0.3429 - acc: 0.868 - ETA: 4:45 - loss: 0.3422 - acc: 0.869 - ETA: 4:45 - loss: 0.3426 - acc: 0.869 - ETA: 4:45 - loss: 0.3431 - acc: 0.868 - ETA: 4:43 - loss: 0.3438 - acc: 0.868 - ETA: 4:42 - loss: 0.3433 - acc: 0.868 - ETA: 4:41 - loss: 0.3432 - acc: 0.868 - ETA: 4:40 - loss: 0.3432 - acc: 0.868 - ETA: 4:39 - loss: 0.3427 - acc: 0.868 - ETA: 4:38 - loss: 0.3433 - acc: 0.868 - ETA: 4:37 - loss: 0.3434 - acc: 0.868 - ETA: 4:36 - loss: 0.3431 - acc: 0.868 - ETA: 4:36 - loss: 0.3436 - acc: 0.868 - ETA: 4:35 - loss: 0.3442 - acc: 0.867 - ETA: 4:34 - loss: 0.3450 - acc: 0.867 - ETA: 4:34 - loss: 0.3453 - acc: 0.867 - ETA: 4:33 - loss: 0.3454 - acc: 0.867 - ETA: 4:32 - loss: 0.3456 - acc: 0.867 - ETA: 4:31 - loss: 0.3451 - acc: 0.867 - ETA: 4:30 - loss: 0.3453 - acc: 0.867 - ETA: 4:29 - loss: 0.3450 - acc: 0.867 - ETA: 4:29 - loss: 0.3454 - acc: 0.867 - ETA: 4:28 - loss: 0.3453 - acc: 0.867 - ETA: 4:27 - loss: 0.3455 - acc: 0.867 - ETA: 4:26 - loss: 0.3454 - acc: 0.867 - ETA: 4:25 - loss: 0.3455 - acc: 0.867 - ETA: 4:24 - loss: 0.3456 - acc: 0.867 - ETA: 4:23 - loss: 0.3462 - acc: 0.866 - ETA: 4:23 - loss: 0.3464 - acc: 0.866 - ETA: 4:22 - loss: 0.3462 - acc: 0.866 - ETA: 4:22 - loss: 0.3460 - acc: 0.866 - ETA: 4:21 - loss: 0.3458 - acc: 0.866 - ETA: 4:20 - loss: 0.3461 - acc: 0.866 - ETA: 4:19 - loss: 0.3463 - acc: 0.866 - ETA: 4:18 - loss: 0.3468 - acc: 0.866 - ETA: 4:17 - loss: 0.3469 - acc: 0.866 - ETA: 4:16 - loss: 0.3465 - acc: 0.866 - ETA: 4:16 - loss: 0.3463 - acc: 0.866 - ETA: 4:15 - loss: 0.3467 - acc: 0.866 - ETA: 4:14 - loss: 0.3466 - acc: 0.866 - ETA: 4:13 - loss: 0.3465 - acc: 0.866 - ETA: 4:13 - loss: 0.3468 - acc: 0.866 - ETA: 4:12 - loss: 0.3470 - acc: 0.866 - ETA: 4:12 - loss: 0.3470 - acc: 0.866 - ETA: 4:11 - loss: 0.3471 - acc: 0.866 - ETA: 4:10 - loss: 0.3471 - acc: 0.866 - ETA: 4:09 - loss: 0.3472 - acc: 0.866 - ETA: 4:09 - loss: 0.3470 - acc: 0.866 - ETA: 4:09 - loss: 0.3468 - acc: 0.866 - ETA: 4:09 - loss: 0.3468 - acc: 0.866 - ETA: 4:08 - loss: 0.3467 - acc: 0.866 - ETA: 4:08 - loss: 0.3464 - acc: 0.866 - ETA: 4:07 - loss: 0.3461 - acc: 0.866 - ETA: 4:06 - loss: 0.3457 - acc: 0.866 - ETA: 4:06 - loss: 0.3459 - acc: 0.866 - ETA: 4:05 - loss: 0.3459 - acc: 0.866 - ETA: 4:04 - loss: 0.3458 - acc: 0.866 - ETA: 4:03 - loss: 0.3459 - acc: 0.866 - ETA: 4:03 - loss: 0.3458 - acc: 0.866 - ETA: 4:02 - loss: 0.3458 - acc: 0.866 - ETA: 4:01 - loss: 0.3460 - acc: 0.866 - ETA: 4:01 - loss: 0.3458 - acc: 0.866 - ETA: 4:00 - loss: 0.3455 - acc: 0.866 - ETA: 3:59 - loss: 0.3452 - acc: 0.867 - ETA: 3:59 - loss: 0.3450 - acc: 0.867 - ETA: 3:58 - loss: 0.3449 - acc: 0.867 - ETA: 3:57 - loss: 0.3445 - acc: 0.867 - ETA: 3:56 - loss: 0.3444 - acc: 0.867 - ETA: 3:56 - loss: 0.3446 - acc: 0.867 - ETA: 3:55 - loss: 0.3444 - acc: 0.867 - ETA: 3:55 - loss: 0.3444 - acc: 0.867 - ETA: 3:55 - loss: 0.3446 - acc: 0.867 - ETA: 3:54 - loss: 0.3444 - acc: 0.867 - ETA: 3:54 - loss: 0.3444 - acc: 0.867 - ETA: 3:53 - loss: 0.3444 - acc: 0.867 - ETA: 3:52 - loss: 0.3446 - acc: 0.867 - ETA: 3:51 - loss: 0.3446 - acc: 0.867 - ETA: 3:51 - loss: 0.3444 - acc: 0.867 - ETA: 3:51 - loss: 0.3447 - acc: 0.867 - ETA: 3:50 - loss: 0.3445 - acc: 0.867 - ETA: 3:49 - loss: 0.3449 - acc: 0.867 - ETA: 3:48 - loss: 0.3446 - acc: 0.867 - ETA: 3:48 - loss: 0.3445 - acc: 0.867 - ETA: 3:47 - loss: 0.3444 - acc: 0.867 - ETA: 3:46 - loss: 0.3446 - acc: 0.867 - ETA: 3:46 - loss: 0.3449 - acc: 0.867 - ETA: 3:45 - loss: 0.3447 - acc: 0.867 - ETA: 3:44 - loss: 0.3447 - acc: 0.867 - ETA: 3:44 - loss: 0.3448 - acc: 0.867 - ETA: 3:43 - loss: 0.3448 - acc: 0.867 - ETA: 3:42 - loss: 0.3451 - acc: 0.867 - ETA: 3:41 - loss: 0.3451 - acc: 0.867 - ETA: 3:41 - loss: 0.3452 - acc: 0.867 - ETA: 3:40 - loss: 0.3451 - acc: 0.867 - ETA: 3:39 - loss: 0.3449 - acc: 0.867 - ETA: 3:39 - loss: 0.3449 - acc: 0.867 - ETA: 3:38 - loss: 0.3447 - acc: 0.867 - ETA: 3:37 - loss: 0.3447 - acc: 0.867 - ETA: 3:37 - loss: 0.3447 - acc: 0.867 - ETA: 3:36 - loss: 0.3446 - acc: 0.867 - ETA: 3:35 - loss: 0.3444 - acc: 0.867 - ETA: 3:35 - loss: 0.3446 - acc: 0.867 - ETA: 3:34 - loss: 0.3447 - acc: 0.867 - ETA: 3:33 - loss: 0.3443 - acc: 0.868 - ETA: 3:33 - loss: 0.3442 - acc: 0.868 - ETA: 3:32 - loss: 0.3443 - acc: 0.868 - ETA: 3:31 - loss: 0.3443 - acc: 0.868 - ETA: 3:31 - loss: 0.3444 - acc: 0.868 - ETA: 3:30 - loss: 0.3443 - acc: 0.868 - ETA: 3:30 - loss: 0.3444 - acc: 0.868 - ETA: 3:29 - loss: 0.3443 - acc: 0.868 - ETA: 3:29 - loss: 0.3444 - acc: 0.868 - ETA: 3:28 - loss: 0.3445 - acc: 0.867 - ETA: 3:27 - loss: 0.3446 - acc: 0.867 - ETA: 3:27 - loss: 0.3445 - acc: 0.867 - ETA: 3:26 - loss: 0.3444 - acc: 0.868 - ETA: 3:25 - loss: 0.3445 - acc: 0.868 - ETA: 3:25 - loss: 0.3445 - acc: 0.868 - ETA: 3:24 - loss: 0.3443 - acc: 0.868 - ETA: 3:24 - loss: 0.3442 - acc: 0.868 - ETA: 3:23 - loss: 0.3443 - acc: 0.868 - ETA: 3:22 - loss: 0.3443 - acc: 0.868 - ETA: 3:21 - loss: 0.3445 - acc: 0.868 - ETA: 3:21 - loss: 0.3445 - acc: 0.868 - ETA: 3:20 - loss: 0.3442 - acc: 0.868 - ETA: 3:20 - loss: 0.3442 - acc: 0.868 - ETA: 3:19 - loss: 0.3441 - acc: 0.868 - ETA: 3:19 - loss: 0.3442 - acc: 0.868 - ETA: 3:18 - loss: 0.3441 - acc: 0.868 - ETA: 3:17 - loss: 0.3441 - acc: 0.868 - ETA: 3:17 - loss: 0.3442 - acc: 0.868 - ETA: 3:16 - loss: 0.3441 - acc: 0.868 - ETA: 3:15 - loss: 0.3440 - acc: 0.868 - ETA: 3:15 - loss: 0.3443 - acc: 0.867 - ETA: 3:14 - loss: 0.3444 - acc: 0.867 - ETA: 3:13 - loss: 0.3443 - acc: 0.867 - ETA: 3:13 - loss: 0.3442 - acc: 0.868 - ETA: 3:12 - loss: 0.3442 - acc: 0.868 - ETA: 3:11 - loss: 0.3440 - acc: 0.868 - ETA: 3:11 - loss: 0.3439 - acc: 0.868 - ETA: 3:10 - loss: 0.3439 - acc: 0.868 - ETA: 3:10 - loss: 0.3440 - acc: 0.868 - ETA: 3:09 - loss: 0.3438 - acc: 0.868 - ETA: 3:08 - loss: 0.3439 - acc: 0.868 - ETA: 3:08 - loss: 0.3437 - acc: 0.868 - ETA: 3:07 - loss: 0.3437 - acc: 0.868 - ETA: 3:06 - loss: 0.3435 - acc: 0.868 - ETA: 3:06 - loss: 0.3437 - acc: 0.868 - ETA: 3:05 - loss: 0.3437 - acc: 0.868 - ETA: 3:04 - loss: 0.3437 - acc: 0.868 - ETA: 3:04 - loss: 0.3437 - acc: 0.868 - ETA: 3:03 - loss: 0.3438 - acc: 0.868 - ETA: 3:02 - loss: 0.3438 - acc: 0.868 - ETA: 3:02 - loss: 0.3437 - acc: 0.868 - ETA: 3:01 - loss: 0.3438 - acc: 0.868 - ETA: 3:00 - loss: 0.3438 - acc: 0.868 - ETA: 3:00 - loss: 0.3439 - acc: 0.868 - ETA: 2:59 - loss: 0.3438 - acc: 0.868 - ETA: 2:59 - loss: 0.3435 - acc: 0.868 - ETA: 2:58 - loss: 0.3437 - acc: 0.868 - ETA: 2:57 - loss: 0.3439 - acc: 0.868 - ETA: 2:57 - loss: 0.3439 - acc: 0.868 - ETA: 2:56 - loss: 0.3439 - acc: 0.868 - ETA: 2:55 - loss: 0.3441 - acc: 0.868 - ETA: 2:55 - loss: 0.3439 - acc: 0.868 - ETA: 2:54 - loss: 0.3438 - acc: 0.868 - ETA: 2:53 - loss: 0.3439 - acc: 0.868 - ETA: 2:53 - loss: 0.3439 - acc: 0.8682"
     ]
    },
    {
     "name": "stdout",
     "output_type": "stream",
     "text": [
      "409/486 [========================>.....] - ETA: 2:52 - loss: 0.3440 - acc: 0.868 - ETA: 2:52 - loss: 0.3439 - acc: 0.868 - ETA: 2:51 - loss: 0.3439 - acc: 0.868 - ETA: 2:50 - loss: 0.3438 - acc: 0.868 - ETA: 2:50 - loss: 0.3438 - acc: 0.868 - ETA: 2:49 - loss: 0.3439 - acc: 0.868 - ETA: 2:48 - loss: 0.3439 - acc: 0.868 - ETA: 2:48 - loss: 0.3440 - acc: 0.868 - ETA: 2:47 - loss: 0.3439 - acc: 0.868 - ETA: 2:46 - loss: 0.3441 - acc: 0.868 - ETA: 2:46 - loss: 0.3441 - acc: 0.868 - ETA: 2:45 - loss: 0.3441 - acc: 0.868 - ETA: 2:44 - loss: 0.3441 - acc: 0.868 - ETA: 2:44 - loss: 0.3441 - acc: 0.868 - ETA: 2:43 - loss: 0.3443 - acc: 0.868 - ETA: 2:43 - loss: 0.3442 - acc: 0.868 - ETA: 2:42 - loss: 0.3441 - acc: 0.868 - ETA: 2:41 - loss: 0.3440 - acc: 0.868 - ETA: 2:41 - loss: 0.3440 - acc: 0.868 - ETA: 2:40 - loss: 0.3440 - acc: 0.868 - ETA: 2:39 - loss: 0.3440 - acc: 0.868 - ETA: 2:39 - loss: 0.3439 - acc: 0.868 - ETA: 2:38 - loss: 0.3439 - acc: 0.868 - ETA: 2:37 - loss: 0.3439 - acc: 0.868 - ETA: 2:37 - loss: 0.3438 - acc: 0.868 - ETA: 2:36 - loss: 0.3438 - acc: 0.868 - ETA: 2:36 - loss: 0.3438 - acc: 0.868 - ETA: 2:35 - loss: 0.3437 - acc: 0.868 - ETA: 2:34 - loss: 0.3438 - acc: 0.868 - ETA: 2:34 - loss: 0.3437 - acc: 0.868 - ETA: 2:33 - loss: 0.3437 - acc: 0.868 - ETA: 2:33 - loss: 0.3436 - acc: 0.868 - ETA: 2:32 - loss: 0.3439 - acc: 0.868 - ETA: 2:31 - loss: 0.3438 - acc: 0.868 - ETA: 2:31 - loss: 0.3438 - acc: 0.868 - ETA: 2:30 - loss: 0.3438 - acc: 0.868 - ETA: 2:30 - loss: 0.3437 - acc: 0.868 - ETA: 2:29 - loss: 0.3436 - acc: 0.868 - ETA: 2:28 - loss: 0.3436 - acc: 0.868 - ETA: 2:28 - loss: 0.3437 - acc: 0.868 - ETA: 2:27 - loss: 0.3437 - acc: 0.868 - ETA: 2:27 - loss: 0.3437 - acc: 0.868 - ETA: 2:26 - loss: 0.3436 - acc: 0.868 - ETA: 2:25 - loss: 0.3437 - acc: 0.868 - ETA: 2:25 - loss: 0.3437 - acc: 0.868 - ETA: 2:24 - loss: 0.3438 - acc: 0.868 - ETA: 2:23 - loss: 0.3438 - acc: 0.868 - ETA: 2:23 - loss: 0.3438 - acc: 0.868 - ETA: 2:22 - loss: 0.3438 - acc: 0.868 - ETA: 2:22 - loss: 0.3439 - acc: 0.868 - ETA: 2:22 - loss: 0.3440 - acc: 0.868 - ETA: 2:21 - loss: 0.3439 - acc: 0.868 - ETA: 2:20 - loss: 0.3440 - acc: 0.868 - ETA: 2:20 - loss: 0.3440 - acc: 0.868 - ETA: 2:19 - loss: 0.3440 - acc: 0.868 - ETA: 2:19 - loss: 0.3440 - acc: 0.868 - ETA: 2:18 - loss: 0.3439 - acc: 0.868 - ETA: 2:17 - loss: 0.3439 - acc: 0.868 - ETA: 2:17 - loss: 0.3440 - acc: 0.868 - ETA: 2:16 - loss: 0.3440 - acc: 0.868 - ETA: 2:16 - loss: 0.3439 - acc: 0.868 - ETA: 2:15 - loss: 0.3439 - acc: 0.868 - ETA: 2:14 - loss: 0.3439 - acc: 0.868 - ETA: 2:14 - loss: 0.3439 - acc: 0.868 - ETA: 2:13 - loss: 0.3439 - acc: 0.868 - ETA: 2:12 - loss: 0.3438 - acc: 0.868 - ETA: 2:12 - loss: 0.3438 - acc: 0.868 - ETA: 2:11 - loss: 0.3439 - acc: 0.868 - ETA: 2:11 - loss: 0.3440 - acc: 0.868 - ETA: 2:10 - loss: 0.3440 - acc: 0.868 - ETA: 2:09 - loss: 0.3439 - acc: 0.868 - ETA: 2:09 - loss: 0.3440 - acc: 0.868 - ETA: 2:08 - loss: 0.3440 - acc: 0.868 - ETA: 2:07 - loss: 0.3440 - acc: 0.868 - ETA: 2:07 - loss: 0.3440 - acc: 0.868 - ETA: 2:06 - loss: 0.3441 - acc: 0.868 - ETA: 2:06 - loss: 0.3441 - acc: 0.868 - ETA: 2:05 - loss: 0.3441 - acc: 0.868 - ETA: 2:04 - loss: 0.3441 - acc: 0.868 - ETA: 2:04 - loss: 0.3441 - acc: 0.868 - ETA: 2:03 - loss: 0.3441 - acc: 0.868 - ETA: 2:02 - loss: 0.3441 - acc: 0.868 - ETA: 2:02 - loss: 0.3441 - acc: 0.868 - ETA: 2:01 - loss: 0.3441 - acc: 0.868 - ETA: 2:00 - loss: 0.3441 - acc: 0.868 - ETA: 2:00 - loss: 0.3441 - acc: 0.868 - ETA: 1:59 - loss: 0.3442 - acc: 0.868 - ETA: 1:59 - loss: 0.3443 - acc: 0.868 - ETA: 1:58 - loss: 0.3443 - acc: 0.868 - ETA: 1:57 - loss: 0.3443 - acc: 0.868 - ETA: 1:57 - loss: 0.3442 - acc: 0.868 - ETA: 1:56 - loss: 0.3441 - acc: 0.868 - ETA: 1:56 - loss: 0.3440 - acc: 0.868 - ETA: 1:55 - loss: 0.3440 - acc: 0.868 - ETA: 1:54 - loss: 0.3440 - acc: 0.868 - ETA: 1:54 - loss: 0.3441 - acc: 0.868 - ETA: 1:53 - loss: 0.3441 - acc: 0.868 - ETA: 1:52 - loss: 0.3441 - acc: 0.868 - ETA: 1:52 - loss: 0.3441 - acc: 0.868 - ETA: 1:51 - loss: 0.3442 - acc: 0.868 - ETA: 1:51 - loss: 0.3442 - acc: 0.868 - ETA: 1:50 - loss: 0.3443 - acc: 0.868 - ETA: 1:49 - loss: 0.3444 - acc: 0.868 - ETA: 1:49 - loss: 0.3443 - acc: 0.868 - ETA: 1:48 - loss: 0.3444 - acc: 0.868 - ETA: 1:47 - loss: 0.3444 - acc: 0.868 - ETA: 1:47 - loss: 0.3444 - acc: 0.868 - ETA: 1:46 - loss: 0.3445 - acc: 0.868 - ETA: 1:46 - loss: 0.3445 - acc: 0.868 - ETA: 1:45 - loss: 0.3444 - acc: 0.868 - ETA: 1:44 - loss: 0.3443 - acc: 0.868 - ETA: 1:44 - loss: 0.3444 - acc: 0.868 - ETA: 1:43 - loss: 0.3443 - acc: 0.868 - ETA: 1:43 - loss: 0.3443 - acc: 0.868 - ETA: 1:42 - loss: 0.3444 - acc: 0.868 - ETA: 1:41 - loss: 0.3444 - acc: 0.868 - ETA: 1:41 - loss: 0.3444 - acc: 0.868 - ETA: 1:40 - loss: 0.3445 - acc: 0.868 - ETA: 1:40 - loss: 0.3445 - acc: 0.868 - ETA: 1:39 - loss: 0.3444 - acc: 0.868 - ETA: 1:38 - loss: 0.3444 - acc: 0.868 - ETA: 1:38 - loss: 0.3445 - acc: 0.868 - ETA: 1:37 - loss: 0.3445 - acc: 0.868 - ETA: 1:36 - loss: 0.3446 - acc: 0.868 - ETA: 1:36 - loss: 0.3447 - acc: 0.868 - ETA: 1:35 - loss: 0.3447 - acc: 0.868 - ETA: 1:35 - loss: 0.3447 - acc: 0.868 - ETA: 1:34 - loss: 0.3447 - acc: 0.868 - ETA: 1:33 - loss: 0.3447 - acc: 0.868 - ETA: 1:33 - loss: 0.3448 - acc: 0.868 - ETA: 1:32 - loss: 0.3448 - acc: 0.868 - ETA: 1:32 - loss: 0.3448 - acc: 0.868 - ETA: 1:31 - loss: 0.3448 - acc: 0.868 - ETA: 1:30 - loss: 0.3448 - acc: 0.868 - ETA: 1:30 - loss: 0.3449 - acc: 0.868 - ETA: 1:29 - loss: 0.3449 - acc: 0.867 - ETA: 1:28 - loss: 0.3449 - acc: 0.867 - ETA: 1:28 - loss: 0.3449 - acc: 0.867 - ETA: 1:27 - loss: 0.3450 - acc: 0.867 - ETA: 1:27 - loss: 0.3450 - acc: 0.867 - ETA: 1:26 - loss: 0.3449 - acc: 0.867 - ETA: 1:25 - loss: 0.3449 - acc: 0.867 - ETA: 1:25 - loss: 0.3449 - acc: 0.868 - ETA: 1:24 - loss: 0.3449 - acc: 0.868 - ETA: 1:24 - loss: 0.3450 - acc: 0.867 - ETA: 1:23 - loss: 0.3450 - acc: 0.867 - ETA: 1:22 - loss: 0.3450 - acc: 0.867 - ETA: 1:22 - loss: 0.3449 - acc: 0.867 - ETA: 1:21 - loss: 0.3450 - acc: 0.867 - ETA: 1:20 - loss: 0.3449 - acc: 0.867 - ETA: 1:20 - loss: 0.3449 - acc: 0.867 - ETA: 1:19 - loss: 0.3448 - acc: 0.868 - ETA: 1:19 - loss: 0.3449 - acc: 0.868 - ETA: 1:18 - loss: 0.3449 - acc: 0.868 - ETA: 1:17 - loss: 0.3449 - acc: 0.868 - ETA: 1:17 - loss: 0.3448 - acc: 0.868 - ETA: 1:16 - loss: 0.3448 - acc: 0.868 - ETA: 1:16 - loss: 0.3448 - acc: 0.868 - ETA: 1:15 - loss: 0.3447 - acc: 0.868 - ETA: 1:14 - loss: 0.3447 - acc: 0.868 - ETA: 1:14 - loss: 0.3447 - acc: 0.868 - ETA: 1:13 - loss: 0.3447 - acc: 0.868 - ETA: 1:13 - loss: 0.3448 - acc: 0.868 - ETA: 1:12 - loss: 0.3448 - acc: 0.868 - ETA: 1:11 - loss: 0.3448 - acc: 0.868 - ETA: 1:11 - loss: 0.3447 - acc: 0.868 - ETA: 1:10 - loss: 0.3447 - acc: 0.868 - ETA: 1:10 - loss: 0.3446 - acc: 0.868 - ETA: 1:09 - loss: 0.3446 - acc: 0.868 - ETA: 1:08 - loss: 0.3447 - acc: 0.868 - ETA: 1:08 - loss: 0.3447 - acc: 0.868 - ETA: 1:07 - loss: 0.3447 - acc: 0.868 - ETA: 1:07 - loss: 0.3448 - acc: 0.868 - ETA: 1:06 - loss: 0.3448 - acc: 0.868 - ETA: 1:05 - loss: 0.3448 - acc: 0.868 - ETA: 1:05 - loss: 0.3447 - acc: 0.868 - ETA: 1:04 - loss: 0.3447 - acc: 0.868 - ETA: 1:03 - loss: 0.3447 - acc: 0.868 - ETA: 1:03 - loss: 0.3447 - acc: 0.868 - ETA: 1:02 - loss: 0.3448 - acc: 0.868 - ETA: 1:02 - loss: 0.3448 - acc: 0.868 - ETA: 1:01 - loss: 0.3449 - acc: 0.868 - ETA: 1:00 - loss: 0.3449 - acc: 0.868 - ETA: 1:00 - loss: 0.3450 - acc: 0.868 - ETA: 59s - loss: 0.3450 - acc: 0.868 - ETA: 59s - loss: 0.3449 - acc: 0.86 - ETA: 58s - loss: 0.3450 - acc: 0.86 - ETA: 57s - loss: 0.3449 - acc: 0.86 - ETA: 57s - loss: 0.3449 - acc: 0.86 - ETA: 56s - loss: 0.3449 - acc: 0.86 - ETA: 55s - loss: 0.3450 - acc: 0.86 - ETA: 55s - loss: 0.3449 - acc: 0.86 - ETA: 54s - loss: 0.3449 - acc: 0.86 - ETA: 54s - loss: 0.3449 - acc: 0.86 - ETA: 53s - loss: 0.3449 - acc: 0.86 - ETA: 52s - loss: 0.3449 - acc: 0.86 - ETA: 52s - loss: 0.3450 - acc: 0.86 - ETA: 51s - loss: 0.3450 - acc: 0.86 - ETA: 51s - loss: 0.3450 - acc: 0.86 - ETA: 50s - loss: 0.3451 - acc: 0.86 - ETA: 49s - loss: 0.3452 - acc: 0.86 - ETA: 49s - loss: 0.3453 - acc: 0.86 - ETA: 48s - loss: 0.3453 - acc: 0.86 - ETA: 48s - loss: 0.3453 - acc: 0.86 - ETA: 47s - loss: 0.3453 - acc: 0.8679"
     ]
    },
    {
     "name": "stdout",
     "output_type": "stream",
     "text": [
      "487/486 [==============================] - ETA: 46s - loss: 0.3453 - acc: 0.86 - ETA: 46s - loss: 0.3453 - acc: 0.86 - ETA: 45s - loss: 0.3455 - acc: 0.86 - ETA: 45s - loss: 0.3455 - acc: 0.86 - ETA: 44s - loss: 0.3455 - acc: 0.86 - ETA: 43s - loss: 0.3455 - acc: 0.86 - ETA: 43s - loss: 0.3455 - acc: 0.86 - ETA: 42s - loss: 0.3455 - acc: 0.86 - ETA: 41s - loss: 0.3456 - acc: 0.86 - ETA: 41s - loss: 0.3456 - acc: 0.86 - ETA: 40s - loss: 0.3456 - acc: 0.86 - ETA: 40s - loss: 0.3455 - acc: 0.86 - ETA: 39s - loss: 0.3455 - acc: 0.86 - ETA: 38s - loss: 0.3455 - acc: 0.86 - ETA: 38s - loss: 0.3455 - acc: 0.86 - ETA: 37s - loss: 0.3455 - acc: 0.86 - ETA: 37s - loss: 0.3455 - acc: 0.86 - ETA: 36s - loss: 0.3455 - acc: 0.86 - ETA: 35s - loss: 0.3455 - acc: 0.86 - ETA: 35s - loss: 0.3455 - acc: 0.86 - ETA: 34s - loss: 0.3455 - acc: 0.86 - ETA: 33s - loss: 0.3455 - acc: 0.86 - ETA: 33s - loss: 0.3454 - acc: 0.86 - ETA: 32s - loss: 0.3454 - acc: 0.86 - ETA: 32s - loss: 0.3455 - acc: 0.86 - ETA: 31s - loss: 0.3455 - acc: 0.86 - ETA: 30s - loss: 0.3455 - acc: 0.86 - ETA: 30s - loss: 0.3454 - acc: 0.86 - ETA: 29s - loss: 0.3455 - acc: 0.86 - ETA: 29s - loss: 0.3454 - acc: 0.86 - ETA: 28s - loss: 0.3454 - acc: 0.86 - ETA: 27s - loss: 0.3454 - acc: 0.86 - ETA: 27s - loss: 0.3454 - acc: 0.86 - ETA: 26s - loss: 0.3454 - acc: 0.86 - ETA: 26s - loss: 0.3455 - acc: 0.86 - ETA: 25s - loss: 0.3454 - acc: 0.86 - ETA: 24s - loss: 0.3454 - acc: 0.86 - ETA: 24s - loss: 0.3454 - acc: 0.86 - ETA: 23s - loss: 0.3454 - acc: 0.86 - ETA: 22s - loss: 0.3454 - acc: 0.86 - ETA: 22s - loss: 0.3453 - acc: 0.86 - ETA: 21s - loss: 0.3453 - acc: 0.86 - ETA: 21s - loss: 0.3453 - acc: 0.86 - ETA: 20s - loss: 0.3453 - acc: 0.86 - ETA: 19s - loss: 0.3453 - acc: 0.86 - ETA: 19s - loss: 0.3453 - acc: 0.86 - ETA: 18s - loss: 0.3454 - acc: 0.86 - ETA: 18s - loss: 0.3454 - acc: 0.86 - ETA: 17s - loss: 0.3453 - acc: 0.86 - ETA: 16s - loss: 0.3454 - acc: 0.86 - ETA: 16s - loss: 0.3453 - acc: 0.86 - ETA: 15s - loss: 0.3454 - acc: 0.86 - ETA: 15s - loss: 0.3454 - acc: 0.86 - ETA: 14s - loss: 0.3454 - acc: 0.86 - ETA: 13s - loss: 0.3455 - acc: 0.86 - ETA: 13s - loss: 0.3454 - acc: 0.86 - ETA: 12s - loss: 0.3454 - acc: 0.86 - ETA: 12s - loss: 0.3454 - acc: 0.86 - ETA: 11s - loss: 0.3454 - acc: 0.86 - ETA: 10s - loss: 0.3454 - acc: 0.86 - ETA: 10s - loss: 0.3454 - acc: 0.86 - ETA: 9s - loss: 0.3454 - acc: 0.8681 - ETA: 9s - loss: 0.3454 - acc: 0.868 - ETA: 8s - loss: 0.3454 - acc: 0.868 - ETA: 7s - loss: 0.3454 - acc: 0.868 - ETA: 7s - loss: 0.3453 - acc: 0.868 - ETA: 6s - loss: 0.3453 - acc: 0.868 - ETA: 5s - loss: 0.3453 - acc: 0.868 - ETA: 5s - loss: 0.3453 - acc: 0.868 - ETA: 4s - loss: 0.3453 - acc: 0.868 - ETA: 4s - loss: 0.3452 - acc: 0.868 - ETA: 3s - loss: 0.3452 - acc: 0.868 - ETA: 2s - loss: 0.3452 - acc: 0.868 - ETA: 2s - loss: 0.3452 - acc: 0.868 - ETA: 1s - loss: 0.3453 - acc: 0.868 - ETA: 1s - loss: 0.3452 - acc: 0.868 - ETA: 0s - loss: 0.3452 - acc: 0.868 - 342s 702ms/step - loss: 0.3452 - acc: 0.8683 - val_loss: 0.3459 - val_acc: 0.8686\n"
     ]
    },
    {
     "data": {
      "text/plain": [
       "<keras.callbacks.History at 0x150110134a8>"
      ]
     },
     "execution_count": 72,
     "metadata": {},
     "output_type": "execute_result"
    }
   ],
   "source": [
    "model.fit_generator(generator=batch_generator_shuffle(x_train_tfidf, y_train[1], 1000),\n",
    "                    epochs=2, validation_data=(x_validation_tfidf, y_test[1]),\n",
    "                    steps_per_epoch=x_train_tfidf.shape[0]/1000, verbose=1)"
   ]
  },
  {
   "cell_type": "code",
   "execution_count": 77,
   "metadata": {},
   "outputs": [],
   "source": [
    "y_pred = model.predict(x_validation_tfidf)"
   ]
  },
  {
   "cell_type": "code",
   "execution_count": 98,
   "metadata": {},
   "outputs": [],
   "source": [
    "res = []\n",
    "\n",
    "for i in y_pred:\n",
    "    if i > 0.2:\n",
    "        res.append(1)\n",
    "    else:\n",
    "        res.append(0)"
   ]
  },
  {
   "cell_type": "code",
   "execution_count": 99,
   "metadata": {},
   "outputs": [
    {
     "name": "stdout",
     "output_type": "stream",
     "text": [
      "              precision    recall  f1-score   support\n",
      "\n",
      "           0       0.92      0.81      0.86    105656\n",
      "           1       0.29      0.51      0.37     16036\n",
      "\n",
      "   micro avg       0.77      0.77      0.77    121692\n",
      "   macro avg       0.60      0.66      0.61    121692\n",
      "weighted avg       0.83      0.77      0.79    121692\n",
      "\n"
     ]
    }
   ],
   "source": [
    "print(classification_report(y_test[1], res))"
   ]
  },
  {
   "cell_type": "code",
   "execution_count": null,
   "metadata": {},
   "outputs": [],
   "source": []
  },
  {
   "cell_type": "code",
   "execution_count": null,
   "metadata": {},
   "outputs": [],
   "source": []
  },
  {
   "cell_type": "markdown",
   "metadata": {},
   "source": [
    "## The main issue (other than a not so good dataset and not so straight problem) - CLASS IMBALANCE \n",
    "## There are two ways to tackle this issue: 1. Random Undersampling, 2. SMOTE(Over sampling)"
   ]
  },
  {
   "cell_type": "markdown",
   "metadata": {},
   "source": [
    "### Over Sampling"
   ]
  },
  {
   "cell_type": "code",
   "execution_count": 102,
   "metadata": {},
   "outputs": [],
   "source": [
    "from imblearn.over_sampling import SMOTE\n",
    "smt = SMOTE(k_neighbors=1)\n",
    "X_SMOTE, y_SMOTE = smt.fit_sample(x_train_tfidf, y_train[1])"
   ]
  },
  {
   "cell_type": "code",
   "execution_count": 108,
   "metadata": {},
   "outputs": [
    {
     "name": "stdout",
     "output_type": "stream",
     "text": [
      "(844726, 40000)\n"
     ]
    }
   ],
   "source": [
    "print(X_SMOTE.shape)"
   ]
  },
  {
   "cell_type": "code",
   "execution_count": 109,
   "metadata": {},
   "outputs": [
    {
     "name": "stdout",
     "output_type": "stream",
     "text": [
      "_________________________________________________________________\n",
      "Layer (type)                 Output Shape              Param #   \n",
      "=================================================================\n",
      "dense_30 (Dense)             (None, 256)               10240256  \n",
      "_________________________________________________________________\n",
      "dropout_16 (Dropout)         (None, 256)               0         \n",
      "_________________________________________________________________\n",
      "dense_31 (Dense)             (None, 128)               32896     \n",
      "_________________________________________________________________\n",
      "dropout_17 (Dropout)         (None, 128)               0         \n",
      "_________________________________________________________________\n",
      "dense_32 (Dense)             (None, 1)                 129       \n",
      "=================================================================\n",
      "Total params: 10,273,281\n",
      "Trainable params: 10,273,281\n",
      "Non-trainable params: 0\n",
      "_________________________________________________________________\n"
     ]
    }
   ],
   "source": [
    "model = Sequential()\n",
    "model.add(Dense(256, activation='relu', input_dim=40000))\n",
    "model.add(Dropout(0.3))\n",
    "model.add(Dense(128, activation='relu'))\n",
    "model.add(Dropout(0.3))\n",
    "model.add(Dense(1, activation='sigmoid'))\n",
    "model.compile(optimizer='rmsprop', loss='binary_crossentropy', metrics=['accuracy'])\n",
    "model.summary()"
   ]
  },
  {
   "cell_type": "code",
   "execution_count": 113,
   "metadata": {},
   "outputs": [],
   "source": [
    "def batch_generator_shuffle(X_data, y_data, batch_size):\n",
    "    samples_per_epoch = X_data.shape[0]\n",
    "    number_of_batches = samples_per_epoch/batch_size\n",
    "    counter=0\n",
    "    index = np.arange(np.shape(y_data)[0])\n",
    "    np.random.shuffle(index)\n",
    "    while 1:\n",
    "        index_batch = index[batch_size*counter:batch_size*(counter+1)]\n",
    "        X_batch = X_data[index_batch,:].toarray()\n",
    "        y_batch = y_data[y_data[index_batch]]\n",
    "        counter += 1\n",
    "        yield X_batch,y_batch\n",
    "        if (counter > number_of_batches):\n",
    "            np.random.shuffle(index)\n",
    "            counter=0"
   ]
  },
  {
   "cell_type": "code",
   "execution_count": 114,
   "metadata": {},
   "outputs": [
    {
     "name": "stdout",
     "output_type": "stream",
     "text": [
      "Epoch 1/2\n"
     ]
    },
    {
     "name": "stdout",
     "output_type": "stream",
     "text": [
      "204/486 [===========>..................] - ETA: 13:10 - loss: 0.6907 - acc: 0.84 - ETA: 8:58 - loss: 0.6564 - acc: 0.9245 - ETA: 7:34 - loss: 0.6104 - acc: 0.949 - ETA: 6:51 - loss: 0.5622 - acc: 0.962 - ETA: 6:24 - loss: 0.5138 - acc: 0.969 - ETA: 6:08 - loss: 0.4684 - acc: 0.974 - ETA: 5:55 - loss: 0.4299 - acc: 0.978 - ETA: 5:45 - loss: 0.3953 - acc: 0.981 - ETA: 5:37 - loss: 0.3656 - acc: 0.983 - ETA: 5:31 - loss: 0.3403 - acc: 0.984 - ETA: 5:26 - loss: 0.3174 - acc: 0.986 - ETA: 5:21 - loss: 0.2978 - acc: 0.987 - ETA: 5:17 - loss: 0.2800 - acc: 0.988 - ETA: 5:13 - loss: 0.2648 - acc: 0.989 - ETA: 5:10 - loss: 0.2509 - acc: 0.989 - ETA: 5:07 - loss: 0.2385 - acc: 0.990 - ETA: 5:04 - loss: 0.2269 - acc: 0.991 - ETA: 5:02 - loss: 0.2165 - acc: 0.991 - ETA: 5:00 - loss: 0.2069 - acc: 0.992 - ETA: 4:58 - loss: 0.1982 - acc: 0.992 - ETA: 4:57 - loss: 0.1903 - acc: 0.992 - ETA: 4:55 - loss: 0.1828 - acc: 0.993 - ETA: 4:53 - loss: 0.1759 - acc: 0.993 - ETA: 4:52 - loss: 0.1695 - acc: 0.993 - ETA: 4:50 - loss: 0.1636 - acc: 0.994 - ETA: 4:49 - loss: 0.1580 - acc: 0.994 - ETA: 4:48 - loss: 0.1527 - acc: 0.994 - ETA: 4:46 - loss: 0.1478 - acc: 0.994 - ETA: 4:45 - loss: 0.1433 - acc: 0.994 - ETA: 4:44 - loss: 0.1389 - acc: 0.995 - ETA: 4:43 - loss: 0.1349 - acc: 0.995 - ETA: 4:42 - loss: 0.1310 - acc: 0.995 - ETA: 4:41 - loss: 0.1274 - acc: 0.995 - ETA: 4:40 - loss: 0.1240 - acc: 0.995 - ETA: 4:39 - loss: 0.1207 - acc: 0.995 - ETA: 4:38 - loss: 0.1176 - acc: 0.995 - ETA: 4:37 - loss: 0.1146 - acc: 0.995 - ETA: 4:36 - loss: 0.1118 - acc: 0.996 - ETA: 4:35 - loss: 0.1092 - acc: 0.996 - ETA: 4:34 - loss: 0.1066 - acc: 0.996 - ETA: 4:33 - loss: 0.1042 - acc: 0.996 - ETA: 4:32 - loss: 0.1018 - acc: 0.996 - ETA: 4:32 - loss: 0.0996 - acc: 0.996 - ETA: 4:31 - loss: 0.0975 - acc: 0.996 - ETA: 4:31 - loss: 0.0954 - acc: 0.996 - ETA: 4:31 - loss: 0.0934 - acc: 0.996 - ETA: 4:30 - loss: 0.0915 - acc: 0.996 - ETA: 4:31 - loss: 0.0897 - acc: 0.996 - ETA: 4:33 - loss: 0.0879 - acc: 0.996 - ETA: 4:34 - loss: 0.0862 - acc: 0.997 - ETA: 4:34 - loss: 0.0846 - acc: 0.997 - ETA: 4:34 - loss: 0.0830 - acc: 0.997 - ETA: 4:36 - loss: 0.0815 - acc: 0.997 - ETA: 4:37 - loss: 0.0801 - acc: 0.997 - ETA: 4:38 - loss: 0.0787 - acc: 0.997 - ETA: 4:39 - loss: 0.0773 - acc: 0.997 - ETA: 4:39 - loss: 0.0760 - acc: 0.997 - ETA: 4:40 - loss: 0.0747 - acc: 0.997 - ETA: 4:41 - loss: 0.0735 - acc: 0.997 - ETA: 4:42 - loss: 0.0723 - acc: 0.997 - ETA: 4:43 - loss: 0.0711 - acc: 0.997 - ETA: 4:44 - loss: 0.0700 - acc: 0.997 - ETA: 4:44 - loss: 0.0689 - acc: 0.997 - ETA: 4:45 - loss: 0.0678 - acc: 0.997 - ETA: 4:47 - loss: 0.0668 - acc: 0.997 - ETA: 4:47 - loss: 0.0658 - acc: 0.997 - ETA: 4:47 - loss: 0.0649 - acc: 0.997 - ETA: 4:47 - loss: 0.0639 - acc: 0.997 - ETA: 4:47 - loss: 0.0630 - acc: 0.997 - ETA: 4:47 - loss: 0.0621 - acc: 0.997 - ETA: 4:47 - loss: 0.0613 - acc: 0.997 - ETA: 4:47 - loss: 0.0604 - acc: 0.997 - ETA: 4:47 - loss: 0.0596 - acc: 0.997 - ETA: 4:47 - loss: 0.0588 - acc: 0.998 - ETA: 4:47 - loss: 0.0580 - acc: 0.998 - ETA: 4:47 - loss: 0.0573 - acc: 0.998 - ETA: 4:46 - loss: 0.0566 - acc: 0.998 - ETA: 4:46 - loss: 0.0558 - acc: 0.998 - ETA: 4:46 - loss: 0.0551 - acc: 0.998 - ETA: 4:45 - loss: 0.0545 - acc: 0.998 - ETA: 4:45 - loss: 0.0538 - acc: 0.998 - ETA: 4:44 - loss: 0.0531 - acc: 0.998 - ETA: 4:43 - loss: 0.0525 - acc: 0.998 - ETA: 4:42 - loss: 0.0519 - acc: 0.998 - ETA: 4:41 - loss: 0.0513 - acc: 0.998 - ETA: 4:40 - loss: 0.0507 - acc: 0.998 - ETA: 4:40 - loss: 0.0501 - acc: 0.998 - ETA: 4:39 - loss: 0.0495 - acc: 0.998 - ETA: 4:38 - loss: 0.0490 - acc: 0.998 - ETA: 4:36 - loss: 0.0484 - acc: 0.998 - ETA: 4:35 - loss: 0.0479 - acc: 0.998 - ETA: 4:34 - loss: 0.0474 - acc: 0.998 - ETA: 4:33 - loss: 0.0469 - acc: 0.998 - ETA: 4:32 - loss: 0.0464 - acc: 0.998 - ETA: 4:31 - loss: 0.0459 - acc: 0.998 - ETA: 4:30 - loss: 0.0454 - acc: 0.998 - ETA: 4:30 - loss: 0.0450 - acc: 0.998 - ETA: 4:29 - loss: 0.0445 - acc: 0.998 - ETA: 4:28 - loss: 0.0441 - acc: 0.998 - ETA: 4:27 - loss: 0.0436 - acc: 0.998 - ETA: 4:26 - loss: 0.0432 - acc: 0.998 - ETA: 4:25 - loss: 0.0428 - acc: 0.998 - ETA: 4:25 - loss: 0.0424 - acc: 0.998 - ETA: 4:24 - loss: 0.0419 - acc: 0.998 - ETA: 4:23 - loss: 0.0415 - acc: 0.998 - ETA: 4:22 - loss: 0.0412 - acc: 0.998 - ETA: 4:21 - loss: 0.0408 - acc: 0.998 - ETA: 4:21 - loss: 0.0404 - acc: 0.998 - ETA: 4:20 - loss: 0.0400 - acc: 0.998 - ETA: 4:19 - loss: 0.0397 - acc: 0.998 - ETA: 4:18 - loss: 0.0393 - acc: 0.998 - ETA: 4:17 - loss: 0.0390 - acc: 0.998 - ETA: 4:17 - loss: 0.0386 - acc: 0.998 - ETA: 4:16 - loss: 0.0383 - acc: 0.998 - ETA: 4:15 - loss: 0.0379 - acc: 0.998 - ETA: 4:14 - loss: 0.0376 - acc: 0.998 - ETA: 4:13 - loss: 0.0373 - acc: 0.998 - ETA: 4:12 - loss: 0.0370 - acc: 0.998 - ETA: 4:11 - loss: 0.0367 - acc: 0.998 - ETA: 4:10 - loss: 0.0364 - acc: 0.998 - ETA: 4:09 - loss: 0.0361 - acc: 0.998 - ETA: 4:08 - loss: 0.0358 - acc: 0.998 - ETA: 4:07 - loss: 0.0355 - acc: 0.998 - ETA: 4:06 - loss: 0.0352 - acc: 0.998 - ETA: 4:05 - loss: 0.0349 - acc: 0.998 - ETA: 4:04 - loss: 0.0346 - acc: 0.998 - ETA: 4:04 - loss: 0.0344 - acc: 0.998 - ETA: 4:03 - loss: 0.0341 - acc: 0.998 - ETA: 4:02 - loss: 0.0338 - acc: 0.998 - ETA: 4:01 - loss: 0.0336 - acc: 0.998 - ETA: 4:00 - loss: 0.0333 - acc: 0.998 - ETA: 3:59 - loss: 0.0331 - acc: 0.998 - ETA: 3:59 - loss: 0.0328 - acc: 0.998 - ETA: 3:58 - loss: 0.0326 - acc: 0.998 - ETA: 3:57 - loss: 0.0323 - acc: 0.998 - ETA: 3:56 - loss: 0.0321 - acc: 0.998 - ETA: 3:55 - loss: 0.0319 - acc: 0.998 - ETA: 3:54 - loss: 0.0316 - acc: 0.998 - ETA: 3:54 - loss: 0.0314 - acc: 0.998 - ETA: 3:53 - loss: 0.0312 - acc: 0.998 - ETA: 3:53 - loss: 0.0310 - acc: 0.998 - ETA: 3:52 - loss: 0.0307 - acc: 0.998 - ETA: 3:51 - loss: 0.0305 - acc: 0.998 - ETA: 3:50 - loss: 0.0303 - acc: 0.999 - ETA: 3:49 - loss: 0.0301 - acc: 0.999 - ETA: 3:48 - loss: 0.0299 - acc: 0.999 - ETA: 3:48 - loss: 0.0297 - acc: 0.999 - ETA: 3:47 - loss: 0.0295 - acc: 0.999 - ETA: 3:46 - loss: 0.0293 - acc: 0.999 - ETA: 3:45 - loss: 0.0291 - acc: 0.999 - ETA: 3:44 - loss: 0.0289 - acc: 0.999 - ETA: 3:44 - loss: 0.0287 - acc: 0.999 - ETA: 3:43 - loss: 0.0285 - acc: 0.999 - ETA: 3:42 - loss: 0.0283 - acc: 0.999 - ETA: 3:41 - loss: 0.0282 - acc: 0.999 - ETA: 3:40 - loss: 0.0280 - acc: 0.999 - ETA: 3:40 - loss: 0.0278 - acc: 0.999 - ETA: 3:39 - loss: 0.0276 - acc: 0.999 - ETA: 3:38 - loss: 0.0274 - acc: 0.999 - ETA: 3:37 - loss: 0.0273 - acc: 0.999 - ETA: 3:38 - loss: 0.0271 - acc: 0.999 - ETA: 3:37 - loss: 0.0269 - acc: 0.999 - ETA: 3:37 - loss: 0.0268 - acc: 0.999 - ETA: 3:36 - loss: 0.0266 - acc: 0.999 - ETA: 3:36 - loss: 0.0265 - acc: 0.999 - ETA: 3:35 - loss: 0.0263 - acc: 0.999 - ETA: 3:35 - loss: 0.0261 - acc: 0.999 - ETA: 3:35 - loss: 0.0260 - acc: 0.999 - ETA: 3:35 - loss: 0.0258 - acc: 0.999 - ETA: 3:34 - loss: 0.0257 - acc: 0.999 - ETA: 3:34 - loss: 0.0255 - acc: 0.999 - ETA: 3:33 - loss: 0.0254 - acc: 0.999 - ETA: 3:33 - loss: 0.0252 - acc: 0.999 - ETA: 3:32 - loss: 0.0251 - acc: 0.999 - ETA: 3:31 - loss: 0.0249 - acc: 0.999 - ETA: 3:30 - loss: 0.0248 - acc: 0.999 - ETA: 3:29 - loss: 0.0247 - acc: 0.999 - ETA: 3:29 - loss: 0.0245 - acc: 0.999 - ETA: 3:28 - loss: 0.0244 - acc: 0.999 - ETA: 3:27 - loss: 0.0242 - acc: 0.999 - ETA: 3:26 - loss: 0.0241 - acc: 0.999 - ETA: 3:25 - loss: 0.0240 - acc: 0.999 - ETA: 3:25 - loss: 0.0238 - acc: 0.999 - ETA: 3:24 - loss: 0.0237 - acc: 0.999 - ETA: 3:23 - loss: 0.0236 - acc: 0.999 - ETA: 3:22 - loss: 0.0235 - acc: 0.999 - ETA: 3:22 - loss: 0.0233 - acc: 0.999 - ETA: 3:21 - loss: 0.0232 - acc: 0.999 - ETA: 3:20 - loss: 0.0231 - acc: 0.999 - ETA: 3:19 - loss: 0.0230 - acc: 0.999 - ETA: 3:18 - loss: 0.0229 - acc: 0.999 - ETA: 3:18 - loss: 0.0227 - acc: 0.999 - ETA: 3:17 - loss: 0.0226 - acc: 0.999 - ETA: 3:16 - loss: 0.0225 - acc: 0.999 - ETA: 3:15 - loss: 0.0224 - acc: 0.999 - ETA: 3:15 - loss: 0.0223 - acc: 0.999 - ETA: 3:14 - loss: 0.0222 - acc: 0.999 - ETA: 3:14 - loss: 0.0220 - acc: 0.999 - ETA: 3:13 - loss: 0.0219 - acc: 0.999 - ETA: 3:12 - loss: 0.0218 - acc: 0.999 - ETA: 3:11 - loss: 0.0217 - acc: 0.999 - ETA: 3:11 - loss: 0.0216 - acc: 0.999 - ETA: 3:10 - loss: 0.0215 - acc: 0.999 - ETA: 3:10 - loss: 0.0214 - acc: 0.9993\b\b\b\b\b\b\b\b\b\b\b\b\b\b\b\b\b\b\b\b\b\b\b\b\b\b\b\b\b\b\b\b\b\b\b\b\b\b\b\b\b\b\b\b\b\b\b\b\b\b\b\b\b\b\b\b\b\b\b\b\b\b\b\b\b\b\b\b\b\b\b\b\b\b\b\b\b\b\b\b\b"
     ]
    },
    {
     "name": "stdout",
     "output_type": "stream",
     "text": [
      "409/486 [========================>.....] - ETA: 3:09 - loss: 0.0213 - acc: 0.999 - ETA: 3:09 - loss: 0.0212 - acc: 0.999 - ETA: 3:08 - loss: 0.0211 - acc: 0.999 - ETA: 3:07 - loss: 0.0210 - acc: 0.999 - ETA: 3:06 - loss: 0.0209 - acc: 0.999 - ETA: 3:06 - loss: 0.0208 - acc: 0.999 - ETA: 3:05 - loss: 0.0207 - acc: 0.999 - ETA: 3:04 - loss: 0.0206 - acc: 0.999 - ETA: 3:03 - loss: 0.0205 - acc: 0.999 - ETA: 3:03 - loss: 0.0204 - acc: 0.999 - ETA: 3:02 - loss: 0.0203 - acc: 0.999 - ETA: 3:01 - loss: 0.0202 - acc: 0.999 - ETA: 3:01 - loss: 0.0201 - acc: 0.999 - ETA: 3:00 - loss: 0.0200 - acc: 0.999 - ETA: 2:59 - loss: 0.0199 - acc: 0.999 - ETA: 2:58 - loss: 0.0198 - acc: 0.999 - ETA: 2:58 - loss: 0.0197 - acc: 0.999 - ETA: 2:57 - loss: 0.0197 - acc: 0.999 - ETA: 2:56 - loss: 0.0196 - acc: 0.999 - ETA: 2:55 - loss: 0.0195 - acc: 0.999 - ETA: 2:55 - loss: 0.0194 - acc: 0.999 - ETA: 2:54 - loss: 0.0193 - acc: 0.999 - ETA: 2:53 - loss: 0.0192 - acc: 0.999 - ETA: 2:52 - loss: 0.0191 - acc: 0.999 - ETA: 2:52 - loss: 0.0191 - acc: 0.999 - ETA: 2:51 - loss: 0.0190 - acc: 0.999 - ETA: 2:50 - loss: 0.0189 - acc: 0.999 - ETA: 2:49 - loss: 0.0188 - acc: 0.999 - ETA: 2:49 - loss: 0.0187 - acc: 0.999 - ETA: 2:48 - loss: 0.0187 - acc: 0.999 - ETA: 2:47 - loss: 0.0186 - acc: 0.999 - ETA: 2:46 - loss: 0.0185 - acc: 0.999 - ETA: 2:46 - loss: 0.0184 - acc: 0.999 - ETA: 2:45 - loss: 0.0183 - acc: 0.999 - ETA: 2:44 - loss: 0.0183 - acc: 0.999 - ETA: 2:43 - loss: 0.0182 - acc: 0.999 - ETA: 2:43 - loss: 0.0181 - acc: 0.999 - ETA: 2:42 - loss: 0.0180 - acc: 0.999 - ETA: 2:41 - loss: 0.0180 - acc: 0.999 - ETA: 2:41 - loss: 0.0179 - acc: 0.999 - ETA: 2:40 - loss: 0.0178 - acc: 0.999 - ETA: 2:39 - loss: 0.0177 - acc: 0.999 - ETA: 2:38 - loss: 0.0177 - acc: 0.999 - ETA: 2:38 - loss: 0.0176 - acc: 0.999 - ETA: 2:37 - loss: 0.0175 - acc: 0.999 - ETA: 2:36 - loss: 0.0175 - acc: 0.999 - ETA: 2:36 - loss: 0.0174 - acc: 0.999 - ETA: 2:35 - loss: 0.0173 - acc: 0.999 - ETA: 2:34 - loss: 0.0173 - acc: 0.999 - ETA: 2:33 - loss: 0.0172 - acc: 0.999 - ETA: 2:33 - loss: 0.0171 - acc: 0.999 - ETA: 2:32 - loss: 0.0170 - acc: 0.999 - ETA: 2:31 - loss: 0.0170 - acc: 0.999 - ETA: 2:31 - loss: 0.0169 - acc: 0.999 - ETA: 2:30 - loss: 0.0169 - acc: 0.999 - ETA: 2:29 - loss: 0.0168 - acc: 0.999 - ETA: 2:28 - loss: 0.0167 - acc: 0.999 - ETA: 2:28 - loss: 0.0167 - acc: 0.999 - ETA: 2:27 - loss: 0.0166 - acc: 0.999 - ETA: 2:26 - loss: 0.0165 - acc: 0.999 - ETA: 2:26 - loss: 0.0165 - acc: 0.999 - ETA: 2:25 - loss: 0.0164 - acc: 0.999 - ETA: 2:24 - loss: 0.0163 - acc: 0.999 - ETA: 2:23 - loss: 0.0163 - acc: 0.999 - ETA: 2:23 - loss: 0.0162 - acc: 0.999 - ETA: 2:22 - loss: 0.0162 - acc: 0.999 - ETA: 2:21 - loss: 0.0161 - acc: 0.999 - ETA: 2:21 - loss: 0.0160 - acc: 0.999 - ETA: 2:20 - loss: 0.0160 - acc: 0.999 - ETA: 2:19 - loss: 0.0159 - acc: 0.999 - ETA: 2:18 - loss: 0.0159 - acc: 0.999 - ETA: 2:18 - loss: 0.0158 - acc: 0.999 - ETA: 2:17 - loss: 0.0158 - acc: 0.999 - ETA: 2:16 - loss: 0.0157 - acc: 0.999 - ETA: 2:16 - loss: 0.0156 - acc: 0.999 - ETA: 2:15 - loss: 0.0156 - acc: 0.999 - ETA: 2:14 - loss: 0.0155 - acc: 0.999 - ETA: 2:14 - loss: 0.0155 - acc: 0.999 - ETA: 2:13 - loss: 0.0154 - acc: 0.999 - ETA: 2:12 - loss: 0.0154 - acc: 0.999 - ETA: 2:12 - loss: 0.0153 - acc: 0.999 - ETA: 2:11 - loss: 0.0153 - acc: 0.999 - ETA: 2:10 - loss: 0.0152 - acc: 0.999 - ETA: 2:10 - loss: 0.0152 - acc: 0.999 - ETA: 2:09 - loss: 0.0151 - acc: 0.999 - ETA: 2:09 - loss: 0.0151 - acc: 0.999 - ETA: 2:08 - loss: 0.0150 - acc: 0.999 - ETA: 2:07 - loss: 0.0149 - acc: 0.999 - ETA: 2:06 - loss: 0.0149 - acc: 0.999 - ETA: 2:06 - loss: 0.0148 - acc: 0.999 - ETA: 2:05 - loss: 0.0148 - acc: 0.999 - ETA: 2:04 - loss: 0.0147 - acc: 0.999 - ETA: 2:04 - loss: 0.0147 - acc: 0.999 - ETA: 2:03 - loss: 0.0146 - acc: 0.999 - ETA: 2:02 - loss: 0.0146 - acc: 0.999 - ETA: 2:02 - loss: 0.0145 - acc: 0.999 - ETA: 2:01 - loss: 0.0145 - acc: 0.999 - ETA: 2:00 - loss: 0.0145 - acc: 0.999 - ETA: 2:00 - loss: 0.0144 - acc: 0.999 - ETA: 1:59 - loss: 0.0144 - acc: 0.999 - ETA: 1:58 - loss: 0.0143 - acc: 0.999 - ETA: 1:57 - loss: 0.0143 - acc: 0.999 - ETA: 1:57 - loss: 0.0142 - acc: 0.999 - ETA: 1:56 - loss: 0.0142 - acc: 0.999 - ETA: 1:55 - loss: 0.0141 - acc: 0.999 - ETA: 1:55 - loss: 0.0141 - acc: 0.999 - ETA: 1:54 - loss: 0.0140 - acc: 0.999 - ETA: 1:53 - loss: 0.0140 - acc: 0.999 - ETA: 1:53 - loss: 0.0139 - acc: 0.999 - ETA: 1:52 - loss: 0.0139 - acc: 0.999 - ETA: 1:51 - loss: 0.0139 - acc: 0.999 - ETA: 1:51 - loss: 0.0138 - acc: 0.999 - ETA: 1:50 - loss: 0.0138 - acc: 0.999 - ETA: 1:49 - loss: 0.0137 - acc: 0.999 - ETA: 1:49 - loss: 0.0137 - acc: 0.999 - ETA: 1:48 - loss: 0.0136 - acc: 0.999 - ETA: 1:47 - loss: 0.0136 - acc: 0.999 - ETA: 1:47 - loss: 0.0136 - acc: 0.999 - ETA: 1:46 - loss: 0.0135 - acc: 0.999 - ETA: 1:45 - loss: 0.0135 - acc: 0.999 - ETA: 1:45 - loss: 0.0134 - acc: 0.999 - ETA: 1:44 - loss: 0.0134 - acc: 0.999 - ETA: 1:43 - loss: 0.0133 - acc: 0.999 - ETA: 1:43 - loss: 0.0133 - acc: 0.999 - ETA: 1:42 - loss: 0.0133 - acc: 0.999 - ETA: 1:41 - loss: 0.0132 - acc: 0.999 - ETA: 1:41 - loss: 0.0132 - acc: 0.999 - ETA: 1:40 - loss: 0.0131 - acc: 0.999 - ETA: 1:39 - loss: 0.0131 - acc: 0.999 - ETA: 1:39 - loss: 0.0131 - acc: 0.999 - ETA: 1:38 - loss: 0.0130 - acc: 0.999 - ETA: 1:37 - loss: 0.0130 - acc: 0.999 - ETA: 1:37 - loss: 0.0130 - acc: 0.999 - ETA: 1:36 - loss: 0.0129 - acc: 0.999 - ETA: 1:35 - loss: 0.0129 - acc: 0.999 - ETA: 1:34 - loss: 0.0128 - acc: 0.999 - ETA: 1:34 - loss: 0.0128 - acc: 0.999 - ETA: 1:33 - loss: 0.0128 - acc: 0.999 - ETA: 1:32 - loss: 0.0127 - acc: 0.999 - ETA: 1:32 - loss: 0.0127 - acc: 0.999 - ETA: 1:31 - loss: 0.0127 - acc: 0.999 - ETA: 1:30 - loss: 0.0126 - acc: 0.999 - ETA: 1:30 - loss: 0.0126 - acc: 0.999 - ETA: 1:29 - loss: 0.0125 - acc: 0.999 - ETA: 1:28 - loss: 0.0125 - acc: 0.999 - ETA: 1:28 - loss: 0.0125 - acc: 0.999 - ETA: 1:27 - loss: 0.0124 - acc: 0.999 - ETA: 1:26 - loss: 0.0124 - acc: 0.999 - ETA: 1:26 - loss: 0.0124 - acc: 0.999 - ETA: 1:25 - loss: 0.0123 - acc: 0.999 - ETA: 1:25 - loss: 0.0123 - acc: 0.999 - ETA: 1:24 - loss: 0.0123 - acc: 0.999 - ETA: 1:23 - loss: 0.0122 - acc: 0.999 - ETA: 1:23 - loss: 0.0122 - acc: 0.999 - ETA: 1:22 - loss: 0.0122 - acc: 0.999 - ETA: 1:21 - loss: 0.0121 - acc: 0.999 - ETA: 1:21 - loss: 0.0121 - acc: 0.999 - ETA: 1:20 - loss: 0.0121 - acc: 0.999 - ETA: 1:19 - loss: 0.0120 - acc: 0.999 - ETA: 1:19 - loss: 0.0120 - acc: 0.999 - ETA: 1:18 - loss: 0.0120 - acc: 0.999 - ETA: 1:17 - loss: 0.0119 - acc: 0.999 - ETA: 1:17 - loss: 0.0119 - acc: 0.999 - ETA: 1:16 - loss: 0.0119 - acc: 0.999 - ETA: 1:15 - loss: 0.0118 - acc: 0.999 - ETA: 1:15 - loss: 0.0118 - acc: 0.999 - ETA: 1:14 - loss: 0.0118 - acc: 0.999 - ETA: 1:13 - loss: 0.0117 - acc: 0.999 - ETA: 1:13 - loss: 0.0117 - acc: 0.999 - ETA: 1:12 - loss: 0.0117 - acc: 0.999 - ETA: 1:11 - loss: 0.0116 - acc: 0.999 - ETA: 1:11 - loss: 0.0116 - acc: 0.999 - ETA: 1:10 - loss: 0.0116 - acc: 0.999 - ETA: 1:09 - loss: 0.0115 - acc: 0.999 - ETA: 1:09 - loss: 0.0115 - acc: 0.999 - ETA: 1:08 - loss: 0.0115 - acc: 0.999 - ETA: 1:07 - loss: 0.0115 - acc: 0.999 - ETA: 1:07 - loss: 0.0114 - acc: 0.999 - ETA: 1:06 - loss: 0.0114 - acc: 0.999 - ETA: 1:05 - loss: 0.0114 - acc: 0.999 - ETA: 1:05 - loss: 0.0113 - acc: 0.999 - ETA: 1:04 - loss: 0.0113 - acc: 0.999 - ETA: 1:03 - loss: 0.0113 - acc: 0.999 - ETA: 1:03 - loss: 0.0112 - acc: 0.999 - ETA: 1:02 - loss: 0.0112 - acc: 0.999 - ETA: 1:01 - loss: 0.0112 - acc: 0.999 - ETA: 1:01 - loss: 0.0112 - acc: 0.999 - ETA: 1:00 - loss: 0.0111 - acc: 0.999 - ETA: 1:00 - loss: 0.0111 - acc: 0.999 - ETA: 59s - loss: 0.0111 - acc: 0.999 - ETA: 58s - loss: 0.0110 - acc: 0.99 - ETA: 58s - loss: 0.0110 - acc: 0.99 - ETA: 57s - loss: 0.0110 - acc: 0.99 - ETA: 56s - loss: 0.0110 - acc: 0.99 - ETA: 56s - loss: 0.0109 - acc: 0.99 - ETA: 55s - loss: 0.0109 - acc: 0.99 - ETA: 54s - loss: 0.0109 - acc: 0.99 - ETA: 54s - loss: 0.0109 - acc: 0.99 - ETA: 53s - loss: 0.0108 - acc: 0.99 - ETA: 52s - loss: 0.0108 - acc: 0.99 - ETA: 52s - loss: 0.0108 - acc: 0.99 - ETA: 51s - loss: 0.0108 - acc: 0.99 - ETA: 50s - loss: 0.0107 - acc: 0.99 - ETA: 50s - loss: 0.0107 - acc: 0.99 - ETA: 49s - loss: 0.0107 - acc: 0.9996"
     ]
    },
    {
     "name": "stdout",
     "output_type": "stream",
     "text": [
      "487/486 [==============================] - ETA: 48s - loss: 0.0106 - acc: 0.99 - ETA: 48s - loss: 0.0106 - acc: 0.99 - ETA: 47s - loss: 0.0106 - acc: 0.99 - ETA: 47s - loss: 0.0106 - acc: 0.99 - ETA: 46s - loss: 0.0105 - acc: 0.99 - ETA: 45s - loss: 0.0105 - acc: 0.99 - ETA: 45s - loss: 0.0105 - acc: 0.99 - ETA: 44s - loss: 0.0105 - acc: 0.99 - ETA: 43s - loss: 0.0104 - acc: 0.99 - ETA: 43s - loss: 0.0104 - acc: 0.99 - ETA: 42s - loss: 0.0104 - acc: 0.99 - ETA: 41s - loss: 0.0104 - acc: 0.99 - ETA: 41s - loss: 0.0103 - acc: 0.99 - ETA: 40s - loss: 0.0103 - acc: 0.99 - ETA: 39s - loss: 0.0103 - acc: 0.99 - ETA: 39s - loss: 0.0103 - acc: 0.99 - ETA: 38s - loss: 0.0102 - acc: 0.99 - ETA: 38s - loss: 0.0102 - acc: 0.99 - ETA: 37s - loss: 0.0102 - acc: 0.99 - ETA: 36s - loss: 0.0102 - acc: 0.99 - ETA: 36s - loss: 0.0102 - acc: 0.99 - ETA: 35s - loss: 0.0101 - acc: 0.99 - ETA: 34s - loss: 0.0101 - acc: 0.99 - ETA: 34s - loss: 0.0101 - acc: 0.99 - ETA: 33s - loss: 0.0101 - acc: 0.99 - ETA: 32s - loss: 0.0100 - acc: 0.99 - ETA: 32s - loss: 0.0100 - acc: 0.99 - ETA: 31s - loss: 0.0100 - acc: 0.99 - ETA: 30s - loss: 0.0100 - acc: 0.99 - ETA: 30s - loss: 0.0099 - acc: 0.99 - ETA: 29s - loss: 0.0099 - acc: 0.99 - ETA: 29s - loss: 0.0099 - acc: 0.99 - ETA: 28s - loss: 0.0099 - acc: 0.99 - ETA: 27s - loss: 0.0099 - acc: 0.99 - ETA: 27s - loss: 0.0098 - acc: 0.99 - ETA: 26s - loss: 0.0098 - acc: 0.99 - ETA: 25s - loss: 0.0098 - acc: 0.99 - ETA: 25s - loss: 0.0098 - acc: 0.99 - ETA: 24s - loss: 0.0097 - acc: 0.99 - ETA: 23s - loss: 0.0097 - acc: 0.99 - ETA: 23s - loss: 0.0097 - acc: 0.99 - ETA: 22s - loss: 0.0097 - acc: 0.99 - ETA: 22s - loss: 0.0097 - acc: 0.99 - ETA: 21s - loss: 0.0096 - acc: 0.99 - ETA: 20s - loss: 0.0096 - acc: 0.99 - ETA: 20s - loss: 0.0096 - acc: 0.99 - ETA: 19s - loss: 0.0096 - acc: 0.99 - ETA: 18s - loss: 0.0096 - acc: 0.99 - ETA: 18s - loss: 0.0095 - acc: 0.99 - ETA: 17s - loss: 0.0095 - acc: 0.99 - ETA: 16s - loss: 0.0095 - acc: 0.99 - ETA: 16s - loss: 0.0095 - acc: 0.99 - ETA: 15s - loss: 0.0094 - acc: 0.99 - ETA: 15s - loss: 0.0094 - acc: 0.99 - ETA: 14s - loss: 0.0094 - acc: 0.99 - ETA: 13s - loss: 0.0094 - acc: 0.99 - ETA: 13s - loss: 0.0094 - acc: 0.99 - ETA: 12s - loss: 0.0093 - acc: 0.99 - ETA: 11s - loss: 0.0093 - acc: 0.99 - ETA: 11s - loss: 0.0093 - acc: 0.99 - ETA: 10s - loss: 0.0093 - acc: 0.99 - ETA: 9s - loss: 0.0093 - acc: 0.9997 - ETA: 9s - loss: 0.0092 - acc: 0.999 - ETA: 8s - loss: 0.0092 - acc: 0.999 - ETA: 8s - loss: 0.0092 - acc: 0.999 - ETA: 7s - loss: 0.0092 - acc: 0.999 - ETA: 6s - loss: 0.0092 - acc: 0.999 - ETA: 6s - loss: 0.0092 - acc: 0.999 - ETA: 5s - loss: 0.0091 - acc: 0.999 - ETA: 4s - loss: 0.0091 - acc: 0.999 - ETA: 4s - loss: 0.0091 - acc: 0.999 - ETA: 3s - loss: 0.0091 - acc: 0.999 - ETA: 3s - loss: 0.0091 - acc: 0.999 - ETA: 2s - loss: 0.0090 - acc: 0.999 - ETA: 1s - loss: 0.0090 - acc: 0.999 - ETA: 1s - loss: 0.0090 - acc: 0.999 - ETA: 0s - loss: 0.0090 - acc: 0.999 - 351s 722ms/step - loss: 0.0090 - acc: 0.9997 - val_loss: 2.1240 - val_acc: 0.8682\n",
      "Epoch 2/2\n"
     ]
    },
    {
     "name": "stdout",
     "output_type": "stream",
     "text": [
      "186/486 [==========>...................] - ETA: 5:03 - loss: 1.0179e-07 - acc: 1.000 - ETA: 5:10 - loss: 1.0179e-07 - acc: 1.000 - ETA: 5:00 - loss: 1.0134e-07 - acc: 1.000 - ETA: 4:57 - loss: 1.0107e-07 - acc: 1.000 - ETA: 4:53 - loss: 1.0088e-07 - acc: 1.000 - ETA: 4:50 - loss: 1.0115e-07 - acc: 1.000 - ETA: 4:48 - loss: 1.0129e-07 - acc: 1.000 - ETA: 4:46 - loss: 1.0117e-07 - acc: 1.000 - ETA: 4:46 - loss: 1.0122e-07 - acc: 1.000 - ETA: 4:44 - loss: 1.0118e-07 - acc: 1.000 - ETA: 4:42 - loss: 1.0108e-07 - acc: 1.000 - ETA: 4:47 - loss: 1.0106e-07 - acc: 1.000 - ETA: 4:51 - loss: 1.0116e-07 - acc: 1.000 - ETA: 4:51 - loss: 1.0109e-07 - acc: 1.000 - ETA: 4:50 - loss: 1.0110e-07 - acc: 1.000 - ETA: 4:50 - loss: 1.0108e-07 - acc: 1.000 - ETA: 4:48 - loss: 1.0103e-07 - acc: 1.000 - ETA: 4:46 - loss: 1.0101e-07 - acc: 1.000 - ETA: 4:45 - loss: 1.0114e-07 - acc: 1.000 - ETA: 4:44 - loss: 1.0116e-07 - acc: 1.000 - ETA: 4:43 - loss: 1.0122e-07 - acc: 1.000 - ETA: 4:42 - loss: 1.0121e-07 - acc: 1.000 - ETA: 4:41 - loss: 1.0120e-07 - acc: 1.000 - ETA: 4:41 - loss: 1.0115e-07 - acc: 1.000 - ETA: 4:40 - loss: 1.0114e-07 - acc: 1.000 - ETA: 4:39 - loss: 1.0115e-07 - acc: 1.000 - ETA: 4:38 - loss: 1.0118e-07 - acc: 1.000 - ETA: 4:37 - loss: 1.0116e-07 - acc: 1.000 - ETA: 4:36 - loss: 1.0114e-07 - acc: 1.000 - ETA: 4:35 - loss: 1.0111e-07 - acc: 1.000 - ETA: 4:34 - loss: 1.0112e-07 - acc: 1.000 - ETA: 4:33 - loss: 1.0115e-07 - acc: 1.000 - ETA: 4:33 - loss: 1.0113e-07 - acc: 1.000 - ETA: 4:32 - loss: 1.0111e-07 - acc: 1.000 - ETA: 4:31 - loss: 1.0112e-07 - acc: 1.000 - ETA: 4:30 - loss: 1.0110e-07 - acc: 1.000 - ETA: 4:30 - loss: 1.0109e-07 - acc: 1.000 - ETA: 4:29 - loss: 1.0111e-07 - acc: 1.000 - ETA: 4:28 - loss: 1.0108e-07 - acc: 1.000 - ETA: 4:28 - loss: 1.0109e-07 - acc: 1.000 - ETA: 4:27 - loss: 1.0107e-07 - acc: 1.000 - ETA: 4:26 - loss: 1.0105e-07 - acc: 1.000 - ETA: 4:25 - loss: 1.0103e-07 - acc: 1.000 - ETA: 4:25 - loss: 1.0104e-07 - acc: 1.000 - ETA: 4:24 - loss: 1.0108e-07 - acc: 1.000 - ETA: 4:23 - loss: 1.0108e-07 - acc: 1.000 - ETA: 4:22 - loss: 1.0107e-07 - acc: 1.000 - ETA: 4:22 - loss: 1.0106e-07 - acc: 1.000 - ETA: 4:21 - loss: 1.0104e-07 - acc: 1.000 - ETA: 4:20 - loss: 1.0103e-07 - acc: 1.000 - ETA: 4:20 - loss: 1.0113e-07 - acc: 1.000 - ETA: 4:19 - loss: 1.0114e-07 - acc: 1.000 - ETA: 4:18 - loss: 1.0115e-07 - acc: 1.000 - ETA: 4:18 - loss: 1.0115e-07 - acc: 1.000 - ETA: 4:17 - loss: 1.0115e-07 - acc: 1.000 - ETA: 4:16 - loss: 1.0115e-07 - acc: 1.000 - ETA: 4:16 - loss: 1.0116e-07 - acc: 1.000 - ETA: 4:15 - loss: 1.0115e-07 - acc: 1.000 - ETA: 4:15 - loss: 1.0114e-07 - acc: 1.000 - ETA: 4:14 - loss: 1.0114e-07 - acc: 1.000 - ETA: 4:14 - loss: 1.0115e-07 - acc: 1.000 - ETA: 4:13 - loss: 1.0115e-07 - acc: 1.000 - ETA: 4:12 - loss: 1.0113e-07 - acc: 1.000 - ETA: 4:12 - loss: 1.0116e-07 - acc: 1.000 - ETA: 4:11 - loss: 1.0115e-07 - acc: 1.000 - ETA: 4:10 - loss: 1.0114e-07 - acc: 1.000 - ETA: 4:10 - loss: 1.0113e-07 - acc: 1.000 - ETA: 4:09 - loss: 1.0112e-07 - acc: 1.000 - ETA: 4:08 - loss: 1.0113e-07 - acc: 1.000 - ETA: 4:08 - loss: 1.0113e-07 - acc: 1.000 - ETA: 4:07 - loss: 1.0112e-07 - acc: 1.000 - ETA: 4:07 - loss: 1.0112e-07 - acc: 1.000 - ETA: 4:06 - loss: 1.0114e-07 - acc: 1.000 - ETA: 4:05 - loss: 1.0114e-07 - acc: 1.000 - ETA: 4:05 - loss: 1.0113e-07 - acc: 1.000 - ETA: 4:05 - loss: 1.0112e-07 - acc: 1.000 - ETA: 4:04 - loss: 1.0112e-07 - acc: 1.000 - ETA: 4:03 - loss: 1.0112e-07 - acc: 1.000 - ETA: 4:03 - loss: 1.0111e-07 - acc: 1.000 - ETA: 4:02 - loss: 1.0114e-07 - acc: 1.000 - ETA: 4:02 - loss: 1.0113e-07 - acc: 1.000 - ETA: 4:01 - loss: 1.0112e-07 - acc: 1.000 - ETA: 4:00 - loss: 1.0113e-07 - acc: 1.000 - ETA: 4:00 - loss: 1.0112e-07 - acc: 1.000 - ETA: 3:59 - loss: 1.0113e-07 - acc: 1.000 - ETA: 3:58 - loss: 1.0113e-07 - acc: 1.000 - ETA: 3:58 - loss: 1.0112e-07 - acc: 1.000 - ETA: 3:57 - loss: 1.0111e-07 - acc: 1.000 - ETA: 3:56 - loss: 1.0112e-07 - acc: 1.000 - ETA: 3:56 - loss: 1.0111e-07 - acc: 1.000 - ETA: 3:55 - loss: 1.0110e-07 - acc: 1.000 - ETA: 3:55 - loss: 1.0111e-07 - acc: 1.000 - ETA: 3:54 - loss: 1.0111e-07 - acc: 1.000 - ETA: 3:53 - loss: 1.0110e-07 - acc: 1.000 - ETA: 3:53 - loss: 1.0112e-07 - acc: 1.000 - ETA: 3:52 - loss: 1.0112e-07 - acc: 1.000 - ETA: 3:52 - loss: 1.0112e-07 - acc: 1.000 - ETA: 3:51 - loss: 1.0111e-07 - acc: 1.000 - ETA: 3:50 - loss: 1.0111e-07 - acc: 1.000 - ETA: 3:50 - loss: 1.0111e-07 - acc: 1.000 - ETA: 3:49 - loss: 1.0110e-07 - acc: 1.000 - ETA: 3:48 - loss: 1.0111e-07 - acc: 1.000 - ETA: 3:48 - loss: 1.0111e-07 - acc: 1.000 - ETA: 3:47 - loss: 1.0110e-07 - acc: 1.000 - ETA: 3:46 - loss: 1.0110e-07 - acc: 1.000 - ETA: 3:46 - loss: 1.0110e-07 - acc: 1.000 - ETA: 3:45 - loss: 1.0109e-07 - acc: 1.000 - ETA: 3:45 - loss: 1.0109e-07 - acc: 1.000 - ETA: 3:44 - loss: 1.0109e-07 - acc: 1.000 - ETA: 3:43 - loss: 1.0110e-07 - acc: 1.000 - ETA: 3:43 - loss: 1.0109e-07 - acc: 1.000 - ETA: 3:42 - loss: 1.0109e-07 - acc: 1.000 - ETA: 3:42 - loss: 1.0109e-07 - acc: 1.000 - ETA: 3:41 - loss: 1.0109e-07 - acc: 1.000 - ETA: 3:40 - loss: 1.0108e-07 - acc: 1.000 - ETA: 3:40 - loss: 1.0107e-07 - acc: 1.000 - ETA: 3:39 - loss: 1.0115e-07 - acc: 1.000 - ETA: 3:39 - loss: 1.0114e-07 - acc: 1.000 - ETA: 3:38 - loss: 1.0114e-07 - acc: 1.000 - ETA: 3:38 - loss: 1.0114e-07 - acc: 1.000 - ETA: 3:37 - loss: 1.0114e-07 - acc: 1.000 - ETA: 3:36 - loss: 1.0115e-07 - acc: 1.000 - ETA: 3:36 - loss: 1.0115e-07 - acc: 1.000 - ETA: 3:35 - loss: 1.0115e-07 - acc: 1.000 - ETA: 3:34 - loss: 1.0116e-07 - acc: 1.000 - ETA: 3:34 - loss: 1.0116e-07 - acc: 1.000 - ETA: 3:33 - loss: 1.0115e-07 - acc: 1.000 - ETA: 3:33 - loss: 1.0114e-07 - acc: 1.000 - ETA: 3:32 - loss: 1.0114e-07 - acc: 1.000 - ETA: 3:32 - loss: 1.0114e-07 - acc: 1.000 - ETA: 3:31 - loss: 1.0114e-07 - acc: 1.000 - ETA: 3:30 - loss: 1.0114e-07 - acc: 1.000 - ETA: 3:30 - loss: 1.0114e-07 - acc: 1.000 - ETA: 3:29 - loss: 1.0113e-07 - acc: 1.000 - ETA: 3:28 - loss: 1.0113e-07 - acc: 1.000 - ETA: 3:28 - loss: 1.0113e-07 - acc: 1.000 - ETA: 3:27 - loss: 1.0112e-07 - acc: 1.000 - ETA: 3:27 - loss: 1.0112e-07 - acc: 1.000 - ETA: 3:26 - loss: 1.0112e-07 - acc: 1.000 - ETA: 3:25 - loss: 1.0112e-07 - acc: 1.000 - ETA: 3:25 - loss: 1.0111e-07 - acc: 1.000 - ETA: 3:24 - loss: 1.0111e-07 - acc: 1.000 - ETA: 3:23 - loss: 1.0110e-07 - acc: 1.000 - ETA: 3:23 - loss: 1.0110e-07 - acc: 1.000 - ETA: 3:22 - loss: 1.0109e-07 - acc: 1.000 - ETA: 3:22 - loss: 1.0109e-07 - acc: 1.000 - ETA: 3:21 - loss: 1.0108e-07 - acc: 1.000 - ETA: 3:20 - loss: 1.0108e-07 - acc: 1.000 - ETA: 3:20 - loss: 1.0107e-07 - acc: 1.000 - ETA: 3:19 - loss: 1.0107e-07 - acc: 1.000 - ETA: 3:18 - loss: 1.0106e-07 - acc: 1.000 - ETA: 3:18 - loss: 1.0106e-07 - acc: 1.000 - ETA: 3:17 - loss: 1.0106e-07 - acc: 1.000 - ETA: 3:17 - loss: 1.0106e-07 - acc: 1.000 - ETA: 3:16 - loss: 1.0107e-07 - acc: 1.000 - ETA: 3:15 - loss: 1.0107e-07 - acc: 1.000 - ETA: 3:15 - loss: 1.0106e-07 - acc: 1.000 - ETA: 3:14 - loss: 1.0105e-07 - acc: 1.000 - ETA: 3:14 - loss: 1.0105e-07 - acc: 1.000 - ETA: 3:13 - loss: 1.0105e-07 - acc: 1.000 - ETA: 3:12 - loss: 1.0104e-07 - acc: 1.000 - ETA: 3:12 - loss: 1.0104e-07 - acc: 1.000 - ETA: 3:11 - loss: 1.0104e-07 - acc: 1.000 - ETA: 3:11 - loss: 1.0103e-07 - acc: 1.000 - ETA: 3:10 - loss: 1.0103e-07 - acc: 1.000 - ETA: 3:09 - loss: 1.0103e-07 - acc: 1.000 - ETA: 3:09 - loss: 1.0102e-07 - acc: 1.000 - ETA: 3:08 - loss: 1.0102e-07 - acc: 1.000 - ETA: 3:08 - loss: 1.0102e-07 - acc: 1.000 - ETA: 3:07 - loss: 1.0101e-07 - acc: 1.000 - ETA: 3:06 - loss: 1.0101e-07 - acc: 1.000 - ETA: 3:06 - loss: 1.0102e-07 - acc: 1.000 - ETA: 3:05 - loss: 1.0102e-07 - acc: 1.000 - ETA: 3:05 - loss: 1.0101e-07 - acc: 1.000 - ETA: 3:04 - loss: 1.0101e-07 - acc: 1.000 - ETA: 3:03 - loss: 1.0100e-07 - acc: 1.000 - ETA: 3:03 - loss: 1.0100e-07 - acc: 1.000 - ETA: 3:02 - loss: 1.0100e-07 - acc: 1.000 - ETA: 3:02 - loss: 1.0100e-07 - acc: 1.000 - ETA: 3:01 - loss: 1.0100e-07 - acc: 1.000 - ETA: 3:00 - loss: 1.0100e-07 - acc: 1.000 - ETA: 3:00 - loss: 1.0099e-07 - acc: 1.000 - ETA: 2:59 - loss: 1.0099e-07 - acc: 1.000 - ETA: 2:59 - loss: 1.0098e-07 - acc: 1.000 - ETA: 2:58 - loss: 1.0098e-07 - acc: 1.000 - ETA: 2:57 - loss: 1.0098e-07 - acc: 1.0000"
     ]
    },
    {
     "name": "stdout",
     "output_type": "stream",
     "text": [
      "372/486 [=====================>........] - ETA: 2:57 - loss: 1.0099e-07 - acc: 1.000 - ETA: 2:56 - loss: 1.0098e-07 - acc: 1.000 - ETA: 2:56 - loss: 1.0099e-07 - acc: 1.000 - ETA: 2:55 - loss: 1.0098e-07 - acc: 1.000 - ETA: 2:54 - loss: 1.0098e-07 - acc: 1.000 - ETA: 2:54 - loss: 1.0098e-07 - acc: 1.000 - ETA: 2:53 - loss: 1.0097e-07 - acc: 1.000 - ETA: 2:53 - loss: 1.0098e-07 - acc: 1.000 - ETA: 2:52 - loss: 1.0098e-07 - acc: 1.000 - ETA: 2:51 - loss: 1.0098e-07 - acc: 1.000 - ETA: 2:51 - loss: 1.0097e-07 - acc: 1.000 - ETA: 2:50 - loss: 1.0097e-07 - acc: 1.000 - ETA: 2:50 - loss: 1.0097e-07 - acc: 1.000 - ETA: 2:49 - loss: 1.0097e-07 - acc: 1.000 - ETA: 2:48 - loss: 1.0096e-07 - acc: 1.000 - ETA: 2:48 - loss: 1.0096e-07 - acc: 1.000 - ETA: 2:47 - loss: 1.0096e-07 - acc: 1.000 - ETA: 2:47 - loss: 1.0096e-07 - acc: 1.000 - ETA: 2:46 - loss: 1.0096e-07 - acc: 1.000 - ETA: 2:45 - loss: 1.0096e-07 - acc: 1.000 - ETA: 2:45 - loss: 1.0096e-07 - acc: 1.000 - ETA: 2:44 - loss: 1.0096e-07 - acc: 1.000 - ETA: 2:44 - loss: 1.0095e-07 - acc: 1.000 - ETA: 2:43 - loss: 1.0095e-07 - acc: 1.000 - ETA: 2:42 - loss: 1.0095e-07 - acc: 1.000 - ETA: 2:42 - loss: 1.0094e-07 - acc: 1.000 - ETA: 2:41 - loss: 1.0094e-07 - acc: 1.000 - ETA: 2:41 - loss: 1.0094e-07 - acc: 1.000 - ETA: 2:40 - loss: 1.0094e-07 - acc: 1.000 - ETA: 2:40 - loss: 1.0094e-07 - acc: 1.000 - ETA: 2:39 - loss: 1.0094e-07 - acc: 1.000 - ETA: 2:38 - loss: 1.0094e-07 - acc: 1.000 - ETA: 2:38 - loss: 1.0094e-07 - acc: 1.000 - ETA: 2:37 - loss: 1.0095e-07 - acc: 1.000 - ETA: 2:37 - loss: 1.0095e-07 - acc: 1.000 - ETA: 2:36 - loss: 1.0094e-07 - acc: 1.000 - ETA: 2:35 - loss: 1.0094e-07 - acc: 1.000 - ETA: 2:35 - loss: 1.0094e-07 - acc: 1.000 - ETA: 2:34 - loss: 1.0094e-07 - acc: 1.000 - ETA: 2:34 - loss: 1.0094e-07 - acc: 1.000 - ETA: 2:33 - loss: 1.0093e-07 - acc: 1.000 - ETA: 2:32 - loss: 1.0094e-07 - acc: 1.000 - ETA: 2:32 - loss: 1.0093e-07 - acc: 1.000 - ETA: 2:31 - loss: 1.0093e-07 - acc: 1.000 - ETA: 2:31 - loss: 1.0093e-07 - acc: 1.000 - ETA: 2:30 - loss: 1.0093e-07 - acc: 1.000 - ETA: 2:29 - loss: 1.0093e-07 - acc: 1.000 - ETA: 2:29 - loss: 1.0093e-07 - acc: 1.000 - ETA: 2:28 - loss: 1.0092e-07 - acc: 1.000 - ETA: 2:28 - loss: 1.0092e-07 - acc: 1.000 - ETA: 2:27 - loss: 1.0092e-07 - acc: 1.000 - ETA: 2:27 - loss: 1.0092e-07 - acc: 1.000 - ETA: 2:26 - loss: 1.0092e-07 - acc: 1.000 - ETA: 2:25 - loss: 1.0091e-07 - acc: 1.000 - ETA: 2:25 - loss: 1.0092e-07 - acc: 1.000 - ETA: 2:24 - loss: 1.0091e-07 - acc: 1.000 - ETA: 2:24 - loss: 1.0091e-07 - acc: 1.000 - ETA: 2:23 - loss: 1.0091e-07 - acc: 1.000 - ETA: 2:22 - loss: 1.0091e-07 - acc: 1.000 - ETA: 2:22 - loss: 1.0091e-07 - acc: 1.000 - ETA: 2:21 - loss: 1.0090e-07 - acc: 1.000 - ETA: 2:21 - loss: 1.0090e-07 - acc: 1.000 - ETA: 2:20 - loss: 1.0090e-07 - acc: 1.000 - ETA: 2:20 - loss: 1.0090e-07 - acc: 1.000 - ETA: 2:19 - loss: 1.0090e-07 - acc: 1.000 - ETA: 2:18 - loss: 1.0090e-07 - acc: 1.000 - ETA: 2:18 - loss: 1.0089e-07 - acc: 1.000 - ETA: 2:17 - loss: 1.0089e-07 - acc: 1.000 - ETA: 2:17 - loss: 1.0089e-07 - acc: 1.000 - ETA: 2:16 - loss: 1.0089e-07 - acc: 1.000 - ETA: 2:15 - loss: 1.0089e-07 - acc: 1.000 - ETA: 2:15 - loss: 1.0089e-07 - acc: 1.000 - ETA: 2:14 - loss: 1.0089e-07 - acc: 1.000 - ETA: 2:14 - loss: 1.0088e-07 - acc: 1.000 - ETA: 2:13 - loss: 1.0088e-07 - acc: 1.000 - ETA: 2:12 - loss: 1.0088e-07 - acc: 1.000 - ETA: 2:12 - loss: 1.0088e-07 - acc: 1.000 - ETA: 2:11 - loss: 1.0088e-07 - acc: 1.000 - ETA: 2:11 - loss: 1.0088e-07 - acc: 1.000 - ETA: 2:10 - loss: 1.0088e-07 - acc: 1.000 - ETA: 2:09 - loss: 1.0087e-07 - acc: 1.000 - ETA: 2:09 - loss: 1.0088e-07 - acc: 1.000 - ETA: 2:08 - loss: 1.0088e-07 - acc: 1.000 - ETA: 2:08 - loss: 1.0088e-07 - acc: 1.000 - ETA: 2:07 - loss: 1.0087e-07 - acc: 1.000 - ETA: 2:06 - loss: 1.0087e-07 - acc: 1.000 - ETA: 2:06 - loss: 1.0087e-07 - acc: 1.000 - ETA: 2:05 - loss: 1.0087e-07 - acc: 1.000 - ETA: 2:05 - loss: 1.0087e-07 - acc: 1.000 - ETA: 2:04 - loss: 1.0086e-07 - acc: 1.000 - ETA: 2:03 - loss: 1.0086e-07 - acc: 1.000 - ETA: 2:03 - loss: 1.0086e-07 - acc: 1.000 - ETA: 2:02 - loss: 1.0086e-07 - acc: 1.000 - ETA: 2:02 - loss: 1.0086e-07 - acc: 1.000 - ETA: 2:01 - loss: 1.0086e-07 - acc: 1.000 - ETA: 2:01 - loss: 1.0086e-07 - acc: 1.000 - ETA: 2:00 - loss: 1.0086e-07 - acc: 1.000 - ETA: 1:59 - loss: 1.0086e-07 - acc: 1.000 - ETA: 1:59 - loss: 1.0086e-07 - acc: 1.000 - ETA: 1:58 - loss: 1.0085e-07 - acc: 1.000 - ETA: 1:58 - loss: 1.0085e-07 - acc: 1.000 - ETA: 1:57 - loss: 1.0085e-07 - acc: 1.000 - ETA: 1:56 - loss: 1.0085e-07 - acc: 1.000 - ETA: 1:56 - loss: 1.0084e-07 - acc: 1.000 - ETA: 1:55 - loss: 1.0084e-07 - acc: 1.000 - ETA: 1:55 - loss: 1.0084e-07 - acc: 1.000 - ETA: 1:54 - loss: 1.0084e-07 - acc: 1.000 - ETA: 1:53 - loss: 1.0084e-07 - acc: 1.000 - ETA: 1:53 - loss: 1.0084e-07 - acc: 1.000 - ETA: 1:52 - loss: 1.0084e-07 - acc: 1.000 - ETA: 1:52 - loss: 1.0084e-07 - acc: 1.000 - ETA: 1:51 - loss: 1.0083e-07 - acc: 1.000 - ETA: 1:50 - loss: 1.0083e-07 - acc: 1.000 - ETA: 1:50 - loss: 1.0083e-07 - acc: 1.000 - ETA: 1:49 - loss: 1.0084e-07 - acc: 1.000 - ETA: 1:49 - loss: 1.0083e-07 - acc: 1.000 - ETA: 1:48 - loss: 1.0083e-07 - acc: 1.000 - ETA: 1:47 - loss: 1.0083e-07 - acc: 1.000 - ETA: 1:47 - loss: 1.0083e-07 - acc: 1.000 - ETA: 1:46 - loss: 1.0083e-07 - acc: 1.000 - ETA: 1:46 - loss: 1.0084e-07 - acc: 1.000 - ETA: 1:45 - loss: 1.0084e-07 - acc: 1.000 - ETA: 1:45 - loss: 1.0083e-07 - acc: 1.000 - ETA: 1:44 - loss: 1.0083e-07 - acc: 1.000 - ETA: 1:43 - loss: 1.0083e-07 - acc: 1.000 - ETA: 1:43 - loss: 1.0083e-07 - acc: 1.000 - ETA: 1:42 - loss: 1.0083e-07 - acc: 1.000 - ETA: 1:42 - loss: 1.0082e-07 - acc: 1.000 - ETA: 1:41 - loss: 1.0082e-07 - acc: 1.000 - ETA: 1:40 - loss: 1.0082e-07 - acc: 1.000 - ETA: 1:40 - loss: 1.0082e-07 - acc: 1.000 - ETA: 1:39 - loss: 1.0082e-07 - acc: 1.000 - ETA: 1:39 - loss: 1.0081e-07 - acc: 1.000 - ETA: 1:38 - loss: 1.0082e-07 - acc: 1.000 - ETA: 1:38 - loss: 1.0082e-07 - acc: 1.000 - ETA: 1:37 - loss: 1.0082e-07 - acc: 1.000 - ETA: 1:36 - loss: 1.0082e-07 - acc: 1.000 - ETA: 1:36 - loss: 1.0081e-07 - acc: 1.000 - ETA: 1:35 - loss: 1.0081e-07 - acc: 1.000 - ETA: 1:35 - loss: 1.0081e-07 - acc: 1.000 - ETA: 1:34 - loss: 1.0081e-07 - acc: 1.000 - ETA: 1:34 - loss: 1.0081e-07 - acc: 1.000 - ETA: 1:33 - loss: 1.0080e-07 - acc: 1.000 - ETA: 1:32 - loss: 1.0080e-07 - acc: 1.000 - ETA: 1:32 - loss: 1.0080e-07 - acc: 1.000 - ETA: 1:31 - loss: 1.0080e-07 - acc: 1.000 - ETA: 1:31 - loss: 1.0081e-07 - acc: 1.000 - ETA: 1:30 - loss: 1.0080e-07 - acc: 1.000 - ETA: 1:30 - loss: 1.0080e-07 - acc: 1.000 - ETA: 1:29 - loss: 1.0080e-07 - acc: 1.000 - ETA: 1:28 - loss: 1.0080e-07 - acc: 1.000 - ETA: 1:28 - loss: 1.0080e-07 - acc: 1.000 - ETA: 1:27 - loss: 1.0080e-07 - acc: 1.000 - ETA: 1:27 - loss: 1.0080e-07 - acc: 1.000 - ETA: 1:26 - loss: 1.0080e-07 - acc: 1.000 - ETA: 1:25 - loss: 1.0079e-07 - acc: 1.000 - ETA: 1:25 - loss: 1.0080e-07 - acc: 1.000 - ETA: 1:24 - loss: 1.0079e-07 - acc: 1.000 - ETA: 1:24 - loss: 1.0079e-07 - acc: 1.000 - ETA: 1:23 - loss: 1.0079e-07 - acc: 1.000 - ETA: 1:23 - loss: 1.0079e-07 - acc: 1.000 - ETA: 1:22 - loss: 1.0079e-07 - acc: 1.000 - ETA: 1:21 - loss: 1.0078e-07 - acc: 1.000 - ETA: 1:21 - loss: 1.0078e-07 - acc: 1.000 - ETA: 1:20 - loss: 1.0078e-07 - acc: 1.000 - ETA: 1:20 - loss: 1.0078e-07 - acc: 1.000 - ETA: 1:19 - loss: 1.0078e-07 - acc: 1.000 - ETA: 1:18 - loss: 1.0078e-07 - acc: 1.000 - ETA: 1:18 - loss: 1.0078e-07 - acc: 1.000 - ETA: 1:17 - loss: 1.0078e-07 - acc: 1.000 - ETA: 1:17 - loss: 1.0078e-07 - acc: 1.000 - ETA: 1:16 - loss: 1.0078e-07 - acc: 1.000 - ETA: 1:15 - loss: 1.0078e-07 - acc: 1.000 - ETA: 1:15 - loss: 1.0077e-07 - acc: 1.000 - ETA: 1:14 - loss: 1.0077e-07 - acc: 1.000 - ETA: 1:14 - loss: 1.0078e-07 - acc: 1.000 - ETA: 1:13 - loss: 1.0077e-07 - acc: 1.000 - ETA: 1:12 - loss: 1.0077e-07 - acc: 1.000 - ETA: 1:12 - loss: 1.0077e-07 - acc: 1.000 - ETA: 1:11 - loss: 1.0077e-07 - acc: 1.000 - ETA: 1:11 - loss: 1.0077e-07 - acc: 1.000 - ETA: 1:10 - loss: 1.0077e-07 - acc: 1.000 - ETA: 1:09 - loss: 1.0077e-07 - acc: 1.000 - ETA: 1:09 - loss: 1.0076e-07 - acc: 1.000 - ETA: 1:08 - loss: 1.0076e-07 - acc: 1.000 - ETA: 1:08 - loss: 1.0076e-07 - acc: 1.0000"
     ]
    },
    {
     "name": "stdout",
     "output_type": "stream",
     "text": [
      "487/486 [==============================] - ETA: 1:07 - loss: 1.0076e-07 - acc: 1.000 - ETA: 1:06 - loss: 1.0076e-07 - acc: 1.000 - ETA: 1:06 - loss: 1.0076e-07 - acc: 1.000 - ETA: 1:05 - loss: 1.0075e-07 - acc: 1.000 - ETA: 1:05 - loss: 1.0075e-07 - acc: 1.000 - ETA: 1:04 - loss: 1.0075e-07 - acc: 1.000 - ETA: 1:04 - loss: 1.0075e-07 - acc: 1.000 - ETA: 1:03 - loss: 1.0075e-07 - acc: 1.000 - ETA: 1:02 - loss: 1.0075e-07 - acc: 1.000 - ETA: 1:02 - loss: 1.0075e-07 - acc: 1.000 - ETA: 1:01 - loss: 1.0074e-07 - acc: 1.000 - ETA: 1:01 - loss: 1.0074e-07 - acc: 1.000 - ETA: 1:00 - loss: 1.0074e-07 - acc: 1.000 - ETA: 59s - loss: 1.0074e-07 - acc: 1.000 - ETA: 59s - loss: 1.0074e-07 - acc: 1.00 - ETA: 58s - loss: 1.0074e-07 - acc: 1.00 - ETA: 58s - loss: 1.0074e-07 - acc: 1.00 - ETA: 57s - loss: 1.0074e-07 - acc: 1.00 - ETA: 56s - loss: 1.0074e-07 - acc: 1.00 - ETA: 56s - loss: 1.0074e-07 - acc: 1.00 - ETA: 55s - loss: 1.0073e-07 - acc: 1.00 - ETA: 55s - loss: 1.0073e-07 - acc: 1.00 - ETA: 54s - loss: 1.0073e-07 - acc: 1.00 - ETA: 54s - loss: 1.0073e-07 - acc: 1.00 - ETA: 53s - loss: 1.0073e-07 - acc: 1.00 - ETA: 52s - loss: 1.0073e-07 - acc: 1.00 - ETA: 52s - loss: 1.0073e-07 - acc: 1.00 - ETA: 51s - loss: 1.0073e-07 - acc: 1.00 - ETA: 51s - loss: 1.0072e-07 - acc: 1.00 - ETA: 50s - loss: 1.0072e-07 - acc: 1.00 - ETA: 49s - loss: 1.0072e-07 - acc: 1.00 - ETA: 49s - loss: 1.0072e-07 - acc: 1.00 - ETA: 48s - loss: 1.0072e-07 - acc: 1.00 - ETA: 48s - loss: 1.0072e-07 - acc: 1.00 - ETA: 47s - loss: 1.0072e-07 - acc: 1.00 - ETA: 46s - loss: 1.0072e-07 - acc: 1.00 - ETA: 46s - loss: 1.0072e-07 - acc: 1.00 - ETA: 45s - loss: 1.0071e-07 - acc: 1.00 - ETA: 45s - loss: 1.0071e-07 - acc: 1.00 - ETA: 44s - loss: 1.0071e-07 - acc: 1.00 - ETA: 43s - loss: 1.0071e-07 - acc: 1.00 - ETA: 43s - loss: 1.0071e-07 - acc: 1.00 - ETA: 42s - loss: 1.0071e-07 - acc: 1.00 - ETA: 42s - loss: 1.0071e-07 - acc: 1.00 - ETA: 41s - loss: 1.0071e-07 - acc: 1.00 - ETA: 40s - loss: 1.0071e-07 - acc: 1.00 - ETA: 40s - loss: 1.0070e-07 - acc: 1.00 - ETA: 39s - loss: 1.0070e-07 - acc: 1.00 - ETA: 39s - loss: 1.0070e-07 - acc: 1.00 - ETA: 38s - loss: 1.0070e-07 - acc: 1.00 - ETA: 37s - loss: 1.0070e-07 - acc: 1.00 - ETA: 37s - loss: 1.0070e-07 - acc: 1.00 - ETA: 36s - loss: 1.0070e-07 - acc: 1.00 - ETA: 36s - loss: 1.0070e-07 - acc: 1.00 - ETA: 35s - loss: 1.0069e-07 - acc: 1.00 - ETA: 34s - loss: 1.0069e-07 - acc: 1.00 - ETA: 34s - loss: 1.0069e-07 - acc: 1.00 - ETA: 33s - loss: 1.0069e-07 - acc: 1.00 - ETA: 33s - loss: 1.0069e-07 - acc: 1.00 - ETA: 32s - loss: 1.0069e-07 - acc: 1.00 - ETA: 31s - loss: 1.0069e-07 - acc: 1.00 - ETA: 31s - loss: 1.0069e-07 - acc: 1.00 - ETA: 30s - loss: 1.0069e-07 - acc: 1.00 - ETA: 30s - loss: 1.0069e-07 - acc: 1.00 - ETA: 29s - loss: 1.0068e-07 - acc: 1.00 - ETA: 29s - loss: 1.0068e-07 - acc: 1.00 - ETA: 28s - loss: 1.0069e-07 - acc: 1.00 - ETA: 27s - loss: 1.0069e-07 - acc: 1.00 - ETA: 27s - loss: 1.0068e-07 - acc: 1.00 - ETA: 26s - loss: 1.0068e-07 - acc: 1.00 - ETA: 26s - loss: 1.0068e-07 - acc: 1.00 - ETA: 25s - loss: 1.0069e-07 - acc: 1.00 - ETA: 24s - loss: 1.0069e-07 - acc: 1.00 - ETA: 24s - loss: 1.0069e-07 - acc: 1.00 - ETA: 23s - loss: 1.0069e-07 - acc: 1.00 - ETA: 23s - loss: 1.0071e-07 - acc: 1.00 - ETA: 22s - loss: 1.0071e-07 - acc: 1.00 - ETA: 21s - loss: 1.0071e-07 - acc: 1.00 - ETA: 21s - loss: 1.0071e-07 - acc: 1.00 - ETA: 20s - loss: 1.0071e-07 - acc: 1.00 - ETA: 20s - loss: 1.0070e-07 - acc: 1.00 - ETA: 19s - loss: 1.0070e-07 - acc: 1.00 - ETA: 18s - loss: 1.0070e-07 - acc: 1.00 - ETA: 18s - loss: 1.0070e-07 - acc: 1.00 - ETA: 17s - loss: 1.0070e-07 - acc: 1.00 - ETA: 17s - loss: 1.0070e-07 - acc: 1.00 - ETA: 16s - loss: 1.0070e-07 - acc: 1.00 - ETA: 15s - loss: 1.0070e-07 - acc: 1.00 - ETA: 15s - loss: 1.0070e-07 - acc: 1.00 - ETA: 14s - loss: 1.0070e-07 - acc: 1.00 - ETA: 14s - loss: 1.0070e-07 - acc: 1.00 - ETA: 13s - loss: 1.0070e-07 - acc: 1.00 - ETA: 12s - loss: 1.0070e-07 - acc: 1.00 - ETA: 12s - loss: 1.0070e-07 - acc: 1.00 - ETA: 11s - loss: 1.0070e-07 - acc: 1.00 - ETA: 11s - loss: 1.0070e-07 - acc: 1.00 - ETA: 10s - loss: 1.0069e-07 - acc: 1.00 - ETA: 9s - loss: 1.0069e-07 - acc: 1.0000 - ETA: 9s - loss: 1.0069e-07 - acc: 1.000 - ETA: 8s - loss: 1.0069e-07 - acc: 1.000 - ETA: 8s - loss: 1.0069e-07 - acc: 1.000 - ETA: 7s - loss: 1.0069e-07 - acc: 1.000 - ETA: 6s - loss: 1.0069e-07 - acc: 1.000 - ETA: 6s - loss: 1.0069e-07 - acc: 1.000 - ETA: 5s - loss: 1.0069e-07 - acc: 1.000 - ETA: 5s - loss: 1.0069e-07 - acc: 1.000 - ETA: 4s - loss: 1.0069e-07 - acc: 1.000 - ETA: 4s - loss: 1.0069e-07 - acc: 1.000 - ETA: 3s - loss: 1.0069e-07 - acc: 1.000 - ETA: 2s - loss: 1.0069e-07 - acc: 1.000 - ETA: 2s - loss: 1.0068e-07 - acc: 1.000 - ETA: 1s - loss: 1.0068e-07 - acc: 1.000 - ETA: 1s - loss: 1.0068e-07 - acc: 1.000 - ETA: 0s - loss: 1.0068e-07 - acc: 1.000 - 334s 685ms/step - loss: 1.0068e-07 - acc: 1.0000 - val_loss: 2.1240 - val_acc: 0.8682\n"
     ]
    },
    {
     "data": {
      "text/plain": [
       "<keras.callbacks.History at 0x150105a5320>"
      ]
     },
     "execution_count": 114,
     "metadata": {},
     "output_type": "execute_result"
    }
   ],
   "source": [
    "model.fit_generator(generator=batch_generator_shuffle(X_SMOTE, np.asarray(y_SMOTE), 1000),\n",
    "                    epochs=2, validation_data=(x_validation_tfidf, y_test[1]),\n",
    "                    steps_per_epoch=x_train_tfidf.shape[0]/1000, verbose=1)"
   ]
  },
  {
   "cell_type": "code",
   "execution_count": 118,
   "metadata": {},
   "outputs": [
    {
     "name": "stderr",
     "output_type": "stream",
     "text": [
      "C:\\Users\\elonm\\AppData\\Roaming\\Python\\Python36\\site-packages\\sklearn\\metrics\\classification.py:1143: UndefinedMetricWarning: Precision and F-score are ill-defined and being set to 0.0 in labels with no predicted samples.\n",
      "  'precision', 'predicted', average, warn_for)\n"
     ]
    },
    {
     "name": "stdout",
     "output_type": "stream",
     "text": [
      "              precision    recall  f1-score   support\n",
      "\n",
      "           0       0.87      1.00      0.93    105656\n",
      "           1       0.00      0.00      0.00     16036\n",
      "\n",
      "   micro avg       0.87      0.87      0.87    121692\n",
      "   macro avg       0.43      0.50      0.46    121692\n",
      "weighted avg       0.75      0.87      0.81    121692\n",
      "\n"
     ]
    }
   ],
   "source": [
    "y_pred = model.predict(x_validation_tfidf)"
   ]
  },
  {
   "cell_type": "code",
   "execution_count": 124,
   "metadata": {},
   "outputs": [
    {
     "name": "stderr",
     "output_type": "stream",
     "text": [
      "C:\\Users\\elonm\\AppData\\Roaming\\Python\\Python36\\site-packages\\sklearn\\metrics\\classification.py:1143: UndefinedMetricWarning: Precision and F-score are ill-defined and being set to 0.0 in labels with no predicted samples.\n",
      "  'precision', 'predicted', average, warn_for)\n"
     ]
    },
    {
     "name": "stdout",
     "output_type": "stream",
     "text": [
      "              precision    recall  f1-score   support\n",
      "\n",
      "           0       0.87      1.00      0.93    105656\n",
      "           1       0.00      0.00      0.00     16036\n",
      "\n",
      "   micro avg       0.87      0.87      0.87    121692\n",
      "   macro avg       0.43      0.50      0.46    121692\n",
      "weighted avg       0.75      0.87      0.81    121692\n",
      "\n"
     ]
    }
   ],
   "source": [
    "res = []\n",
    "for i in y_pred:\n",
    "    if i > 0.4:\n",
    "        res.append(1)\n",
    "    else:\n",
    "        res.append(0)\n",
    "        \n",
    "print(classification_report(y_test[1], res))"
   ]
  },
  {
   "cell_type": "markdown",
   "metadata": {},
   "source": [
    "## Under Sampling"
   ]
  },
  {
   "cell_type": "code",
   "execution_count": 125,
   "metadata": {},
   "outputs": [],
   "source": [
    "from imblearn.under_sampling import RandomUnderSampler\n",
    "rus = RandomUnderSampler(random_state=42)\n",
    "X_rus, y_rus = rus.fit_resample(x_train_tfidf, y_train[1])"
   ]
  },
  {
   "cell_type": "code",
   "execution_count": 126,
   "metadata": {},
   "outputs": [
    {
     "name": "stdout",
     "output_type": "stream",
     "text": [
      "(128806, 40000)\n"
     ]
    }
   ],
   "source": [
    "print(X_rus.shape)"
   ]
  },
  {
   "cell_type": "code",
   "execution_count": 136,
   "metadata": {},
   "outputs": [
    {
     "name": "stdout",
     "output_type": "stream",
     "text": [
      "_________________________________________________________________\n",
      "Layer (type)                 Output Shape              Param #   \n",
      "=================================================================\n",
      "dense_36 (Dense)             (None, 128)               5120128   \n",
      "_________________________________________________________________\n",
      "dropout_20 (Dropout)         (None, 128)               0         \n",
      "_________________________________________________________________\n",
      "dense_37 (Dense)             (None, 128)               16512     \n",
      "_________________________________________________________________\n",
      "dropout_21 (Dropout)         (None, 128)               0         \n",
      "_________________________________________________________________\n",
      "dense_38 (Dense)             (None, 1)                 129       \n",
      "=================================================================\n",
      "Total params: 5,136,769\n",
      "Trainable params: 5,136,769\n",
      "Non-trainable params: 0\n",
      "_________________________________________________________________\n"
     ]
    }
   ],
   "source": [
    "model = Sequential()\n",
    "model.add(Dense(128, activation='relu', input_dim=40000))\n",
    "model.add(Dropout(0.3))\n",
    "model.add(Dense(128, activation='relu'))\n",
    "model.add(Dropout(0.3))\n",
    "model.add(Dense(1, activation='sigmoid'))\n",
    "model.compile(optimizer='rmsprop', loss='binary_crossentropy', metrics=['accuracy'])\n",
    "model.summary()"
   ]
  },
  {
   "cell_type": "code",
   "execution_count": 137,
   "metadata": {},
   "outputs": [
    {
     "name": "stdout",
     "output_type": "stream",
     "text": [
      "Epoch 1/2\n"
     ]
    },
    {
     "name": "stdout",
     "output_type": "stream",
     "text": [
      "204/486 [===========>..................] - ETA: 11:13 - loss: 0.6919 - acc: 0.67 - ETA: 7:22 - loss: 0.6644 - acc: 0.8375 - ETA: 6:02 - loss: 0.6310 - acc: 0.891 - ETA: 5:21 - loss: 0.5942 - acc: 0.918 - ETA: 4:56 - loss: 0.5582 - acc: 0.935 - ETA: 4:39 - loss: 0.5230 - acc: 0.945 - ETA: 4:27 - loss: 0.4886 - acc: 0.953 - ETA: 4:18 - loss: 0.4567 - acc: 0.959 - ETA: 4:11 - loss: 0.4281 - acc: 0.963 - ETA: 4:06 - loss: 0.4016 - acc: 0.967 - ETA: 4:01 - loss: 0.3777 - acc: 0.970 - ETA: 3:57 - loss: 0.3560 - acc: 0.972 - ETA: 3:54 - loss: 0.3364 - acc: 0.975 - ETA: 3:51 - loss: 0.3187 - acc: 0.976 - ETA: 3:48 - loss: 0.3026 - acc: 0.978 - ETA: 3:46 - loss: 0.2877 - acc: 0.979 - ETA: 3:44 - loss: 0.2742 - acc: 0.980 - ETA: 3:42 - loss: 0.2617 - acc: 0.981 - ETA: 3:40 - loss: 0.2503 - acc: 0.982 - ETA: 3:38 - loss: 0.2399 - acc: 0.983 - ETA: 3:36 - loss: 0.2302 - acc: 0.984 - ETA: 3:35 - loss: 0.2212 - acc: 0.985 - ETA: 3:34 - loss: 0.2129 - acc: 0.985 - ETA: 3:32 - loss: 0.2052 - acc: 0.986 - ETA: 3:31 - loss: 0.1980 - acc: 0.987 - ETA: 3:30 - loss: 0.1913 - acc: 0.987 - ETA: 3:29 - loss: 0.1848 - acc: 0.988 - ETA: 3:28 - loss: 0.1789 - acc: 0.988 - ETA: 3:27 - loss: 0.1733 - acc: 0.988 - ETA: 3:26 - loss: 0.1680 - acc: 0.989 - ETA: 3:25 - loss: 0.1631 - acc: 0.989 - ETA: 3:24 - loss: 0.1584 - acc: 0.989 - ETA: 3:23 - loss: 0.1540 - acc: 0.990 - ETA: 3:23 - loss: 0.1498 - acc: 0.990 - ETA: 3:23 - loss: 0.1458 - acc: 0.990 - ETA: 3:24 - loss: 0.1420 - acc: 0.991 - ETA: 3:23 - loss: 0.1384 - acc: 0.991 - ETA: 3:23 - loss: 0.1350 - acc: 0.991 - ETA: 3:22 - loss: 0.1317 - acc: 0.991 - ETA: 3:22 - loss: 0.1286 - acc: 0.991 - ETA: 3:21 - loss: 0.1256 - acc: 0.992 - ETA: 3:20 - loss: 0.1227 - acc: 0.992 - ETA: 3:20 - loss: 0.1200 - acc: 0.992 - ETA: 3:20 - loss: 0.1174 - acc: 0.992 - ETA: 3:20 - loss: 0.1150 - acc: 0.992 - ETA: 3:19 - loss: 0.1126 - acc: 0.992 - ETA: 3:19 - loss: 0.1103 - acc: 0.993 - ETA: 3:18 - loss: 0.1080 - acc: 0.993 - ETA: 3:18 - loss: 0.1059 - acc: 0.993 - ETA: 3:18 - loss: 0.1039 - acc: 0.993 - ETA: 3:17 - loss: 0.1019 - acc: 0.993 - ETA: 3:17 - loss: 0.1000 - acc: 0.993 - ETA: 3:17 - loss: 0.0982 - acc: 0.993 - ETA: 3:17 - loss: 0.0964 - acc: 0.994 - ETA: 3:16 - loss: 0.0947 - acc: 0.994 - ETA: 3:15 - loss: 0.0930 - acc: 0.994 - ETA: 3:15 - loss: 0.0915 - acc: 0.994 - ETA: 3:15 - loss: 0.0899 - acc: 0.994 - ETA: 3:15 - loss: 0.0884 - acc: 0.994 - ETA: 3:14 - loss: 0.0870 - acc: 0.994 - ETA: 3:14 - loss: 0.0856 - acc: 0.994 - ETA: 3:14 - loss: 0.0842 - acc: 0.994 - ETA: 3:14 - loss: 0.0829 - acc: 0.994 - ETA: 3:14 - loss: 0.0817 - acc: 0.994 - ETA: 3:13 - loss: 0.0804 - acc: 0.995 - ETA: 3:12 - loss: 0.0792 - acc: 0.995 - ETA: 3:11 - loss: 0.0781 - acc: 0.995 - ETA: 3:11 - loss: 0.0769 - acc: 0.995 - ETA: 3:10 - loss: 0.0758 - acc: 0.995 - ETA: 3:09 - loss: 0.0748 - acc: 0.995 - ETA: 3:09 - loss: 0.0737 - acc: 0.995 - ETA: 3:08 - loss: 0.0727 - acc: 0.995 - ETA: 3:07 - loss: 0.0717 - acc: 0.995 - ETA: 3:07 - loss: 0.0708 - acc: 0.995 - ETA: 3:06 - loss: 0.0698 - acc: 0.995 - ETA: 3:05 - loss: 0.0689 - acc: 0.995 - ETA: 3:05 - loss: 0.0680 - acc: 0.995 - ETA: 3:04 - loss: 0.0672 - acc: 0.995 - ETA: 3:04 - loss: 0.0663 - acc: 0.995 - ETA: 3:04 - loss: 0.0655 - acc: 0.995 - ETA: 3:03 - loss: 0.0647 - acc: 0.996 - ETA: 3:03 - loss: 0.0639 - acc: 0.996 - ETA: 3:02 - loss: 0.0632 - acc: 0.996 - ETA: 3:01 - loss: 0.0624 - acc: 0.996 - ETA: 3:01 - loss: 0.0617 - acc: 0.996 - ETA: 3:01 - loss: 0.0610 - acc: 0.996 - ETA: 3:00 - loss: 0.0603 - acc: 0.996 - ETA: 3:00 - loss: 0.0596 - acc: 0.996 - ETA: 2:59 - loss: 0.0589 - acc: 0.996 - ETA: 2:59 - loss: 0.0583 - acc: 0.996 - ETA: 2:58 - loss: 0.0576 - acc: 0.996 - ETA: 2:58 - loss: 0.0570 - acc: 0.996 - ETA: 2:57 - loss: 0.0564 - acc: 0.996 - ETA: 2:57 - loss: 0.0558 - acc: 0.996 - ETA: 2:56 - loss: 0.0552 - acc: 0.996 - ETA: 2:56 - loss: 0.0547 - acc: 0.996 - ETA: 2:55 - loss: 0.0541 - acc: 0.996 - ETA: 2:55 - loss: 0.0536 - acc: 0.996 - ETA: 2:54 - loss: 0.0530 - acc: 0.996 - ETA: 2:54 - loss: 0.0525 - acc: 0.996 - ETA: 2:53 - loss: 0.0520 - acc: 0.996 - ETA: 2:53 - loss: 0.0515 - acc: 0.996 - ETA: 2:52 - loss: 0.0510 - acc: 0.996 - ETA: 2:52 - loss: 0.0505 - acc: 0.996 - ETA: 2:51 - loss: 0.0500 - acc: 0.996 - ETA: 2:51 - loss: 0.0495 - acc: 0.996 - ETA: 2:51 - loss: 0.0491 - acc: 0.997 - ETA: 2:51 - loss: 0.0486 - acc: 0.997 - ETA: 2:50 - loss: 0.0482 - acc: 0.997 - ETA: 2:50 - loss: 0.0477 - acc: 0.997 - ETA: 2:50 - loss: 0.0473 - acc: 0.997 - ETA: 2:49 - loss: 0.0469 - acc: 0.997 - ETA: 2:49 - loss: 0.0465 - acc: 0.997 - ETA: 2:48 - loss: 0.0461 - acc: 0.997 - ETA: 2:47 - loss: 0.0457 - acc: 0.997 - ETA: 2:47 - loss: 0.0453 - acc: 0.997 - ETA: 2:46 - loss: 0.0449 - acc: 0.997 - ETA: 2:46 - loss: 0.0445 - acc: 0.997 - ETA: 2:45 - loss: 0.0441 - acc: 0.997 - ETA: 2:44 - loss: 0.0438 - acc: 0.997 - ETA: 2:44 - loss: 0.0434 - acc: 0.997 - ETA: 2:43 - loss: 0.0430 - acc: 0.997 - ETA: 2:43 - loss: 0.0427 - acc: 0.997 - ETA: 2:42 - loss: 0.0423 - acc: 0.997 - ETA: 2:42 - loss: 0.0420 - acc: 0.997 - ETA: 2:41 - loss: 0.0417 - acc: 0.997 - ETA: 2:40 - loss: 0.0413 - acc: 0.997 - ETA: 2:40 - loss: 0.0410 - acc: 0.997 - ETA: 2:39 - loss: 0.0407 - acc: 0.997 - ETA: 2:39 - loss: 0.0404 - acc: 0.997 - ETA: 2:38 - loss: 0.0401 - acc: 0.997 - ETA: 2:38 - loss: 0.0398 - acc: 0.997 - ETA: 2:37 - loss: 0.0395 - acc: 0.997 - ETA: 2:37 - loss: 0.0392 - acc: 0.997 - ETA: 2:36 - loss: 0.0389 - acc: 0.997 - ETA: 2:35 - loss: 0.0386 - acc: 0.997 - ETA: 2:35 - loss: 0.0383 - acc: 0.997 - ETA: 2:34 - loss: 0.0381 - acc: 0.997 - ETA: 2:34 - loss: 0.0378 - acc: 0.997 - ETA: 2:33 - loss: 0.0375 - acc: 0.997 - ETA: 2:33 - loss: 0.0372 - acc: 0.997 - ETA: 2:32 - loss: 0.0370 - acc: 0.997 - ETA: 2:32 - loss: 0.0367 - acc: 0.997 - ETA: 2:31 - loss: 0.0365 - acc: 0.997 - ETA: 2:31 - loss: 0.0362 - acc: 0.997 - ETA: 2:30 - loss: 0.0360 - acc: 0.997 - ETA: 2:30 - loss: 0.0357 - acc: 0.997 - ETA: 2:29 - loss: 0.0355 - acc: 0.997 - ETA: 2:29 - loss: 0.0352 - acc: 0.997 - ETA: 2:28 - loss: 0.0350 - acc: 0.997 - ETA: 2:28 - loss: 0.0348 - acc: 0.997 - ETA: 2:27 - loss: 0.0346 - acc: 0.997 - ETA: 2:27 - loss: 0.0343 - acc: 0.997 - ETA: 2:27 - loss: 0.0341 - acc: 0.997 - ETA: 2:26 - loss: 0.0339 - acc: 0.997 - ETA: 2:26 - loss: 0.0337 - acc: 0.997 - ETA: 2:26 - loss: 0.0335 - acc: 0.997 - ETA: 2:25 - loss: 0.0332 - acc: 0.997 - ETA: 2:25 - loss: 0.0330 - acc: 0.998 - ETA: 2:24 - loss: 0.0328 - acc: 0.998 - ETA: 2:24 - loss: 0.0326 - acc: 0.998 - ETA: 2:24 - loss: 0.0324 - acc: 0.998 - ETA: 2:23 - loss: 0.0322 - acc: 0.998 - ETA: 2:23 - loss: 0.0320 - acc: 0.998 - ETA: 2:22 - loss: 0.0318 - acc: 0.998 - ETA: 2:22 - loss: 0.0316 - acc: 0.998 - ETA: 2:22 - loss: 0.0315 - acc: 0.998 - ETA: 2:21 - loss: 0.0313 - acc: 0.998 - ETA: 2:21 - loss: 0.0311 - acc: 0.998 - ETA: 2:20 - loss: 0.0309 - acc: 0.998 - ETA: 2:20 - loss: 0.0307 - acc: 0.998 - ETA: 2:19 - loss: 0.0305 - acc: 0.998 - ETA: 2:19 - loss: 0.0304 - acc: 0.998 - ETA: 2:19 - loss: 0.0302 - acc: 0.998 - ETA: 2:18 - loss: 0.0300 - acc: 0.998 - ETA: 2:18 - loss: 0.0298 - acc: 0.998 - ETA: 2:17 - loss: 0.0297 - acc: 0.998 - ETA: 2:17 - loss: 0.0295 - acc: 0.998 - ETA: 2:16 - loss: 0.0293 - acc: 0.998 - ETA: 2:16 - loss: 0.0292 - acc: 0.998 - ETA: 2:15 - loss: 0.0290 - acc: 0.998 - ETA: 2:15 - loss: 0.0289 - acc: 0.998 - ETA: 2:15 - loss: 0.0287 - acc: 0.998 - ETA: 2:14 - loss: 0.0285 - acc: 0.998 - ETA: 2:14 - loss: 0.0284 - acc: 0.998 - ETA: 2:13 - loss: 0.0282 - acc: 0.998 - ETA: 2:13 - loss: 0.0281 - acc: 0.998 - ETA: 2:13 - loss: 0.0279 - acc: 0.998 - ETA: 2:12 - loss: 0.0278 - acc: 0.998 - ETA: 2:12 - loss: 0.0276 - acc: 0.998 - ETA: 2:12 - loss: 0.0275 - acc: 0.998 - ETA: 2:11 - loss: 0.0274 - acc: 0.998 - ETA: 2:11 - loss: 0.0272 - acc: 0.998 - ETA: 2:10 - loss: 0.0271 - acc: 0.998 - ETA: 2:10 - loss: 0.0269 - acc: 0.998 - ETA: 2:10 - loss: 0.0268 - acc: 0.998 - ETA: 2:09 - loss: 0.0267 - acc: 0.998 - ETA: 2:09 - loss: 0.0265 - acc: 0.998 - ETA: 2:08 - loss: 0.0264 - acc: 0.998 - ETA: 2:08 - loss: 0.0263 - acc: 0.998 - ETA: 2:07 - loss: 0.0261 - acc: 0.998 - ETA: 2:07 - loss: 0.0260 - acc: 0.998 - ETA: 2:06 - loss: 0.0259 - acc: 0.998 - ETA: 2:06 - loss: 0.0257 - acc: 0.9984\b\b\b\b\b\b\b\b\b\b\b\b\b\b\b\b\b\b\b\b\b\b\b\b\b\b\b\b\b\b\b\b\b\b\b\b\b\b\b\b\b\b\b\b\b\b\b\b\b\b\b\b\b\b\b\b\b\b\b\b\b\b\b\b\b\b\b\b\b\b\b\b\b\b\b\b\b\b\b\b\b"
     ]
    },
    {
     "name": "stdout",
     "output_type": "stream",
     "text": [
      "411/486 [========================>.....] - ETA: 2:05 - loss: 0.0256 - acc: 0.998 - ETA: 2:05 - loss: 0.0255 - acc: 0.998 - ETA: 2:04 - loss: 0.0254 - acc: 0.998 - ETA: 2:04 - loss: 0.0253 - acc: 0.998 - ETA: 2:03 - loss: 0.0251 - acc: 0.998 - ETA: 2:03 - loss: 0.0250 - acc: 0.998 - ETA: 2:03 - loss: 0.0249 - acc: 0.998 - ETA: 2:02 - loss: 0.0248 - acc: 0.998 - ETA: 2:02 - loss: 0.0247 - acc: 0.998 - ETA: 2:01 - loss: 0.0245 - acc: 0.998 - ETA: 2:01 - loss: 0.0244 - acc: 0.998 - ETA: 2:00 - loss: 0.0243 - acc: 0.998 - ETA: 2:00 - loss: 0.0242 - acc: 0.998 - ETA: 1:59 - loss: 0.0241 - acc: 0.998 - ETA: 1:59 - loss: 0.0240 - acc: 0.998 - ETA: 1:59 - loss: 0.0239 - acc: 0.998 - ETA: 1:58 - loss: 0.0238 - acc: 0.998 - ETA: 1:58 - loss: 0.0237 - acc: 0.998 - ETA: 1:57 - loss: 0.0236 - acc: 0.998 - ETA: 1:57 - loss: 0.0234 - acc: 0.998 - ETA: 1:56 - loss: 0.0233 - acc: 0.998 - ETA: 1:56 - loss: 0.0232 - acc: 0.998 - ETA: 1:55 - loss: 0.0231 - acc: 0.998 - ETA: 1:55 - loss: 0.0230 - acc: 0.998 - ETA: 1:54 - loss: 0.0229 - acc: 0.998 - ETA: 1:54 - loss: 0.0228 - acc: 0.998 - ETA: 1:53 - loss: 0.0227 - acc: 0.998 - ETA: 1:53 - loss: 0.0226 - acc: 0.998 - ETA: 1:52 - loss: 0.0225 - acc: 0.998 - ETA: 1:52 - loss: 0.0224 - acc: 0.998 - ETA: 1:52 - loss: 0.0224 - acc: 0.998 - ETA: 1:51 - loss: 0.0223 - acc: 0.998 - ETA: 1:51 - loss: 0.0222 - acc: 0.998 - ETA: 1:50 - loss: 0.0221 - acc: 0.998 - ETA: 1:50 - loss: 0.0220 - acc: 0.998 - ETA: 1:49 - loss: 0.0219 - acc: 0.998 - ETA: 1:49 - loss: 0.0218 - acc: 0.998 - ETA: 1:48 - loss: 0.0217 - acc: 0.998 - ETA: 1:48 - loss: 0.0216 - acc: 0.998 - ETA: 1:47 - loss: 0.0215 - acc: 0.998 - ETA: 1:47 - loss: 0.0214 - acc: 0.998 - ETA: 1:47 - loss: 0.0214 - acc: 0.998 - ETA: 1:46 - loss: 0.0213 - acc: 0.998 - ETA: 1:46 - loss: 0.0212 - acc: 0.998 - ETA: 1:45 - loss: 0.0211 - acc: 0.998 - ETA: 1:45 - loss: 0.0210 - acc: 0.998 - ETA: 1:44 - loss: 0.0209 - acc: 0.998 - ETA: 1:44 - loss: 0.0208 - acc: 0.998 - ETA: 1:43 - loss: 0.0208 - acc: 0.998 - ETA: 1:43 - loss: 0.0207 - acc: 0.998 - ETA: 1:43 - loss: 0.0206 - acc: 0.998 - ETA: 1:42 - loss: 0.0205 - acc: 0.998 - ETA: 1:42 - loss: 0.0204 - acc: 0.998 - ETA: 1:41 - loss: 0.0204 - acc: 0.998 - ETA: 1:41 - loss: 0.0203 - acc: 0.998 - ETA: 1:40 - loss: 0.0202 - acc: 0.998 - ETA: 1:40 - loss: 0.0201 - acc: 0.998 - ETA: 1:39 - loss: 0.0200 - acc: 0.998 - ETA: 1:39 - loss: 0.0200 - acc: 0.998 - ETA: 1:38 - loss: 0.0199 - acc: 0.998 - ETA: 1:38 - loss: 0.0198 - acc: 0.998 - ETA: 1:37 - loss: 0.0197 - acc: 0.998 - ETA: 1:37 - loss: 0.0197 - acc: 0.998 - ETA: 1:37 - loss: 0.0196 - acc: 0.998 - ETA: 1:36 - loss: 0.0195 - acc: 0.998 - ETA: 1:36 - loss: 0.0195 - acc: 0.998 - ETA: 1:35 - loss: 0.0194 - acc: 0.998 - ETA: 1:35 - loss: 0.0193 - acc: 0.998 - ETA: 1:34 - loss: 0.0192 - acc: 0.998 - ETA: 1:34 - loss: 0.0192 - acc: 0.998 - ETA: 1:33 - loss: 0.0191 - acc: 0.998 - ETA: 1:33 - loss: 0.0190 - acc: 0.998 - ETA: 1:32 - loss: 0.0190 - acc: 0.998 - ETA: 1:32 - loss: 0.0189 - acc: 0.998 - ETA: 1:32 - loss: 0.0188 - acc: 0.998 - ETA: 1:31 - loss: 0.0188 - acc: 0.998 - ETA: 1:31 - loss: 0.0187 - acc: 0.998 - ETA: 1:30 - loss: 0.0186 - acc: 0.998 - ETA: 1:30 - loss: 0.0186 - acc: 0.998 - ETA: 1:29 - loss: 0.0185 - acc: 0.998 - ETA: 1:29 - loss: 0.0184 - acc: 0.998 - ETA: 1:28 - loss: 0.0184 - acc: 0.998 - ETA: 1:28 - loss: 0.0183 - acc: 0.998 - ETA: 1:28 - loss: 0.0182 - acc: 0.998 - ETA: 1:27 - loss: 0.0182 - acc: 0.998 - ETA: 1:27 - loss: 0.0181 - acc: 0.998 - ETA: 1:26 - loss: 0.0180 - acc: 0.998 - ETA: 1:26 - loss: 0.0180 - acc: 0.998 - ETA: 1:25 - loss: 0.0179 - acc: 0.998 - ETA: 1:25 - loss: 0.0179 - acc: 0.998 - ETA: 1:24 - loss: 0.0178 - acc: 0.998 - ETA: 1:24 - loss: 0.0177 - acc: 0.998 - ETA: 1:23 - loss: 0.0177 - acc: 0.998 - ETA: 1:23 - loss: 0.0176 - acc: 0.998 - ETA: 1:23 - loss: 0.0176 - acc: 0.998 - ETA: 1:22 - loss: 0.0175 - acc: 0.998 - ETA: 1:22 - loss: 0.0174 - acc: 0.998 - ETA: 1:21 - loss: 0.0174 - acc: 0.998 - ETA: 1:21 - loss: 0.0173 - acc: 0.998 - ETA: 1:20 - loss: 0.0173 - acc: 0.998 - ETA: 1:20 - loss: 0.0172 - acc: 0.998 - ETA: 1:19 - loss: 0.0172 - acc: 0.998 - ETA: 1:19 - loss: 0.0171 - acc: 0.998 - ETA: 1:19 - loss: 0.0171 - acc: 0.998 - ETA: 1:18 - loss: 0.0170 - acc: 0.998 - ETA: 1:18 - loss: 0.0169 - acc: 0.999 - ETA: 1:17 - loss: 0.0169 - acc: 0.999 - ETA: 1:17 - loss: 0.0168 - acc: 0.999 - ETA: 1:16 - loss: 0.0168 - acc: 0.999 - ETA: 1:16 - loss: 0.0167 - acc: 0.999 - ETA: 1:15 - loss: 0.0167 - acc: 0.999 - ETA: 1:15 - loss: 0.0166 - acc: 0.999 - ETA: 1:15 - loss: 0.0166 - acc: 0.999 - ETA: 1:14 - loss: 0.0165 - acc: 0.999 - ETA: 1:14 - loss: 0.0165 - acc: 0.999 - ETA: 1:13 - loss: 0.0164 - acc: 0.999 - ETA: 1:13 - loss: 0.0164 - acc: 0.999 - ETA: 1:12 - loss: 0.0163 - acc: 0.999 - ETA: 1:12 - loss: 0.0163 - acc: 0.999 - ETA: 1:12 - loss: 0.0162 - acc: 0.999 - ETA: 1:11 - loss: 0.0162 - acc: 0.999 - ETA: 1:11 - loss: 0.0161 - acc: 0.999 - ETA: 1:10 - loss: 0.0161 - acc: 0.999 - ETA: 1:10 - loss: 0.0160 - acc: 0.999 - ETA: 1:09 - loss: 0.0160 - acc: 0.999 - ETA: 1:09 - loss: 0.0159 - acc: 0.999 - ETA: 1:09 - loss: 0.0159 - acc: 0.999 - ETA: 1:08 - loss: 0.0158 - acc: 0.999 - ETA: 1:08 - loss: 0.0158 - acc: 0.999 - ETA: 1:07 - loss: 0.0157 - acc: 0.999 - ETA: 1:07 - loss: 0.0157 - acc: 0.999 - ETA: 1:06 - loss: 0.0156 - acc: 0.999 - ETA: 1:06 - loss: 0.0156 - acc: 0.999 - ETA: 1:05 - loss: 0.0155 - acc: 0.999 - ETA: 1:05 - loss: 0.0155 - acc: 0.999 - ETA: 1:04 - loss: 0.0154 - acc: 0.999 - ETA: 1:04 - loss: 0.0154 - acc: 0.999 - ETA: 1:04 - loss: 0.0154 - acc: 0.999 - ETA: 1:03 - loss: 0.0153 - acc: 0.999 - ETA: 1:03 - loss: 0.0153 - acc: 0.999 - ETA: 1:02 - loss: 0.0152 - acc: 0.999 - ETA: 1:02 - loss: 0.0152 - acc: 0.999 - ETA: 1:02 - loss: 0.0151 - acc: 0.999 - ETA: 1:01 - loss: 0.0151 - acc: 0.999 - ETA: 1:01 - loss: 0.0150 - acc: 0.999 - ETA: 1:00 - loss: 0.0150 - acc: 0.999 - ETA: 1:00 - loss: 0.0150 - acc: 0.999 - ETA: 1:00 - loss: 0.0149 - acc: 0.999 - ETA: 59s - loss: 0.0149 - acc: 0.999 - ETA: 59s - loss: 0.0148 - acc: 0.99 - ETA: 58s - loss: 0.0148 - acc: 0.99 - ETA: 58s - loss: 0.0148 - acc: 0.99 - ETA: 58s - loss: 0.0147 - acc: 0.99 - ETA: 57s - loss: 0.0147 - acc: 0.99 - ETA: 57s - loss: 0.0146 - acc: 0.99 - ETA: 56s - loss: 0.0146 - acc: 0.99 - ETA: 56s - loss: 0.0145 - acc: 0.99 - ETA: 56s - loss: 0.0145 - acc: 0.99 - ETA: 55s - loss: 0.0145 - acc: 0.99 - ETA: 55s - loss: 0.0144 - acc: 0.99 - ETA: 54s - loss: 0.0144 - acc: 0.99 - ETA: 54s - loss: 0.0144 - acc: 0.99 - ETA: 53s - loss: 0.0143 - acc: 0.99 - ETA: 53s - loss: 0.0143 - acc: 0.99 - ETA: 52s - loss: 0.0142 - acc: 0.99 - ETA: 52s - loss: 0.0142 - acc: 0.99 - ETA: 51s - loss: 0.0142 - acc: 0.99 - ETA: 51s - loss: 0.0141 - acc: 0.99 - ETA: 51s - loss: 0.0141 - acc: 0.99 - ETA: 50s - loss: 0.0140 - acc: 0.99 - ETA: 50s - loss: 0.0140 - acc: 0.99 - ETA: 49s - loss: 0.0140 - acc: 0.99 - ETA: 49s - loss: 0.0139 - acc: 0.99 - ETA: 48s - loss: 0.0139 - acc: 0.99 - ETA: 48s - loss: 0.0139 - acc: 0.99 - ETA: 47s - loss: 0.0138 - acc: 0.99 - ETA: 47s - loss: 0.0138 - acc: 0.99 - ETA: 46s - loss: 0.0137 - acc: 0.99 - ETA: 46s - loss: 0.0137 - acc: 0.99 - ETA: 46s - loss: 0.0137 - acc: 0.99 - ETA: 45s - loss: 0.0136 - acc: 0.99 - ETA: 45s - loss: 0.0136 - acc: 0.99 - ETA: 44s - loss: 0.0136 - acc: 0.99 - ETA: 44s - loss: 0.0135 - acc: 0.99 - ETA: 43s - loss: 0.0135 - acc: 0.99 - ETA: 43s - loss: 0.0135 - acc: 0.99 - ETA: 42s - loss: 0.0134 - acc: 0.99 - ETA: 42s - loss: 0.0134 - acc: 0.99 - ETA: 41s - loss: 0.0134 - acc: 0.99 - ETA: 41s - loss: 0.0133 - acc: 0.99 - ETA: 41s - loss: 0.0133 - acc: 0.99 - ETA: 40s - loss: 0.0133 - acc: 0.99 - ETA: 40s - loss: 0.0132 - acc: 0.99 - ETA: 39s - loss: 0.0132 - acc: 0.99 - ETA: 39s - loss: 0.0132 - acc: 0.99 - ETA: 38s - loss: 0.0131 - acc: 0.99 - ETA: 38s - loss: 0.0131 - acc: 0.99 - ETA: 37s - loss: 0.0131 - acc: 0.99 - ETA: 37s - loss: 0.0130 - acc: 0.99 - ETA: 37s - loss: 0.0130 - acc: 0.99 - ETA: 36s - loss: 0.0130 - acc: 0.99 - ETA: 36s - loss: 0.0129 - acc: 0.99 - ETA: 35s - loss: 0.0129 - acc: 0.99 - ETA: 35s - loss: 0.0129 - acc: 0.99 - ETA: 34s - loss: 0.0128 - acc: 0.99 - ETA: 34s - loss: 0.0128 - acc: 0.99 - ETA: 33s - loss: 0.0128 - acc: 0.9992"
     ]
    },
    {
     "name": "stdout",
     "output_type": "stream",
     "text": [
      "487/486 [==============================] - ETA: 33s - loss: 0.0127 - acc: 0.99 - ETA: 33s - loss: 0.0127 - acc: 0.99 - ETA: 32s - loss: 0.0127 - acc: 0.99 - ETA: 32s - loss: 0.0127 - acc: 0.99 - ETA: 31s - loss: 0.0126 - acc: 0.99 - ETA: 31s - loss: 0.0126 - acc: 0.99 - ETA: 30s - loss: 0.0126 - acc: 0.99 - ETA: 30s - loss: 0.0125 - acc: 0.99 - ETA: 29s - loss: 0.0125 - acc: 0.99 - ETA: 29s - loss: 0.0125 - acc: 0.99 - ETA: 28s - loss: 0.0124 - acc: 0.99 - ETA: 28s - loss: 0.0124 - acc: 0.99 - ETA: 28s - loss: 0.0124 - acc: 0.99 - ETA: 27s - loss: 0.0124 - acc: 0.99 - ETA: 27s - loss: 0.0123 - acc: 0.99 - ETA: 26s - loss: 0.0123 - acc: 0.99 - ETA: 26s - loss: 0.0123 - acc: 0.99 - ETA: 25s - loss: 0.0122 - acc: 0.99 - ETA: 25s - loss: 0.0122 - acc: 0.99 - ETA: 24s - loss: 0.0122 - acc: 0.99 - ETA: 24s - loss: 0.0122 - acc: 0.99 - ETA: 24s - loss: 0.0121 - acc: 0.99 - ETA: 23s - loss: 0.0121 - acc: 0.99 - ETA: 23s - loss: 0.0121 - acc: 0.99 - ETA: 22s - loss: 0.0120 - acc: 0.99 - ETA: 22s - loss: 0.0120 - acc: 0.99 - ETA: 21s - loss: 0.0120 - acc: 0.99 - ETA: 21s - loss: 0.0120 - acc: 0.99 - ETA: 20s - loss: 0.0119 - acc: 0.99 - ETA: 20s - loss: 0.0119 - acc: 0.99 - ETA: 19s - loss: 0.0119 - acc: 0.99 - ETA: 19s - loss: 0.0119 - acc: 0.99 - ETA: 19s - loss: 0.0118 - acc: 0.99 - ETA: 18s - loss: 0.0118 - acc: 0.99 - ETA: 18s - loss: 0.0118 - acc: 0.99 - ETA: 17s - loss: 0.0118 - acc: 0.99 - ETA: 17s - loss: 0.0117 - acc: 0.99 - ETA: 16s - loss: 0.0117 - acc: 0.99 - ETA: 16s - loss: 0.0117 - acc: 0.99 - ETA: 15s - loss: 0.0116 - acc: 0.99 - ETA: 15s - loss: 0.0116 - acc: 0.99 - ETA: 15s - loss: 0.0116 - acc: 0.99 - ETA: 14s - loss: 0.0116 - acc: 0.99 - ETA: 14s - loss: 0.0115 - acc: 0.99 - ETA: 13s - loss: 0.0115 - acc: 0.99 - ETA: 13s - loss: 0.0115 - acc: 0.99 - ETA: 12s - loss: 0.0115 - acc: 0.99 - ETA: 12s - loss: 0.0114 - acc: 0.99 - ETA: 11s - loss: 0.0114 - acc: 0.99 - ETA: 11s - loss: 0.0114 - acc: 0.99 - ETA: 11s - loss: 0.0114 - acc: 0.99 - ETA: 10s - loss: 0.0113 - acc: 0.99 - ETA: 10s - loss: 0.0113 - acc: 0.99 - ETA: 9s - loss: 0.0113 - acc: 0.9993 - ETA: 9s - loss: 0.0113 - acc: 0.999 - ETA: 8s - loss: 0.0112 - acc: 0.999 - ETA: 8s - loss: 0.0112 - acc: 0.999 - ETA: 7s - loss: 0.0112 - acc: 0.999 - ETA: 7s - loss: 0.0112 - acc: 0.999 - ETA: 7s - loss: 0.0112 - acc: 0.999 - ETA: 6s - loss: 0.0111 - acc: 0.999 - ETA: 6s - loss: 0.0111 - acc: 0.999 - ETA: 5s - loss: 0.0111 - acc: 0.999 - ETA: 5s - loss: 0.0111 - acc: 0.999 - ETA: 4s - loss: 0.0110 - acc: 0.999 - ETA: 4s - loss: 0.0110 - acc: 0.999 - ETA: 3s - loss: 0.0110 - acc: 0.999 - ETA: 3s - loss: 0.0110 - acc: 0.999 - ETA: 3s - loss: 0.0109 - acc: 0.999 - ETA: 2s - loss: 0.0109 - acc: 0.999 - ETA: 2s - loss: 0.0109 - acc: 0.999 - ETA: 1s - loss: 0.0109 - acc: 0.999 - ETA: 1s - loss: 0.0109 - acc: 0.999 - ETA: 0s - loss: 0.0108 - acc: 0.999 - ETA: 0s - loss: 0.0108 - acc: 0.999 - 265s 545ms/step - loss: 0.0108 - acc: 0.9993 - val_loss: 2.1236 - val_acc: 0.8682\n",
      "Epoch 2/2\n"
     ]
    },
    {
     "name": "stdout",
     "output_type": "stream",
     "text": [
      "186/486 [==========>...................] - ETA: 4:17 - loss: 1.0017e-07 - acc: 1.000 - ETA: 4:29 - loss: 1.0009e-07 - acc: 1.000 - ETA: 4:13 - loss: 1.0903e-07 - acc: 1.000 - ETA: 4:08 - loss: 1.0687e-07 - acc: 1.000 - ETA: 4:09 - loss: 1.0757e-07 - acc: 1.000 - ETA: 4:04 - loss: 1.0660e-07 - acc: 1.000 - ETA: 4:00 - loss: 1.0610e-07 - acc: 1.000 - ETA: 4:00 - loss: 1.0594e-07 - acc: 1.000 - ETA: 3:57 - loss: 1.0547e-07 - acc: 1.000 - ETA: 4:01 - loss: 1.0498e-07 - acc: 1.000 - ETA: 3:59 - loss: 1.0502e-07 - acc: 1.000 - ETA: 3:59 - loss: 1.0496e-07 - acc: 1.000 - ETA: 4:02 - loss: 1.0502e-07 - acc: 1.000 - ETA: 4:04 - loss: 1.0468e-07 - acc: 1.000 - ETA: 4:07 - loss: 1.0437e-07 - acc: 1.000 - ETA: 4:05 - loss: 1.0414e-07 - acc: 1.000 - ETA: 4:07 - loss: 1.0391e-07 - acc: 1.000 - ETA: 4:05 - loss: 1.0434e-07 - acc: 1.000 - ETA: 4:04 - loss: 1.0424e-07 - acc: 1.000 - ETA: 4:02 - loss: 1.0404e-07 - acc: 1.000 - ETA: 3:59 - loss: 1.0406e-07 - acc: 1.000 - ETA: 3:58 - loss: 1.0389e-07 - acc: 1.000 - ETA: 3:57 - loss: 1.0398e-07 - acc: 1.000 - ETA: 3:55 - loss: 1.0384e-07 - acc: 1.000 - ETA: 3:53 - loss: 1.0371e-07 - acc: 1.000 - ETA: 3:51 - loss: 1.0357e-07 - acc: 1.000 - ETA: 3:49 - loss: 1.0356e-07 - acc: 1.000 - ETA: 3:48 - loss: 1.0345e-07 - acc: 1.000 - ETA: 3:46 - loss: 1.0351e-07 - acc: 1.000 - ETA: 3:45 - loss: 1.0339e-07 - acc: 1.000 - ETA: 3:44 - loss: 1.0329e-07 - acc: 1.000 - ETA: 3:43 - loss: 1.0319e-07 - acc: 1.000 - ETA: 3:43 - loss: 1.0309e-07 - acc: 1.000 - ETA: 3:42 - loss: 1.0302e-07 - acc: 1.000 - ETA: 3:41 - loss: 1.0293e-07 - acc: 1.000 - ETA: 3:41 - loss: 1.0290e-07 - acc: 1.000 - ETA: 3:42 - loss: 1.0299e-07 - acc: 1.000 - ETA: 3:42 - loss: 1.0364e-07 - acc: 1.000 - ETA: 3:41 - loss: 1.0355e-07 - acc: 1.000 - ETA: 3:40 - loss: 1.0378e-07 - acc: 1.000 - ETA: 3:39 - loss: 1.0370e-07 - acc: 1.000 - ETA: 3:38 - loss: 1.0364e-07 - acc: 1.000 - ETA: 3:37 - loss: 1.0356e-07 - acc: 1.000 - ETA: 3:37 - loss: 1.0348e-07 - acc: 1.000 - ETA: 3:36 - loss: 1.0360e-07 - acc: 1.000 - ETA: 3:35 - loss: 1.0352e-07 - acc: 1.000 - ETA: 3:33 - loss: 1.0349e-07 - acc: 1.000 - ETA: 3:33 - loss: 1.0343e-07 - acc: 1.000 - ETA: 3:33 - loss: 1.0338e-07 - acc: 1.000 - ETA: 3:33 - loss: 1.0332e-07 - acc: 1.000 - ETA: 3:32 - loss: 1.0335e-07 - acc: 1.000 - ETA: 3:31 - loss: 1.0329e-07 - acc: 1.000 - ETA: 3:30 - loss: 1.0324e-07 - acc: 1.000 - ETA: 3:29 - loss: 1.0318e-07 - acc: 1.000 - ETA: 3:28 - loss: 1.0313e-07 - acc: 1.000 - ETA: 3:27 - loss: 1.0308e-07 - acc: 1.000 - ETA: 3:26 - loss: 1.0362e-07 - acc: 1.000 - ETA: 3:25 - loss: 1.0360e-07 - acc: 1.000 - ETA: 3:25 - loss: 1.0357e-07 - acc: 1.000 - ETA: 3:24 - loss: 1.0351e-07 - acc: 1.000 - ETA: 3:23 - loss: 1.0361e-07 - acc: 1.000 - ETA: 3:23 - loss: 1.0357e-07 - acc: 1.000 - ETA: 3:22 - loss: 1.0352e-07 - acc: 1.000 - ETA: 3:21 - loss: 1.0346e-07 - acc: 1.000 - ETA: 3:21 - loss: 1.0342e-07 - acc: 1.000 - ETA: 3:20 - loss: 1.0338e-07 - acc: 1.000 - ETA: 3:19 - loss: 1.0335e-07 - acc: 1.000 - ETA: 3:18 - loss: 1.0351e-07 - acc: 1.000 - ETA: 3:17 - loss: 1.0347e-07 - acc: 1.000 - ETA: 3:17 - loss: 1.0342e-07 - acc: 1.000 - ETA: 3:17 - loss: 1.0342e-07 - acc: 1.000 - ETA: 3:16 - loss: 1.0338e-07 - acc: 1.000 - ETA: 3:16 - loss: 1.0347e-07 - acc: 1.000 - ETA: 3:17 - loss: 1.0343e-07 - acc: 1.000 - ETA: 3:16 - loss: 1.0338e-07 - acc: 1.000 - ETA: 3:16 - loss: 1.0340e-07 - acc: 1.000 - ETA: 3:15 - loss: 1.0336e-07 - acc: 1.000 - ETA: 3:14 - loss: 1.0332e-07 - acc: 1.000 - ETA: 3:13 - loss: 1.0328e-07 - acc: 1.000 - ETA: 3:13 - loss: 1.0327e-07 - acc: 1.000 - ETA: 3:12 - loss: 1.0324e-07 - acc: 1.000 - ETA: 3:12 - loss: 1.0321e-07 - acc: 1.000 - ETA: 3:12 - loss: 1.0318e-07 - acc: 1.000 - ETA: 3:13 - loss: 1.0314e-07 - acc: 1.000 - ETA: 3:13 - loss: 1.0314e-07 - acc: 1.000 - ETA: 3:12 - loss: 1.0313e-07 - acc: 1.000 - ETA: 3:12 - loss: 1.0309e-07 - acc: 1.000 - ETA: 3:12 - loss: 1.0306e-07 - acc: 1.000 - ETA: 3:11 - loss: 1.0302e-07 - acc: 1.000 - ETA: 3:11 - loss: 1.0307e-07 - acc: 1.000 - ETA: 3:10 - loss: 1.0306e-07 - acc: 1.000 - ETA: 3:09 - loss: 1.0307e-07 - acc: 1.000 - ETA: 3:09 - loss: 1.0305e-07 - acc: 1.000 - ETA: 3:08 - loss: 1.0301e-07 - acc: 1.000 - ETA: 3:07 - loss: 1.0299e-07 - acc: 1.000 - ETA: 3:07 - loss: 1.0298e-07 - acc: 1.000 - ETA: 3:06 - loss: 1.0297e-07 - acc: 1.000 - ETA: 3:06 - loss: 1.0296e-07 - acc: 1.000 - ETA: 3:05 - loss: 1.0295e-07 - acc: 1.000 - ETA: 3:05 - loss: 1.0292e-07 - acc: 1.000 - ETA: 3:04 - loss: 1.0296e-07 - acc: 1.000 - ETA: 3:03 - loss: 1.0293e-07 - acc: 1.000 - ETA: 3:03 - loss: 1.0291e-07 - acc: 1.000 - ETA: 3:03 - loss: 1.0289e-07 - acc: 1.000 - ETA: 3:02 - loss: 1.0286e-07 - acc: 1.000 - ETA: 3:02 - loss: 1.0283e-07 - acc: 1.000 - ETA: 3:02 - loss: 1.0281e-07 - acc: 1.000 - ETA: 3:01 - loss: 1.0279e-07 - acc: 1.000 - ETA: 3:00 - loss: 1.0276e-07 - acc: 1.000 - ETA: 3:00 - loss: 1.0276e-07 - acc: 1.000 - ETA: 2:59 - loss: 1.0273e-07 - acc: 1.000 - ETA: 2:59 - loss: 1.0271e-07 - acc: 1.000 - ETA: 2:58 - loss: 1.0270e-07 - acc: 1.000 - ETA: 2:57 - loss: 1.0268e-07 - acc: 1.000 - ETA: 2:56 - loss: 1.0266e-07 - acc: 1.000 - ETA: 2:56 - loss: 1.0264e-07 - acc: 1.000 - ETA: 2:55 - loss: 1.0262e-07 - acc: 1.000 - ETA: 2:55 - loss: 1.0259e-07 - acc: 1.000 - ETA: 2:54 - loss: 1.0263e-07 - acc: 1.000 - ETA: 2:53 - loss: 1.0263e-07 - acc: 1.000 - ETA: 2:53 - loss: 1.0264e-07 - acc: 1.000 - ETA: 2:52 - loss: 1.0262e-07 - acc: 1.000 - ETA: 2:51 - loss: 1.0262e-07 - acc: 1.000 - ETA: 2:51 - loss: 1.0260e-07 - acc: 1.000 - ETA: 2:50 - loss: 1.0258e-07 - acc: 1.000 - ETA: 2:50 - loss: 1.0258e-07 - acc: 1.000 - ETA: 2:49 - loss: 1.0256e-07 - acc: 1.000 - ETA: 2:48 - loss: 1.0255e-07 - acc: 1.000 - ETA: 2:48 - loss: 1.0254e-07 - acc: 1.000 - ETA: 2:47 - loss: 1.0256e-07 - acc: 1.000 - ETA: 2:47 - loss: 1.0255e-07 - acc: 1.000 - ETA: 2:46 - loss: 1.0311e-07 - acc: 1.000 - ETA: 2:45 - loss: 1.0309e-07 - acc: 1.000 - ETA: 2:45 - loss: 1.0306e-07 - acc: 1.000 - ETA: 2:44 - loss: 1.0304e-07 - acc: 1.000 - ETA: 2:44 - loss: 1.0303e-07 - acc: 1.000 - ETA: 2:43 - loss: 1.0301e-07 - acc: 1.000 - ETA: 2:43 - loss: 1.0299e-07 - acc: 1.000 - ETA: 2:42 - loss: 1.0297e-07 - acc: 1.000 - ETA: 2:41 - loss: 1.0296e-07 - acc: 1.000 - ETA: 2:41 - loss: 1.0294e-07 - acc: 1.000 - ETA: 2:40 - loss: 1.0292e-07 - acc: 1.000 - ETA: 2:40 - loss: 1.0291e-07 - acc: 1.000 - ETA: 2:39 - loss: 1.0294e-07 - acc: 1.000 - ETA: 2:39 - loss: 1.0292e-07 - acc: 1.000 - ETA: 2:38 - loss: 1.0290e-07 - acc: 1.000 - ETA: 2:37 - loss: 1.0289e-07 - acc: 1.000 - ETA: 2:37 - loss: 1.0287e-07 - acc: 1.000 - ETA: 2:36 - loss: 1.0286e-07 - acc: 1.000 - ETA: 2:36 - loss: 1.0285e-07 - acc: 1.000 - ETA: 2:35 - loss: 1.0289e-07 - acc: 1.000 - ETA: 2:35 - loss: 1.0287e-07 - acc: 1.000 - ETA: 2:34 - loss: 1.0286e-07 - acc: 1.000 - ETA: 2:33 - loss: 1.0284e-07 - acc: 1.000 - ETA: 2:33 - loss: 1.0283e-07 - acc: 1.000 - ETA: 2:32 - loss: 1.0282e-07 - acc: 1.000 - ETA: 2:32 - loss: 1.0282e-07 - acc: 1.000 - ETA: 2:31 - loss: 1.0281e-07 - acc: 1.000 - ETA: 2:30 - loss: 1.0281e-07 - acc: 1.000 - ETA: 2:30 - loss: 1.0280e-07 - acc: 1.000 - ETA: 2:29 - loss: 1.0279e-07 - acc: 1.000 - ETA: 2:29 - loss: 1.0278e-07 - acc: 1.000 - ETA: 2:28 - loss: 1.0276e-07 - acc: 1.000 - ETA: 2:28 - loss: 1.0276e-07 - acc: 1.000 - ETA: 2:27 - loss: 1.0274e-07 - acc: 1.000 - ETA: 2:27 - loss: 1.0274e-07 - acc: 1.000 - ETA: 2:26 - loss: 1.0273e-07 - acc: 1.000 - ETA: 2:26 - loss: 1.0275e-07 - acc: 1.000 - ETA: 2:25 - loss: 1.0274e-07 - acc: 1.000 - ETA: 2:25 - loss: 1.0274e-07 - acc: 1.000 - ETA: 2:24 - loss: 1.0276e-07 - acc: 1.000 - ETA: 2:24 - loss: 1.0278e-07 - acc: 1.000 - ETA: 2:23 - loss: 1.0277e-07 - acc: 1.000 - ETA: 2:23 - loss: 1.0279e-07 - acc: 1.000 - ETA: 2:22 - loss: 1.0277e-07 - acc: 1.000 - ETA: 2:21 - loss: 1.0277e-07 - acc: 1.000 - ETA: 2:21 - loss: 1.0275e-07 - acc: 1.000 - ETA: 2:20 - loss: 1.0274e-07 - acc: 1.000 - ETA: 2:20 - loss: 1.0272e-07 - acc: 1.000 - ETA: 2:19 - loss: 1.0271e-07 - acc: 1.000 - ETA: 2:19 - loss: 1.0275e-07 - acc: 1.000 - ETA: 2:18 - loss: 1.0273e-07 - acc: 1.000 - ETA: 2:18 - loss: 1.0272e-07 - acc: 1.000 - ETA: 2:18 - loss: 1.0270e-07 - acc: 1.000 - ETA: 2:17 - loss: 1.0270e-07 - acc: 1.000 - ETA: 2:17 - loss: 1.0268e-07 - acc: 1.0000"
     ]
    },
    {
     "name": "stdout",
     "output_type": "stream",
     "text": [
      "372/486 [=====================>........] - ETA: 2:17 - loss: 1.0269e-07 - acc: 1.000 - ETA: 2:16 - loss: 1.0267e-07 - acc: 1.000 - ETA: 2:16 - loss: 1.0266e-07 - acc: 1.000 - ETA: 2:15 - loss: 1.0265e-07 - acc: 1.000 - ETA: 2:15 - loss: 1.0265e-07 - acc: 1.000 - ETA: 2:14 - loss: 1.0263e-07 - acc: 1.000 - ETA: 2:14 - loss: 1.0264e-07 - acc: 1.000 - ETA: 2:14 - loss: 1.0262e-07 - acc: 1.000 - ETA: 2:14 - loss: 1.0261e-07 - acc: 1.000 - ETA: 2:13 - loss: 1.0261e-07 - acc: 1.000 - ETA: 2:13 - loss: 1.0260e-07 - acc: 1.000 - ETA: 2:13 - loss: 1.0259e-07 - acc: 1.000 - ETA: 2:12 - loss: 1.0257e-07 - acc: 1.000 - ETA: 2:12 - loss: 1.0256e-07 - acc: 1.000 - ETA: 2:12 - loss: 1.0255e-07 - acc: 1.000 - ETA: 2:12 - loss: 1.0255e-07 - acc: 1.000 - ETA: 2:11 - loss: 1.0253e-07 - acc: 1.000 - ETA: 2:11 - loss: 1.0252e-07 - acc: 1.000 - ETA: 2:10 - loss: 1.0251e-07 - acc: 1.000 - ETA: 2:10 - loss: 1.0250e-07 - acc: 1.000 - ETA: 2:10 - loss: 1.0249e-07 - acc: 1.000 - ETA: 2:10 - loss: 1.0248e-07 - acc: 1.000 - ETA: 2:10 - loss: 1.0252e-07 - acc: 1.000 - ETA: 2:09 - loss: 1.0251e-07 - acc: 1.000 - ETA: 2:09 - loss: 1.0250e-07 - acc: 1.000 - ETA: 2:09 - loss: 1.0251e-07 - acc: 1.000 - ETA: 2:08 - loss: 1.0250e-07 - acc: 1.000 - ETA: 2:08 - loss: 1.0250e-07 - acc: 1.000 - ETA: 2:08 - loss: 1.0248e-07 - acc: 1.000 - ETA: 2:08 - loss: 1.0248e-07 - acc: 1.000 - ETA: 2:07 - loss: 1.0248e-07 - acc: 1.000 - ETA: 2:07 - loss: 1.0248e-07 - acc: 1.000 - ETA: 2:06 - loss: 1.0247e-07 - acc: 1.000 - ETA: 2:06 - loss: 1.0249e-07 - acc: 1.000 - ETA: 2:06 - loss: 1.0248e-07 - acc: 1.000 - ETA: 2:05 - loss: 1.0248e-07 - acc: 1.000 - ETA: 2:05 - loss: 1.0248e-07 - acc: 1.000 - ETA: 2:05 - loss: 1.0248e-07 - acc: 1.000 - ETA: 2:04 - loss: 1.0247e-07 - acc: 1.000 - ETA: 2:04 - loss: 1.0246e-07 - acc: 1.000 - ETA: 2:03 - loss: 1.0246e-07 - acc: 1.000 - ETA: 2:03 - loss: 1.0246e-07 - acc: 1.000 - ETA: 2:03 - loss: 1.0245e-07 - acc: 1.000 - ETA: 2:02 - loss: 1.0244e-07 - acc: 1.000 - ETA: 2:02 - loss: 1.0244e-07 - acc: 1.000 - ETA: 2:02 - loss: 1.0243e-07 - acc: 1.000 - ETA: 2:01 - loss: 1.0242e-07 - acc: 1.000 - ETA: 2:01 - loss: 1.0241e-07 - acc: 1.000 - ETA: 2:01 - loss: 1.0240e-07 - acc: 1.000 - ETA: 2:00 - loss: 1.0239e-07 - acc: 1.000 - ETA: 2:00 - loss: 1.0240e-07 - acc: 1.000 - ETA: 1:59 - loss: 1.0241e-07 - acc: 1.000 - ETA: 1:59 - loss: 1.0240e-07 - acc: 1.000 - ETA: 1:59 - loss: 1.0239e-07 - acc: 1.000 - ETA: 1:58 - loss: 1.0238e-07 - acc: 1.000 - ETA: 1:58 - loss: 1.0237e-07 - acc: 1.000 - ETA: 1:58 - loss: 1.0237e-07 - acc: 1.000 - ETA: 1:57 - loss: 1.0236e-07 - acc: 1.000 - ETA: 1:57 - loss: 1.0235e-07 - acc: 1.000 - ETA: 1:56 - loss: 1.0239e-07 - acc: 1.000 - ETA: 1:56 - loss: 1.0238e-07 - acc: 1.000 - ETA: 1:55 - loss: 1.0239e-07 - acc: 1.000 - ETA: 1:55 - loss: 1.0238e-07 - acc: 1.000 - ETA: 1:55 - loss: 1.0237e-07 - acc: 1.000 - ETA: 1:54 - loss: 1.0237e-07 - acc: 1.000 - ETA: 1:54 - loss: 1.0236e-07 - acc: 1.000 - ETA: 1:53 - loss: 1.0236e-07 - acc: 1.000 - ETA: 1:53 - loss: 1.0236e-07 - acc: 1.000 - ETA: 1:53 - loss: 1.0235e-07 - acc: 1.000 - ETA: 1:52 - loss: 1.0234e-07 - acc: 1.000 - ETA: 1:52 - loss: 1.0234e-07 - acc: 1.000 - ETA: 1:51 - loss: 1.0235e-07 - acc: 1.000 - ETA: 1:51 - loss: 1.0234e-07 - acc: 1.000 - ETA: 1:51 - loss: 1.0233e-07 - acc: 1.000 - ETA: 1:50 - loss: 1.0233e-07 - acc: 1.000 - ETA: 1:49 - loss: 1.0232e-07 - acc: 1.000 - ETA: 1:49 - loss: 1.0231e-07 - acc: 1.000 - ETA: 1:49 - loss: 1.0231e-07 - acc: 1.000 - ETA: 1:48 - loss: 1.0231e-07 - acc: 1.000 - ETA: 1:48 - loss: 1.0230e-07 - acc: 1.000 - ETA: 1:47 - loss: 1.0229e-07 - acc: 1.000 - ETA: 1:47 - loss: 1.0229e-07 - acc: 1.000 - ETA: 1:46 - loss: 1.0228e-07 - acc: 1.000 - ETA: 1:46 - loss: 1.0228e-07 - acc: 1.000 - ETA: 1:45 - loss: 1.0227e-07 - acc: 1.000 - ETA: 1:45 - loss: 1.0227e-07 - acc: 1.000 - ETA: 1:44 - loss: 1.0226e-07 - acc: 1.000 - ETA: 1:44 - loss: 1.0225e-07 - acc: 1.000 - ETA: 1:43 - loss: 1.0225e-07 - acc: 1.000 - ETA: 1:43 - loss: 1.0224e-07 - acc: 1.000 - ETA: 1:42 - loss: 1.0225e-07 - acc: 1.000 - ETA: 1:42 - loss: 1.0225e-07 - acc: 1.000 - ETA: 1:42 - loss: 1.0224e-07 - acc: 1.000 - ETA: 1:41 - loss: 1.0223e-07 - acc: 1.000 - ETA: 1:41 - loss: 1.0226e-07 - acc: 1.000 - ETA: 1:40 - loss: 1.0225e-07 - acc: 1.000 - ETA: 1:40 - loss: 1.0224e-07 - acc: 1.000 - ETA: 1:39 - loss: 1.0224e-07 - acc: 1.000 - ETA: 1:39 - loss: 1.0223e-07 - acc: 1.000 - ETA: 1:38 - loss: 1.0223e-07 - acc: 1.000 - ETA: 1:38 - loss: 1.0222e-07 - acc: 1.000 - ETA: 1:37 - loss: 1.0221e-07 - acc: 1.000 - ETA: 1:37 - loss: 1.0221e-07 - acc: 1.000 - ETA: 1:36 - loss: 1.0220e-07 - acc: 1.000 - ETA: 1:36 - loss: 1.0220e-07 - acc: 1.000 - ETA: 1:35 - loss: 1.0219e-07 - acc: 1.000 - ETA: 1:35 - loss: 1.0219e-07 - acc: 1.000 - ETA: 1:34 - loss: 1.0218e-07 - acc: 1.000 - ETA: 1:34 - loss: 1.0218e-07 - acc: 1.000 - ETA: 1:33 - loss: 1.0217e-07 - acc: 1.000 - ETA: 1:33 - loss: 1.0217e-07 - acc: 1.000 - ETA: 1:32 - loss: 1.0216e-07 - acc: 1.000 - ETA: 1:32 - loss: 1.0216e-07 - acc: 1.000 - ETA: 1:31 - loss: 1.0215e-07 - acc: 1.000 - ETA: 1:31 - loss: 1.0214e-07 - acc: 1.000 - ETA: 1:30 - loss: 1.0215e-07 - acc: 1.000 - ETA: 1:30 - loss: 1.0215e-07 - acc: 1.000 - ETA: 1:29 - loss: 1.0215e-07 - acc: 1.000 - ETA: 1:29 - loss: 1.0214e-07 - acc: 1.000 - ETA: 1:28 - loss: 1.0214e-07 - acc: 1.000 - ETA: 1:28 - loss: 1.0213e-07 - acc: 1.000 - ETA: 1:27 - loss: 1.0214e-07 - acc: 1.000 - ETA: 1:27 - loss: 1.0214e-07 - acc: 1.000 - ETA: 1:26 - loss: 1.0213e-07 - acc: 1.000 - ETA: 1:26 - loss: 1.0212e-07 - acc: 1.000 - ETA: 1:25 - loss: 1.0212e-07 - acc: 1.000 - ETA: 1:25 - loss: 1.0211e-07 - acc: 1.000 - ETA: 1:24 - loss: 1.0210e-07 - acc: 1.000 - ETA: 1:24 - loss: 1.0210e-07 - acc: 1.000 - ETA: 1:23 - loss: 1.0209e-07 - acc: 1.000 - ETA: 1:23 - loss: 1.0208e-07 - acc: 1.000 - ETA: 1:22 - loss: 1.0208e-07 - acc: 1.000 - ETA: 1:22 - loss: 1.0207e-07 - acc: 1.000 - ETA: 1:21 - loss: 1.0207e-07 - acc: 1.000 - ETA: 1:21 - loss: 1.0209e-07 - acc: 1.000 - ETA: 1:20 - loss: 1.0212e-07 - acc: 1.000 - ETA: 1:20 - loss: 1.0212e-07 - acc: 1.000 - ETA: 1:19 - loss: 1.0211e-07 - acc: 1.000 - ETA: 1:19 - loss: 1.0211e-07 - acc: 1.000 - ETA: 1:18 - loss: 1.0210e-07 - acc: 1.000 - ETA: 1:17 - loss: 1.0209e-07 - acc: 1.000 - ETA: 1:17 - loss: 1.0209e-07 - acc: 1.000 - ETA: 1:16 - loss: 1.0208e-07 - acc: 1.000 - ETA: 1:16 - loss: 1.0208e-07 - acc: 1.000 - ETA: 1:15 - loss: 1.0207e-07 - acc: 1.000 - ETA: 1:15 - loss: 1.0206e-07 - acc: 1.000 - ETA: 1:14 - loss: 1.0206e-07 - acc: 1.000 - ETA: 1:14 - loss: 1.0206e-07 - acc: 1.000 - ETA: 1:13 - loss: 1.0205e-07 - acc: 1.000 - ETA: 1:13 - loss: 1.0204e-07 - acc: 1.000 - ETA: 1:12 - loss: 1.0204e-07 - acc: 1.000 - ETA: 1:12 - loss: 1.0203e-07 - acc: 1.000 - ETA: 1:11 - loss: 1.0203e-07 - acc: 1.000 - ETA: 1:11 - loss: 1.0202e-07 - acc: 1.000 - ETA: 1:10 - loss: 1.0202e-07 - acc: 1.000 - ETA: 1:10 - loss: 1.0201e-07 - acc: 1.000 - ETA: 1:09 - loss: 1.0200e-07 - acc: 1.000 - ETA: 1:09 - loss: 1.0200e-07 - acc: 1.000 - ETA: 1:08 - loss: 1.0199e-07 - acc: 1.000 - ETA: 1:08 - loss: 1.0199e-07 - acc: 1.000 - ETA: 1:07 - loss: 1.0198e-07 - acc: 1.000 - ETA: 1:07 - loss: 1.0198e-07 - acc: 1.000 - ETA: 1:06 - loss: 1.0197e-07 - acc: 1.000 - ETA: 1:06 - loss: 1.0197e-07 - acc: 1.000 - ETA: 1:05 - loss: 1.0197e-07 - acc: 1.000 - ETA: 1:05 - loss: 1.0196e-07 - acc: 1.000 - ETA: 1:04 - loss: 1.0196e-07 - acc: 1.000 - ETA: 1:04 - loss: 1.0196e-07 - acc: 1.000 - ETA: 1:03 - loss: 1.0195e-07 - acc: 1.000 - ETA: 1:03 - loss: 1.0195e-07 - acc: 1.000 - ETA: 1:02 - loss: 1.0194e-07 - acc: 1.000 - ETA: 1:02 - loss: 1.0194e-07 - acc: 1.000 - ETA: 1:01 - loss: 1.0193e-07 - acc: 1.000 - ETA: 1:01 - loss: 1.0193e-07 - acc: 1.000 - ETA: 1:00 - loss: 1.0192e-07 - acc: 1.000 - ETA: 1:00 - loss: 1.0192e-07 - acc: 1.000 - ETA: 1:00 - loss: 1.0191e-07 - acc: 1.000 - ETA: 59s - loss: 1.0192e-07 - acc: 1.000 - ETA: 59s - loss: 1.0192e-07 - acc: 1.00 - ETA: 58s - loss: 1.0191e-07 - acc: 1.00 - ETA: 58s - loss: 1.0191e-07 - acc: 1.00 - ETA: 57s - loss: 1.0190e-07 - acc: 1.00 - ETA: 57s - loss: 1.0190e-07 - acc: 1.00 - ETA: 56s - loss: 1.0189e-07 - acc: 1.00 - ETA: 56s - loss: 1.0189e-07 - acc: 1.00 - ETA: 55s - loss: 1.0188e-07 - acc: 1.0000"
     ]
    },
    {
     "name": "stdout",
     "output_type": "stream",
     "text": [
      "487/486 [==============================] - ETA: 55s - loss: 1.0188e-07 - acc: 1.00 - ETA: 54s - loss: 1.0188e-07 - acc: 1.00 - ETA: 54s - loss: 1.0188e-07 - acc: 1.00 - ETA: 53s - loss: 1.0187e-07 - acc: 1.00 - ETA: 53s - loss: 1.0187e-07 - acc: 1.00 - ETA: 53s - loss: 1.0186e-07 - acc: 1.00 - ETA: 52s - loss: 1.0186e-07 - acc: 1.00 - ETA: 52s - loss: 1.0185e-07 - acc: 1.00 - ETA: 51s - loss: 1.0185e-07 - acc: 1.00 - ETA: 51s - loss: 1.0185e-07 - acc: 1.00 - ETA: 50s - loss: 1.0185e-07 - acc: 1.00 - ETA: 50s - loss: 1.0184e-07 - acc: 1.00 - ETA: 49s - loss: 1.0184e-07 - acc: 1.00 - ETA: 49s - loss: 1.0183e-07 - acc: 1.00 - ETA: 48s - loss: 1.0183e-07 - acc: 1.00 - ETA: 48s - loss: 1.0183e-07 - acc: 1.00 - ETA: 47s - loss: 1.0183e-07 - acc: 1.00 - ETA: 47s - loss: 1.0182e-07 - acc: 1.00 - ETA: 46s - loss: 1.0182e-07 - acc: 1.00 - ETA: 46s - loss: 1.0182e-07 - acc: 1.00 - ETA: 45s - loss: 1.0182e-07 - acc: 1.00 - ETA: 45s - loss: 1.0181e-07 - acc: 1.00 - ETA: 44s - loss: 1.0181e-07 - acc: 1.00 - ETA: 44s - loss: 1.0180e-07 - acc: 1.00 - ETA: 43s - loss: 1.0198e-07 - acc: 1.00 - ETA: 43s - loss: 1.0198e-07 - acc: 1.00 - ETA: 42s - loss: 1.0198e-07 - acc: 1.00 - ETA: 42s - loss: 1.0197e-07 - acc: 1.00 - ETA: 41s - loss: 1.0197e-07 - acc: 1.00 - ETA: 41s - loss: 1.0196e-07 - acc: 1.00 - ETA: 40s - loss: 1.0196e-07 - acc: 1.00 - ETA: 40s - loss: 1.0196e-07 - acc: 1.00 - ETA: 39s - loss: 1.0195e-07 - acc: 1.00 - ETA: 39s - loss: 1.0195e-07 - acc: 1.00 - ETA: 38s - loss: 1.0195e-07 - acc: 1.00 - ETA: 38s - loss: 1.0194e-07 - acc: 1.00 - ETA: 37s - loss: 1.0194e-07 - acc: 1.00 - ETA: 37s - loss: 1.0194e-07 - acc: 1.00 - ETA: 36s - loss: 1.0193e-07 - acc: 1.00 - ETA: 36s - loss: 1.0193e-07 - acc: 1.00 - ETA: 35s - loss: 1.0192e-07 - acc: 1.00 - ETA: 35s - loss: 1.0192e-07 - acc: 1.00 - ETA: 34s - loss: 1.0192e-07 - acc: 1.00 - ETA: 34s - loss: 1.0191e-07 - acc: 1.00 - ETA: 33s - loss: 1.0191e-07 - acc: 1.00 - ETA: 33s - loss: 1.0191e-07 - acc: 1.00 - ETA: 32s - loss: 1.0192e-07 - acc: 1.00 - ETA: 32s - loss: 1.0192e-07 - acc: 1.00 - ETA: 31s - loss: 1.0193e-07 - acc: 1.00 - ETA: 31s - loss: 1.0192e-07 - acc: 1.00 - ETA: 30s - loss: 1.0192e-07 - acc: 1.00 - ETA: 30s - loss: 1.0192e-07 - acc: 1.00 - ETA: 29s - loss: 1.0191e-07 - acc: 1.00 - ETA: 29s - loss: 1.0191e-07 - acc: 1.00 - ETA: 28s - loss: 1.0192e-07 - acc: 1.00 - ETA: 28s - loss: 1.0191e-07 - acc: 1.00 - ETA: 27s - loss: 1.0191e-07 - acc: 1.00 - ETA: 27s - loss: 1.0190e-07 - acc: 1.00 - ETA: 26s - loss: 1.0190e-07 - acc: 1.00 - ETA: 26s - loss: 1.0191e-07 - acc: 1.00 - ETA: 25s - loss: 1.0190e-07 - acc: 1.00 - ETA: 25s - loss: 1.0190e-07 - acc: 1.00 - ETA: 24s - loss: 1.0190e-07 - acc: 1.00 - ETA: 24s - loss: 1.0189e-07 - acc: 1.00 - ETA: 23s - loss: 1.0189e-07 - acc: 1.00 - ETA: 23s - loss: 1.0189e-07 - acc: 1.00 - ETA: 23s - loss: 1.0189e-07 - acc: 1.00 - ETA: 22s - loss: 1.0188e-07 - acc: 1.00 - ETA: 22s - loss: 1.0188e-07 - acc: 1.00 - ETA: 21s - loss: 1.0188e-07 - acc: 1.00 - ETA: 21s - loss: 1.0187e-07 - acc: 1.00 - ETA: 20s - loss: 1.0187e-07 - acc: 1.00 - ETA: 20s - loss: 1.0186e-07 - acc: 1.00 - ETA: 19s - loss: 1.0186e-07 - acc: 1.00 - ETA: 19s - loss: 1.0186e-07 - acc: 1.00 - ETA: 18s - loss: 1.0185e-07 - acc: 1.00 - ETA: 18s - loss: 1.0185e-07 - acc: 1.00 - ETA: 17s - loss: 1.0185e-07 - acc: 1.00 - ETA: 17s - loss: 1.0184e-07 - acc: 1.00 - ETA: 16s - loss: 1.0184e-07 - acc: 1.00 - ETA: 16s - loss: 1.0184e-07 - acc: 1.00 - ETA: 15s - loss: 1.0183e-07 - acc: 1.00 - ETA: 15s - loss: 1.0183e-07 - acc: 1.00 - ETA: 14s - loss: 1.0183e-07 - acc: 1.00 - ETA: 14s - loss: 1.0183e-07 - acc: 1.00 - ETA: 13s - loss: 1.0182e-07 - acc: 1.00 - ETA: 13s - loss: 1.0182e-07 - acc: 1.00 - ETA: 12s - loss: 1.0182e-07 - acc: 1.00 - ETA: 12s - loss: 1.0181e-07 - acc: 1.00 - ETA: 11s - loss: 1.0181e-07 - acc: 1.00 - ETA: 11s - loss: 1.0180e-07 - acc: 1.00 - ETA: 10s - loss: 1.0180e-07 - acc: 1.00 - ETA: 10s - loss: 1.0180e-07 - acc: 1.00 - ETA: 9s - loss: 1.0184e-07 - acc: 1.0000 - ETA: 9s - loss: 1.0184e-07 - acc: 1.000 - ETA: 8s - loss: 1.0184e-07 - acc: 1.000 - ETA: 8s - loss: 1.0183e-07 - acc: 1.000 - ETA: 8s - loss: 1.0184e-07 - acc: 1.000 - ETA: 7s - loss: 1.0183e-07 - acc: 1.000 - ETA: 7s - loss: 1.0183e-07 - acc: 1.000 - ETA: 6s - loss: 1.0183e-07 - acc: 1.000 - ETA: 6s - loss: 1.0182e-07 - acc: 1.000 - ETA: 5s - loss: 1.0182e-07 - acc: 1.000 - ETA: 5s - loss: 1.0184e-07 - acc: 1.000 - ETA: 4s - loss: 1.0183e-07 - acc: 1.000 - ETA: 4s - loss: 1.0183e-07 - acc: 1.000 - ETA: 3s - loss: 1.0183e-07 - acc: 1.000 - ETA: 3s - loss: 1.0182e-07 - acc: 1.000 - ETA: 2s - loss: 1.0182e-07 - acc: 1.000 - ETA: 2s - loss: 1.0182e-07 - acc: 1.000 - ETA: 1s - loss: 1.0181e-07 - acc: 1.000 - ETA: 1s - loss: 1.0181e-07 - acc: 1.000 - ETA: 0s - loss: 1.0180e-07 - acc: 1.000 - ETA: 0s - loss: 1.0181e-07 - acc: 1.000 - 270s 554ms/step - loss: 1.0180e-07 - acc: 1.0000 - val_loss: 2.1238 - val_acc: 0.8682\n"
     ]
    },
    {
     "data": {
      "text/plain": [
       "<keras.callbacks.History at 0x150091106d8>"
      ]
     },
     "execution_count": 137,
     "metadata": {},
     "output_type": "execute_result"
    }
   ],
   "source": [
    "model.fit_generator(generator=batch_generator_shuffle(X_rus, np.asarray(y_rus), 1000),\n",
    "                    epochs=2, validation_data=(x_validation_tfidf, y_test[1]),\n",
    "                    steps_per_epoch=x_train_tfidf.shape[0]/1000, verbose=1)"
   ]
  },
  {
   "cell_type": "code",
   "execution_count": 129,
   "metadata": {},
   "outputs": [],
   "source": [
    "y_pred = model.predict(x_validation_tfidf)"
   ]
  },
  {
   "cell_type": "code",
   "execution_count": 135,
   "metadata": {},
   "outputs": [
    {
     "name": "stderr",
     "output_type": "stream",
     "text": [
      "C:\\Users\\elonm\\AppData\\Roaming\\Python\\Python36\\site-packages\\sklearn\\metrics\\classification.py:1143: UndefinedMetricWarning: Precision and F-score are ill-defined and being set to 0.0 in labels with no predicted samples.\n",
      "  'precision', 'predicted', average, warn_for)\n"
     ]
    },
    {
     "name": "stdout",
     "output_type": "stream",
     "text": [
      "              precision    recall  f1-score   support\n",
      "\n",
      "           0       0.87      1.00      0.93    105656\n",
      "           1       0.00      0.00      0.00     16036\n",
      "\n",
      "   micro avg       0.87      0.87      0.87    121692\n",
      "   macro avg       0.43      0.50      0.46    121692\n",
      "weighted avg       0.75      0.87      0.81    121692\n",
      "\n"
     ]
    }
   ],
   "source": [
    "res = []\n",
    "for i in y_pred:\n",
    "    if i > 0.3:\n",
    "        res.append(1)\n",
    "    else:\n",
    "        res.append(0)\n",
    "        \n",
    "print(classification_report(y_test[1], res))"
   ]
  },
  {
   "cell_type": "code",
   "execution_count": null,
   "metadata": {},
   "outputs": [],
   "source": []
  },
  {
   "cell_type": "code",
   "execution_count": 138,
   "metadata": {},
   "outputs": [
    {
     "name": "stdout",
     "output_type": "stream",
     "text": [
      "64403 64403\n"
     ]
    }
   ],
   "source": [
    "a = 0\n",
    "b = 0\n",
    "for i in y_rus:\n",
    "    if i == 1:\n",
    "        a += 1\n",
    "    else:\n",
    "        b += 1\n",
    "print(a, b)"
   ]
  },
  {
   "cell_type": "code",
   "execution_count": null,
   "metadata": {},
   "outputs": [],
   "source": []
  },
  {
   "cell_type": "markdown",
   "metadata": {},
   "source": [
    "# TO HELL WITH THIS!"
   ]
  },
  {
   "cell_type": "code",
   "execution_count": null,
   "metadata": {},
   "outputs": [],
   "source": []
  }
 ],
 "metadata": {
  "kernelspec": {
   "display_name": "Python 3",
   "language": "python",
   "name": "python3"
  },
  "language_info": {
   "codemirror_mode": {
    "name": "ipython",
    "version": 3
   },
   "file_extension": ".py",
   "mimetype": "text/x-python",
   "name": "python",
   "nbconvert_exporter": "python",
   "pygments_lexer": "ipython3",
   "version": "3.6.5"
  }
 },
 "nbformat": 4,
 "nbformat_minor": 2
}
