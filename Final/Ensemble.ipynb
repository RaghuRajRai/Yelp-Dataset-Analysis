{
 "cells": [
  {
   "cell_type": "markdown",
   "metadata": {},
   "source": [
    "# Ensemble of all models"
   ]
  },
  {
   "cell_type": "code",
   "execution_count": 239,
   "metadata": {},
   "outputs": [],
   "source": [
    "import pandas as pd\n",
    "import keras\n",
    "from keras.models import Sequential\n",
    "from keras.layers import Dense, Dropout\n",
    "import numpy as np"
   ]
  },
  {
   "cell_type": "code",
   "execution_count": 18,
   "metadata": {},
   "outputs": [],
   "source": [
    "res1 = pd.read_csv(\"C:\\\\Users\\\\elonm\\\\Desktop\\\\res_lda.csv\", header=None)\n",
    "res2 = pd.read_csv(\"C:\\\\Users\\\\elonm\\\\Desktop\\\\res_nn.csv\", header=None)\n",
    "res3 = pd.read_csv(\"C:\\\\Users\\\\elonm\\\\Desktop\\\\res_XGB.csv\")\n",
    "res4 = pd.read_csv(\"C:\\\\Users\\\\elonm\\\\Desktop\\\\res_SVM.csv\")\n",
    "# res5 = pd.read_csv(\"C:\\\\Users\\\\elonm\\\\Desktop\\\\res_lda.csv\", header=None)"
   ]
  },
  {
   "cell_type": "code",
   "execution_count": 88,
   "metadata": {},
   "outputs": [],
   "source": [
    "def bin(a):\n",
    "    if a == 1:\n",
    "        return 0\n",
    "    else:\n",
    "        return 1\n",
    "res1[0] = res1[0].apply(lambda x: bin(x))"
   ]
  },
  {
   "cell_type": "code",
   "execution_count": 204,
   "metadata": {},
   "outputs": [
    {
     "name": "stdout",
     "output_type": "stream",
     "text": [
      "(121692, 2)\n"
     ]
    }
   ],
   "source": [
    "y = pd.read_csv(r\"E:\\Yelp\\Unfiltered Data\\WorkingSet\\y_test\", header=None) \n",
    "y[1] = y[1].apply(lambda x: bin(x))\n",
    "print(y.shape)"
   ]
  },
  {
   "cell_type": "code",
   "execution_count": 92,
   "metadata": {},
   "outputs": [],
   "source": [
    "index = []\n",
    "for i in range(actual.shape[0]):\n",
    "    index.append(i)\n",
    "\n",
    "X = pd.DataFrame({'a':res1[0], 'b':res2[0], 'c':res3['0'], 'd':res4['0']}, index=index)"
   ]
  },
  {
   "cell_type": "markdown",
   "metadata": {},
   "source": [
    "## Using a small neural network to derive the weights of all results"
   ]
  },
  {
   "cell_type": "code",
   "execution_count": 249,
   "metadata": {},
   "outputs": [
    {
     "name": "stdout",
     "output_type": "stream",
     "text": [
      "_________________________________________________________________\n",
      "Layer (type)                 Output Shape              Param #   \n",
      "=================================================================\n",
      "dense_24 (Dense)             (None, 4)                 20        \n",
      "_________________________________________________________________\n",
      "dropout_5 (Dropout)          (None, 4)                 0         \n",
      "_________________________________________________________________\n",
      "dense_25 (Dense)             (None, 1)                 5         \n",
      "=================================================================\n",
      "Total params: 25\n",
      "Trainable params: 25\n",
      "Non-trainable params: 0\n",
      "_________________________________________________________________\n"
     ]
    }
   ],
   "source": [
    "model = Sequential()\n",
    "model.add(Dense(4, activation='sigmoid', input_dim=4))\n",
    "model.add(Dropout(0.2))\n",
    "model.add(Dense(1, activation='sigmoid'))\n",
    "model.compile(loss='binary_crossentropy', optimizer='adam', metrics=['acc'])\n",
    "\n",
    "model.summary()"
   ]
  },
  {
   "cell_type": "code",
   "execution_count": 250,
   "metadata": {},
   "outputs": [],
   "source": [
    "from sklearn.model_selection import train_test_split\n",
    "X_train, X_test, y_train, y_test = train_test_split(X, y[1], test_size=0.33, random_state=42)"
   ]
  },
  {
   "cell_type": "code",
   "execution_count": 251,
   "metadata": {},
   "outputs": [
    {
     "name": "stdout",
     "output_type": "stream",
     "text": [
      "Epoch 1/5\n",
      "81533/81533 [==============================] - 2s 30us/step - loss: 0.4038 - acc: 0.8679\n",
      "Epoch 2/5\n",
      "81533/81533 [==============================] - 2s 23us/step - loss: 0.3931 - acc: 0.8679\n",
      "Epoch 3/5\n",
      "81533/81533 [==============================] - 2s 23us/step - loss: 0.3896 - acc: 0.8679\n",
      "Epoch 4/5\n",
      "81533/81533 [==============================] - 2s 23us/step - loss: 0.3881 - acc: 0.8679\n",
      "Epoch 5/5\n",
      "81533/81533 [==============================] - 2s 23us/step - loss: 0.3875 - acc: 0.8679\n"
     ]
    },
    {
     "data": {
      "text/plain": [
       "<keras.callbacks.History at 0x20cee3ab3c8>"
      ]
     },
     "execution_count": 251,
     "metadata": {},
     "output_type": "execute_result"
    }
   ],
   "source": [
    "model.fit(X_train, y_train, epochs=5)"
   ]
  },
  {
   "cell_type": "code",
   "execution_count": 252,
   "metadata": {},
   "outputs": [
    {
     "name": "stdout",
     "output_type": "stream",
     "text": [
      "81533/81533 [==============================] - 1s 14us/step\n",
      "\n",
      "acc: 86.79%\n"
     ]
    }
   ],
   "source": [
    "scores = model.evaluate(X_train, y_train)\n",
    "print(\"\\n%s: %.2f%%\" % (model.metrics_names[1], scores[1]*100))"
   ]
  },
  {
   "cell_type": "code",
   "execution_count": 253,
   "metadata": {},
   "outputs": [],
   "source": [
    "aa = []\n",
    "for i in y_pred:\n",
    "    if i <= 0.15:\n",
    "        aa.append(1)\n",
    "    else:\n",
    "        aa.append(0)"
   ]
  },
  {
   "cell_type": "code",
   "execution_count": 254,
   "metadata": {},
   "outputs": [
    {
     "name": "stdout",
     "output_type": "stream",
     "text": [
      "             precision    recall  f1-score   support\n",
      "\n",
      "          0       0.88      0.98      0.92     34892\n",
      "          1       0.37      0.09      0.15      5267\n",
      "\n",
      "avg / total       0.81      0.86      0.82     40159\n",
      "\n"
     ]
    }
   ],
   "source": [
    "# from sklearn.metrics import classification_report\n",
    "# print(classification_report(y_pred, y_test))\n",
    "y_pred = np.squeeze(model.predict(X_test))\n",
    "threshold = 0.2\n",
    "print(classification_report(y_test, y_pred > threshold))"
   ]
  },
  {
   "cell_type": "code",
   "execution_count": null,
   "metadata": {},
   "outputs": [],
   "source": []
  },
  {
   "cell_type": "markdown",
   "metadata": {},
   "source": [
    "## Ensembling results using Max Votes"
   ]
  },
  {
   "cell_type": "code",
   "execution_count": 233,
   "metadata": {},
   "outputs": [],
   "source": [
    "y_self = []\n",
    "\n",
    "for i in range(y.shape[0]):\n",
    "    sum = 0\n",
    "    if X['a'][i] == 1:\n",
    "        sum = sum + 1\n",
    "    if X['b'][i] == 1:\n",
    "        sum = sum + 1\n",
    "    if X['c'][i] == 1:\n",
    "        sum = sum + 1\n",
    "    if sum >= 2:\n",
    "        y_self.append(1)\n",
    "    else:\n",
    "        y_self.append(0)"
   ]
  },
  {
   "cell_type": "code",
   "execution_count": 234,
   "metadata": {},
   "outputs": [
    {
     "name": "stdout",
     "output_type": "stream",
     "text": [
      "             precision    recall  f1-score   support\n",
      "\n",
      "          0       0.86      0.46      0.60    105656\n",
      "          1       0.13      0.52      0.21     16036\n",
      "\n",
      "avg / total       0.77      0.47      0.55    121692\n",
      "\n"
     ]
    }
   ],
   "source": [
    "print(classification_report(y[1], y_self))"
   ]
  },
  {
   "cell_type": "code",
   "execution_count": null,
   "metadata": {},
   "outputs": [],
   "source": []
  },
  {
   "cell_type": "markdown",
   "metadata": {},
   "source": [
    "# Results:\n",
    "## Accuracy: 86.79%\n",
    "## Precision: 81%\n",
    "## f1 Score: 0.81\n",
    "## Recall: 0.86"
   ]
  }
 ],
 "metadata": {
  "kernelspec": {
   "display_name": "Python 3",
   "language": "python",
   "name": "python3"
  },
  "language_info": {
   "codemirror_mode": {
    "name": "ipython",
    "version": 3
   },
   "file_extension": ".py",
   "mimetype": "text/x-python",
   "name": "python",
   "nbconvert_exporter": "python",
   "pygments_lexer": "ipython3",
   "version": "3.6.5"
  }
 },
 "nbformat": 4,
 "nbformat_minor": 2
}
